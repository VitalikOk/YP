{
 "cells": [
  {
   "cell_type": "markdown",
   "metadata": {
    "toc": true
   },
   "source": [
    "<h1>Содержание<span class=\"tocSkip\"></span></h1>\n",
    "<div class=\"toc\"><ul class=\"toc-item\"><li><span><a href=\"#Импорт-библиотек-и-описание-функций\" data-toc-modified-id=\"Импорт-библиотек-и-описание-функций-1\"><span class=\"toc-item-num\">1&nbsp;&nbsp;</span>Импорт библиотек и описание функций</a></span></li><li><span><a href=\"#Подготовка-данных\" data-toc-modified-id=\"Подготовка-данных-2\"><span class=\"toc-item-num\">2&nbsp;&nbsp;</span>Подготовка данных</a></span></li><li><span><a href=\"#Обучение\" data-toc-modified-id=\"Обучение-3\"><span class=\"toc-item-num\">3&nbsp;&nbsp;</span>Обучение</a></span><ul class=\"toc-item\"><li><span><a href=\"#Мешок-слов\" data-toc-modified-id=\"Мешок-слов-3.1\"><span class=\"toc-item-num\">3.1&nbsp;&nbsp;</span>Мешок слов</a></span></li><li><span><a href=\"#Би-граммы\" data-toc-modified-id=\"Би-граммы-3.2\"><span class=\"toc-item-num\">3.2&nbsp;&nbsp;</span>Би-граммы</a></span></li></ul></li><li><span><a href=\"#Выводы\" data-toc-modified-id=\"Выводы-4\"><span class=\"toc-item-num\">4&nbsp;&nbsp;</span>Выводы</a></span></li></ul></div>"
   ]
  },
  {
   "cell_type": "markdown",
   "metadata": {},
   "source": [
    "Магазину нужен инструмент, который будет искать токсичные комментарии и отправлять их на модерацию. \n",
    "\n",
    "**Описание данных**\n",
    "\n",
    "Данные находятся в файле `toxic_comments.csv`. Столбец *text* в нём содержит текст комментария, а *toxic* — целевой признак."
   ]
  },
  {
   "cell_type": "markdown",
   "metadata": {},
   "source": [
    "## Импорт библиотек и описание функций"
   ]
  },
  {
   "cell_type": "code",
   "execution_count": 1,
   "metadata": {},
   "outputs": [],
   "source": [
    "import pandas as pd\n",
    "import numpy as np\n",
    "from sklearn.metrics import f1_score\n",
    "from IPython.display import HTML, display\n",
    "from nltk.stem import WordNetLemmatizer\n",
    "from nltk.corpus import stopwords \n",
    "import nltk\n",
    "from tqdm.auto import tqdm\n",
    "import re\n",
    "from sklearn.model_selection import train_test_split\n",
    "from sklearn.metrics.scorer import make_scorer\n",
    "from sklearn.linear_model import LogisticRegression\n",
    "from sklearn.tree import DecisionTreeClassifier\n",
    "from sklearn.ensemble import RandomForestClassifier\n",
    "from lightgbm import LGBMClassifier\n",
    "from sklearn.pipeline import Pipeline\n",
    "from sklearn.feature_extraction.text import TfidfVectorizer\n",
    "import matplotlib.pyplot as plt\n",
    "import seaborn  as sns\n",
    "from sklearn.model_selection import cross_val_score\n",
    "import time\n",
    "\n",
    "# from sklearn.metrics import mean_squared_error\n",
    "# from sklearn.preprocessing import StandardScaler \n",
    "# from sklearn.feature_extraction.text import CountVectorizer \n",
    "\n"
   ]
  },
  {
   "cell_type": "code",
   "execution_count": 2,
   "metadata": {},
   "outputs": [],
   "source": [
    "#параметры\n",
    "pd.options.display.max_columns = 100\n",
    "pd.options.display.max_rows = 200\n",
    "pd.options.display.max_colwidth = 300\n",
    "\n",
    "#Параметры для отладки\n",
    "DEBUGING = False               #вывод на экран текущих параметров\n",
    "\n",
    "models_params_find = False\n",
    "\n",
    "R_STATE = 737\n",
    "N_JOBS = -1  \n",
    "filled_VehicleType=False\n",
    "\n",
    "MODEL_TEXT_NAME = {'LinearReg':'Линейная регрессия'\n",
    "                ,'LogisticReg':'Логическая регрессия'\n",
    "                    ,'DecTreeReg':'Дерево принятия решений для регрессии' \n",
    "                    ,'RndForestReg':'Случайный лес для регрессии'\n",
    "                   ,'DecTreeCls':'Дерево принятия решений для классификации' \n",
    "                    ,'RndForestCls':'Случайный лес для классификации'\n",
    "                  ,'LGBMReg':'Ансамбль LightGBM для регрессии'\n",
    "                  ,'LGBMCls':'Ансамбль LightGBM для классификации'}"
   ]
  },
  {
   "cell_type": "code",
   "execution_count": 3,
   "metadata": {},
   "outputs": [],
   "source": [
    "def disp_font_size(text,font_size=3):\n",
    "    display(HTML(f\"<font size='{font_size}'>{text}</font>\"))\n",
    "def info_print (data, title, column='', bins=20, unit=''\n",
    "                , prntInfo=True, prntGraph=True, prnt_smpl=True\n",
    "               , returnMetric=False, drop_out=False):\n",
    "    '''\n",
    "    функция для отоброжения информации о наборе данных\n",
    "    '''\n",
    "    div = ''.join(['=' for i in range(1,len(title))])\n",
    "    print(div)\n",
    "    print('\\n',title,'\\n')\n",
    "    print(div)\n",
    "    if prntInfo:        \n",
    "        data.info()\n",
    "        print(div)\n",
    "        print(f'Количество дубликатов: {data.duplicated().sum()}')\n",
    "        print(div)\n",
    "        if data.duplicated().sum() > 0:\n",
    "            try:\n",
    "                print(f'Пример дубликатов:')\n",
    "                display(data.loc[data.duplicated(keep=False)].sort_values(by=data.columns[1]).head())            \n",
    "                print(div)\n",
    "            except: None    \n",
    "        if prnt_smpl:\n",
    "            print(f'Пример первых 5 записей:')\n",
    "            display(data.head())             \n",
    "            print(div)\n",
    "     \n",
    "    if column != '':\n",
    "        data_prin = data[column]\n",
    "    else:\n",
    "        data_prin = data\n",
    "        \n",
    "    if prntGraph:        \n",
    "        #try:\n",
    "            std_dev = np.std(data_prin) #Стандартное распределение\n",
    "            mu = data_prin.mean() #среднее значение \n",
    "            sigma3_min = mu - 3*std_dev\n",
    "            sigma3_max = mu + 3*std_dev\n",
    "            print(f'Среднее: {round(mu,2)} \\n')\n",
    "            print(f'Стандартное отклонение: {round(std_dev,2)} \\n')\n",
    "            print(f'Доверительный интервал: от {round(sigma3_min,2)} до {round(sigma3_max,2)} \\n')    \n",
    "            print(f'Минимум: {round(data_prin.min(),4)} Максимум: {round(data_prin.max(),4)} \\n')    \n",
    "            fig, ax = plt.subplots(1,2,figsize=(17, 3))\n",
    "            fig.suptitle(title) \n",
    "            sns.boxplot(data_prin, ax=ax[0])\n",
    "         \n",
    "            sns.distplot(data_prin, ax=ax[1],bins=bins)              \n",
    "            #границы по правилам трёх сигм\n",
    "            plt.axvline(sigma3_min,color='r',linestyle='--') \n",
    "            plt.axvline(sigma3_max,color='r',linestyle='--')\n",
    "            ax[0].set_xlabel(unit, fontsize=15, color='black')            \n",
    "            ax[1].set_xlabel(unit, fontsize=15, color='black')\n",
    "            plt.show()      \n",
    "            if returnMetric:\n",
    "                if drop_out: \n",
    "                    mu = data_prin.loc[(sigma3_min < data_prin) & (data_prin < sigma3_max)].mean()\n",
    "                    print(f'Среднее без учёта выбросов: {round(mu,2)} \\n')                    \n",
    "                return mu, std_dev\n",
    "            \n",
    "        #except: None"
   ]
  },
  {
   "cell_type": "code",
   "execution_count": 4,
   "metadata": {},
   "outputs": [],
   "source": [
    "def display_metric(score, scorer, title=''): \n",
    "    \"\"\"\n",
    "    Функция для вывода метрик\n",
    "    \"\"\"                   \n",
    "    scorer_name = re.sub(r\".*\\(|\\,.*|\\)\", '', str(scorer))\n",
    "\n",
    "    disp_font_size(f\" {title} {scorer_name.upper()}: = {score}\",5)  "
   ]
  },
  {
   "cell_type": "code",
   "execution_count": 5,
   "metadata": {},
   "outputs": [],
   "source": [
    "def score_cv(model, features, target, scorer, cv=5, mean=True):\n",
    "    el_time = time.time()\n",
    "    result = cross_val_score(model, features, target, scoring=scorer, cv=cv, n_jobs=N_JOBS) \n",
    "\n",
    "    el_time = round(time.time() - el_time,2)\n",
    "    if mean: result = round(result.mean(),4)\n",
    "    return result, el_time \n",
    "\n",
    "def  make_pipe(model, **kwargs):\n",
    "    return Pipeline([\n",
    "    ('vector', TfidfVectorizer(stop_words=stopwords, ngram_range=(1, 1))),\n",
    "    ('clf', model)\n",
    "    ])\n",
    "def make_clf(model_type, **kwargs):\n",
    "    if model_type == 'RndForestReg':\n",
    "        model = make_pipe(RandomForestRegressor(random_state=R_STATE, **kwargs))\n",
    "    elif model_type == 'DecTreeReg':        \n",
    "        model = make_pipe(DecisionTreeRegressor(random_state=R_STATE, **kwargs))\n",
    "    elif model_type == 'LogisticReg':\n",
    "        model = make_pipe(LogisticRegression(**kwargs))\n",
    "    elif model_type == 'RndForestCls':\n",
    "        model = make_pipe(RandomForestClassifier(random_state=R_STATE, **kwargs))\n",
    "    elif model_type == 'DecTreeCls':        \n",
    "        model = make_pipe(DecisionTreeClassifier(random_state=R_STATE, **kwargs))\n",
    "    elif model_type == 'LGBMCls':\n",
    "        model = make_pipe(LGBMClassifier(boosting_type='gbdt',random_state=R_STATE, **kwargs))       \n",
    "    else: return 0, 'Тип модели не найден'\n",
    "    return model\n",
    "\n",
    "#Таблица для хранения лучших результатов моделей\n",
    "columns_model = ['model','g_param','Score']\n",
    "models_valid = pd.DataFrame(columns=columns_model)    "
   ]
  },
  {
   "cell_type": "code",
   "execution_count": 6,
   "metadata": {},
   "outputs": [],
   "source": [
    "def get_model(params, train_features, train_target):    \n",
    "    model = make_clf(params['model'], **params['g_param'])\n",
    "    pbar = tqdm(total = 1)\n",
    "    model.fit(train_features, train_target)   \n",
    "    pbar.update(1)    \n",
    "    pbar.close()        \n",
    "    return model\n",
    "\n",
    "\n",
    "def get_param_list(kwargs):\n",
    "    params_list = pd.DataFrame()    \n",
    "    if len(kwargs) > 0:        \n",
    "        new_str = pd.Series()\n",
    "        for key, param in kwargs.items():\n",
    "            old_param_list = params_list.copy()\n",
    "            params_list = pd.DataFrame()\n",
    "            num_params = len(old_param_list)\n",
    "            if num_params < 1 : num_params=1\n",
    "            for str_ind in range(num_params):\n",
    "                if isinstance(param, range) | isinstance(param, np.ndarray): \n",
    "                    for p in param:\n",
    "                        try:\n",
    "                            new_str = old_param_list.iloc[str_ind]\n",
    "                        except: None\n",
    "                        new_str[key] = p\n",
    "                        params_list = params_list.append(new_str, ignore_index=True)                    \n",
    "                else:\n",
    "                    try:\n",
    "                        new_str = old_param_list.iloc[str_ind]\n",
    "                    except: None\n",
    "                    new_str[key] = param\n",
    "                    params_list = params_list.append(new_str, ignore_index=True)\n",
    "    if len(params_list) < 1: params_list.loc[0,'no_param']='no_param'\n",
    "    return params_list\n",
    "\n",
    "    \n",
    "def get_model_params(model_type, features, target, scorer, title=''\n",
    "                 , disp_metr=True\n",
    "                 ,returnModel=False, debug=False, **kwargs):\n",
    "\n",
    "    \"\"\"\n",
    "    Функция для создания модели  \n",
    "    \n",
    "    \"\"\"\n",
    "    \n",
    "    columns_model = ['model','g_param','el_time','score']\n",
    "    models_param = pd.DataFrame(columns=columns_model)    \n",
    "\n",
    "       \n",
    "    print('==========================')    \n",
    "    disp_font_size(f\"Модель: {MODEL_TEXT_NAME[model_type]} {title} <br>\",5)\n",
    "    \n",
    "    params_list = get_param_list(kwargs)\n",
    "\n",
    "    pbar = tqdm(total = len(params_list))\n",
    "    params = {}\n",
    "    for ind, row in params_list.iterrows():\n",
    "        for col_n, val in row.items():\n",
    "            if col_n != 'no_param':\n",
    "                if isinstance(val, str): params[col_n] = val\n",
    "                elif float(val)%1>0: params[col_n] = float(val)\n",
    "                else: params[col_n] = int(val)      \n",
    "        model = make_clf(model_type, **params)  \n",
    "        try:\n",
    "            score, el_time = score_cv(model, features, target, scorer)            \n",
    "            if debug: print(f'{kwargs}|{score}')              \n",
    "            models_param = models_param.append({'model': model_type\n",
    "                                               ,'g_param':{**params}                                                \n",
    "                                               ,'el_time':el_time\n",
    "                                               ,'score':score}\n",
    "                                               , ignore_index=True)   \n",
    "        except:\n",
    "            models_param = models_param.append({'model': model_type\n",
    "                                               ,'g_param':{**params}                                                \n",
    "                                               ,'el_time':'Err'\n",
    "                                               ,'score':'Err'}\n",
    "                                               , ignore_index=True)   \n",
    "\n",
    "        pbar.update(1)      \n",
    "    pbar.close()        \n",
    "    #Вывод результатов    \n",
    "    models_param = models_param.loc[~models_param['score'].isin(['Err','-'] )]\n",
    "    models_param = models_param.sort_values(by='score', ascending=False).reset_index(drop=True)\n",
    " \n",
    "    \n",
    "    if disp_metr: \n",
    "        display(models_param)\n",
    "        disp_font_size(re.sub(r'[\\{\\}]', '', str(models_param.loc[0,'g_param'])),5)\n",
    "        disp_font_size(f\"Время: {models_param.loc[0,'el_time']}\",5)\n",
    "        display_metric(models_param.loc[0,'score'], scorer)             \n",
    "        \n",
    "  \n",
    "    return models_param\n",
    "\n",
    "def models_test(params, features, target, test_features, test_target, scorer):\n",
    "    models_p = pd.DataFrame(columns=['model','g_param','test_time','test_score'])    \n",
    "    tested_model = pd.DataFrame()\n",
    "    for i, row in params.iterrows():\n",
    "        el_time = time.time()\n",
    "        try:\n",
    "            model = get_model(row, features, target)    \n",
    "            predict = model.predict(test_features)\n",
    "            score = round(scorer(test_target,predict),2) \n",
    "        except:\n",
    "            score = 'Err'\n",
    "        el_time = round(time.time() - el_time,2)\n",
    "        disp_font_size(MODEL_TEXT_NAME[row['model']],5)  \n",
    "        disp_font_size(re.sub(r'[\\{\\}]', '', str(row['g_param'])),4)  \n",
    "        display_metric(score, '', title='Тестовая выборка')\n",
    "        tested_model = row[['model','g_param']]\n",
    "        tested_model['test_score'] = score\n",
    "        tested_model['test_time'] = el_time\n",
    "        models_p = models_p.append(tested_model, ignore_index=True) \n",
    "    return models_p.sort_values(by='test_score', ascending=True).reset_index(drop=True)\n",
    "        \n",
    "def models_serch(params, features, target, test_features=None, test_target=None, scorer=[f1_score,True]\n",
    "                 , test=False, test_num=1):\n",
    "    models_p = pd.DataFrame()   \n",
    "    \n",
    "    my_scorer = make_scorer(scorer[0], greater_is_better=scorer[1])  \n",
    "    for model, params in params.items():\n",
    "        model_name = re.sub(r\".*\\_\", '', str(model))    \n",
    "        log = get_model_params(model_name, features, target, my_scorer, disp_metr=True, **params, debug=DEBUGING)\n",
    "        sort_column = 'score'\n",
    "        test_num_str = test_num\n",
    "        log['test_time'] = '-'\n",
    "        log['test_score'] = '-' \n",
    "        if test:\n",
    "            print('======================')\n",
    "            disp_font_size(\"Результаты на тестовой выборке\",5)  \n",
    "            if test_num < len(log): test_num_str = test_num\n",
    "            else: test_num_str = len(log)\n",
    "            models_test_p = models_test(log.head(test_num_str+1), features, target, test_features, test_target\n",
    "                                            , scorer=scorer[0])\n",
    "            display(models_test_p)                \n",
    "          \n",
    "            log.loc[0:test_num,'test_time'] = models_test_p.loc[0:test_num,'test_time']\n",
    "            log.loc[0:test_num,'test_score'] = models_test_p.loc[0:test_num,'test_score']\n",
    "            sort_column = 'test_score'      \n",
    "            \n",
    "        models_p = models_p.append(log, ignore_index=True,sort=False)   \n",
    "    result = models_p.loc[~models_p[sort_column].isin(['Err','-'] )]\n",
    "    return  result.sort_values(by=sort_column, ascending=False).reset_index(drop=True)\n",
    "\n",
    "def div_features_target(df,targetname):\n",
    "    \"\"\"\n",
    "    Функция для разделения таблицы на признаки и целевой признак\n",
    "    \"\"\"\n",
    "    return df.drop([targetname], axis=1), df[targetname]"
   ]
  },
  {
   "cell_type": "markdown",
   "metadata": {},
   "source": [
    "## Подготовка данных"
   ]
  },
  {
   "cell_type": "code",
   "execution_count": 7,
   "metadata": {},
   "outputs": [
    {
     "name": "stdout",
     "output_type": "stream",
     "text": [
      "<class 'pandas.core.frame.DataFrame'>\n",
      "RangeIndex: 159571 entries, 0 to 159570\n",
      "Data columns (total 2 columns):\n",
      "text     159571 non-null object\n",
      "toxic    159571 non-null int64\n",
      "dtypes: int64(1), object(1)\n",
      "memory usage: 2.4+ MB\n"
     ]
    },
    {
     "data": {
      "text/plain": [
       "None"
      ]
     },
     "metadata": {},
     "output_type": "display_data"
    },
    {
     "data": {
      "text/html": [
       "<div>\n",
       "<style scoped>\n",
       "    .dataframe tbody tr th:only-of-type {\n",
       "        vertical-align: middle;\n",
       "    }\n",
       "\n",
       "    .dataframe tbody tr th {\n",
       "        vertical-align: top;\n",
       "    }\n",
       "\n",
       "    .dataframe thead th {\n",
       "        text-align: right;\n",
       "    }\n",
       "</style>\n",
       "<table border=\"1\" class=\"dataframe\">\n",
       "  <thead>\n",
       "    <tr style=\"text-align: right;\">\n",
       "      <th></th>\n",
       "      <th>text</th>\n",
       "      <th>toxic</th>\n",
       "    </tr>\n",
       "  </thead>\n",
       "  <tbody>\n",
       "    <tr>\n",
       "      <td>0</td>\n",
       "      <td>Explanation\\nWhy the edits made under my username Hardcore Metallica Fan were reverted? They weren't vandalisms, just closure on some GAs after I voted at New York Dolls FAC. And please don't remove the template from the talk page since I'm retired now.89.205.38.27</td>\n",
       "      <td>0</td>\n",
       "    </tr>\n",
       "    <tr>\n",
       "      <td>1</td>\n",
       "      <td>D'aww! He matches this background colour I'm seemingly stuck with. Thanks.  (talk) 21:51, January 11, 2016 (UTC)</td>\n",
       "      <td>0</td>\n",
       "    </tr>\n",
       "    <tr>\n",
       "      <td>2</td>\n",
       "      <td>Hey man, I'm really not trying to edit war. It's just that this guy is constantly removing relevant information and talking to me through edits instead of my talk page. He seems to care more about the formatting than the actual info.</td>\n",
       "      <td>0</td>\n",
       "    </tr>\n",
       "  </tbody>\n",
       "</table>\n",
       "</div>"
      ],
      "text/plain": [
       "                                                                                                                                                                                                                                                                        text  \\\n",
       "0  Explanation\\nWhy the edits made under my username Hardcore Metallica Fan were reverted? They weren't vandalisms, just closure on some GAs after I voted at New York Dolls FAC. And please don't remove the template from the talk page since I'm retired now.89.205.38.27   \n",
       "1                                                                                                                                                           D'aww! He matches this background colour I'm seemingly stuck with. Thanks.  (talk) 21:51, January 11, 2016 (UTC)   \n",
       "2                                  Hey man, I'm really not trying to edit war. It's just that this guy is constantly removing relevant information and talking to me through edits instead of my talk page. He seems to care more about the formatting than the actual info.   \n",
       "\n",
       "   toxic  \n",
       "0      0  \n",
       "1      0  \n",
       "2      0  "
      ]
     },
     "metadata": {},
     "output_type": "display_data"
    }
   ],
   "source": [
    "try:\n",
    "    comments = pd.read_csv('/datasets/toxic_comments.csv')\n",
    "except:\n",
    "    comments = pd.read_csv('toxic_comments.csv')\n",
    "display(comments.info())\n",
    "display(comments.head(3))"
   ]
  },
  {
   "cell_type": "code",
   "execution_count": 8,
   "metadata": {},
   "outputs": [
    {
     "name": "stdout",
     "output_type": "stream",
     "text": [
      "0    143346\n",
      "1     16225\n",
      "Name: toxic, dtype: int64\n"
     ]
    },
    {
     "data": {
      "text/html": [
       "<font size='3'>Нетоксичнык комментарии: 89.8%</font>"
      ],
      "text/plain": [
       "<IPython.core.display.HTML object>"
      ]
     },
     "metadata": {},
     "output_type": "display_data"
    },
    {
     "data": {
      "text/html": [
       "<font size='3'>Токсичнык комментарии: 10.2%</font>"
      ],
      "text/plain": [
       "<IPython.core.display.HTML object>"
      ]
     },
     "metadata": {},
     "output_type": "display_data"
    }
   ],
   "source": [
    "vc = comments['toxic'].value_counts()\n",
    "print(vc)\n",
    "disp_font_size(f\"Нетоксичнык комментарии: {round(vc[0]/len(comments),3)*100}%\")\n",
    "disp_font_size(f\"Токсичнык комментарии: {round(vc[1]/len(comments),3)*100}%\")"
   ]
  },
  {
   "cell_type": "code",
   "execution_count": 9,
   "metadata": {
    "scrolled": false
   },
   "outputs": [
    {
     "name": "stdout",
     "output_type": "stream",
     "text": [
      "159571\n"
     ]
    },
    {
     "name": "stderr",
     "output_type": "stream",
     "text": [
      "[nltk_data] Downloading package wordnet to\n",
      "[nltk_data]     C:\\Users\\ovo\\AppData\\Roaming\\nltk_data...\n",
      "[nltk_data]   Package wordnet is already up-to-date!\n"
     ]
    },
    {
     "data": {
      "application/vnd.jupyter.widget-view+json": {
       "model_id": "d8a843dbc7ba4159ba54e5be514fd5a5",
       "version_major": 2,
       "version_minor": 0
      },
      "text/plain": [
       "  0%|          | 0/159571 [00:00<?, ?it/s]"
      ]
     },
     "metadata": {},
     "output_type": "display_data"
    },
    {
     "data": {
      "text/html": [
       "<div>\n",
       "<style scoped>\n",
       "    .dataframe tbody tr th:only-of-type {\n",
       "        vertical-align: middle;\n",
       "    }\n",
       "\n",
       "    .dataframe tbody tr th {\n",
       "        vertical-align: top;\n",
       "    }\n",
       "\n",
       "    .dataframe thead th {\n",
       "        text-align: right;\n",
       "    }\n",
       "</style>\n",
       "<table border=\"1\" class=\"dataframe\">\n",
       "  <thead>\n",
       "    <tr style=\"text-align: right;\">\n",
       "      <th></th>\n",
       "      <th>text</th>\n",
       "      <th>toxic</th>\n",
       "      <th>lem_text</th>\n",
       "    </tr>\n",
       "  </thead>\n",
       "  <tbody>\n",
       "    <tr>\n",
       "      <td>0</td>\n",
       "      <td>Explanation\\nWhy the edits made under my username Hardcore Metallica Fan were reverted? They weren't vandalisms, just closure on some GAs after I voted at New York Dolls FAC. And please don't remove the template from the talk page since I'm retired now.89.205.38.27</td>\n",
       "      <td>0</td>\n",
       "      <td>explanation why the edits made under my username hardcore metallica fan were reverted  they weren t vandalism  just closure on some gas after i voted at new york dolls fac  and please don t remove the template from the talk page since i m retired now</td>\n",
       "    </tr>\n",
       "    <tr>\n",
       "      <td>1</td>\n",
       "      <td>D'aww! He matches this background colour I'm seemingly stuck with. Thanks.  (talk) 21:51, January 11, 2016 (UTC)</td>\n",
       "      <td>0</td>\n",
       "      <td>d aww  he match this background colour i m seemingly stuck with  thanks    talk         january           utc</td>\n",
       "    </tr>\n",
       "    <tr>\n",
       "      <td>2</td>\n",
       "      <td>Hey man, I'm really not trying to edit war. It's just that this guy is constantly removing relevant information and talking to me through edits instead of my talk page. He seems to care more about the formatting than the actual info.</td>\n",
       "      <td>0</td>\n",
       "      <td>hey man  i m really not trying to edit war  it s just that this guy is constantly removing relevant information and talking to me through edits instead of my talk page  he seems to care more about the formatting than the actual info</td>\n",
       "    </tr>\n",
       "    <tr>\n",
       "      <td>3</td>\n",
       "      <td>\"\\nMore\\nI can't make any real suggestions on improvement - I wondered if the section statistics should be later on, or a subsection of \"\"types of accidents\"\"  -I think the references may need tidying so that they are all in the exact same format ie date format etc. I can do that later on, if no...</td>\n",
       "      <td>0</td>\n",
       "      <td>more i can t make any real suggestion on improvement   i wondered if the section statistic should be later on  or a subsection of   type of accident     i think the reference may need tidying so that they are all in the exact same format ie date format etc  i can do that later on  if no one el...</td>\n",
       "    </tr>\n",
       "    <tr>\n",
       "      <td>4</td>\n",
       "      <td>You, sir, are my hero. Any chance you remember what page that's on?</td>\n",
       "      <td>0</td>\n",
       "      <td>you  sir  are my hero  any chance you remember what page that s on</td>\n",
       "    </tr>\n",
       "  </tbody>\n",
       "</table>\n",
       "</div>"
      ],
      "text/plain": [
       "                                                                                                                                                                                                                                                                                                          text  \\\n",
       "0                                    Explanation\\nWhy the edits made under my username Hardcore Metallica Fan were reverted? They weren't vandalisms, just closure on some GAs after I voted at New York Dolls FAC. And please don't remove the template from the talk page since I'm retired now.89.205.38.27   \n",
       "1                                                                                                                                                                                             D'aww! He matches this background colour I'm seemingly stuck with. Thanks.  (talk) 21:51, January 11, 2016 (UTC)   \n",
       "2                                                                    Hey man, I'm really not trying to edit war. It's just that this guy is constantly removing relevant information and talking to me through edits instead of my talk page. He seems to care more about the formatting than the actual info.   \n",
       "3  \"\\nMore\\nI can't make any real suggestions on improvement - I wondered if the section statistics should be later on, or a subsection of \"\"types of accidents\"\"  -I think the references may need tidying so that they are all in the exact same format ie date format etc. I can do that later on, if no...   \n",
       "4                                                                                                                                                                                                                                          You, sir, are my hero. Any chance you remember what page that's on?   \n",
       "\n",
       "   toxic  \\\n",
       "0      0   \n",
       "1      0   \n",
       "2      0   \n",
       "3      0   \n",
       "4      0   \n",
       "\n",
       "                                                                                                                                                                                                                                                                                                      lem_text  \n",
       "0                                      explanation why the edits made under my username hardcore metallica fan were reverted  they weren t vandalism  just closure on some gas after i voted at new york dolls fac  and please don t remove the template from the talk page since i m retired now               \n",
       "1                                                                                                                                                                                               d aww  he match this background colour i m seemingly stuck with  thanks    talk         january           utc   \n",
       "2                                                                    hey man  i m really not trying to edit war  it s just that this guy is constantly removing relevant information and talking to me through edits instead of my talk page  he seems to care more about the formatting than the actual info   \n",
       "3    more i can t make any real suggestion on improvement   i wondered if the section statistic should be later on  or a subsection of   type of accident     i think the reference may need tidying so that they are all in the exact same format ie date format etc  i can do that later on  if no one el...  \n",
       "4                                                                                                                                                                                                                                          you  sir  are my hero  any chance you remember what page that s on   "
      ]
     },
     "metadata": {},
     "output_type": "display_data"
    }
   ],
   "source": [
    "# comments = comments.head(10000)\n",
    "lem = WordNetLemmatizer()\n",
    "nltk.download('wordnet')\n",
    "print(len(comments))\n",
    "pbar = tqdm(total = len(comments))\n",
    "def lemmatize(text):\n",
    "    \"\"\"\n",
    "    Лемматизация\n",
    "    \"\"\"\n",
    "    clr_text = re.sub(r'[^a-zA-Z ]', ' ', text)\n",
    "    lem_text = []\n",
    "    slt_text = clr_text.split(' ') \n",
    "    for word in slt_text:\n",
    "        lem_text.append(lem.lemmatize(word)) \n",
    "    lem_text = ' '.join(lem_text)    \n",
    "    pbar.update(1)\n",
    "    return lem_text.lower()\n",
    "\n",
    "comments['text'] = pd.DataFrame(comments['text'].values.astype('U'))\n",
    "comments['lem_text'] = comments['text'].apply(lemmatize)\n",
    "pbar.close()                   \n",
    "display(comments.head(5))"
   ]
  },
  {
   "cell_type": "markdown",
   "metadata": {},
   "source": [
    "## Обучение"
   ]
  },
  {
   "cell_type": "markdown",
   "metadata": {},
   "source": [
    "### Мешок слов"
   ]
  },
  {
   "cell_type": "code",
   "execution_count": 10,
   "metadata": {},
   "outputs": [
    {
     "name": "stderr",
     "output_type": "stream",
     "text": [
      "[nltk_data] Downloading package stopwords to\n",
      "[nltk_data]     C:\\Users\\ovo\\AppData\\Roaming\\nltk_data...\n",
      "[nltk_data]   Package stopwords is already up-to-date!\n"
     ]
    }
   ],
   "source": [
    "train_comments, test_comments = train_test_split(comments, test_size=0.3, random_state=R_STATE)\n",
    "nltk.download('stopwords') \n",
    "stopwords = set(stopwords.words('english')) "
   ]
  },
  {
   "cell_type": "code",
   "execution_count": 11,
   "metadata": {},
   "outputs": [],
   "source": [
    "#count_tf_idf = TfidfVectorizer(stop_words=stopwords, ngram_range=(1, 1))\n",
    "\n",
    "# train_corpus = list(train_comments['lem_text'])\n",
    "# train_features = count_tf_idf.fit_transform(train_corpus)\n",
    "\n",
    "train_features = list(train_comments['lem_text'])\n",
    "train_target = train_comments['toxic']\n",
    "\n",
    "# test_corpus = list(train_comments['lem_text'])\n",
    "# test_features = count_tf_idf.fit_transform(test_corpus)\n",
    "# test_target = train_comments['toxic']\n",
    "\n",
    "test_features = list(test_comments['lem_text'])\n",
    "test_target = test_comments['toxic']"
   ]
  },
  {
   "cell_type": "code",
   "execution_count": 12,
   "metadata": {
    "scrolled": false
   },
   "outputs": [
    {
     "name": "stdout",
     "output_type": "stream",
     "text": [
      "==========================\n"
     ]
    },
    {
     "data": {
      "text/html": [
       "<font size='5'>Модель: Логическая регрессия  <br></font>"
      ],
      "text/plain": [
       "<IPython.core.display.HTML object>"
      ]
     },
     "metadata": {},
     "output_type": "display_data"
    },
    {
     "data": {
      "application/vnd.jupyter.widget-view+json": {
       "model_id": "fd3f97d431e34044b1dfb02080ec31e5",
       "version_major": 2,
       "version_minor": 0
      },
      "text/plain": [
       "  0%|          | 0/1 [00:00<?, ?it/s]"
      ]
     },
     "metadata": {},
     "output_type": "display_data"
    },
    {
     "data": {
      "text/html": [
       "<div>\n",
       "<style scoped>\n",
       "    .dataframe tbody tr th:only-of-type {\n",
       "        vertical-align: middle;\n",
       "    }\n",
       "\n",
       "    .dataframe tbody tr th {\n",
       "        vertical-align: top;\n",
       "    }\n",
       "\n",
       "    .dataframe thead th {\n",
       "        text-align: right;\n",
       "    }\n",
       "</style>\n",
       "<table border=\"1\" class=\"dataframe\">\n",
       "  <thead>\n",
       "    <tr style=\"text-align: right;\">\n",
       "      <th></th>\n",
       "      <th>model</th>\n",
       "      <th>g_param</th>\n",
       "      <th>el_time</th>\n",
       "      <th>score</th>\n",
       "    </tr>\n",
       "  </thead>\n",
       "  <tbody>\n",
       "    <tr>\n",
       "      <td>0</td>\n",
       "      <td>LogisticReg</td>\n",
       "      <td>{'class_weight': 'balanced', 'solver': 'liblinear'}</td>\n",
       "      <td>16.34</td>\n",
       "      <td>0.7387</td>\n",
       "    </tr>\n",
       "  </tbody>\n",
       "</table>\n",
       "</div>"
      ],
      "text/plain": [
       "         model                                              g_param  el_time  \\\n",
       "0  LogisticReg  {'class_weight': 'balanced', 'solver': 'liblinear'}    16.34   \n",
       "\n",
       "    score  \n",
       "0  0.7387  "
      ]
     },
     "metadata": {},
     "output_type": "display_data"
    },
    {
     "data": {
      "text/html": [
       "<font size='5'>'class_weight': 'balanced', 'solver': 'liblinear'</font>"
      ],
      "text/plain": [
       "<IPython.core.display.HTML object>"
      ]
     },
     "metadata": {},
     "output_type": "display_data"
    },
    {
     "data": {
      "text/html": [
       "<font size='5'>Время: 16.34</font>"
      ],
      "text/plain": [
       "<IPython.core.display.HTML object>"
      ]
     },
     "metadata": {},
     "output_type": "display_data"
    },
    {
     "data": {
      "text/html": [
       "<font size='5'>  F1_SCORE: = 0.7387</font>"
      ],
      "text/plain": [
       "<IPython.core.display.HTML object>"
      ]
     },
     "metadata": {},
     "output_type": "display_data"
    },
    {
     "name": "stdout",
     "output_type": "stream",
     "text": [
      "======================\n"
     ]
    },
    {
     "data": {
      "text/html": [
       "<font size='5'>Результаты на тестовой выборке</font>"
      ],
      "text/plain": [
       "<IPython.core.display.HTML object>"
      ]
     },
     "metadata": {},
     "output_type": "display_data"
    },
    {
     "data": {
      "application/vnd.jupyter.widget-view+json": {
       "model_id": "f37f14b6c025485fa9a0b0e2f0696381",
       "version_major": 2,
       "version_minor": 0
      },
      "text/plain": [
       "  0%|          | 0/1 [00:00<?, ?it/s]"
      ]
     },
     "metadata": {},
     "output_type": "display_data"
    },
    {
     "data": {
      "text/html": [
       "<font size='5'>Логическая регрессия</font>"
      ],
      "text/plain": [
       "<IPython.core.display.HTML object>"
      ]
     },
     "metadata": {},
     "output_type": "display_data"
    },
    {
     "data": {
      "text/html": [
       "<font size='4'>'class_weight': 'balanced', 'solver': 'liblinear'</font>"
      ],
      "text/plain": [
       "<IPython.core.display.HTML object>"
      ]
     },
     "metadata": {},
     "output_type": "display_data"
    },
    {
     "data": {
      "text/html": [
       "<font size='5'> Тестовая выборка : = 0.76</font>"
      ],
      "text/plain": [
       "<IPython.core.display.HTML object>"
      ]
     },
     "metadata": {},
     "output_type": "display_data"
    },
    {
     "data": {
      "text/html": [
       "<div>\n",
       "<style scoped>\n",
       "    .dataframe tbody tr th:only-of-type {\n",
       "        vertical-align: middle;\n",
       "    }\n",
       "\n",
       "    .dataframe tbody tr th {\n",
       "        vertical-align: top;\n",
       "    }\n",
       "\n",
       "    .dataframe thead th {\n",
       "        text-align: right;\n",
       "    }\n",
       "</style>\n",
       "<table border=\"1\" class=\"dataframe\">\n",
       "  <thead>\n",
       "    <tr style=\"text-align: right;\">\n",
       "      <th></th>\n",
       "      <th>model</th>\n",
       "      <th>g_param</th>\n",
       "      <th>test_time</th>\n",
       "      <th>test_score</th>\n",
       "    </tr>\n",
       "  </thead>\n",
       "  <tbody>\n",
       "    <tr>\n",
       "      <td>0</td>\n",
       "      <td>LogisticReg</td>\n",
       "      <td>{'class_weight': 'balanced', 'solver': 'liblinear'}</td>\n",
       "      <td>11.8</td>\n",
       "      <td>0.76</td>\n",
       "    </tr>\n",
       "  </tbody>\n",
       "</table>\n",
       "</div>"
      ],
      "text/plain": [
       "         model                                              g_param  \\\n",
       "0  LogisticReg  {'class_weight': 'balanced', 'solver': 'liblinear'}   \n",
       "\n",
       "   test_time  test_score  \n",
       "0       11.8        0.76  "
      ]
     },
     "metadata": {},
     "output_type": "display_data"
    },
    {
     "name": "stdout",
     "output_type": "stream",
     "text": [
      "==========================\n"
     ]
    },
    {
     "data": {
      "text/html": [
       "<font size='5'>Модель: Дерево принятия решений для классификации  <br></font>"
      ],
      "text/plain": [
       "<IPython.core.display.HTML object>"
      ]
     },
     "metadata": {},
     "output_type": "display_data"
    },
    {
     "data": {
      "application/vnd.jupyter.widget-view+json": {
       "model_id": "6f4eeda3fe7e4702b06f4d588c89318f",
       "version_major": 2,
       "version_minor": 0
      },
      "text/plain": [
       "  0%|          | 0/4 [00:00<?, ?it/s]"
      ]
     },
     "metadata": {},
     "output_type": "display_data"
    },
    {
     "data": {
      "text/html": [
       "<div>\n",
       "<style scoped>\n",
       "    .dataframe tbody tr th:only-of-type {\n",
       "        vertical-align: middle;\n",
       "    }\n",
       "\n",
       "    .dataframe tbody tr th {\n",
       "        vertical-align: top;\n",
       "    }\n",
       "\n",
       "    .dataframe thead th {\n",
       "        text-align: right;\n",
       "    }\n",
       "</style>\n",
       "<table border=\"1\" class=\"dataframe\">\n",
       "  <thead>\n",
       "    <tr style=\"text-align: right;\">\n",
       "      <th></th>\n",
       "      <th>model</th>\n",
       "      <th>g_param</th>\n",
       "      <th>el_time</th>\n",
       "      <th>score</th>\n",
       "    </tr>\n",
       "  </thead>\n",
       "  <tbody>\n",
       "    <tr>\n",
       "      <td>0</td>\n",
       "      <td>DecTreeCls</td>\n",
       "      <td>{'max_depth': 88}</td>\n",
       "      <td>57.05</td>\n",
       "      <td>0.7140</td>\n",
       "    </tr>\n",
       "    <tr>\n",
       "      <td>1</td>\n",
       "      <td>DecTreeCls</td>\n",
       "      <td>{'max_depth': 87}</td>\n",
       "      <td>56.80</td>\n",
       "      <td>0.7123</td>\n",
       "    </tr>\n",
       "    <tr>\n",
       "      <td>2</td>\n",
       "      <td>DecTreeCls</td>\n",
       "      <td>{'max_depth': 86}</td>\n",
       "      <td>56.74</td>\n",
       "      <td>0.7118</td>\n",
       "    </tr>\n",
       "    <tr>\n",
       "      <td>3</td>\n",
       "      <td>DecTreeCls</td>\n",
       "      <td>{'max_depth': 85}</td>\n",
       "      <td>59.64</td>\n",
       "      <td>0.7106</td>\n",
       "    </tr>\n",
       "  </tbody>\n",
       "</table>\n",
       "</div>"
      ],
      "text/plain": [
       "        model            g_param  el_time   score\n",
       "0  DecTreeCls  {'max_depth': 88}    57.05  0.7140\n",
       "1  DecTreeCls  {'max_depth': 87}    56.80  0.7123\n",
       "2  DecTreeCls  {'max_depth': 86}    56.74  0.7118\n",
       "3  DecTreeCls  {'max_depth': 85}    59.64  0.7106"
      ]
     },
     "metadata": {},
     "output_type": "display_data"
    },
    {
     "data": {
      "text/html": [
       "<font size='5'>'max_depth': 88</font>"
      ],
      "text/plain": [
       "<IPython.core.display.HTML object>"
      ]
     },
     "metadata": {},
     "output_type": "display_data"
    },
    {
     "data": {
      "text/html": [
       "<font size='5'>Время: 57.05</font>"
      ],
      "text/plain": [
       "<IPython.core.display.HTML object>"
      ]
     },
     "metadata": {},
     "output_type": "display_data"
    },
    {
     "data": {
      "text/html": [
       "<font size='5'>  F1_SCORE: = 0.714</font>"
      ],
      "text/plain": [
       "<IPython.core.display.HTML object>"
      ]
     },
     "metadata": {},
     "output_type": "display_data"
    },
    {
     "name": "stdout",
     "output_type": "stream",
     "text": [
      "======================\n"
     ]
    },
    {
     "data": {
      "text/html": [
       "<font size='5'>Результаты на тестовой выборке</font>"
      ],
      "text/plain": [
       "<IPython.core.display.HTML object>"
      ]
     },
     "metadata": {},
     "output_type": "display_data"
    },
    {
     "data": {
      "application/vnd.jupyter.widget-view+json": {
       "model_id": "e680df9d3ee14520ab536dffbb8513f2",
       "version_major": 2,
       "version_minor": 0
      },
      "text/plain": [
       "  0%|          | 0/1 [00:00<?, ?it/s]"
      ]
     },
     "metadata": {},
     "output_type": "display_data"
    },
    {
     "data": {
      "text/html": [
       "<font size='5'>Дерево принятия решений для классификации</font>"
      ],
      "text/plain": [
       "<IPython.core.display.HTML object>"
      ]
     },
     "metadata": {},
     "output_type": "display_data"
    },
    {
     "data": {
      "text/html": [
       "<font size='4'>'max_depth': 88</font>"
      ],
      "text/plain": [
       "<IPython.core.display.HTML object>"
      ]
     },
     "metadata": {},
     "output_type": "display_data"
    },
    {
     "data": {
      "text/html": [
       "<font size='5'> Тестовая выборка : = 0.72</font>"
      ],
      "text/plain": [
       "<IPython.core.display.HTML object>"
      ]
     },
     "metadata": {},
     "output_type": "display_data"
    },
    {
     "data": {
      "text/html": [
       "<div>\n",
       "<style scoped>\n",
       "    .dataframe tbody tr th:only-of-type {\n",
       "        vertical-align: middle;\n",
       "    }\n",
       "\n",
       "    .dataframe tbody tr th {\n",
       "        vertical-align: top;\n",
       "    }\n",
       "\n",
       "    .dataframe thead th {\n",
       "        text-align: right;\n",
       "    }\n",
       "</style>\n",
       "<table border=\"1\" class=\"dataframe\">\n",
       "  <thead>\n",
       "    <tr style=\"text-align: right;\">\n",
       "      <th></th>\n",
       "      <th>model</th>\n",
       "      <th>g_param</th>\n",
       "      <th>test_time</th>\n",
       "      <th>test_score</th>\n",
       "    </tr>\n",
       "  </thead>\n",
       "  <tbody>\n",
       "    <tr>\n",
       "      <td>0</td>\n",
       "      <td>DecTreeCls</td>\n",
       "      <td>{'max_depth': 88}</td>\n",
       "      <td>46.71</td>\n",
       "      <td>0.72</td>\n",
       "    </tr>\n",
       "  </tbody>\n",
       "</table>\n",
       "</div>"
      ],
      "text/plain": [
       "        model            g_param  test_time  test_score\n",
       "0  DecTreeCls  {'max_depth': 88}      46.71        0.72"
      ]
     },
     "metadata": {},
     "output_type": "display_data"
    },
    {
     "name": "stdout",
     "output_type": "stream",
     "text": [
      "==========================\n"
     ]
    },
    {
     "data": {
      "text/html": [
       "<font size='5'>Модель: Случайный лес для классификации  <br></font>"
      ],
      "text/plain": [
       "<IPython.core.display.HTML object>"
      ]
     },
     "metadata": {},
     "output_type": "display_data"
    },
    {
     "data": {
      "application/vnd.jupyter.widget-view+json": {
       "model_id": "4bd9056860fb4d7db2a98da7a8c8cd70",
       "version_major": 2,
       "version_minor": 0
      },
      "text/plain": [
       "  0%|          | 0/1 [00:00<?, ?it/s]"
      ]
     },
     "metadata": {},
     "output_type": "display_data"
    },
    {
     "data": {
      "text/html": [
       "<div>\n",
       "<style scoped>\n",
       "    .dataframe tbody tr th:only-of-type {\n",
       "        vertical-align: middle;\n",
       "    }\n",
       "\n",
       "    .dataframe tbody tr th {\n",
       "        vertical-align: top;\n",
       "    }\n",
       "\n",
       "    .dataframe thead th {\n",
       "        text-align: right;\n",
       "    }\n",
       "</style>\n",
       "<table border=\"1\" class=\"dataframe\">\n",
       "  <thead>\n",
       "    <tr style=\"text-align: right;\">\n",
       "      <th></th>\n",
       "      <th>model</th>\n",
       "      <th>g_param</th>\n",
       "      <th>el_time</th>\n",
       "      <th>score</th>\n",
       "    </tr>\n",
       "  </thead>\n",
       "  <tbody>\n",
       "    <tr>\n",
       "      <td>0</td>\n",
       "      <td>RndForestCls</td>\n",
       "      <td>{'class_weight': 'balanced', 'max_depth': 90, 'n_estimators': 1}</td>\n",
       "      <td>11.8</td>\n",
       "      <td>0.2949</td>\n",
       "    </tr>\n",
       "  </tbody>\n",
       "</table>\n",
       "</div>"
      ],
      "text/plain": [
       "          model  \\\n",
       "0  RndForestCls   \n",
       "\n",
       "                                                            g_param  el_time  \\\n",
       "0  {'class_weight': 'balanced', 'max_depth': 90, 'n_estimators': 1}     11.8   \n",
       "\n",
       "    score  \n",
       "0  0.2949  "
      ]
     },
     "metadata": {},
     "output_type": "display_data"
    },
    {
     "data": {
      "text/html": [
       "<font size='5'>'class_weight': 'balanced', 'max_depth': 90, 'n_estimators': 1</font>"
      ],
      "text/plain": [
       "<IPython.core.display.HTML object>"
      ]
     },
     "metadata": {},
     "output_type": "display_data"
    },
    {
     "data": {
      "text/html": [
       "<font size='5'>Время: 11.8</font>"
      ],
      "text/plain": [
       "<IPython.core.display.HTML object>"
      ]
     },
     "metadata": {},
     "output_type": "display_data"
    },
    {
     "data": {
      "text/html": [
       "<font size='5'>  F1_SCORE: = 0.2949</font>"
      ],
      "text/plain": [
       "<IPython.core.display.HTML object>"
      ]
     },
     "metadata": {},
     "output_type": "display_data"
    },
    {
     "name": "stdout",
     "output_type": "stream",
     "text": [
      "======================\n"
     ]
    },
    {
     "data": {
      "text/html": [
       "<font size='5'>Результаты на тестовой выборке</font>"
      ],
      "text/plain": [
       "<IPython.core.display.HTML object>"
      ]
     },
     "metadata": {},
     "output_type": "display_data"
    },
    {
     "data": {
      "application/vnd.jupyter.widget-view+json": {
       "model_id": "fc22de13e7624a08bc88d08217e8bfc5",
       "version_major": 2,
       "version_minor": 0
      },
      "text/plain": [
       "  0%|          | 0/1 [00:00<?, ?it/s]"
      ]
     },
     "metadata": {},
     "output_type": "display_data"
    },
    {
     "data": {
      "text/html": [
       "<font size='5'>Случайный лес для классификации</font>"
      ],
      "text/plain": [
       "<IPython.core.display.HTML object>"
      ]
     },
     "metadata": {},
     "output_type": "display_data"
    },
    {
     "data": {
      "text/html": [
       "<font size='4'>'class_weight': 'balanced', 'max_depth': 90, 'n_estimators': 1</font>"
      ],
      "text/plain": [
       "<IPython.core.display.HTML object>"
      ]
     },
     "metadata": {},
     "output_type": "display_data"
    },
    {
     "data": {
      "text/html": [
       "<font size='5'> Тестовая выборка : = 0.29</font>"
      ],
      "text/plain": [
       "<IPython.core.display.HTML object>"
      ]
     },
     "metadata": {},
     "output_type": "display_data"
    },
    {
     "data": {
      "text/html": [
       "<div>\n",
       "<style scoped>\n",
       "    .dataframe tbody tr th:only-of-type {\n",
       "        vertical-align: middle;\n",
       "    }\n",
       "\n",
       "    .dataframe tbody tr th {\n",
       "        vertical-align: top;\n",
       "    }\n",
       "\n",
       "    .dataframe thead th {\n",
       "        text-align: right;\n",
       "    }\n",
       "</style>\n",
       "<table border=\"1\" class=\"dataframe\">\n",
       "  <thead>\n",
       "    <tr style=\"text-align: right;\">\n",
       "      <th></th>\n",
       "      <th>model</th>\n",
       "      <th>g_param</th>\n",
       "      <th>test_time</th>\n",
       "      <th>test_score</th>\n",
       "    </tr>\n",
       "  </thead>\n",
       "  <tbody>\n",
       "    <tr>\n",
       "      <td>0</td>\n",
       "      <td>RndForestCls</td>\n",
       "      <td>{'class_weight': 'balanced', 'max_depth': 90, 'n_estimators': 1}</td>\n",
       "      <td>8.99</td>\n",
       "      <td>0.29</td>\n",
       "    </tr>\n",
       "  </tbody>\n",
       "</table>\n",
       "</div>"
      ],
      "text/plain": [
       "          model  \\\n",
       "0  RndForestCls   \n",
       "\n",
       "                                                            g_param  \\\n",
       "0  {'class_weight': 'balanced', 'max_depth': 90, 'n_estimators': 1}   \n",
       "\n",
       "   test_time  test_score  \n",
       "0       8.99        0.29  "
      ]
     },
     "metadata": {},
     "output_type": "display_data"
    },
    {
     "name": "stdout",
     "output_type": "stream",
     "text": [
      "==========================\n"
     ]
    },
    {
     "data": {
      "text/html": [
       "<font size='5'>Модель: Ансамбль LightGBM для классификации  <br></font>"
      ],
      "text/plain": [
       "<IPython.core.display.HTML object>"
      ]
     },
     "metadata": {},
     "output_type": "display_data"
    },
    {
     "data": {
      "application/vnd.jupyter.widget-view+json": {
       "model_id": "76364fd02319447f996fc91cd82488b4",
       "version_major": 2,
       "version_minor": 0
      },
      "text/plain": [
       "  0%|          | 0/8 [00:00<?, ?it/s]"
      ]
     },
     "metadata": {},
     "output_type": "display_data"
    },
    {
     "data": {
      "text/html": [
       "<div>\n",
       "<style scoped>\n",
       "    .dataframe tbody tr th:only-of-type {\n",
       "        vertical-align: middle;\n",
       "    }\n",
       "\n",
       "    .dataframe tbody tr th {\n",
       "        vertical-align: top;\n",
       "    }\n",
       "\n",
       "    .dataframe thead th {\n",
       "        text-align: right;\n",
       "    }\n",
       "</style>\n",
       "<table border=\"1\" class=\"dataframe\">\n",
       "  <thead>\n",
       "    <tr style=\"text-align: right;\">\n",
       "      <th></th>\n",
       "      <th>model</th>\n",
       "      <th>g_param</th>\n",
       "      <th>el_time</th>\n",
       "      <th>score</th>\n",
       "    </tr>\n",
       "  </thead>\n",
       "  <tbody>\n",
       "    <tr>\n",
       "      <td>0</td>\n",
       "      <td>LGBMCls</td>\n",
       "      <td>{'learning_rate': 0.4, 'max_depth': 36, 'n_estimators': 50}</td>\n",
       "      <td>42.27</td>\n",
       "      <td>0.7565</td>\n",
       "    </tr>\n",
       "    <tr>\n",
       "      <td>1</td>\n",
       "      <td>LGBMCls</td>\n",
       "      <td>{'learning_rate': 0.4, 'max_depth': 37, 'n_estimators': 50}</td>\n",
       "      <td>42.09</td>\n",
       "      <td>0.7565</td>\n",
       "    </tr>\n",
       "    <tr>\n",
       "      <td>2</td>\n",
       "      <td>LGBMCls</td>\n",
       "      <td>{'learning_rate': 0.4, 'max_depth': 38, 'n_estimators': 50}</td>\n",
       "      <td>42.03</td>\n",
       "      <td>0.7565</td>\n",
       "    </tr>\n",
       "    <tr>\n",
       "      <td>3</td>\n",
       "      <td>LGBMCls</td>\n",
       "      <td>{'learning_rate': 0.4, 'max_depth': 39, 'n_estimators': 50}</td>\n",
       "      <td>43.83</td>\n",
       "      <td>0.7565</td>\n",
       "    </tr>\n",
       "    <tr>\n",
       "      <td>4</td>\n",
       "      <td>LGBMCls</td>\n",
       "      <td>{'learning_rate': 0.4, 'max_depth': 36, 'n_estimators': 49}</td>\n",
       "      <td>42.22</td>\n",
       "      <td>0.7562</td>\n",
       "    </tr>\n",
       "    <tr>\n",
       "      <td>5</td>\n",
       "      <td>LGBMCls</td>\n",
       "      <td>{'learning_rate': 0.4, 'max_depth': 37, 'n_estimators': 49}</td>\n",
       "      <td>41.36</td>\n",
       "      <td>0.7562</td>\n",
       "    </tr>\n",
       "    <tr>\n",
       "      <td>6</td>\n",
       "      <td>LGBMCls</td>\n",
       "      <td>{'learning_rate': 0.4, 'max_depth': 38, 'n_estimators': 49}</td>\n",
       "      <td>41.98</td>\n",
       "      <td>0.7562</td>\n",
       "    </tr>\n",
       "    <tr>\n",
       "      <td>7</td>\n",
       "      <td>LGBMCls</td>\n",
       "      <td>{'learning_rate': 0.4, 'max_depth': 39, 'n_estimators': 49}</td>\n",
       "      <td>42.47</td>\n",
       "      <td>0.7562</td>\n",
       "    </tr>\n",
       "  </tbody>\n",
       "</table>\n",
       "</div>"
      ],
      "text/plain": [
       "     model                                                      g_param  \\\n",
       "0  LGBMCls  {'learning_rate': 0.4, 'max_depth': 36, 'n_estimators': 50}   \n",
       "1  LGBMCls  {'learning_rate': 0.4, 'max_depth': 37, 'n_estimators': 50}   \n",
       "2  LGBMCls  {'learning_rate': 0.4, 'max_depth': 38, 'n_estimators': 50}   \n",
       "3  LGBMCls  {'learning_rate': 0.4, 'max_depth': 39, 'n_estimators': 50}   \n",
       "4  LGBMCls  {'learning_rate': 0.4, 'max_depth': 36, 'n_estimators': 49}   \n",
       "5  LGBMCls  {'learning_rate': 0.4, 'max_depth': 37, 'n_estimators': 49}   \n",
       "6  LGBMCls  {'learning_rate': 0.4, 'max_depth': 38, 'n_estimators': 49}   \n",
       "7  LGBMCls  {'learning_rate': 0.4, 'max_depth': 39, 'n_estimators': 49}   \n",
       "\n",
       "   el_time   score  \n",
       "0    42.27  0.7565  \n",
       "1    42.09  0.7565  \n",
       "2    42.03  0.7565  \n",
       "3    43.83  0.7565  \n",
       "4    42.22  0.7562  \n",
       "5    41.36  0.7562  \n",
       "6    41.98  0.7562  \n",
       "7    42.47  0.7562  "
      ]
     },
     "metadata": {},
     "output_type": "display_data"
    },
    {
     "data": {
      "text/html": [
       "<font size='5'>'learning_rate': 0.4, 'max_depth': 36, 'n_estimators': 50</font>"
      ],
      "text/plain": [
       "<IPython.core.display.HTML object>"
      ]
     },
     "metadata": {},
     "output_type": "display_data"
    },
    {
     "data": {
      "text/html": [
       "<font size='5'>Время: 42.27</font>"
      ],
      "text/plain": [
       "<IPython.core.display.HTML object>"
      ]
     },
     "metadata": {},
     "output_type": "display_data"
    },
    {
     "data": {
      "text/html": [
       "<font size='5'>  F1_SCORE: = 0.7565</font>"
      ],
      "text/plain": [
       "<IPython.core.display.HTML object>"
      ]
     },
     "metadata": {},
     "output_type": "display_data"
    },
    {
     "name": "stdout",
     "output_type": "stream",
     "text": [
      "======================\n"
     ]
    },
    {
     "data": {
      "text/html": [
       "<font size='5'>Результаты на тестовой выборке</font>"
      ],
      "text/plain": [
       "<IPython.core.display.HTML object>"
      ]
     },
     "metadata": {},
     "output_type": "display_data"
    },
    {
     "data": {
      "application/vnd.jupyter.widget-view+json": {
       "model_id": "dc188324a2b44af091f6f02754e102f7",
       "version_major": 2,
       "version_minor": 0
      },
      "text/plain": [
       "  0%|          | 0/1 [00:00<?, ?it/s]"
      ]
     },
     "metadata": {},
     "output_type": "display_data"
    },
    {
     "data": {
      "text/html": [
       "<font size='5'>Ансамбль LightGBM для классификации</font>"
      ],
      "text/plain": [
       "<IPython.core.display.HTML object>"
      ]
     },
     "metadata": {},
     "output_type": "display_data"
    },
    {
     "data": {
      "text/html": [
       "<font size='4'>'learning_rate': 0.4, 'max_depth': 36, 'n_estimators': 50</font>"
      ],
      "text/plain": [
       "<IPython.core.display.HTML object>"
      ]
     },
     "metadata": {},
     "output_type": "display_data"
    },
    {
     "data": {
      "text/html": [
       "<font size='5'> Тестовая выборка : = 0.76</font>"
      ],
      "text/plain": [
       "<IPython.core.display.HTML object>"
      ]
     },
     "metadata": {},
     "output_type": "display_data"
    },
    {
     "data": {
      "text/html": [
       "<div>\n",
       "<style scoped>\n",
       "    .dataframe tbody tr th:only-of-type {\n",
       "        vertical-align: middle;\n",
       "    }\n",
       "\n",
       "    .dataframe tbody tr th {\n",
       "        vertical-align: top;\n",
       "    }\n",
       "\n",
       "    .dataframe thead th {\n",
       "        text-align: right;\n",
       "    }\n",
       "</style>\n",
       "<table border=\"1\" class=\"dataframe\">\n",
       "  <thead>\n",
       "    <tr style=\"text-align: right;\">\n",
       "      <th></th>\n",
       "      <th>model</th>\n",
       "      <th>g_param</th>\n",
       "      <th>test_time</th>\n",
       "      <th>test_score</th>\n",
       "    </tr>\n",
       "  </thead>\n",
       "  <tbody>\n",
       "    <tr>\n",
       "      <td>0</td>\n",
       "      <td>LGBMCls</td>\n",
       "      <td>{'learning_rate': 0.4, 'max_depth': 36, 'n_estimators': 50}</td>\n",
       "      <td>22.63</td>\n",
       "      <td>0.76</td>\n",
       "    </tr>\n",
       "  </tbody>\n",
       "</table>\n",
       "</div>"
      ],
      "text/plain": [
       "     model                                                      g_param  \\\n",
       "0  LGBMCls  {'learning_rate': 0.4, 'max_depth': 36, 'n_estimators': 50}   \n",
       "\n",
       "   test_time  test_score  \n",
       "0      22.63        0.76  "
      ]
     },
     "metadata": {},
     "output_type": "display_data"
    }
   ],
   "source": [
    "models_params_find = True\n",
    "  \n",
    "if models_params_find:\n",
    "    models_param = {\n",
    "            'LogisticReg':{'solver':'liblinear', 'class_weight':'balanced'},\n",
    "            'DecTreeCls':{'max_depth': range(85,89,1)},\n",
    "            'RndForestCls':{'max_depth': range(90,91,1), 'n_estimators': range(1,2,1), 'class_weight':'balanced'},\n",
    "            'LGBMCls':{'max_depth': range(36,40,1),'n_estimators': range(49,51,1), \n",
    "                          'learning_rate': np.arange(0.4,0.5,0.1)}\n",
    "            }            \n",
    "    \n",
    "    bow_model_list = models_serch(models_param, train_features, train_target\n",
    "                                          , test_features,  test_target\n",
    "                                          , test=True, test_num=0)\n",
    "else:    \n",
    "    bow_model_list = pd.DataFrame({'model' : ['LGBMCls','DecTreeCls','LogisticReg','RndForestReg'],\n",
    "                                        'g_param' : [{'learning_rate': 0.4, 'max_depth': 36, 'n_estimators': 49\n",
    "                                                      , 'class_weight':'balanced'},\n",
    "                                                     {'max_depth': 88}, \n",
    "                                                     {'solver':'liblinear', 'class_weight':'balanced'},                                                                                                         \n",
    "                                                     {'max_depth': 50, 'n_estimators': 1},\n",
    "                                                    ],\n",
    "                                           'el_time' : [33.97, 63.84, 8.55, 2.19],   \n",
    "                                             'score' : [ 0.76,  0.72, 0.74, 0.27],\n",
    "                                         'test_time' : [14.19, 48.39, 2.69, 1.51],   \n",
    "                                        'test_score' : [ 0.76,  0.72, 0.76, 0.25]}\n",
    "                                      )"
   ]
  },
  {
   "cell_type": "markdown",
   "metadata": {},
   "source": [
    "### Би-граммы"
   ]
  },
  {
   "cell_type": "code",
   "execution_count": 13,
   "metadata": {},
   "outputs": [],
   "source": [
    "# features = count_tf_idf.fit_transform(corpus)\n",
    "# target = comments['toxic']\n",
    "# tarin_features, test_features, train_target, test_target = train_test_split(\n",
    "#         features, target, test_size=0.3, random_state=R_STATE)"
   ]
  },
  {
   "cell_type": "code",
   "execution_count": 14,
   "metadata": {},
   "outputs": [],
   "source": [
    "count_tf_idf = TfidfVectorizer(stop_words=stopwords, ngram_range=(1, 2))\n",
    "\n",
    "train_corpus = list(train_comments['lem_text'])\n",
    "train_features = count_tf_idf.fit_transform(train_corpus)\n",
    "train_target = train_comments['toxic']\n",
    "\n",
    "test_corpus = list(train_comments['lem_text'])\n",
    "test_features = count_tf_idf.fit_transform(test_corpus)\n",
    "test_target = train_comments['toxic']"
   ]
  },
  {
   "cell_type": "code",
   "execution_count": 15,
   "metadata": {
    "scrolled": false
   },
   "outputs": [],
   "source": [
    "models_params_find = False\n",
    "  \n",
    "if models_params_find:\n",
    "    models_param = {\n",
    "#             'LogisticReg':{'solver':'liblinear', 'class_weight':'balanced'},\n",
    "#             'DecTreeCls':{'max_depth': range(80,101,5)},\n",
    "#             'RndForestCls':{'max_depth': range(10,101,20), 'n_estimators': range(1,2,1)},\n",
    "            'LGBMCls':{'max_depth': range(60,66,1),'n_estimators': range(65,66,1), \n",
    "                          'learning_rate': np.arange(0.4,0.5,0.1)}\n",
    "            }            \n",
    "    \n",
    "    bi_gramm_model_list = models_serch(models_param, tarin_features, train_target\n",
    "                                          , test_features,  test_target\n",
    "                                          , test=True, test_num=0)\n",
    "else:    \n",
    "    bi_gramm_model_list = pd.DataFrame({'model' : ['LGBMCls','DecTreeCls','LogisticReg','RndForestReg'],\n",
    "                                        'g_param' : [{'learning_rate': 0.4, 'max_depth': 60, 'n_estimators': 65},\n",
    "                                                     {'max_depth': 100}, \n",
    "                                                     {'solver':'liblinear', 'class_weight':'balanced'},                                                                                                         \n",
    "                                                     {'max_depth': 100, 'n_estimators': 1},\n",
    "\n",
    "                                                    ],\n",
    "                                           'el_time' : [83.77, 557.93, 17.18, 10.83],   \n",
    "                                             'score' : [ 0.76,   0.72,  0.75 , 0.16],\n",
    "                                         'test_time' : [37.57, 439.41,  7.51,  8.65],   \n",
    "                                        'test_score' : [ 0.76,   0.72,  0.76,  0.18]}\n",
    "                                      )"
   ]
  },
  {
   "cell_type": "code",
   "execution_count": 16,
   "metadata": {
    "scrolled": true
   },
   "outputs": [
    {
     "data": {
      "text/html": [
       "<font size='5'>Мешок слов</font>"
      ],
      "text/plain": [
       "<IPython.core.display.HTML object>"
      ]
     },
     "metadata": {},
     "output_type": "display_data"
    },
    {
     "data": {
      "text/html": [
       "<div>\n",
       "<style scoped>\n",
       "    .dataframe tbody tr th:only-of-type {\n",
       "        vertical-align: middle;\n",
       "    }\n",
       "\n",
       "    .dataframe tbody tr th {\n",
       "        vertical-align: top;\n",
       "    }\n",
       "\n",
       "    .dataframe thead th {\n",
       "        text-align: right;\n",
       "    }\n",
       "</style>\n",
       "<table border=\"1\" class=\"dataframe\">\n",
       "  <thead>\n",
       "    <tr style=\"text-align: right;\">\n",
       "      <th></th>\n",
       "      <th>model</th>\n",
       "      <th>g_param</th>\n",
       "      <th>el_time</th>\n",
       "      <th>score</th>\n",
       "      <th>test_time</th>\n",
       "      <th>test_score</th>\n",
       "    </tr>\n",
       "  </thead>\n",
       "  <tbody>\n",
       "    <tr>\n",
       "      <td>0</td>\n",
       "      <td>LogisticReg</td>\n",
       "      <td>{'class_weight': 'balanced', 'solver': 'liblinear'}</td>\n",
       "      <td>16.34</td>\n",
       "      <td>0.7387</td>\n",
       "      <td>11.8</td>\n",
       "      <td>0.76</td>\n",
       "    </tr>\n",
       "    <tr>\n",
       "      <td>1</td>\n",
       "      <td>LGBMCls</td>\n",
       "      <td>{'learning_rate': 0.4, 'max_depth': 36, 'n_estimators': 50}</td>\n",
       "      <td>42.27</td>\n",
       "      <td>0.7565</td>\n",
       "      <td>22.63</td>\n",
       "      <td>0.76</td>\n",
       "    </tr>\n",
       "    <tr>\n",
       "      <td>2</td>\n",
       "      <td>DecTreeCls</td>\n",
       "      <td>{'max_depth': 88}</td>\n",
       "      <td>57.05</td>\n",
       "      <td>0.7140</td>\n",
       "      <td>46.71</td>\n",
       "      <td>0.72</td>\n",
       "    </tr>\n",
       "    <tr>\n",
       "      <td>3</td>\n",
       "      <td>RndForestCls</td>\n",
       "      <td>{'class_weight': 'balanced', 'max_depth': 90, 'n_estimators': 1}</td>\n",
       "      <td>11.80</td>\n",
       "      <td>0.2949</td>\n",
       "      <td>8.99</td>\n",
       "      <td>0.29</td>\n",
       "    </tr>\n",
       "  </tbody>\n",
       "</table>\n",
       "</div>"
      ],
      "text/plain": [
       "          model  \\\n",
       "0   LogisticReg   \n",
       "1       LGBMCls   \n",
       "2    DecTreeCls   \n",
       "3  RndForestCls   \n",
       "\n",
       "                                                            g_param  el_time  \\\n",
       "0               {'class_weight': 'balanced', 'solver': 'liblinear'}    16.34   \n",
       "1       {'learning_rate': 0.4, 'max_depth': 36, 'n_estimators': 50}    42.27   \n",
       "2                                                 {'max_depth': 88}    57.05   \n",
       "3  {'class_weight': 'balanced', 'max_depth': 90, 'n_estimators': 1}    11.80   \n",
       "\n",
       "    score test_time test_score  \n",
       "0  0.7387      11.8       0.76  \n",
       "1  0.7565     22.63       0.76  \n",
       "2  0.7140     46.71       0.72  \n",
       "3  0.2949      8.99       0.29  "
      ]
     },
     "metadata": {},
     "output_type": "display_data"
    }
   ],
   "source": [
    "disp_font_size('Мешок слов',5)\n",
    "display(bow_model_list.sort_values(by='test_score', ascending=False))"
   ]
  },
  {
   "cell_type": "code",
   "execution_count": 17,
   "metadata": {
    "scrolled": true
   },
   "outputs": [
    {
     "data": {
      "text/html": [
       "<font size='5'>Би-граммы</font>"
      ],
      "text/plain": [
       "<IPython.core.display.HTML object>"
      ]
     },
     "metadata": {},
     "output_type": "display_data"
    },
    {
     "data": {
      "text/html": [
       "<div>\n",
       "<style scoped>\n",
       "    .dataframe tbody tr th:only-of-type {\n",
       "        vertical-align: middle;\n",
       "    }\n",
       "\n",
       "    .dataframe tbody tr th {\n",
       "        vertical-align: top;\n",
       "    }\n",
       "\n",
       "    .dataframe thead th {\n",
       "        text-align: right;\n",
       "    }\n",
       "</style>\n",
       "<table border=\"1\" class=\"dataframe\">\n",
       "  <thead>\n",
       "    <tr style=\"text-align: right;\">\n",
       "      <th></th>\n",
       "      <th>model</th>\n",
       "      <th>g_param</th>\n",
       "      <th>el_time</th>\n",
       "      <th>score</th>\n",
       "      <th>test_time</th>\n",
       "      <th>test_score</th>\n",
       "    </tr>\n",
       "  </thead>\n",
       "  <tbody>\n",
       "    <tr>\n",
       "      <td>0</td>\n",
       "      <td>LGBMCls</td>\n",
       "      <td>{'learning_rate': 0.4, 'max_depth': 60, 'n_estimators': 65}</td>\n",
       "      <td>83.77</td>\n",
       "      <td>0.76</td>\n",
       "      <td>37.57</td>\n",
       "      <td>0.76</td>\n",
       "    </tr>\n",
       "    <tr>\n",
       "      <td>2</td>\n",
       "      <td>LogisticReg</td>\n",
       "      <td>{'solver': 'liblinear', 'class_weight': 'balanced'}</td>\n",
       "      <td>17.18</td>\n",
       "      <td>0.75</td>\n",
       "      <td>7.51</td>\n",
       "      <td>0.76</td>\n",
       "    </tr>\n",
       "    <tr>\n",
       "      <td>1</td>\n",
       "      <td>DecTreeCls</td>\n",
       "      <td>{'max_depth': 100}</td>\n",
       "      <td>557.93</td>\n",
       "      <td>0.72</td>\n",
       "      <td>439.41</td>\n",
       "      <td>0.72</td>\n",
       "    </tr>\n",
       "    <tr>\n",
       "      <td>3</td>\n",
       "      <td>RndForestReg</td>\n",
       "      <td>{'max_depth': 100, 'n_estimators': 1}</td>\n",
       "      <td>10.83</td>\n",
       "      <td>0.16</td>\n",
       "      <td>8.65</td>\n",
       "      <td>0.18</td>\n",
       "    </tr>\n",
       "  </tbody>\n",
       "</table>\n",
       "</div>"
      ],
      "text/plain": [
       "          model                                                      g_param  \\\n",
       "0       LGBMCls  {'learning_rate': 0.4, 'max_depth': 60, 'n_estimators': 65}   \n",
       "2   LogisticReg          {'solver': 'liblinear', 'class_weight': 'balanced'}   \n",
       "1    DecTreeCls                                           {'max_depth': 100}   \n",
       "3  RndForestReg                        {'max_depth': 100, 'n_estimators': 1}   \n",
       "\n",
       "   el_time  score  test_time  test_score  \n",
       "0    83.77   0.76      37.57        0.76  \n",
       "2    17.18   0.75       7.51        0.76  \n",
       "1   557.93   0.72     439.41        0.72  \n",
       "3    10.83   0.16       8.65        0.18  "
      ]
     },
     "metadata": {},
     "output_type": "display_data"
    }
   ],
   "source": [
    "disp_font_size('Би-граммы',5)\n",
    "display(bi_gramm_model_list.sort_values(by='test_score', ascending=False))"
   ]
  },
  {
   "cell_type": "markdown",
   "metadata": {},
   "source": [
    "## Выводы"
   ]
  },
  {
   "cell_type": "markdown",
   "metadata": {},
   "source": [
    "Лучшими моделями оказались Логическая регрессия и LGBM. Логическая регрессия показала большую скорость.\n",
    "Добавление би-шрамм в данной задаче не дало увеличение метрики."
   ]
  },
  {
   "cell_type": "code",
   "execution_count": null,
   "metadata": {},
   "outputs": [],
   "source": []
  }
 ],
 "metadata": {
  "ExecuteTimeLog": [
   {
    "duration": 1543,
    "start_time": "2021-06-28T18:16:31.968Z"
   },
   {
    "duration": 5,
    "start_time": "2021-06-28T18:16:33.513Z"
   },
   {
    "duration": 16,
    "start_time": "2021-06-28T18:16:33.521Z"
   },
   {
    "duration": 778,
    "start_time": "2021-06-28T18:16:33.539Z"
   },
   {
    "duration": 13,
    "start_time": "2021-06-28T18:55:45.907Z"
   },
   {
    "duration": 3275,
    "start_time": "2021-06-28T19:01:50.629Z"
   },
   {
    "duration": 1533,
    "start_time": "2021-06-28T19:04:21.797Z"
   },
   {
    "duration": 7,
    "start_time": "2021-06-28T19:04:23.332Z"
   },
   {
    "duration": 15,
    "start_time": "2021-06-28T19:04:23.342Z"
   },
   {
    "duration": 798,
    "start_time": "2021-06-28T19:04:23.360Z"
   },
   {
    "duration": 3282,
    "start_time": "2021-06-28T19:04:24.160Z"
   },
   {
    "duration": 115,
    "start_time": "2021-06-28T19:49:18.149Z"
   },
   {
    "duration": 1645,
    "start_time": "2021-06-28T19:49:55.086Z"
   },
   {
    "duration": 6,
    "start_time": "2021-06-28T19:49:56.733Z"
   },
   {
    "duration": 15,
    "start_time": "2021-06-28T19:49:56.742Z"
   },
   {
    "duration": 897,
    "start_time": "2021-06-28T19:49:56.759Z"
   },
   {
    "duration": 4308,
    "start_time": "2021-06-28T19:49:57.658Z"
   },
   {
    "duration": 4580,
    "start_time": "2021-06-28T19:50:18.244Z"
   },
   {
    "duration": 4114,
    "start_time": "2021-06-28T19:50:37.121Z"
   },
   {
    "duration": 4685,
    "start_time": "2021-06-28T19:53:05.263Z"
   },
   {
    "duration": 4516,
    "start_time": "2021-06-28T19:55:19.192Z"
   },
   {
    "duration": 4656,
    "start_time": "2021-06-28T19:55:44.352Z"
   },
   {
    "duration": 1650,
    "start_time": "2021-06-28T20:03:37.349Z"
   },
   {
    "duration": 5,
    "start_time": "2021-06-28T20:03:39.002Z"
   },
   {
    "duration": 17,
    "start_time": "2021-06-28T20:03:39.014Z"
   },
   {
    "duration": 826,
    "start_time": "2021-06-28T20:03:39.033Z"
   },
   {
    "duration": 102,
    "start_time": "2021-06-28T20:03:39.861Z"
   },
   {
    "duration": 176128,
    "start_time": "2021-06-28T20:06:04.678Z"
   },
   {
    "duration": 978,
    "start_time": "2021-06-28T20:09:58.099Z"
   },
   {
    "duration": 964,
    "start_time": "2021-06-28T20:10:25.183Z"
   },
   {
    "duration": 251,
    "start_time": "2021-06-28T20:21:18.962Z"
   },
   {
    "duration": 6,
    "start_time": "2021-06-28T20:21:20.116Z"
   },
   {
    "duration": 16,
    "start_time": "2021-06-28T20:21:22.217Z"
   },
   {
    "duration": 853,
    "start_time": "2021-06-28T20:21:25.548Z"
   },
   {
    "duration": 2234,
    "start_time": "2021-06-28T20:21:26.407Z"
   },
   {
    "duration": 35,
    "start_time": "2021-06-28T20:22:09.993Z"
   },
   {
    "duration": 1811,
    "start_time": "2021-06-28T20:23:04.985Z"
   },
   {
    "duration": 5,
    "start_time": "2021-06-28T20:23:06.799Z"
   },
   {
    "duration": 21,
    "start_time": "2021-06-28T20:23:06.807Z"
   },
   {
    "duration": 806,
    "start_time": "2021-06-28T20:23:06.830Z"
   },
   {
    "duration": 2171,
    "start_time": "2021-06-28T20:23:07.639Z"
   },
   {
    "duration": 42,
    "start_time": "2021-06-28T20:29:17.265Z"
   },
   {
    "duration": 15,
    "start_time": "2021-06-28T21:45:07.959Z"
   },
   {
    "duration": 15,
    "start_time": "2021-06-28T21:45:13.370Z"
   },
   {
    "duration": 1829,
    "start_time": "2021-06-28T21:45:25.674Z"
   },
   {
    "duration": 6,
    "start_time": "2021-06-28T21:45:27.505Z"
   },
   {
    "duration": 16,
    "start_time": "2021-06-28T21:45:27.514Z"
   },
   {
    "duration": 794,
    "start_time": "2021-06-28T21:45:27.532Z"
   },
   {
    "duration": 2043,
    "start_time": "2021-06-28T21:45:28.329Z"
   },
   {
    "duration": 13,
    "start_time": "2021-06-28T21:51:36.683Z"
   },
   {
    "duration": 951,
    "start_time": "2021-06-28T21:52:03.396Z"
   },
   {
    "duration": 42,
    "start_time": "2021-06-28T21:52:28.119Z"
   },
   {
    "duration": 901,
    "start_time": "2021-06-28T21:52:34.664Z"
   },
   {
    "duration": 41,
    "start_time": "2021-06-28T21:53:55.168Z"
   },
   {
    "duration": 951,
    "start_time": "2021-06-28T21:54:11.343Z"
   },
   {
    "duration": 988,
    "start_time": "2021-06-28T21:55:40.229Z"
   },
   {
    "duration": 1814,
    "start_time": "2021-06-29T20:03:12.960Z"
   },
   {
    "duration": 7,
    "start_time": "2021-06-29T20:03:14.777Z"
   },
   {
    "duration": 16,
    "start_time": "2021-06-29T20:03:14.790Z"
   },
   {
    "duration": 3839,
    "start_time": "2021-06-29T20:03:14.809Z"
   },
   {
    "duration": 954,
    "start_time": "2021-06-29T20:03:18.651Z"
   },
   {
    "duration": 1016,
    "start_time": "2021-06-29T20:05:28.192Z"
   },
   {
    "duration": 1337,
    "start_time": "2021-06-29T20:06:21.951Z"
   },
   {
    "duration": 954,
    "start_time": "2021-06-29T20:07:13.692Z"
   },
   {
    "duration": 959,
    "start_time": "2021-06-29T20:08:29.572Z"
   },
   {
    "duration": 984,
    "start_time": "2021-06-29T20:08:50.974Z"
   },
   {
    "duration": 2038,
    "start_time": "2021-06-29T20:19:51.847Z"
   },
   {
    "duration": 5,
    "start_time": "2021-06-29T20:23:14.766Z"
   },
   {
    "duration": 4,
    "start_time": "2021-06-29T20:23:47.167Z"
   },
   {
    "duration": 5,
    "start_time": "2021-06-29T20:24:04.954Z"
   },
   {
    "duration": 5,
    "start_time": "2021-06-29T20:24:12.503Z"
   },
   {
    "duration": 4,
    "start_time": "2021-06-29T20:24:18.604Z"
   },
   {
    "duration": 16,
    "start_time": "2021-06-29T20:25:10.543Z"
   },
   {
    "duration": 877,
    "start_time": "2021-06-29T20:25:14.764Z"
   },
   {
    "duration": 6,
    "start_time": "2021-06-29T20:25:32.205Z"
   },
   {
    "duration": 1376,
    "start_time": "2021-06-29T20:34:50.857Z"
   },
   {
    "duration": 284,
    "start_time": "2021-06-29T20:35:20.212Z"
   },
   {
    "duration": 1656,
    "start_time": "2021-06-29T20:40:26.776Z"
   },
   {
    "duration": 4,
    "start_time": "2021-06-29T20:40:55.207Z"
   },
   {
    "duration": 1773,
    "start_time": "2021-06-29T20:41:19.530Z"
   },
   {
    "duration": 1186,
    "start_time": "2021-06-29T20:41:34.954Z"
   },
   {
    "duration": 20,
    "start_time": "2021-06-29T20:43:45.512Z"
   },
   {
    "duration": 250,
    "start_time": "2021-06-29T20:49:14.085Z"
   },
   {
    "duration": 5,
    "start_time": "2021-06-29T20:49:21.989Z"
   },
   {
    "duration": 5,
    "start_time": "2021-06-29T20:50:02.531Z"
   },
   {
    "duration": 5,
    "start_time": "2021-06-29T20:51:59.458Z"
   },
   {
    "duration": 83,
    "start_time": "2021-06-29T20:52:20.784Z"
   },
   {
    "duration": 6,
    "start_time": "2021-06-29T20:52:42.855Z"
   },
   {
    "duration": 20,
    "start_time": "2021-06-29T20:54:40.017Z"
   },
   {
    "duration": 22,
    "start_time": "2021-06-29T20:55:18.961Z"
   },
   {
    "duration": 55,
    "start_time": "2021-06-29T21:16:13.226Z"
   },
   {
    "duration": 73,
    "start_time": "2021-06-29T21:17:14.914Z"
   },
   {
    "duration": 70,
    "start_time": "2021-06-29T21:17:58.179Z"
   },
   {
    "duration": 88,
    "start_time": "2021-06-29T21:18:19.648Z"
   },
   {
    "duration": 2138,
    "start_time": "2021-06-29T21:18:42.404Z"
   },
   {
    "duration": 5,
    "start_time": "2021-06-29T21:18:44.545Z"
   },
   {
    "duration": 16,
    "start_time": "2021-06-29T21:18:44.553Z"
   },
   {
    "duration": 932,
    "start_time": "2021-06-29T21:18:44.586Z"
   },
   {
    "duration": 94685,
    "start_time": "2021-06-29T21:18:45.521Z"
   },
   {
    "duration": 7,
    "start_time": "2021-06-29T22:03:21.467Z"
   },
   {
    "duration": 7,
    "start_time": "2021-06-29T22:08:15.085Z"
   },
   {
    "duration": 10191,
    "start_time": "2021-06-29T22:09:20.317Z"
   },
   {
    "duration": 9527,
    "start_time": "2021-06-29T22:10:01.955Z"
   },
   {
    "duration": 9563,
    "start_time": "2021-06-29T22:11:09.970Z"
   },
   {
    "duration": 6,
    "start_time": "2021-06-29T22:17:45.705Z"
   },
   {
    "duration": 436,
    "start_time": "2021-06-29T22:18:11.701Z"
   },
   {
    "duration": 9944,
    "start_time": "2021-06-29T22:18:18.771Z"
   },
   {
    "duration": 7,
    "start_time": "2021-06-29T22:19:06.631Z"
   },
   {
    "duration": 19545,
    "start_time": "2021-06-29T22:19:12.876Z"
   },
   {
    "duration": 7,
    "start_time": "2021-06-29T22:19:56.301Z"
   },
   {
    "duration": 1794,
    "start_time": "2021-06-29T22:22:49.270Z"
   },
   {
    "duration": 6,
    "start_time": "2021-06-29T22:22:51.066Z"
   },
   {
    "duration": 15,
    "start_time": "2021-06-29T22:22:51.083Z"
   },
   {
    "duration": 798,
    "start_time": "2021-06-29T22:22:51.101Z"
   },
   {
    "duration": 69602,
    "start_time": "2021-06-29T22:22:51.901Z"
   },
   {
    "duration": 287,
    "start_time": "2021-06-29T22:24:01.505Z"
   },
   {
    "duration": 19912,
    "start_time": "2021-06-29T22:24:01.794Z"
   },
   {
    "duration": 5,
    "start_time": "2021-06-29T22:24:21.709Z"
   },
   {
    "duration": 6,
    "start_time": "2021-06-29T22:24:46.558Z"
   },
   {
    "duration": 6,
    "start_time": "2021-06-29T22:31:56.419Z"
   },
   {
    "duration": 461,
    "start_time": "2021-06-29T22:33:05.048Z"
   },
   {
    "duration": 307,
    "start_time": "2021-06-29T22:34:43.099Z"
   },
   {
    "duration": 1256,
    "start_time": "2021-06-29T22:35:45.268Z"
   },
   {
    "duration": 975,
    "start_time": "2021-06-29T22:36:04.968Z"
   },
   {
    "duration": 44,
    "start_time": "2021-06-29T22:36:35.583Z"
   },
   {
    "duration": 43,
    "start_time": "2021-06-29T22:36:45.520Z"
   },
   {
    "duration": 302,
    "start_time": "2021-06-29T22:37:13.812Z"
   },
   {
    "duration": 286,
    "start_time": "2021-06-29T22:37:56.826Z"
   },
   {
    "duration": 1787,
    "start_time": "2021-06-29T22:38:05.251Z"
   },
   {
    "duration": 5,
    "start_time": "2021-06-29T22:38:07.041Z"
   },
   {
    "duration": 15,
    "start_time": "2021-06-29T22:38:07.049Z"
   },
   {
    "duration": 765,
    "start_time": "2021-06-29T22:38:07.067Z"
   },
   {
    "duration": 67997,
    "start_time": "2021-06-29T22:38:07.835Z"
   },
   {
    "duration": 293,
    "start_time": "2021-06-29T22:39:15.834Z"
   },
   {
    "duration": 9849,
    "start_time": "2021-06-29T22:39:16.130Z"
   },
   {
    "duration": 6,
    "start_time": "2021-06-29T22:39:25.984Z"
   },
   {
    "duration": 4,
    "start_time": "2021-06-29T22:45:00.768Z"
   },
   {
    "duration": 3,
    "start_time": "2021-06-29T22:51:22.787Z"
   },
   {
    "duration": 9919,
    "start_time": "2021-06-29T22:53:26.657Z"
   },
   {
    "duration": 7,
    "start_time": "2021-06-29T22:53:36.578Z"
   },
   {
    "duration": 8,
    "start_time": "2021-06-29T22:53:36.589Z"
   },
   {
    "duration": 70,
    "start_time": "2021-06-29T22:53:39.408Z"
   },
   {
    "duration": 430,
    "start_time": "2021-06-29T22:57:15.817Z"
   },
   {
    "duration": 274,
    "start_time": "2021-06-29T23:00:49.469Z"
   },
   {
    "duration": 7,
    "start_time": "2021-06-29T23:00:55.557Z"
   },
   {
    "duration": 29,
    "start_time": "2021-06-29T23:01:00.868Z"
   },
   {
    "duration": 273,
    "start_time": "2021-06-29T23:01:44.553Z"
   },
   {
    "duration": 69,
    "start_time": "2021-06-29T23:02:30.742Z"
   },
   {
    "duration": 788,
    "start_time": "2021-06-29T23:02:35.537Z"
   },
   {
    "duration": 13,
    "start_time": "2021-06-29T23:03:28.942Z"
   },
   {
    "duration": 289448,
    "start_time": "2021-06-29T23:03:34.437Z"
   },
   {
    "duration": 1622,
    "start_time": "2021-06-29T23:08:38.620Z"
   },
   {
    "duration": 6,
    "start_time": "2021-06-29T23:08:40.245Z"
   },
   {
    "duration": 29,
    "start_time": "2021-06-29T23:08:40.254Z"
   },
   {
    "duration": 23,
    "start_time": "2021-06-29T23:08:40.287Z"
   },
   {
    "duration": 31,
    "start_time": "2021-06-29T23:08:40.313Z"
   },
   {
    "duration": 766,
    "start_time": "2021-06-29T23:08:40.347Z"
   },
   {
    "duration": 2322,
    "start_time": "2021-06-29T23:08:41.116Z"
   },
   {
    "duration": 271,
    "start_time": "2021-06-29T23:08:43.441Z"
   },
   {
    "duration": 17,
    "start_time": "2021-06-29T23:08:43.715Z"
   },
   {
    "duration": 14,
    "start_time": "2021-06-29T23:08:43.734Z"
   },
   {
    "duration": 14,
    "start_time": "2021-06-29T23:08:43.750Z"
   },
   {
    "duration": 14,
    "start_time": "2021-06-29T23:08:43.766Z"
   },
   {
    "duration": 979,
    "start_time": "2021-06-29T23:08:43.782Z"
   },
   {
    "duration": 1791,
    "start_time": "2021-06-29T23:08:56.759Z"
   },
   {
    "duration": 5,
    "start_time": "2021-06-29T23:08:58.553Z"
   },
   {
    "duration": 15,
    "start_time": "2021-06-29T23:08:58.582Z"
   },
   {
    "duration": 14,
    "start_time": "2021-06-29T23:08:58.600Z"
   },
   {
    "duration": 29,
    "start_time": "2021-06-29T23:08:58.617Z"
   },
   {
    "duration": 788,
    "start_time": "2021-06-29T23:08:58.648Z"
   },
   {
    "duration": 2121,
    "start_time": "2021-06-29T23:08:59.439Z"
   },
   {
    "duration": 289,
    "start_time": "2021-06-29T23:09:01.563Z"
   },
   {
    "duration": 18,
    "start_time": "2021-06-29T23:09:01.854Z"
   },
   {
    "duration": 11,
    "start_time": "2021-06-29T23:09:01.874Z"
   },
   {
    "duration": 12,
    "start_time": "2021-06-29T23:09:01.887Z"
   },
   {
    "duration": 26,
    "start_time": "2021-06-29T23:09:01.901Z"
   },
   {
    "duration": 1039,
    "start_time": "2021-06-29T23:09:01.929Z"
   },
   {
    "duration": 825,
    "start_time": "2021-06-29T23:09:37.824Z"
   },
   {
    "duration": 1055,
    "start_time": "2021-06-29T23:12:29.410Z"
   },
   {
    "duration": 146,
    "start_time": "2021-06-29T23:13:38.343Z"
   },
   {
    "duration": 5,
    "start_time": "2021-06-29T23:13:54.989Z"
   },
   {
    "duration": 1793,
    "start_time": "2021-06-29T23:13:59.390Z"
   },
   {
    "duration": 5,
    "start_time": "2021-06-29T23:14:01.186Z"
   },
   {
    "duration": 17,
    "start_time": "2021-06-29T23:14:01.195Z"
   },
   {
    "duration": 19,
    "start_time": "2021-06-29T23:14:01.215Z"
   },
   {
    "duration": 16,
    "start_time": "2021-06-29T23:14:01.236Z"
   },
   {
    "duration": 42,
    "start_time": "2021-06-29T23:14:01.254Z"
   },
   {
    "duration": 796,
    "start_time": "2021-06-29T23:14:01.299Z"
   },
   {
    "duration": 2164,
    "start_time": "2021-06-29T23:14:02.097Z"
   },
   {
    "duration": 249,
    "start_time": "2021-06-29T23:14:04.265Z"
   },
   {
    "duration": 16,
    "start_time": "2021-06-29T23:14:04.517Z"
   },
   {
    "duration": 7,
    "start_time": "2021-06-29T23:14:04.536Z"
   },
   {
    "duration": 7,
    "start_time": "2021-06-29T23:14:04.545Z"
   },
   {
    "duration": 9,
    "start_time": "2021-06-29T23:14:04.554Z"
   },
   {
    "duration": 2483,
    "start_time": "2021-06-29T23:14:04.565Z"
   },
   {
    "duration": 32,
    "start_time": "2021-06-29T23:15:13.581Z"
   },
   {
    "duration": 784,
    "start_time": "2021-06-29T23:15:16.156Z"
   },
   {
    "duration": 96,
    "start_time": "2021-06-29T23:15:18.047Z"
   },
   {
    "duration": 266,
    "start_time": "2021-06-29T23:15:21.117Z"
   },
   {
    "duration": 1741,
    "start_time": "2021-06-29T23:15:32.012Z"
   },
   {
    "duration": 6,
    "start_time": "2021-06-29T23:15:33.757Z"
   },
   {
    "duration": 28,
    "start_time": "2021-06-29T23:15:33.766Z"
   },
   {
    "duration": 18,
    "start_time": "2021-06-29T23:15:33.796Z"
   },
   {
    "duration": 14,
    "start_time": "2021-06-29T23:15:33.817Z"
   },
   {
    "duration": 30,
    "start_time": "2021-06-29T23:15:33.834Z"
   },
   {
    "duration": 774,
    "start_time": "2021-06-29T23:15:33.884Z"
   },
   {
    "duration": 2122,
    "start_time": "2021-06-29T23:15:34.661Z"
   },
   {
    "duration": 246,
    "start_time": "2021-06-29T23:15:36.786Z"
   },
   {
    "duration": 17,
    "start_time": "2021-06-29T23:15:37.035Z"
   },
   {
    "duration": 5,
    "start_time": "2021-06-29T23:15:37.054Z"
   },
   {
    "duration": 6,
    "start_time": "2021-06-29T23:15:37.061Z"
   },
   {
    "duration": 9,
    "start_time": "2021-06-29T23:15:37.069Z"
   },
   {
    "duration": 2815,
    "start_time": "2021-06-29T23:15:37.080Z"
   },
   {
    "duration": 1050,
    "start_time": "2021-06-29T23:21:35.512Z"
   },
   {
    "duration": 1139,
    "start_time": "2021-06-29T23:21:48.049Z"
   },
   {
    "duration": 260,
    "start_time": "2021-06-29T23:22:43.846Z"
   },
   {
    "duration": 8,
    "start_time": "2021-06-29T23:22:51.715Z"
   },
   {
    "duration": 4731,
    "start_time": "2021-06-29T23:22:57.606Z"
   },
   {
    "duration": 4,
    "start_time": "2021-06-29T23:23:55.466Z"
   },
   {
    "duration": 5,
    "start_time": "2021-06-29T23:24:14.175Z"
   },
   {
    "duration": 841,
    "start_time": "2021-06-29T23:24:29.090Z"
   },
   {
    "duration": 28,
    "start_time": "2021-06-29T23:27:16.650Z"
   },
   {
    "duration": 934,
    "start_time": "2021-06-29T23:27:29.104Z"
   },
   {
    "duration": 1784,
    "start_time": "2021-06-29T23:32:07.871Z"
   },
   {
    "duration": 5,
    "start_time": "2021-06-29T23:32:09.658Z"
   },
   {
    "duration": 25,
    "start_time": "2021-06-29T23:32:09.666Z"
   },
   {
    "duration": 24,
    "start_time": "2021-06-29T23:32:09.694Z"
   },
   {
    "duration": 21,
    "start_time": "2021-06-29T23:32:09.721Z"
   },
   {
    "duration": 30,
    "start_time": "2021-06-29T23:32:09.745Z"
   },
   {
    "duration": 755,
    "start_time": "2021-06-29T23:32:09.777Z"
   },
   {
    "duration": 2082,
    "start_time": "2021-06-29T23:32:10.535Z"
   },
   {
    "duration": 270,
    "start_time": "2021-06-29T23:32:12.621Z"
   },
   {
    "duration": 19,
    "start_time": "2021-06-29T23:32:12.894Z"
   },
   {
    "duration": 6,
    "start_time": "2021-06-29T23:32:12.916Z"
   },
   {
    "duration": 7,
    "start_time": "2021-06-29T23:32:12.925Z"
   },
   {
    "duration": 9,
    "start_time": "2021-06-29T23:32:12.935Z"
   },
   {
    "duration": 1089,
    "start_time": "2021-06-29T23:32:12.947Z"
   },
   {
    "duration": 13,
    "start_time": "2021-06-29T23:39:25.262Z"
   },
   {
    "duration": 13,
    "start_time": "2021-06-29T23:40:09.806Z"
   },
   {
    "duration": 1754,
    "start_time": "2021-06-29T23:40:14.352Z"
   },
   {
    "duration": 5,
    "start_time": "2021-06-29T23:40:16.109Z"
   },
   {
    "duration": 15,
    "start_time": "2021-06-29T23:40:16.117Z"
   },
   {
    "duration": 15,
    "start_time": "2021-06-29T23:40:16.134Z"
   },
   {
    "duration": 14,
    "start_time": "2021-06-29T23:40:16.151Z"
   },
   {
    "duration": 29,
    "start_time": "2021-06-29T23:40:16.183Z"
   },
   {
    "duration": 754,
    "start_time": "2021-06-29T23:40:16.214Z"
   },
   {
    "duration": 2052,
    "start_time": "2021-06-29T23:40:16.971Z"
   },
   {
    "duration": 269,
    "start_time": "2021-06-29T23:40:19.026Z"
   },
   {
    "duration": 17,
    "start_time": "2021-06-29T23:40:19.298Z"
   },
   {
    "duration": 5,
    "start_time": "2021-06-29T23:40:19.317Z"
   },
   {
    "duration": 5,
    "start_time": "2021-06-29T23:40:19.325Z"
   },
   {
    "duration": 12,
    "start_time": "2021-06-29T23:40:19.332Z"
   },
   {
    "duration": 1248,
    "start_time": "2021-06-29T23:40:19.347Z"
   },
   {
    "duration": 13,
    "start_time": "2021-06-29T23:44:29.088Z"
   },
   {
    "duration": 1732,
    "start_time": "2021-06-29T23:44:42.212Z"
   },
   {
    "duration": 6,
    "start_time": "2021-06-29T23:44:43.949Z"
   },
   {
    "duration": 28,
    "start_time": "2021-06-29T23:44:43.958Z"
   },
   {
    "duration": 10,
    "start_time": "2021-06-29T23:44:43.989Z"
   },
   {
    "duration": 15,
    "start_time": "2021-06-29T23:44:44.002Z"
   },
   {
    "duration": 31,
    "start_time": "2021-06-29T23:44:44.019Z"
   },
   {
    "duration": 750,
    "start_time": "2021-06-29T23:44:44.083Z"
   },
   {
    "duration": 2059,
    "start_time": "2021-06-29T23:44:44.836Z"
   },
   {
    "duration": 231,
    "start_time": "2021-06-29T23:44:46.899Z"
   },
   {
    "duration": 17,
    "start_time": "2021-06-29T23:44:47.132Z"
   },
   {
    "duration": 7,
    "start_time": "2021-06-29T23:44:47.151Z"
   },
   {
    "duration": 5,
    "start_time": "2021-06-29T23:44:47.160Z"
   },
   {
    "duration": 8,
    "start_time": "2021-06-29T23:44:47.168Z"
   },
   {
    "duration": 1009,
    "start_time": "2021-06-29T23:44:47.178Z"
   },
   {
    "duration": 14,
    "start_time": "2021-06-29T23:46:53.950Z"
   },
   {
    "duration": 30,
    "start_time": "2021-06-29T23:46:54.727Z"
   },
   {
    "duration": 765,
    "start_time": "2021-06-29T23:46:55.266Z"
   },
   {
    "duration": 113,
    "start_time": "2021-06-29T23:46:56.033Z"
   },
   {
    "duration": 254,
    "start_time": "2021-06-29T23:46:57.999Z"
   },
   {
    "duration": 1709,
    "start_time": "2021-06-29T23:47:05.886Z"
   },
   {
    "duration": 6,
    "start_time": "2021-06-29T23:47:07.597Z"
   },
   {
    "duration": 17,
    "start_time": "2021-06-29T23:47:07.607Z"
   },
   {
    "duration": 7,
    "start_time": "2021-06-29T23:47:07.628Z"
   },
   {
    "duration": 46,
    "start_time": "2021-06-29T23:47:07.637Z"
   },
   {
    "duration": 29,
    "start_time": "2021-06-29T23:47:07.686Z"
   },
   {
    "duration": 792,
    "start_time": "2021-06-29T23:47:07.717Z"
   },
   {
    "duration": 2072,
    "start_time": "2021-06-29T23:47:08.511Z"
   },
   {
    "duration": 227,
    "start_time": "2021-06-29T23:47:10.587Z"
   },
   {
    "duration": 18,
    "start_time": "2021-06-29T23:47:10.817Z"
   },
   {
    "duration": 9,
    "start_time": "2021-06-29T23:47:10.838Z"
   },
   {
    "duration": 7,
    "start_time": "2021-06-29T23:47:10.849Z"
   },
   {
    "duration": 16,
    "start_time": "2021-06-29T23:47:10.858Z"
   },
   {
    "duration": 1013,
    "start_time": "2021-06-29T23:47:10.876Z"
   },
   {
    "duration": 5763,
    "start_time": "2021-06-29T23:49:25.291Z"
   },
   {
    "duration": 1782,
    "start_time": "2021-06-30T00:05:17.853Z"
   },
   {
    "duration": 5,
    "start_time": "2021-06-30T00:05:19.637Z"
   },
   {
    "duration": 34,
    "start_time": "2021-06-30T00:05:19.649Z"
   },
   {
    "duration": 7,
    "start_time": "2021-06-30T00:05:19.685Z"
   },
   {
    "duration": 14,
    "start_time": "2021-06-30T00:05:19.695Z"
   },
   {
    "duration": 30,
    "start_time": "2021-06-30T00:05:19.711Z"
   },
   {
    "duration": 771,
    "start_time": "2021-06-30T00:05:19.744Z"
   },
   {
    "duration": 68934,
    "start_time": "2021-06-30T00:05:20.518Z"
   },
   {
    "duration": 329,
    "start_time": "2021-06-30T00:06:29.455Z"
   },
   {
    "duration": 9700,
    "start_time": "2021-06-30T00:06:29.786Z"
   },
   {
    "duration": 6,
    "start_time": "2021-06-30T00:06:39.488Z"
   },
   {
    "duration": 5,
    "start_time": "2021-06-30T00:06:39.496Z"
   },
   {
    "duration": 95,
    "start_time": "2021-06-30T00:06:39.503Z"
   },
   {
    "duration": 1659,
    "start_time": "2021-06-30T00:07:09.403Z"
   },
   {
    "duration": 5,
    "start_time": "2021-06-30T00:07:11.065Z"
   },
   {
    "duration": 15,
    "start_time": "2021-06-30T00:07:11.084Z"
   },
   {
    "duration": 17,
    "start_time": "2021-06-30T00:07:11.102Z"
   },
   {
    "duration": 17,
    "start_time": "2021-06-30T00:07:11.122Z"
   },
   {
    "duration": 54,
    "start_time": "2021-06-30T00:07:11.141Z"
   },
   {
    "duration": 789,
    "start_time": "2021-06-30T00:07:11.198Z"
   },
   {
    "duration": 394,
    "start_time": "2021-07-02T08:28:20.756Z"
   },
   {
    "duration": 2525,
    "start_time": "2021-07-02T08:28:30.096Z"
   },
   {
    "duration": 5,
    "start_time": "2021-07-02T08:28:32.624Z"
   },
   {
    "duration": 30,
    "start_time": "2021-07-02T08:28:32.632Z"
   },
   {
    "duration": 17,
    "start_time": "2021-07-02T08:28:32.664Z"
   },
   {
    "duration": 22,
    "start_time": "2021-07-02T08:28:32.683Z"
   },
   {
    "duration": 31,
    "start_time": "2021-07-02T08:28:32.707Z"
   },
   {
    "duration": 1379,
    "start_time": "2021-07-02T08:28:32.741Z"
   },
   {
    "duration": 533,
    "start_time": "2021-07-02T08:28:34.124Z"
   },
   {
    "duration": 28,
    "start_time": "2021-07-02T08:28:34.633Z"
   },
   {
    "duration": 28,
    "start_time": "2021-07-02T08:28:34.635Z"
   },
   {
    "duration": 28,
    "start_time": "2021-07-02T08:28:34.637Z"
   },
   {
    "duration": 22,
    "start_time": "2021-07-02T08:28:34.645Z"
   },
   {
    "duration": 22,
    "start_time": "2021-07-02T08:28:34.647Z"
   },
   {
    "duration": 22,
    "start_time": "2021-07-02T08:28:34.649Z"
   },
   {
    "duration": 22,
    "start_time": "2021-07-02T08:28:34.651Z"
   },
   {
    "duration": 23,
    "start_time": "2021-07-02T08:28:34.652Z"
   },
   {
    "duration": 23,
    "start_time": "2021-07-02T08:28:34.654Z"
   },
   {
    "duration": 316,
    "start_time": "2021-07-02T08:30:03.055Z"
   },
   {
    "duration": 12,
    "start_time": "2021-07-02T08:30:29.863Z"
   },
   {
    "duration": 129,
    "start_time": "2021-07-02T08:32:44.232Z"
   },
   {
    "duration": 107,
    "start_time": "2021-07-02T08:32:58.783Z"
   },
   {
    "duration": 135,
    "start_time": "2021-07-02T08:33:27.573Z"
   },
   {
    "duration": 539,
    "start_time": "2021-07-02T08:33:33.950Z"
   },
   {
    "duration": 219,
    "start_time": "2021-07-02T08:34:00.222Z"
   },
   {
    "duration": 244,
    "start_time": "2021-07-02T08:34:10.901Z"
   },
   {
    "duration": 95745,
    "start_time": "2021-07-02T08:37:16.549Z"
   },
   {
    "duration": 303,
    "start_time": "2021-07-02T08:44:29.135Z"
   },
   {
    "duration": 66,
    "start_time": "2021-07-02T08:45:41.864Z"
   },
   {
    "duration": 16220,
    "start_time": "2021-07-02T08:45:44.331Z"
   },
   {
    "duration": 326,
    "start_time": "2021-07-02T08:46:00.553Z"
   },
   {
    "duration": 343,
    "start_time": "2021-07-02T18:34:51.774Z"
   },
   {
    "duration": 1869,
    "start_time": "2021-07-02T18:47:04.676Z"
   },
   {
    "duration": 5,
    "start_time": "2021-07-02T18:47:06.548Z"
   },
   {
    "duration": 16,
    "start_time": "2021-07-02T18:47:06.559Z"
   },
   {
    "duration": 7,
    "start_time": "2021-07-02T18:47:06.602Z"
   },
   {
    "duration": 108,
    "start_time": "2021-07-02T18:47:06.614Z"
   },
   {
    "duration": 85,
    "start_time": "2021-07-02T18:47:06.641Z"
   },
   {
    "duration": 84,
    "start_time": "2021-07-02T18:47:06.643Z"
   },
   {
    "duration": 82,
    "start_time": "2021-07-02T18:47:06.647Z"
   },
   {
    "duration": 70,
    "start_time": "2021-07-02T18:47:06.660Z"
   },
   {
    "duration": 67,
    "start_time": "2021-07-02T18:47:06.665Z"
   },
   {
    "duration": 60,
    "start_time": "2021-07-02T18:47:06.673Z"
   },
   {
    "duration": 59,
    "start_time": "2021-07-02T18:47:06.676Z"
   },
   {
    "duration": 59,
    "start_time": "2021-07-02T18:47:06.678Z"
   },
   {
    "duration": 56,
    "start_time": "2021-07-02T18:47:06.682Z"
   },
   {
    "duration": 50,
    "start_time": "2021-07-02T18:47:06.690Z"
   },
   {
    "duration": 48,
    "start_time": "2021-07-02T18:47:06.693Z"
   },
   {
    "duration": 47,
    "start_time": "2021-07-02T18:47:06.695Z"
   },
   {
    "duration": 45,
    "start_time": "2021-07-02T18:47:06.699Z"
   },
   {
    "duration": 19,
    "start_time": "2021-07-02T18:48:26.194Z"
   },
   {
    "duration": 34,
    "start_time": "2021-07-02T18:48:28.345Z"
   },
   {
    "duration": 1842,
    "start_time": "2021-07-02T18:48:32.568Z"
   },
   {
    "duration": 6,
    "start_time": "2021-07-02T18:48:34.414Z"
   },
   {
    "duration": 17,
    "start_time": "2021-07-02T18:48:34.423Z"
   },
   {
    "duration": 13,
    "start_time": "2021-07-02T18:48:34.442Z"
   },
   {
    "duration": 17,
    "start_time": "2021-07-02T18:48:34.457Z"
   },
   {
    "duration": 36,
    "start_time": "2021-07-02T18:48:34.500Z"
   },
   {
    "duration": 803,
    "start_time": "2021-07-02T18:48:34.539Z"
   },
   {
    "duration": 194,
    "start_time": "2021-07-02T18:48:35.346Z"
   },
   {
    "duration": 95975,
    "start_time": "2021-07-02T18:48:35.543Z"
   },
   {
    "duration": 107,
    "start_time": "2021-07-02T18:50:11.521Z"
   },
   {
    "duration": 50,
    "start_time": "2021-07-02T18:50:11.630Z"
   },
   {
    "duration": 13074300,
    "start_time": "2021-07-02T18:50:11.682Z"
   },
   {
    "duration": 538,
    "start_time": "2021-07-02T22:28:05.985Z"
   },
   {
    "duration": 93,
    "start_time": "2021-07-02T22:28:06.433Z"
   },
   {
    "duration": 92,
    "start_time": "2021-07-02T22:28:06.436Z"
   },
   {
    "duration": 90,
    "start_time": "2021-07-02T22:28:06.439Z"
   },
   {
    "duration": 89,
    "start_time": "2021-07-02T22:28:06.441Z"
   },
   {
    "duration": 87,
    "start_time": "2021-07-02T22:28:06.445Z"
   }
  ],
  "kernelspec": {
   "display_name": "Python 3",
   "language": "python",
   "name": "python3"
  },
  "language_info": {
   "codemirror_mode": {
    "name": "ipython",
    "version": 3
   },
   "file_extension": ".py",
   "mimetype": "text/x-python",
   "name": "python",
   "nbconvert_exporter": "python",
   "pygments_lexer": "ipython3",
   "version": "3.7.10"
  },
  "toc": {
   "base_numbering": 1,
   "nav_menu": {},
   "number_sections": true,
   "sideBar": true,
   "skip_h1_title": true,
   "title_cell": "Содержание",
   "title_sidebar": "Contents",
   "toc_cell": true,
   "toc_position": {
    "height": "calc(100% - 180px)",
    "left": "10px",
    "top": "150px",
    "width": "302.391px"
   },
   "toc_section_display": true,
   "toc_window_display": true
  }
 },
 "nbformat": 4,
 "nbformat_minor": 2
}
