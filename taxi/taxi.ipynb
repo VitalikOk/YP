{
 "cells": [
  {
   "cell_type": "markdown",
   "metadata": {
    "toc": true
   },
   "source": [
    "<h1>Содержание<span class=\"tocSkip\"></span></h1>\n",
    "<div class=\"toc\"><ul class=\"toc-item\"><li><span><a href=\"#Подготовка\" data-toc-modified-id=\"Подготовка-1\"><span class=\"toc-item-num\">1&nbsp;&nbsp;</span>Подготовка</a></span></li><li><span><a href=\"#Анализ\" data-toc-modified-id=\"Анализ-2\"><span class=\"toc-item-num\">2&nbsp;&nbsp;</span>Анализ</a></span></li><li><span><a href=\"#Обучение\" data-toc-modified-id=\"Обучение-3\"><span class=\"toc-item-num\">3&nbsp;&nbsp;</span>Обучение</a></span><ul class=\"toc-item\"><li><span><a href=\"#Проверка-на-адекватность\" data-toc-modified-id=\"Проверка-на-адекватность-3.1\"><span class=\"toc-item-num\">3.1&nbsp;&nbsp;</span>Проверка на адекватность</a></span></li><li><span><a href=\"#Вывод\" data-toc-modified-id=\"Вывод-3.2\"><span class=\"toc-item-num\">3.2&nbsp;&nbsp;</span>Вывод</a></span></li></ul></li></ul></div>"
   ]
  },
  {
   "cell_type": "markdown",
   "metadata": {},
   "source": [
    "#  Прогнозирование заказов такси"
   ]
  },
  {
   "cell_type": "markdown",
   "metadata": {},
   "source": [
    "Компания собрала исторические данные о заказах такси в аэропортах. Чтобы привлекать больше водителей в период пиковой нагрузки, нужно спрогнозировать количество заказов такси на следующий час."
   ]
  },
  {
   "cell_type": "markdown",
   "metadata": {},
   "source": [
    "## Подготовка"
   ]
  },
  {
   "cell_type": "code",
   "execution_count": 1,
   "metadata": {},
   "outputs": [],
   "source": [
    "import pandas as pd\n",
    "import numpy as np\n",
    "from sklearn.model_selection import train_test_split\n",
    "from sklearn.linear_model import LinearRegression\n",
    "from sklearn.metrics import mean_squared_error\n",
    "from statsmodels.tsa.seasonal import seasonal_decompose\n",
    "import matplotlib.pyplot as plt\n",
    "import seaborn  as sns\n",
    "from sklearn.metrics.scorer import make_scorer\n",
    "import re\n",
    "from IPython.display import HTML, display\n",
    "from tqdm.auto import tqdm\n",
    "from sklearn.pipeline import Pipeline\n",
    "import time\n",
    "from sklearn.model_selection import cross_val_score\n",
    "from sklearn.tree import DecisionTreeRegressor\n",
    "from sklearn.ensemble import RandomForestRegressor\n",
    "from sklearn.linear_model import LinearRegression\n",
    "from lightgbm import LGBMRegressor\n",
    "from sklearn.model_selection import TimeSeriesSplit\n",
    "from sklearn.preprocessing import StandardScaler\n",
    "import matplotlib.pyplot as plt"
   ]
  },
  {
   "cell_type": "code",
   "execution_count": 2,
   "metadata": {},
   "outputs": [],
   "source": [
    "#параметры\n",
    "pd.options.display.max_columns = 100\n",
    "pd.options.display.max_rows = 200\n",
    "pd.options.display.max_colwidth = 300\n",
    "\n",
    "#Параметры для отладки\n",
    "DEBUGING = False               #вывод на экран текущих параметров\n",
    "\n",
    "models_params_find = False\n",
    "\n",
    "R_STATE = 737\n",
    "N_JOBS = -1  \n",
    "filled_VehicleType=False\n",
    "\n",
    "MODEL_TEXT_NAME = {'LinearReg':'Линейная регрессия'\n",
    "                    ,'DecTreeReg':'Дерево принятия решений для регрессии' \n",
    "                    ,'RndForestReg':'Случайный лес для регрессии'\n",
    "                    ,'DecTreeCls':'Дерево принятия решений для классификации' \n",
    "                    ,'RndForestCls':'Случайный лес для классификации'\n",
    "                    ,'LGBMReg':'Ансамбль LightGBM для регрессии'}"
   ]
  },
  {
   "cell_type": "code",
   "execution_count": 3,
   "metadata": {},
   "outputs": [],
   "source": [
    "def disp_font_size(text,font_size=3):\n",
    "    display(HTML(f\"<font size='{font_size}'>{text}</font>\"))\n",
    "def info_print (data, title, column='', bins=20, unit=''\n",
    "                , prntInfo=True, prntGraph=True, prnt_smpl=True\n",
    "               , returnMetric=False, drop_out=False):\n",
    "    '''\n",
    "    функция для отоброжения информации о наборе данных\n",
    "    '''\n",
    "    div = ''.join(['=' for i in range(1,len(title))])\n",
    "    print(div)\n",
    "    print('\\n',title,'\\n')\n",
    "    print(div)\n",
    "    if prntInfo:        \n",
    "        data.info()\n",
    "        print(div)\n",
    "        print(f'Количество дубликатов: {data.duplicated().sum()}')\n",
    "        print(div)\n",
    "        if data.duplicated().sum() > 0:\n",
    "            try:\n",
    "                print(f'Пример дубликатов:')\n",
    "                display(data.loc[data.duplicated(keep=False)].sort_values(by=data.columns[1]).head())            \n",
    "                print(div)\n",
    "            except: None    \n",
    "        if prnt_smpl:\n",
    "            print(f'Пример первых 5 записей:')\n",
    "            display(data.head())             \n",
    "            print(div)\n",
    "     \n",
    "    if column != '':\n",
    "        data_prin = data[column]\n",
    "    else:\n",
    "        data_prin = data\n",
    "        \n",
    "    if prntGraph:        \n",
    "        #try:\n",
    "            std_dev = np.std(data_prin) #Стандартное распределение\n",
    "            mu = data_prin.mean() #среднее значение \n",
    "            sigma3_min = mu - 3*std_dev\n",
    "            sigma3_max = mu + 3*std_dev\n",
    "            print(f'Среднее: {round(mu,2)} \\n')\n",
    "            print(f'Стандартное отклонение: {round(std_dev,2)} \\n')\n",
    "            print(f'Доверительный интервал: от {round(sigma3_min,2)} до {round(sigma3_max,2)} \\n')    \n",
    "            print(f'Минимум: {round(data_prin.min(),4)} Максимум: {round(data_prin.max(),4)} \\n')    \n",
    "            fig, ax = plt.subplots(1,2,figsize=(17, 3))\n",
    "            fig.suptitle(title) \n",
    "            sns.boxplot(data_prin, ax=ax[0])\n",
    "         \n",
    "            sns.distplot(data_prin, ax=ax[1],bins=bins)              \n",
    "            #границы по правилам трёх сигм\n",
    "            plt.axvline(sigma3_min,color='r',linestyle='--') \n",
    "            plt.axvline(sigma3_max,color='r',linestyle='--')\n",
    "            ax[0].set_xlabel(unit, fontsize=15, color='black')            \n",
    "            ax[1].set_xlabel(unit, fontsize=15, color='black')\n",
    "            plt.show()      \n",
    "            if returnMetric:\n",
    "                if drop_out: \n",
    "                    mu = data_prin.loc[(sigma3_min < data_prin) & (data_prin < sigma3_max)].mean()\n",
    "                    print(f'Среднее без учёта выбросов: {round(mu,2)} \\n')                    \n",
    "                return mu, std_dev\n",
    "            \n",
    "        #except: None"
   ]
  },
  {
   "cell_type": "code",
   "execution_count": 4,
   "metadata": {},
   "outputs": [
    {
     "name": "stdout",
     "output_type": "stream",
     "text": [
      "<class 'pandas.core.frame.DataFrame'>\n",
      "RangeIndex: 26496 entries, 0 to 26495\n",
      "Data columns (total 2 columns):\n",
      "datetime      26496 non-null object\n",
      "num_orders    26496 non-null int64\n",
      "dtypes: int64(1), object(1)\n",
      "memory usage: 414.1+ KB\n"
     ]
    },
    {
     "data": {
      "text/plain": [
       "None"
      ]
     },
     "metadata": {},
     "output_type": "display_data"
    },
    {
     "data": {
      "text/html": [
       "<div>\n",
       "<style scoped>\n",
       "    .dataframe tbody tr th:only-of-type {\n",
       "        vertical-align: middle;\n",
       "    }\n",
       "\n",
       "    .dataframe tbody tr th {\n",
       "        vertical-align: top;\n",
       "    }\n",
       "\n",
       "    .dataframe thead th {\n",
       "        text-align: right;\n",
       "    }\n",
       "</style>\n",
       "<table border=\"1\" class=\"dataframe\">\n",
       "  <thead>\n",
       "    <tr style=\"text-align: right;\">\n",
       "      <th></th>\n",
       "      <th>datetime</th>\n",
       "      <th>num_orders</th>\n",
       "    </tr>\n",
       "  </thead>\n",
       "  <tbody>\n",
       "    <tr>\n",
       "      <td>0</td>\n",
       "      <td>2018-03-01 00:00:00</td>\n",
       "      <td>9</td>\n",
       "    </tr>\n",
       "    <tr>\n",
       "      <td>1</td>\n",
       "      <td>2018-03-01 00:10:00</td>\n",
       "      <td>14</td>\n",
       "    </tr>\n",
       "    <tr>\n",
       "      <td>2</td>\n",
       "      <td>2018-03-01 00:20:00</td>\n",
       "      <td>28</td>\n",
       "    </tr>\n",
       "  </tbody>\n",
       "</table>\n",
       "</div>"
      ],
      "text/plain": [
       "              datetime  num_orders\n",
       "0  2018-03-01 00:00:00           9\n",
       "1  2018-03-01 00:10:00          14\n",
       "2  2018-03-01 00:20:00          28"
      ]
     },
     "metadata": {},
     "output_type": "display_data"
    }
   ],
   "source": [
    "try:\n",
    "    taxi = pd.read_csv('/datasets/taxi.csv')\n",
    "except:\n",
    "    taxi = pd.read_csv('taxi.csv')\n",
    "display(taxi.info())\n",
    "display(taxi.head(3))"
   ]
  },
  {
   "cell_type": "code",
   "execution_count": 5,
   "metadata": {},
   "outputs": [
    {
     "data": {
      "text/html": [
       "<div>\n",
       "<style scoped>\n",
       "    .dataframe tbody tr th:only-of-type {\n",
       "        vertical-align: middle;\n",
       "    }\n",
       "\n",
       "    .dataframe tbody tr th {\n",
       "        vertical-align: top;\n",
       "    }\n",
       "\n",
       "    .dataframe thead th {\n",
       "        text-align: right;\n",
       "    }\n",
       "</style>\n",
       "<table border=\"1\" class=\"dataframe\">\n",
       "  <thead>\n",
       "    <tr style=\"text-align: right;\">\n",
       "      <th></th>\n",
       "      <th>num_orders</th>\n",
       "    </tr>\n",
       "    <tr>\n",
       "      <th>datetime</th>\n",
       "      <th></th>\n",
       "    </tr>\n",
       "  </thead>\n",
       "  <tbody>\n",
       "    <tr>\n",
       "      <td>2018-03-01 00:00:00</td>\n",
       "      <td>124</td>\n",
       "    </tr>\n",
       "    <tr>\n",
       "      <td>2018-03-01 01:00:00</td>\n",
       "      <td>85</td>\n",
       "    </tr>\n",
       "    <tr>\n",
       "      <td>2018-03-01 02:00:00</td>\n",
       "      <td>71</td>\n",
       "    </tr>\n",
       "  </tbody>\n",
       "</table>\n",
       "</div>"
      ],
      "text/plain": [
       "                     num_orders\n",
       "datetime                       \n",
       "2018-03-01 00:00:00         124\n",
       "2018-03-01 01:00:00          85\n",
       "2018-03-01 02:00:00          71"
      ]
     },
     "metadata": {},
     "output_type": "display_data"
    }
   ],
   "source": [
    "taxi['datetime'] = taxi['datetime'].astype('datetime64')\n",
    "taxi.set_index('datetime',inplace=True)\n",
    "taxi.sort_index(inplace=True)\n",
    "taxi_day = taxi.resample('1D').sum()\n",
    "taxi = taxi.resample('1h').sum()\n",
    "display(taxi.head(3))"
   ]
  },
  {
   "cell_type": "markdown",
   "metadata": {},
   "source": [
    "<div style=\"background: #cceeaa; padding: 5px; border: 1px solid green; border-radius: 5px;\">\n",
    "<font color='green'> \n",
    "<u>КОММЕНТАРИЙ РЕВЬЮЕРА</u>\n",
    "</font>\n",
    "<font color='green'><br>ОК, данные на базе)"
   ]
  },
  {
   "cell_type": "markdown",
   "metadata": {},
   "source": [
    "## Анализ"
   ]
  },
  {
   "cell_type": "code",
   "execution_count": 6,
   "metadata": {},
   "outputs": [
    {
     "data": {
      "text/plain": [
       "<matplotlib.axes._subplots.AxesSubplot at 0x1ef7f5b4bc8>"
      ]
     },
     "execution_count": 6,
     "metadata": {},
     "output_type": "execute_result"
    },
    {
     "data": {
      "image/png": "[encoded data removed]",
      "text/plain": [
       "<Figure size 1440x360 with 1 Axes>"
      ]
     },
     "metadata": {
      "needs_background": "light"
     },
     "output_type": "display_data"
    }
   ],
   "source": [
    "ax = taxi['num_orders'].plot(figsize=(20, 5))\n",
    "taxi['num_orders'].shift().rolling(10).mean().plot(figsize=(20, 5),ax=ax)"
   ]
  },
  {
   "cell_type": "code",
   "execution_count": 7,
   "metadata": {},
   "outputs": [
    {
     "data": {
      "text/plain": [
       "<matplotlib.axes._subplots.AxesSubplot at 0x1ef28236208>"
      ]
     },
     "execution_count": 7,
     "metadata": {},
     "output_type": "execute_result"
    },
    {
     "data": {
      "image/png": "[encoded data removed]",
      "text/plain": [
       "<Figure size 1440x360 with 1 Axes>"
      ]
     },
     "metadata": {
      "needs_background": "light"
     },
     "output_type": "display_data"
    }
   ],
   "source": [
    "decomposed = seasonal_decompose(taxi['num_orders'])\n",
    "\n",
    "decomposed.trend.plot(figsize=(20, 5),title='Тренд') "
   ]
  },
  {
   "cell_type": "code",
   "execution_count": 8,
   "metadata": {},
   "outputs": [
    {
     "data": {
      "text/plain": [
       "<matplotlib.axes._subplots.AxesSubplot at 0x1ef28228808>"
      ]
     },
     "execution_count": 8,
     "metadata": {},
     "output_type": "execute_result"
    },
    {
     "data": {
      "image/png": "[encoded data removed]",
      "text/plain": [
       "<Figure size 1440x360 with 1 Axes>"
      ]
     },
     "metadata": {
      "needs_background": "light"
     },
     "output_type": "display_data"
    }
   ],
   "source": [
    "decomposed.seasonal['2018-06':'2018-07'].plot(figsize=(20, 5),title='по Месяца')"
   ]
  },
  {
   "cell_type": "code",
   "execution_count": 9,
   "metadata": {},
   "outputs": [
    {
     "data": {
      "text/plain": [
       "<matplotlib.axes._subplots.AxesSubplot at 0x1ef2827c608>"
      ]
     },
     "execution_count": 9,
     "metadata": {},
     "output_type": "execute_result"
    },
    {
     "data": {
      "image/png": "[encoded data removed]",
      "text/plain": [
       "<Figure size 1440x360 with 1 Axes>"
      ]
     },
     "metadata": {
      "needs_background": "light"
     },
     "output_type": "display_data"
    }
   ],
   "source": [
    "decomposed.seasonal['2018-07-01':'2018-07-15'].plot(figsize=(20, 5),title='по Дням')"
   ]
  },
  {
   "cell_type": "code",
   "execution_count": 10,
   "metadata": {},
   "outputs": [
    {
     "data": {
      "text/plain": [
       "<matplotlib.axes._subplots.AxesSubplot at 0x1ef2830b7c8>"
      ]
     },
     "execution_count": 10,
     "metadata": {},
     "output_type": "execute_result"
    },
    {
     "data": {
      "image/png": "[encoded data removed]",
      "text/plain": [
       "<Figure size 1440x360 with 1 Axes>"
      ]
     },
     "metadata": {
      "needs_background": "light"
     },
     "output_type": "display_data"
    }
   ],
   "source": [
    "decomposed.seasonal['2018-07-07 00:00:00':'2018-07-08 23:59:59'].plot(figsize=(20, 5),title='по Часам')"
   ]
  },
  {
   "cell_type": "code",
   "execution_count": 11,
   "metadata": {
    "scrolled": false
   },
   "outputs": [
    {
     "name": "stdout",
     "output_type": "stream",
     "text": [
      "=========\n",
      "\n",
      " num_orders \n",
      "\n",
      "=========\n",
      "<class 'pandas.core.frame.DataFrame'>\n",
      "DatetimeIndex: 4416 entries, 2018-03-01 00:00:00 to 2018-08-31 23:00:00\n",
      "Freq: H\n",
      "Data columns (total 1 columns):\n",
      "num_orders    4416 non-null int64\n",
      "dtypes: int64(1)\n",
      "memory usage: 229.0 KB\n",
      "=========\n",
      "Количество дубликатов: 4165\n",
      "=========\n",
      "Пример дубликатов:\n",
      "Среднее: 84.42 \n",
      "\n",
      "Стандартное отклонение: 45.02 \n",
      "\n",
      "Доверительный интервал: от -50.63 до 219.48 \n",
      "\n",
      "Минимум: 0 Максимум: 462 \n",
      "\n"
     ]
    },
    {
     "data": {
      "image/png": "[encoded data removed]",
      "text/plain": [
       "<Figure size 1224x216 with 2 Axes>"
      ]
     },
     "metadata": {
      "needs_background": "light"
     },
     "output_type": "display_data"
    }
   ],
   "source": [
    "info_print (taxi, 'num_orders', column='num_orders', bins=20, unit=''\n",
    "                , prntInfo=True, prntGraph=True, prnt_smpl=False)"
   ]
  },
  {
   "cell_type": "markdown",
   "metadata": {},
   "source": [
    "<div style=\"background: #cceeaa; padding: 5px; border: 1px solid green; border-radius: 5px;\">\n",
    "<font color='green'> \n",
    "    <b><u>КОММЕНТАРИЙ РЕВЬЮЕРА</u></b>\n",
    "</font>\n",
    "<font color='green'><br>\n",
    "Исследование - понятно.<font color='red'><br> График сезонности хорошо бы изучить ещё методом декмпозиции, напрмиер. Сделай, пожалуйста<br><font color='green'><br>\n",
    "Инструмент декомпозиции в частности, а графический анализ временных рядов как в принципе - важный этап моделирования рядов.<br> Позволяет увидеть продажи визуально, а это помогает сделать предвариетльные выводы<br>\n",
    "    \n",
    "Хочу озвучить ещё такой момент<br>\n",
    "Дело в том, в реальности бизнеса есть все три вида сезонности:<br>\n",
    "1) дневная сезонность есть - ведь данные собраны по дням, т.е. будни и выходные имеют разные продажи<br>\n",
    "2) внутрисуточная сезонность: когда продажи утром отличаются от продаж вечером <br>\n",
    "3) месячная сезонность: когда продажи лета и осени - разные.<br><br>\n",
    "И если строить прогноз на длительный период времени, то без учёта всех видов сезонности  - не обойтись<br>\n",
    "Например: есть в данных восходящий тренд. Но вопрос такой возникает: <br>\n",
    "этот подъём действительно за счёт роста компании (чаще всего тренд - это отражение роста компании) или есть ещё влияние месячной сезнности? (летом - продаж в рост, например, и именно этот момент мы наблюдаем в данных)<br>\n",
    "Ответ на вопрос - не протой на имеющихся данных - у нас данных меньше года. А это означает, что месячную сезонность нам не просто вычислить адекватно - т.е. не внести в модель корректтировки месяцев(<br>\n",
    "Поэтому, я бы дал такой совет:<br>\n",
    "на горизонте прогнозирования - несколько часов или дней - можно предположить что у нас тренд.<br>\n",
    "А если строить прогноз на несколько недель - вот тут утверждать наличие тренда надо с большой осторожностью))))<br><br>\n",
    "Ну, а если вернуться к постановке задаче - построить прогноз на час (очень маленький горизонт), то двух сезонности может и хватить.\n",
    "    \n",
    "<font color='blue'><br>  \n",
    "Сделал насколько понял.\n",
    "<br> к моему удивлению не увидел разницы для выходных и будних дней.\n",
    "</font>         "
   ]
  },
  {
   "cell_type": "markdown",
   "metadata": {},
   "source": [
    "<div style=\"background: #cceeaa; padding: 5px; border: 1px solid green; border-radius: 5px;\">\n",
    "<font color='green'> \n",
    "    <b><u>КОММЕНТАРИЙ РЕВЬЮЕРА 2</u></b>\n",
    "</font>\n",
    "<font color='green'><br>Отлично!<br>Тут, что бы увидеть недельную сезонность (дня недели) можно пойти двумя путями:<br>\n",
    "1)Взять часовые данные за длительный период. Но на экране сложно будет увидеть...<br>\n",
    "2) агрегировать(суммировать) часовые данные за день.  И тогда ещё раз построить декомппозицию - будет видно)<br>"
   ]
  },
  {
   "cell_type": "code",
   "execution_count": 12,
   "metadata": {},
   "outputs": [
    {
     "data": {
      "text/plain": [
       "<matplotlib.axes._subplots.AxesSubplot at 0x1ef28644248>"
      ]
     },
     "execution_count": 12,
     "metadata": {},
     "output_type": "execute_result"
    },
    {
     "data": {
      "image/png": "[encoded data removed]",
      "text/plain": [
       "<Figure size 1440x360 with 1 Axes>"
      ]
     },
     "metadata": {
      "needs_background": "light"
     },
     "output_type": "display_data"
    }
   ],
   "source": [
    "decomp_day = seasonal_decompose(taxi_day['num_orders'])\n",
    "decomp_day.seasonal['2018-07':'2018-08'].plot(figsize=(20, 5),title='по дням недели')"
   ]
  },
  {
   "cell_type": "markdown",
   "metadata": {},
   "source": [
    "## Обучение"
   ]
  },
  {
   "cell_type": "code",
   "execution_count": 13,
   "metadata": {},
   "outputs": [],
   "source": [
    "def rmse(test,pred):\n",
    "    return round(np.sqrt(mean_squared_error(test,pred)),4)\n",
    "\n",
    "def display_metric(score, scorer, title=''): \n",
    "    \"\"\"\n",
    "    Функция для вывода метрик\n",
    "    \"\"\"                   \n",
    "    scorer_name = re.sub(r\".*\\(|\\,.*|\\)\", '', str(scorer))\n",
    "\n",
    "    disp_font_size(f\" {title} {scorer_name.upper()}: = {score}\",5)    "
   ]
  },
  {
   "cell_type": "code",
   "execution_count": 14,
   "metadata": {},
   "outputs": [],
   "source": [
    "def score_cv(model, features, target, scorer, cv=5, mean=True):\n",
    "    el_time = time.time()\n",
    "    result = cross_val_score(model, features, target, scoring=scorer, cv=TimeSeriesSplit(n_splits=2), n_jobs=N_JOBS) \n",
    "    el_time = round(time.time() - el_time,2)\n",
    "    if mean: result = round(result.mean(),4)\n",
    "    return result, el_time \n",
    "\n",
    "def  make_pipe(model, **kwargs):\n",
    "    return Pipeline([\n",
    "    #('scale', StandardScaler()),\n",
    "    ('clf', model)\n",
    "])\n",
    "def make_clf(model_type, **kwargs):\n",
    "    if model_type == 'RndForestReg':\n",
    "        model = make_pipe(RandomForestRegressor(random_state=R_STATE, **kwargs))\n",
    "    elif model_type == 'DecTreeReg':        \n",
    "        model = make_pipe(DecisionTreeRegressor(random_state=R_STATE, **kwargs))\n",
    "    elif model_type == 'LinearReg':\n",
    "        model = make_pipe(LinearRegression(**kwargs))\n",
    "    elif model_type == 'RndForestCls':\n",
    "        model = make_pipe(RandomForestClassifier(random_state=R_STATE, **kwargs))\n",
    "    elif model_type == 'DecTreeCls':        \n",
    "        model = make_pipe(DecisionTreeClassifier(random_state=R_STATE, **kwargs))\n",
    "    elif model_type == 'LGBMReg':\n",
    "        model = make_pipe(LGBMRegressor(boosting_type='gbdt',random_state=R_STATE, **kwargs))       \n",
    "    else: return 0, 'Тип модели не найден'\n",
    "    return model\n",
    "\n",
    "#Таблица для хранения лучших результатов моделей\n",
    "columns_model = ['model','g_param','Score']\n",
    "models_valid = pd.DataFrame(columns=columns_model)    "
   ]
  },
  {
   "cell_type": "code",
   "execution_count": 15,
   "metadata": {},
   "outputs": [],
   "source": [
    "def get_model(params, train_features, train_target):    \n",
    "    model = make_clf(params['model'], **params['g_param'])\n",
    "    pbar = tqdm(total = 1)\n",
    "    model.fit(train_features, train_target)   \n",
    "    pbar.update(1)    \n",
    "    pbar.close()        \n",
    "    return model\n",
    "\n",
    "\n",
    "def get_param_list(kwargs):\n",
    "    params_list = pd.DataFrame()    \n",
    "    if len(kwargs) > 0:        \n",
    "        new_str = pd.Series()\n",
    "        for key, param in kwargs.items():\n",
    "            old_param_list = params_list.copy()\n",
    "            params_list = pd.DataFrame()\n",
    "            num_params = len(old_param_list)\n",
    "            if num_params < 1 : num_params=1\n",
    "            for str_ind in range(num_params):\n",
    "                try:\n",
    "                    for p in param:\n",
    "                        try:\n",
    "                            new_str = old_param_list.iloc[str_ind]\n",
    "                        except: None\n",
    "                        new_str[key] = p\n",
    "                        params_list = params_list.append(new_str, ignore_index=True)                    \n",
    "                except:\n",
    "                    params_list[key] = param       \n",
    "    if len(params_list) < 1: params_list.loc[0,'no_param']='no_param'\n",
    "    return params_list\n",
    "\n",
    "    \n",
    "def get_model_params(model_type, features, target, scorer, title=''\n",
    "                 , disp_metr=True\n",
    "                 ,returnModel=False, debug=False, **kwargs):\n",
    "\n",
    "    \"\"\"\n",
    "    Функция для создания модели  \n",
    "    \n",
    "    \"\"\"\n",
    "    \n",
    "    columns_model = ['model','g_param','el_time','score']\n",
    "    models_param = pd.DataFrame(columns=columns_model)    \n",
    "\n",
    "       \n",
    "    print('==========================')    \n",
    "    disp_font_size(f\"Модель: {MODEL_TEXT_NAME[model_type]} {title} <br>\",5)\n",
    "    \n",
    "    params_list = get_param_list(kwargs)\n",
    "\n",
    "    pbar = tqdm(total = len(params_list))\n",
    "    params = {}\n",
    "    for ind, row in params_list.iterrows():\n",
    "        for col_n, val in row.items():\n",
    "            if col_n != 'no_param':\n",
    "                if float(val)%1>0: params[col_n] = float(val)\n",
    "                else: params[col_n] = int(val)      \n",
    "        model = make_clf(model_type, **params)  \n",
    "        try:\n",
    "            score, el_time = score_cv(model, features, target, scorer)            \n",
    "            if debug: print(f'{kwargs}|{score}')              \n",
    "            models_param = models_param.append({'model': model_type\n",
    "                                               ,'g_param':{**params}                                                \n",
    "                                               ,'el_time':el_time\n",
    "                                               ,'score':score}\n",
    "                                               , ignore_index=True)   \n",
    "        except:\n",
    "            models_param = models_param.append({'model': model_type\n",
    "                                               ,'g_param':{**params}                                                \n",
    "                                               ,'el_time':'Err'\n",
    "                                               ,'score':'Err'}\n",
    "                                               , ignore_index=True)   \n",
    "        pbar.update(1)      \n",
    "    pbar.close()        \n",
    "    #Вывод результатов    \n",
    "    models_param = models_param.loc[~models_param['score'].isin(['Err','-'] )]\n",
    "    models_param = models_param.sort_values(by='score', ascending=False).reset_index(drop=True)\n",
    " \n",
    "    \n",
    "    if disp_metr: \n",
    "        display(models_param)\n",
    "        disp_font_size(re.sub(r'[\\{\\}]', '', str(models_param.loc[0,'g_param'])),5)\n",
    "        disp_font_size(f\"Время: {models_param.loc[0,'el_time']}\",5)\n",
    "        display_metric(models_param.loc[0,'score'], scorer)             \n",
    "        \n",
    "  \n",
    "    return models_param\n",
    "\n",
    "def models_test(params, features, target, test_features, test_target, scorer):\n",
    "    models_p = pd.DataFrame(columns=['model','g_param','test_time','test_score'])    \n",
    "    tested_model = pd.DataFrame()\n",
    "    for i, row in params.iterrows():\n",
    "        el_time = time.time()\n",
    "        try:\n",
    "            model = get_model(row, features, target)    \n",
    "            predict = model.predict(test_features)\n",
    "            score = round(scorer(test_target,predict)) * -1\n",
    "        except:\n",
    "            score = 'Err'\n",
    "        el_time = round(time.time() - el_time,2)\n",
    "        disp_font_size(MODEL_TEXT_NAME[row['model']],5)  \n",
    "        disp_font_size(re.sub(r'[\\{\\}]', '', str(row['g_param'])),4)  \n",
    "        display_metric(score, '', title='Тестовая выборка')\n",
    "        tested_model = row[['model','g_param']]\n",
    "        tested_model['test_score'] = score\n",
    "        tested_model['test_time'] = el_time\n",
    "        models_p = models_p.append(tested_model, ignore_index=True) \n",
    "    return models_p.sort_values(by='test_score', ascending=True).reset_index(drop=True)\n",
    "        \n",
    "def models_serch(params, features, target, test_features=None, test_target=None, scorer=[rmse,False]\n",
    "                 , test=False, test_num=1):\n",
    "    models_p = pd.DataFrame()   \n",
    "    \n",
    "    my_scorer = make_scorer(scorer[0], greater_is_better=scorer[1])  \n",
    "    for model, params in params.items():\n",
    "        model_name = re.sub(r\".*\\_\", '', str(model))    \n",
    "        log = get_model_params(model_name, features, target, my_scorer, disp_metr=True, **params, debug=DEBUGING)\n",
    "        sort_column = 'score'\n",
    "        test_num_str = test_num\n",
    "        log['test_time'] = '-'\n",
    "        log['test_score'] = '-' \n",
    "        if test:\n",
    "            print('======================')\n",
    "            disp_font_size(\"Результаты на тестовой выборке\",5)  \n",
    "            if test_num < len(log): test_num_str = test_num\n",
    "            else: test_num_str = len(log)\n",
    "            models_test_p = models_test(log.head(test_num_str+1), features, target, test_features, test_target\n",
    "                                            , scorer=scorer[0])\n",
    "            display(models_test_p)                \n",
    "          \n",
    "            log.loc[0:test_num,'test_time'] = models_test_p.loc[0:test_num,'test_time']\n",
    "            log.loc[0:test_num,'test_score'] = models_test_p.loc[0:test_num,'test_score']\n",
    "            sort_column = 'test_score'      \n",
    "            \n",
    "        models_p = models_p.append(log, ignore_index=True,sort=False)   \n",
    "    result = models_p.loc[~models_p[sort_column].isin(['Err','-'] )]\n",
    "    return  result.sort_values(by=sort_column, ascending=False).reset_index(drop=True)\n",
    "\n",
    "def div_features_target(df,targetname):\n",
    "    \"\"\"\n",
    "    Функция для разделения таблицы на признаки и целевой признак\n",
    "    \"\"\"\n",
    "    return df.drop([targetname], axis=1), df[targetname]"
   ]
  },
  {
   "cell_type": "code",
   "execution_count": 16,
   "metadata": {},
   "outputs": [],
   "source": [
    "def make_features(data, max_lag=6, rolling_mean_size=10):\n",
    "#    data['year'] = data.index.year\n",
    "#    data['month'] = data.index.month\n",
    "#data['month_day'] = f\"{data.index.month}_{data.index.day}\"\n",
    "    data['hour'] = data.index.hour\n",
    "    data['dayofweek'] = data.index.dayofweek\n",
    "    \n",
    "    for lag in range(1, max_lag + 1):\n",
    "        data['lag_{}'.format(lag)] = data['num_orders'].shift(lag)\n",
    "\n",
    "    data['rolling_mean'] = data['num_orders'].shift().rolling(rolling_mean_size).mean()"
   ]
  },
  {
   "cell_type": "code",
   "execution_count": 17,
   "metadata": {},
   "outputs": [],
   "source": [
    "params_find = False\n",
    "  \n",
    "if params_find:\n",
    "    params_s ={'max_lag': range(15,32,1), 'rolling_mean_size': range(24,169,24)}            \n",
    "    ft_params_list = get_param_list(params_s)    \n",
    "    ft_params_score = pd.DataFrame(columns=['g_param','train_score','test_score']) \n",
    "    model = LinearRegression()\n",
    "    params = {}\n",
    "    pbar = tqdm(total = len(ft_params_list))\n",
    "    for ind, row in ft_params_list.iterrows():\n",
    "        taxi_copy = taxi.copy()\n",
    "        for col_n, val in row.items():\n",
    "            if col_n != 'no_param':\n",
    "                if float(val)%1>0: params[col_n] = float(val)\n",
    "                else: params[col_n] = int(val)\n",
    "        \n",
    "        make_features(taxi_copy, **params)\n",
    "        \n",
    "        train, test = train_test_split(taxi_copy, shuffle=False, test_size=0.1)\n",
    "        train = train.dropna()\n",
    "\n",
    "        train_features, train_target = div_features_target(train,'num_orders')\n",
    "        test_features, test_target = div_features_target(test, 'num_orders')\n",
    "        \n",
    "        model.fit(train_features, train_target)\n",
    "        train_pred = model.predict(train_features)\n",
    "        test_pred = model.predict(test_features)\n",
    "\n",
    "        ft_params_score = ft_params_score.append({'g_param':{**params},\n",
    "                                                  'train_score':rmse(train_target,train_pred),\n",
    "                                                  'test_score':rmse(test_target,test_pred)},\n",
    "                                                   ignore_index=True) \n",
    "        pbar.update(1)\n",
    "    pbar.close\n",
    "    ft_params_score = ft_params_score.sort_values(by='test_score', ascending=True).reset_index(drop=True)        \n",
    "else:    \n",
    "    ft_params_score = pd.DataFrame({\n",
    "                                   'g_param':[{'max_lag': 31, 'rolling_mean_size': 72},\n",
    "                                                {'max_lag': 2, 'rolling_mean_size': 72},\n",
    "                                                {'max_lag': 99, 'rolling_mean_size': 24}\n",
    "                                               ],\n",
    "                                   'train_score':[25, 30, 22],   \n",
    "                                   'test_score':[44, 49, 39]\n",
    "                                   })    "
   ]
  },
  {
   "cell_type": "code",
   "execution_count": 18,
   "metadata": {
    "scrolled": false
   },
   "outputs": [
    {
     "data": {
      "text/html": [
       "<div>\n",
       "<style scoped>\n",
       "    .dataframe tbody tr th:only-of-type {\n",
       "        vertical-align: middle;\n",
       "    }\n",
       "\n",
       "    .dataframe tbody tr th {\n",
       "        vertical-align: top;\n",
       "    }\n",
       "\n",
       "    .dataframe thead th {\n",
       "        text-align: right;\n",
       "    }\n",
       "</style>\n",
       "<table border=\"1\" class=\"dataframe\">\n",
       "  <thead>\n",
       "    <tr style=\"text-align: right;\">\n",
       "      <th></th>\n",
       "      <th>g_param</th>\n",
       "      <th>train_score</th>\n",
       "      <th>test_score</th>\n",
       "    </tr>\n",
       "  </thead>\n",
       "  <tbody>\n",
       "    <tr>\n",
       "      <td>0</td>\n",
       "      <td>{'max_lag': 31, 'rolling_mean_size': 72}</td>\n",
       "      <td>25</td>\n",
       "      <td>44</td>\n",
       "    </tr>\n",
       "    <tr>\n",
       "      <td>1</td>\n",
       "      <td>{'max_lag': 2, 'rolling_mean_size': 72}</td>\n",
       "      <td>30</td>\n",
       "      <td>49</td>\n",
       "    </tr>\n",
       "    <tr>\n",
       "      <td>2</td>\n",
       "      <td>{'max_lag': 99, 'rolling_mean_size': 24}</td>\n",
       "      <td>22</td>\n",
       "      <td>39</td>\n",
       "    </tr>\n",
       "  </tbody>\n",
       "</table>\n",
       "</div>"
      ],
      "text/plain": [
       "                                    g_param  train_score  test_score\n",
       "0  {'max_lag': 31, 'rolling_mean_size': 72}           25          44\n",
       "1   {'max_lag': 2, 'rolling_mean_size': 72}           30          49\n",
       "2  {'max_lag': 99, 'rolling_mean_size': 24}           22          39"
      ]
     },
     "metadata": {},
     "output_type": "display_data"
    }
   ],
   "source": [
    "display(ft_params_score)"
   ]
  },
  {
   "cell_type": "code",
   "execution_count": 19,
   "metadata": {},
   "outputs": [],
   "source": [
    "make_features(taxi, **ft_params_score.loc[0,'g_param'])\n",
    "\n",
    "train, test = train_test_split(taxi, shuffle=False, test_size=0.1)\n",
    "train = train.dropna()\n",
    "\n",
    "train_features, train_target = div_features_target(train,'num_orders')\n",
    "\n",
    "test_features, test_target = div_features_target(test, 'num_orders')"
   ]
  },
  {
   "cell_type": "markdown",
   "metadata": {},
   "source": [
    "### Проверка на адекватность"
   ]
  },
  {
   "cell_type": "code",
   "execution_count": 20,
   "metadata": {
    "scrolled": true
   },
   "outputs": [
    {
     "name": "stdout",
     "output_type": "stream",
     "text": [
      "Cреднее количество заказов такси в час: 139.5566\n",
      "Все значения тестовой выборки предсказываются одним и тем же числом (константой):\n",
      "RMSE: 85.1621\n",
      "Новое значение x(t) прогнозируется предыдущим значением ряда, то есть x(t-1):\n",
      "RMSE: 56.7229\n"
     ]
    }
   ],
   "source": [
    "print(\"Cреднее количество заказов такси в час:\", round(test['num_orders'].mean(),4))\n",
    "print(\"Все значения тестовой выборки предсказываются одним и тем же числом (константой):\")\n",
    "pred_median = np.ones(test.shape) * train['num_orders'].median()\n",
    "print(\"RMSE:\", rmse(test,pred_median))\n",
    "print(\"Новое значение x(t) прогнозируется предыдущим значением ряда, то есть x(t-1):\")\n",
    "pred_previous = test.shift()\n",
    "pred_previous.iloc[0] = train['num_orders'].iloc[-1]\n",
    "print(\"RMSE:\", rmse(test,pred_previous))"
   ]
  },
  {
   "cell_type": "code",
   "execution_count": 21,
   "metadata": {
    "scrolled": false
   },
   "outputs": [],
   "source": [
    "models_params_find = False\n",
    "  \n",
    "if models_params_find:\n",
    "    models_param = {\n",
    "            'LinearReg':{},\n",
    "            'DecTreeReg':{ 'max_depth': range(10,12,1)},\n",
    "            'RndForestReg':{'max_depth': range(10,12,1), 'n_estimators': range(39,41,1)},\n",
    "            'LGBMReg':{'max_depth': range(5,6,1),'n_estimators': range(855,858,1), \n",
    "                          'learning_rate':[0.01]}\n",
    "            }            \n",
    "    \n",
    "    model_list = models_serch(models_param, train_features, train_target\n",
    "                                          , test_features,  test_target\n",
    "                                          , test=True, test_num=1)\n",
    "else:    \n",
    "    model_list = pd.DataFrame({'model' : ['LGBMReg','RndForestReg','LinearReg'],\n",
    "                                        'g_param' : [{'learning_rate': 0.01, 'max_depth': 5, 'n_estimators': 856},                                                     \n",
    "                                                     {'max_depth': 10, 'n_estimators': 39},\n",
    "                                                    {}],\n",
    "                                        'el_time' : [12.7, 2.4, 0.43],   \n",
    "                                        'score' : [-27, -27, -27],\n",
    "                                        'test_time' : [8.7, 2.3, 0.22],   \n",
    "                                        'test_score' : [-43, -44, -44]}\n",
    "                                      )"
   ]
  },
  {
   "cell_type": "code",
   "execution_count": 22,
   "metadata": {
    "scrolled": true
   },
   "outputs": [
    {
     "data": {
      "text/html": [
       "<div>\n",
       "<style scoped>\n",
       "    .dataframe tbody tr th:only-of-type {\n",
       "        vertical-align: middle;\n",
       "    }\n",
       "\n",
       "    .dataframe tbody tr th {\n",
       "        vertical-align: top;\n",
       "    }\n",
       "\n",
       "    .dataframe thead th {\n",
       "        text-align: right;\n",
       "    }\n",
       "</style>\n",
       "<table border=\"1\" class=\"dataframe\">\n",
       "  <thead>\n",
       "    <tr style=\"text-align: right;\">\n",
       "      <th></th>\n",
       "      <th>model</th>\n",
       "      <th>g_param</th>\n",
       "      <th>el_time</th>\n",
       "      <th>score</th>\n",
       "      <th>test_time</th>\n",
       "      <th>test_score</th>\n",
       "    </tr>\n",
       "  </thead>\n",
       "  <tbody>\n",
       "    <tr>\n",
       "      <td>0</td>\n",
       "      <td>LGBMReg</td>\n",
       "      <td>{'learning_rate': 0.01, 'max_depth': 5, 'n_estimators': 856}</td>\n",
       "      <td>12.70</td>\n",
       "      <td>-27</td>\n",
       "      <td>8.70</td>\n",
       "      <td>-43</td>\n",
       "    </tr>\n",
       "    <tr>\n",
       "      <td>1</td>\n",
       "      <td>RndForestReg</td>\n",
       "      <td>{'max_depth': 10, 'n_estimators': 39}</td>\n",
       "      <td>2.40</td>\n",
       "      <td>-27</td>\n",
       "      <td>2.30</td>\n",
       "      <td>-44</td>\n",
       "    </tr>\n",
       "    <tr>\n",
       "      <td>2</td>\n",
       "      <td>LinearReg</td>\n",
       "      <td>{}</td>\n",
       "      <td>0.43</td>\n",
       "      <td>-27</td>\n",
       "      <td>0.22</td>\n",
       "      <td>-44</td>\n",
       "    </tr>\n",
       "  </tbody>\n",
       "</table>\n",
       "</div>"
      ],
      "text/plain": [
       "          model                                                       g_param  \\\n",
       "0       LGBMReg  {'learning_rate': 0.01, 'max_depth': 5, 'n_estimators': 856}   \n",
       "1  RndForestReg                         {'max_depth': 10, 'n_estimators': 39}   \n",
       "2     LinearReg                                                            {}   \n",
       "\n",
       "   el_time  score  test_time  test_score  \n",
       "0    12.70    -27       8.70         -43  \n",
       "1     2.40    -27       2.30         -44  \n",
       "2     0.43    -27       0.22         -44  "
      ]
     },
     "metadata": {},
     "output_type": "display_data"
    }
   ],
   "source": [
    "display(model_list)"
   ]
  },
  {
   "cell_type": "code",
   "execution_count": 23,
   "metadata": {},
   "outputs": [],
   "source": [
    "def check_model_predict(model_param, train_features, train_target, test_features, test_target):\n",
    "    model_01 = get_model(model_param, train_features, train_target)\n",
    "    day_test_pred = model_01.predict(test_features)\n",
    "    day_test_target_pred = pd.DataFrame()\n",
    "    day_test_target_pred['target'] = test_target\n",
    "    day_test_target_pred['pred'] = day_test_pred\n",
    "    ax = day_test_target_pred['target'].plot(figsize=(20, 5), label='target', title=model_param['model'])\n",
    "    day_test_target_pred['pred'].plot(figsize=(20, 5),ax=ax, label='prediction')\n",
    "    plt.legend()\n",
    "    plt.show()"
   ]
  },
  {
   "cell_type": "code",
   "execution_count": 24,
   "metadata": {},
   "outputs": [
    {
     "data": {
      "application/vnd.jupyter.widget-view+json": {
       "model_id": "4deb36e942d4430abbe1e52962585829",
       "version_major": 2,
       "version_minor": 0
      },
      "text/plain": [
       "  0%|          | 0/1 [00:00<?, ?it/s]"
      ]
     },
     "metadata": {},
     "output_type": "display_data"
    },
    {
     "data": {
      "image/png": "[encoded data removed]",
      "text/plain": [
       "<Figure size 1440x360 with 1 Axes>"
      ]
     },
     "metadata": {
      "needs_background": "light"
     },
     "output_type": "display_data"
    },
    {
     "data": {
      "application/vnd.jupyter.widget-view+json": {
       "model_id": "3b85a0213f9e4fa886baea4c00ba2405",
       "version_major": 2,
       "version_minor": 0
      },
      "text/plain": [
       "  0%|          | 0/1 [00:00<?, ?it/s]"
      ]
     },
     "metadata": {},
     "output_type": "display_data"
    },
    {
     "data": {
      "image/png": "[encoded data removed]",
      "text/plain": [
       "<Figure size 1440x360 with 1 Axes>"
      ]
     },
     "metadata": {
      "needs_background": "light"
     },
     "output_type": "display_data"
    },
    {
     "data": {
      "application/vnd.jupyter.widget-view+json": {
       "model_id": "20197e5ee7d24a6fbbb0aa2f0f480a42",
       "version_major": 2,
       "version_minor": 0
      },
      "text/plain": [
       "  0%|          | 0/1 [00:00<?, ?it/s]"
      ]
     },
     "metadata": {},
     "output_type": "display_data"
    },
    {
     "data": {
      "image/png": "[encoded data removed]",
      "text/plain": [
       "<Figure size 1440x360 with 1 Axes>"
      ]
     },
     "metadata": {
      "needs_background": "light"
     },
     "output_type": "display_data"
    }
   ],
   "source": [
    "for i in range(len(model_list)):\n",
    "    check_model_predict(model_list.loc[i], train_features, train_target\n",
    "                    , test_features['2018-08-20':'2018-08-23']\n",
    "                    , test_target['2018-08-20':'2018-08-23'])"
   ]
  },
  {
   "cell_type": "markdown",
   "metadata": {},
   "source": [
    "### Вывод\n",
    "Большое значения для конечной метрики играют созданные признаки и определение закономерностей временного ряда, а не выбор моделей!\n",
    "Судя по графику модель случайного леса точнее предсказывает резкие перепады и точки максимума."
   ]
  },
  {
   "cell_type": "code",
   "execution_count": null,
   "metadata": {},
   "outputs": [],
   "source": []
  }
 ],
 "metadata": {
  "ExecuteTimeLog": [
   {
    "duration": 1263,
    "start_time": "2021-06-10T16:02:14.865Z"
   },
   {
    "duration": 427,
    "start_time": "2021-06-10T16:02:16.131Z"
   },
   {
    "duration": 57,
    "start_time": "2021-06-10T16:02:41.207Z"
   },
   {
    "duration": 48,
    "start_time": "2021-06-10T16:04:57.359Z"
   },
   {
    "duration": 20,
    "start_time": "2021-06-10T16:06:20.302Z"
   },
   {
    "duration": 13,
    "start_time": "2021-06-10T16:07:16.929Z"
   },
   {
    "duration": 7236,
    "start_time": "2021-06-10T16:08:09.039Z"
   },
   {
    "duration": 1256,
    "start_time": "2021-06-10T16:08:43.888Z"
   },
   {
    "duration": 460,
    "start_time": "2021-06-10T16:08:45.147Z"
   },
   {
    "duration": 706,
    "start_time": "2021-06-10T16:08:44.904Z"
   },
   {
    "duration": 693,
    "start_time": "2021-06-10T16:08:44.919Z"
   },
   {
    "duration": 1366,
    "start_time": "2021-06-10T16:08:57.847Z"
   },
   {
    "duration": 63,
    "start_time": "2021-06-10T16:08:59.216Z"
   },
   {
    "duration": 482,
    "start_time": "2021-06-10T16:08:59.281Z"
   },
   {
    "duration": 708,
    "start_time": "2021-06-10T16:08:59.058Z"
   },
   {
    "duration": 1403,
    "start_time": "2021-06-10T16:09:17.733Z"
   },
   {
    "duration": 60,
    "start_time": "2021-06-10T16:09:19.139Z"
   },
   {
    "duration": 38,
    "start_time": "2021-06-10T16:09:19.205Z"
   },
   {
    "duration": 4,
    "start_time": "2021-06-10T16:09:19.245Z"
   },
   {
    "duration": 1249,
    "start_time": "2021-06-10T16:09:55.683Z"
   },
   {
    "duration": 60,
    "start_time": "2021-06-10T16:09:56.935Z"
   },
   {
    "duration": 43,
    "start_time": "2021-06-10T16:09:56.997Z"
   },
   {
    "duration": 4,
    "start_time": "2021-06-10T16:09:57.042Z"
   },
   {
    "duration": 4,
    "start_time": "2021-06-10T16:22:30.575Z"
   },
   {
    "duration": 395,
    "start_time": "2021-06-10T16:24:10.620Z"
   },
   {
    "duration": 1291,
    "start_time": "2021-06-10T16:24:19.345Z"
   },
   {
    "duration": 63,
    "start_time": "2021-06-10T16:24:20.639Z"
   },
   {
    "duration": 42,
    "start_time": "2021-06-10T16:24:20.705Z"
   },
   {
    "duration": 6892,
    "start_time": "2021-06-10T16:24:20.750Z"
   },
   {
    "duration": 688,
    "start_time": "2021-06-10T16:24:26.956Z"
   },
   {
    "duration": 689,
    "start_time": "2021-06-10T16:24:26.957Z"
   },
   {
    "duration": 689,
    "start_time": "2021-06-10T16:24:26.958Z"
   },
   {
    "duration": 284,
    "start_time": "2021-06-10T16:24:45.248Z"
   },
   {
    "duration": 1332,
    "start_time": "2021-06-10T16:25:04.803Z"
   },
   {
    "duration": 66,
    "start_time": "2021-06-10T16:25:06.138Z"
   },
   {
    "duration": 45,
    "start_time": "2021-06-10T16:25:06.208Z"
   },
   {
    "duration": 33,
    "start_time": "2021-06-10T16:25:06.256Z"
   },
   {
    "duration": 3,
    "start_time": "2021-06-10T16:25:06.292Z"
   },
   {
    "duration": 662,
    "start_time": "2021-06-10T16:25:06.329Z"
   },
   {
    "duration": 702,
    "start_time": "2021-06-10T16:25:06.292Z"
   },
   {
    "duration": 3,
    "start_time": "2021-06-10T16:25:29.977Z"
   },
   {
    "duration": 575,
    "start_time": "2021-06-10T16:25:31.676Z"
   },
   {
    "duration": 3,
    "start_time": "2021-06-10T16:26:32.866Z"
   },
   {
    "duration": 570,
    "start_time": "2021-06-10T16:26:33.687Z"
   },
   {
    "duration": 4,
    "start_time": "2021-06-10T16:27:04.818Z"
   },
   {
    "duration": 8,
    "start_time": "2021-06-10T16:27:05.516Z"
   },
   {
    "duration": 4,
    "start_time": "2021-06-10T16:27:17.306Z"
   },
   {
    "duration": 11,
    "start_time": "2021-06-10T16:27:18.838Z"
   },
   {
    "duration": 13,
    "start_time": "2021-06-10T16:28:17.577Z"
   },
   {
    "duration": 6704,
    "start_time": "2021-06-10T16:30:03.244Z"
   },
   {
    "duration": 6555,
    "start_time": "2021-06-10T16:30:19.797Z"
   },
   {
    "duration": 11,
    "start_time": "2021-06-10T16:30:28.451Z"
   },
   {
    "duration": 16,
    "start_time": "2021-06-10T16:31:50.322Z"
   },
   {
    "duration": 302,
    "start_time": "2021-06-10T16:32:42.018Z"
   },
   {
    "duration": 17,
    "start_time": "2021-06-10T16:33:09.720Z"
   },
   {
    "duration": 1375,
    "start_time": "2021-06-11T11:55:40.429Z"
   },
   {
    "duration": 71,
    "start_time": "2021-06-11T11:55:41.807Z"
   },
   {
    "duration": 33,
    "start_time": "2021-06-11T11:55:41.882Z"
   },
   {
    "duration": 63,
    "start_time": "2021-06-11T11:55:41.918Z"
   },
   {
    "duration": 6,
    "start_time": "2021-06-11T11:55:41.983Z"
   },
   {
    "duration": 19,
    "start_time": "2021-06-11T11:55:41.992Z"
   },
   {
    "duration": 147,
    "start_time": "2021-06-11T11:55:42.014Z"
   },
   {
    "duration": 535,
    "start_time": "2021-06-11T16:23:28.928Z"
   },
   {
    "duration": 1135,
    "start_time": "2021-06-11T16:24:24.171Z"
   },
   {
    "duration": 440,
    "start_time": "2021-06-11T16:24:48.270Z"
   },
   {
    "duration": 9485,
    "start_time": "2021-06-11T16:25:17.691Z"
   },
   {
    "duration": 636,
    "start_time": "2021-06-11T16:25:42.508Z"
   },
   {
    "duration": 492,
    "start_time": "2021-06-11T16:26:06.212Z"
   },
   {
    "duration": 582,
    "start_time": "2021-06-11T16:26:54.949Z"
   },
   {
    "duration": 773,
    "start_time": "2021-06-11T16:30:11.195Z"
   },
   {
    "duration": 773,
    "start_time": "2021-06-11T16:30:19.349Z"
   },
   {
    "duration": 619,
    "start_time": "2021-06-11T16:30:28.868Z"
   },
   {
    "duration": 314,
    "start_time": "2021-06-11T16:42:24.544Z"
   },
   {
    "duration": 48,
    "start_time": "2021-06-11T16:42:43.845Z"
   },
   {
    "duration": 336,
    "start_time": "2021-06-11T16:42:49.808Z"
   },
   {
    "duration": 346,
    "start_time": "2021-06-11T16:42:55.749Z"
   },
   {
    "duration": 2306,
    "start_time": "2021-06-11T16:44:03.375Z"
   },
   {
    "duration": 810,
    "start_time": "2021-06-11T16:44:29.983Z"
   },
   {
    "duration": 630,
    "start_time": "2021-06-11T16:44:42.764Z"
   },
   {
    "duration": 854,
    "start_time": "2021-06-11T16:45:25.865Z"
   },
   {
    "duration": 863,
    "start_time": "2021-06-11T16:46:03.025Z"
   },
   {
    "duration": 19,
    "start_time": "2021-06-11T16:48:29.964Z"
   },
   {
    "duration": 42,
    "start_time": "2021-06-11T16:49:56.141Z"
   },
   {
    "duration": 36,
    "start_time": "2021-06-11T16:50:29.407Z"
   },
   {
    "duration": 651,
    "start_time": "2021-06-11T16:52:25.019Z"
   },
   {
    "duration": 26,
    "start_time": "2021-06-11T16:52:35.087Z"
   },
   {
    "duration": 26,
    "start_time": "2021-06-11T16:55:47.251Z"
   },
   {
    "duration": 16,
    "start_time": "2021-06-11T16:57:12.163Z"
   },
   {
    "duration": 16,
    "start_time": "2021-06-11T17:00:35.517Z"
   },
   {
    "duration": 615,
    "start_time": "2021-06-11T17:00:43.458Z"
   },
   {
    "duration": 5,
    "start_time": "2021-06-11T17:01:26.093Z"
   },
   {
    "duration": 17,
    "start_time": "2021-06-11T17:01:35.176Z"
   },
   {
    "duration": 494,
    "start_time": "2021-06-11T17:01:40.440Z"
   },
   {
    "duration": 16,
    "start_time": "2021-06-11T17:12:45.869Z"
   },
   {
    "duration": 467,
    "start_time": "2021-06-11T17:12:52.553Z"
   },
   {
    "duration": 16,
    "start_time": "2021-06-11T17:13:56.816Z"
   },
   {
    "duration": 1173,
    "start_time": "2021-06-11T17:14:04.611Z"
   },
   {
    "duration": 79,
    "start_time": "2021-06-11T17:14:25.745Z"
   },
   {
    "duration": 16,
    "start_time": "2021-06-11T17:15:05.453Z"
   },
   {
    "duration": 1142,
    "start_time": "2021-06-11T17:15:12.349Z"
   },
   {
    "duration": 19,
    "start_time": "2021-06-11T17:15:35.772Z"
   },
   {
    "duration": 606,
    "start_time": "2021-06-11T17:15:45.233Z"
   },
   {
    "duration": 1099,
    "start_time": "2021-06-11T18:12:55.376Z"
   },
   {
    "duration": 684,
    "start_time": "2021-06-11T18:14:07.483Z"
   },
   {
    "duration": 1556,
    "start_time": "2021-06-11T18:26:03.986Z"
   },
   {
    "duration": 19,
    "start_time": "2021-06-11T18:26:05.545Z"
   },
   {
    "duration": 60,
    "start_time": "2021-06-11T18:26:05.567Z"
   },
   {
    "duration": 42,
    "start_time": "2021-06-11T18:26:05.629Z"
   },
   {
    "duration": 690,
    "start_time": "2021-06-11T18:26:05.673Z"
   },
   {
    "duration": 591,
    "start_time": "2021-06-11T18:26:06.365Z"
   },
   {
    "duration": 787,
    "start_time": "2021-06-11T18:26:06.963Z"
   },
   {
    "duration": -54,
    "start_time": "2021-06-11T18:26:07.807Z"
   },
   {
    "duration": -58,
    "start_time": "2021-06-11T18:26:07.812Z"
   },
   {
    "duration": -58,
    "start_time": "2021-06-11T18:26:07.813Z"
   },
   {
    "duration": -60,
    "start_time": "2021-06-11T18:26:07.817Z"
   },
   {
    "duration": -61,
    "start_time": "2021-06-11T18:26:07.819Z"
   },
   {
    "duration": -68,
    "start_time": "2021-06-11T18:26:07.827Z"
   },
   {
    "duration": -67,
    "start_time": "2021-06-11T18:26:07.828Z"
   },
   {
    "duration": 659,
    "start_time": "2021-06-11T18:27:42.606Z"
   },
   {
    "duration": 114,
    "start_time": "2021-06-11T18:30:20.629Z"
   },
   {
    "duration": 66,
    "start_time": "2021-06-11T18:30:22.417Z"
   },
   {
    "duration": 41,
    "start_time": "2021-06-11T18:30:23.205Z"
   },
   {
    "duration": 954,
    "start_time": "2021-06-11T18:30:26.636Z"
   },
   {
    "duration": 846,
    "start_time": "2021-06-11T18:30:27.696Z"
   },
   {
    "duration": 1287,
    "start_time": "2021-06-11T18:30:30.698Z"
   },
   {
    "duration": 760,
    "start_time": "2021-06-11T18:30:50.880Z"
   },
   {
    "duration": 1611,
    "start_time": "2021-06-11T18:33:59.444Z"
   },
   {
    "duration": 18,
    "start_time": "2021-06-11T18:34:01.058Z"
   },
   {
    "duration": 138,
    "start_time": "2021-06-11T18:34:01.079Z"
   },
   {
    "duration": 29,
    "start_time": "2021-06-11T18:34:01.220Z"
   },
   {
    "duration": 679,
    "start_time": "2021-06-11T18:34:01.252Z"
   },
   {
    "duration": 591,
    "start_time": "2021-06-11T18:34:01.933Z"
   },
   {
    "duration": 886,
    "start_time": "2021-06-11T18:34:02.526Z"
   },
   {
    "duration": 6,
    "start_time": "2021-06-11T18:34:03.418Z"
   },
   {
    "duration": 564,
    "start_time": "2021-06-11T18:34:03.428Z"
   },
   {
    "duration": -43,
    "start_time": "2021-06-11T18:34:04.039Z"
   },
   {
    "duration": -43,
    "start_time": "2021-06-11T18:34:04.041Z"
   },
   {
    "duration": -43,
    "start_time": "2021-06-11T18:34:04.043Z"
   },
   {
    "duration": -41,
    "start_time": "2021-06-11T18:34:04.044Z"
   },
   {
    "duration": -44,
    "start_time": "2021-06-11T18:34:04.049Z"
   },
   {
    "duration": 1501,
    "start_time": "2021-06-11T18:35:58.696Z"
   },
   {
    "duration": 15,
    "start_time": "2021-06-11T18:36:00.200Z"
   },
   {
    "duration": 70,
    "start_time": "2021-06-11T18:36:00.218Z"
   },
   {
    "duration": 28,
    "start_time": "2021-06-11T18:36:00.291Z"
   },
   {
    "duration": 712,
    "start_time": "2021-06-11T18:36:00.321Z"
   },
   {
    "duration": 602,
    "start_time": "2021-06-11T18:36:01.035Z"
   },
   {
    "duration": 688,
    "start_time": "2021-06-11T18:36:01.639Z"
   },
   {
    "duration": 5,
    "start_time": "2021-06-11T18:36:02.331Z"
   },
   {
    "duration": 39,
    "start_time": "2021-06-11T18:36:02.339Z"
   },
   {
    "duration": 527,
    "start_time": "2021-06-11T18:36:02.381Z"
   },
   {
    "duration": -48,
    "start_time": "2021-06-11T18:36:02.959Z"
   },
   {
    "duration": -50,
    "start_time": "2021-06-11T18:36:02.962Z"
   },
   {
    "duration": -50,
    "start_time": "2021-06-11T18:36:02.963Z"
   },
   {
    "duration": -50,
    "start_time": "2021-06-11T18:36:02.965Z"
   },
   {
    "duration": 1678,
    "start_time": "2021-06-11T18:37:09.096Z"
   },
   {
    "duration": 16,
    "start_time": "2021-06-11T18:37:10.777Z"
   },
   {
    "duration": 70,
    "start_time": "2021-06-11T18:37:10.796Z"
   },
   {
    "duration": 30,
    "start_time": "2021-06-11T18:37:10.868Z"
   },
   {
    "duration": 714,
    "start_time": "2021-06-11T18:37:10.901Z"
   },
   {
    "duration": 587,
    "start_time": "2021-06-11T18:37:11.618Z"
   },
   {
    "duration": 915,
    "start_time": "2021-06-11T18:37:12.208Z"
   },
   {
    "duration": 7,
    "start_time": "2021-06-11T18:37:13.128Z"
   },
   {
    "duration": 53,
    "start_time": "2021-06-11T18:37:13.139Z"
   },
   {
    "duration": 35,
    "start_time": "2021-06-11T18:37:13.195Z"
   },
   {
    "duration": 64,
    "start_time": "2021-06-11T18:37:13.233Z"
   },
   {
    "duration": 19,
    "start_time": "2021-06-11T18:37:13.300Z"
   },
   {
    "duration": 113,
    "start_time": "2021-06-11T18:37:13.322Z"
   },
   {
    "duration": -40,
    "start_time": "2021-06-11T18:37:13.478Z"
   },
   {
    "duration": 542,
    "start_time": "2021-06-11T18:37:29.377Z"
   },
   {
    "duration": 16,
    "start_time": "2021-06-11T18:38:01.963Z"
   },
   {
    "duration": 15,
    "start_time": "2021-06-11T18:38:04.088Z"
   },
   {
    "duration": 10,
    "start_time": "2021-06-11T18:38:10.523Z"
   },
   {
    "duration": 375,
    "start_time": "2021-06-11T18:38:33.383Z"
   },
   {
    "duration": 14,
    "start_time": "2021-06-11T18:38:43.789Z"
   },
   {
    "duration": 694,
    "start_time": "2021-06-11T18:38:49.392Z"
   },
   {
    "duration": 5,
    "start_time": "2021-06-11T18:39:36.508Z"
   },
   {
    "duration": 700,
    "start_time": "2021-06-11T18:39:43.550Z"
   },
   {
    "duration": 5,
    "start_time": "2021-06-11T18:40:08.200Z"
   },
   {
    "duration": 713,
    "start_time": "2021-06-11T18:40:12.576Z"
   },
   {
    "duration": 6,
    "start_time": "2021-06-11T18:40:33.456Z"
   },
   {
    "duration": 1472,
    "start_time": "2021-06-11T18:40:39.512Z"
   },
   {
    "duration": 5,
    "start_time": "2021-06-11T18:40:40.987Z"
   },
   {
    "duration": 18,
    "start_time": "2021-06-11T18:40:40.996Z"
   },
   {
    "duration": 69,
    "start_time": "2021-06-11T18:40:41.017Z"
   },
   {
    "duration": 29,
    "start_time": "2021-06-11T18:40:41.088Z"
   },
   {
    "duration": 693,
    "start_time": "2021-06-11T18:40:41.119Z"
   },
   {
    "duration": 593,
    "start_time": "2021-06-11T18:40:41.814Z"
   },
   {
    "duration": 700,
    "start_time": "2021-06-11T18:40:42.409Z"
   },
   {
    "duration": 5,
    "start_time": "2021-06-11T18:40:43.113Z"
   },
   {
    "duration": 44,
    "start_time": "2021-06-11T18:40:43.120Z"
   },
   {
    "duration": 25,
    "start_time": "2021-06-11T18:40:43.167Z"
   },
   {
    "duration": 52,
    "start_time": "2021-06-11T18:40:43.195Z"
   },
   {
    "duration": 29,
    "start_time": "2021-06-11T18:40:43.250Z"
   },
   {
    "duration": 1367,
    "start_time": "2021-06-11T18:40:43.281Z"
   },
   {
    "duration": -56,
    "start_time": "2021-06-11T18:40:44.706Z"
   },
   {
    "duration": -55,
    "start_time": "2021-06-11T18:40:44.707Z"
   },
   {
    "duration": 5,
    "start_time": "2021-06-11T18:41:17.725Z"
   },
   {
    "duration": 1043,
    "start_time": "2021-06-11T18:41:25.805Z"
   },
   {
    "duration": 14,
    "start_time": "2021-06-11T18:41:43.419Z"
   },
   {
    "duration": 1600,
    "start_time": "2021-06-11T18:41:48.741Z"
   },
   {
    "duration": 7,
    "start_time": "2021-06-11T18:42:11.960Z"
   },
   {
    "duration": 1605,
    "start_time": "2021-06-11T18:42:20.025Z"
   },
   {
    "duration": 26,
    "start_time": "2021-06-11T18:42:50.785Z"
   },
   {
    "duration": 25,
    "start_time": "2021-06-11T18:42:52.754Z"
   },
   {
    "duration": 23,
    "start_time": "2021-06-11T18:42:53.855Z"
   },
   {
    "duration": 16,
    "start_time": "2021-06-11T18:42:55.509Z"
   },
   {
    "duration": 1387,
    "start_time": "2021-06-11T18:42:56.400Z"
   },
   {
    "duration": 8,
    "start_time": "2021-06-11T18:43:13.094Z"
   },
   {
    "duration": 1364,
    "start_time": "2021-06-11T18:43:20.951Z"
   },
   {
    "duration": 6,
    "start_time": "2021-06-11T18:43:44.313Z"
   },
   {
    "duration": 2677,
    "start_time": "2021-06-11T18:43:48.904Z"
   },
   {
    "duration": 41,
    "start_time": "2021-06-11T18:44:30.552Z"
   },
   {
    "duration": 10262,
    "start_time": "2021-06-11T18:44:37.552Z"
   },
   {
    "duration": 22,
    "start_time": "2021-06-11T18:45:10.569Z"
   },
   {
    "duration": 140676,
    "start_time": "2021-06-11T18:45:19.820Z"
   },
   {
    "duration": 18,
    "start_time": "2021-06-11T19:42:17.987Z"
   },
   {
    "duration": 202,
    "start_time": "2021-06-11T19:43:43.965Z"
   },
   {
    "duration": 10,
    "start_time": "2021-06-11T21:15:11.504Z"
   },
   {
    "duration": 8,
    "start_time": "2021-06-11T21:15:13.869Z"
   },
   {
    "duration": 16,
    "start_time": "2021-06-11T21:15:14.634Z"
   },
   {
    "duration": 51,
    "start_time": "2021-06-11T21:15:15.732Z"
   },
   {
    "duration": 28,
    "start_time": "2021-06-11T21:15:16.472Z"
   },
   {
    "duration": 760,
    "start_time": "2021-06-11T21:15:17.919Z"
   },
   {
    "duration": 580,
    "start_time": "2021-06-11T21:15:19.526Z"
   },
   {
    "duration": 643,
    "start_time": "2021-06-11T21:15:20.109Z"
   },
   {
    "duration": 5,
    "start_time": "2021-06-11T21:15:21.957Z"
   },
   {
    "duration": 117,
    "start_time": "2021-06-11T21:15:22.655Z"
   },
   {
    "duration": 23,
    "start_time": "2021-06-11T21:15:23.387Z"
   },
   {
    "duration": 29,
    "start_time": "2021-06-11T21:15:24.095Z"
   },
   {
    "duration": 15,
    "start_time": "2021-06-11T21:15:25.321Z"
   },
   {
    "duration": -85,
    "start_time": "2021-06-11T21:40:32.661Z"
   },
   {
    "duration": -87,
    "start_time": "2021-06-11T21:40:32.665Z"
   },
   {
    "duration": -87,
    "start_time": "2021-06-11T21:40:32.667Z"
   },
   {
    "duration": -87,
    "start_time": "2021-06-11T21:40:32.669Z"
   },
   {
    "duration": -87,
    "start_time": "2021-06-11T21:40:32.672Z"
   },
   {
    "duration": -86,
    "start_time": "2021-06-11T21:40:32.673Z"
   },
   {
    "duration": -87,
    "start_time": "2021-06-11T21:40:32.675Z"
   },
   {
    "duration": -86,
    "start_time": "2021-06-11T21:40:32.676Z"
   },
   {
    "duration": -86,
    "start_time": "2021-06-11T21:40:32.678Z"
   },
   {
    "duration": -86,
    "start_time": "2021-06-11T21:40:32.680Z"
   },
   {
    "duration": -85,
    "start_time": "2021-06-11T21:40:32.681Z"
   },
   {
    "duration": -85,
    "start_time": "2021-06-11T21:40:32.683Z"
   },
   {
    "duration": -85,
    "start_time": "2021-06-11T21:40:32.685Z"
   },
   {
    "duration": -85,
    "start_time": "2021-06-11T21:40:32.687Z"
   },
   {
    "duration": -85,
    "start_time": "2021-06-11T21:40:32.689Z"
   },
   {
    "duration": -101,
    "start_time": "2021-06-11T21:40:32.707Z"
   },
   {
    "duration": 22,
    "start_time": "2021-06-11T21:45:25.438Z"
   },
   {
    "duration": 1797,
    "start_time": "2021-06-11T21:45:38.246Z"
   },
   {
    "duration": 5,
    "start_time": "2021-06-11T21:45:40.046Z"
   },
   {
    "duration": 17,
    "start_time": "2021-06-11T21:45:40.066Z"
   },
   {
    "duration": 92,
    "start_time": "2021-06-11T21:45:40.086Z"
   },
   {
    "duration": 31,
    "start_time": "2021-06-11T21:45:40.181Z"
   },
   {
    "duration": 699,
    "start_time": "2021-06-11T21:45:40.214Z"
   },
   {
    "duration": 785,
    "start_time": "2021-06-11T21:45:40.915Z"
   },
   {
    "duration": 644,
    "start_time": "2021-06-11T21:45:41.704Z"
   },
   {
    "duration": 14,
    "start_time": "2021-06-11T21:45:42.351Z"
   },
   {
    "duration": 24,
    "start_time": "2021-06-11T21:45:42.368Z"
   },
   {
    "duration": 23,
    "start_time": "2021-06-11T21:45:42.395Z"
   },
   {
    "duration": 58,
    "start_time": "2021-06-11T21:45:42.421Z"
   },
   {
    "duration": 14,
    "start_time": "2021-06-11T21:45:42.481Z"
   },
   {
    "duration": 1348,
    "start_time": "2021-06-11T21:45:42.498Z"
   },
   {
    "duration": -102,
    "start_time": "2021-06-11T21:45:43.951Z"
   },
   {
    "duration": -102,
    "start_time": "2021-06-11T21:45:43.953Z"
   },
   {
    "duration": 23,
    "start_time": "2021-06-11T21:48:34.074Z"
   },
   {
    "duration": 1687,
    "start_time": "2021-06-11T21:48:40.360Z"
   },
   {
    "duration": 16,
    "start_time": "2021-06-11T21:48:42.050Z"
   },
   {
    "duration": 19,
    "start_time": "2021-06-11T21:48:42.071Z"
   },
   {
    "duration": 76,
    "start_time": "2021-06-11T21:48:42.094Z"
   },
   {
    "duration": 37,
    "start_time": "2021-06-11T21:48:42.174Z"
   },
   {
    "duration": 750,
    "start_time": "2021-06-11T21:48:42.214Z"
   },
   {
    "duration": 725,
    "start_time": "2021-06-11T21:48:42.974Z"
   },
   {
    "duration": 913,
    "start_time": "2021-06-11T21:48:43.702Z"
   },
   {
    "duration": 5,
    "start_time": "2021-06-11T21:48:44.619Z"
   },
   {
    "duration": 50,
    "start_time": "2021-06-11T21:48:44.628Z"
   },
   {
    "duration": 31,
    "start_time": "2021-06-11T21:48:44.681Z"
   },
   {
    "duration": 67,
    "start_time": "2021-06-11T21:48:44.715Z"
   },
   {
    "duration": 19,
    "start_time": "2021-06-11T21:48:44.786Z"
   },
   {
    "duration": 1297,
    "start_time": "2021-06-11T21:48:44.808Z"
   },
   {
    "duration": -79,
    "start_time": "2021-06-11T21:48:46.187Z"
   },
   {
    "duration": -80,
    "start_time": "2021-06-11T21:48:46.190Z"
   },
   {
    "duration": 1067,
    "start_time": "2021-06-11T21:49:45.587Z"
   },
   {
    "duration": 146,
    "start_time": "2021-06-11T21:51:52.907Z"
   },
   {
    "duration": 21,
    "start_time": "2021-06-11T21:52:33.858Z"
   },
   {
    "duration": 1629,
    "start_time": "2021-06-11T21:52:40.483Z"
   },
   {
    "duration": 5,
    "start_time": "2021-06-11T21:52:42.115Z"
   },
   {
    "duration": 17,
    "start_time": "2021-06-11T21:52:42.124Z"
   },
   {
    "duration": 73,
    "start_time": "2021-06-11T21:52:42.144Z"
   },
   {
    "duration": 43,
    "start_time": "2021-06-11T21:52:42.220Z"
   },
   {
    "duration": 688,
    "start_time": "2021-06-11T21:52:42.266Z"
   },
   {
    "duration": 705,
    "start_time": "2021-06-11T21:52:42.957Z"
   },
   {
    "duration": 653,
    "start_time": "2021-06-11T21:52:43.665Z"
   },
   {
    "duration": 5,
    "start_time": "2021-06-11T21:52:44.321Z"
   },
   {
    "duration": 35,
    "start_time": "2021-06-11T21:52:44.329Z"
   },
   {
    "duration": 24,
    "start_time": "2021-06-11T21:52:44.367Z"
   },
   {
    "duration": 37,
    "start_time": "2021-06-11T21:52:44.394Z"
   },
   {
    "duration": 42,
    "start_time": "2021-06-11T21:52:44.433Z"
   },
   {
    "duration": 1139,
    "start_time": "2021-06-11T21:52:44.477Z"
   },
   {
    "duration": -83,
    "start_time": "2021-06-11T21:52:45.702Z"
   },
   {
    "duration": -83,
    "start_time": "2021-06-11T21:52:45.704Z"
   },
   {
    "duration": 1481,
    "start_time": "2021-06-14T00:23:31.913Z"
   },
   {
    "duration": 5,
    "start_time": "2021-06-14T00:23:33.396Z"
   },
   {
    "duration": 15,
    "start_time": "2021-06-14T00:23:37.379Z"
   },
   {
    "duration": 56,
    "start_time": "2021-06-14T00:23:37.921Z"
   },
   {
    "duration": 28,
    "start_time": "2021-06-14T00:23:38.868Z"
   },
   {
    "duration": 597,
    "start_time": "2021-06-14T00:24:28.404Z"
   },
   {
    "duration": 609,
    "start_time": "2021-06-14T00:24:29.004Z"
   },
   {
    "duration": 569,
    "start_time": "2021-06-14T00:24:29.742Z"
   },
   {
    "duration": 5,
    "start_time": "2021-06-14T00:29:33.932Z"
   },
   {
    "duration": 13,
    "start_time": "2021-06-14T00:29:34.515Z"
   },
   {
    "duration": 27,
    "start_time": "2021-06-14T00:29:35.782Z"
   },
   {
    "duration": 5,
    "start_time": "2021-06-14T00:29:36.900Z"
   },
   {
    "duration": 2114,
    "start_time": "2021-06-14T00:31:14.070Z"
   },
   {
    "duration": 12,
    "start_time": "2021-06-14T00:31:16.187Z"
   },
   {
    "duration": 111,
    "start_time": "2021-06-14T00:31:16.916Z"
   },
   {
    "duration": 15,
    "start_time": "2021-06-14T00:31:21.652Z"
   },
   {
    "duration": 10,
    "start_time": "2021-06-14T00:31:22.467Z"
   },
   {
    "duration": 14,
    "start_time": "2021-06-14T00:31:23.323Z"
   },
   {
    "duration": 236,
    "start_time": "2021-06-15T13:49:00.004Z"
   },
   {
    "duration": 1120,
    "start_time": "2021-06-15T13:49:07.041Z"
   },
   {
    "duration": 3,
    "start_time": "2021-06-15T13:49:08.163Z"
   },
   {
    "duration": 10,
    "start_time": "2021-06-15T13:49:08.168Z"
   },
   {
    "duration": 49,
    "start_time": "2021-06-15T13:49:08.185Z"
   },
   {
    "duration": 18,
    "start_time": "2021-06-15T13:49:08.236Z"
   },
   {
    "duration": 423,
    "start_time": "2021-06-15T13:49:08.255Z"
   },
   {
    "duration": 443,
    "start_time": "2021-06-15T13:49:08.679Z"
   },
   {
    "duration": 380,
    "start_time": "2021-06-15T13:49:09.124Z"
   },
   {
    "duration": 480,
    "start_time": "2021-06-15T13:49:09.506Z"
   },
   {
    "duration": 5,
    "start_time": "2021-06-15T13:49:09.989Z"
   },
   {
    "duration": 11,
    "start_time": "2021-06-15T13:49:09.995Z"
   },
   {
    "duration": 21,
    "start_time": "2021-06-15T13:49:10.007Z"
   },
   {
    "duration": 8,
    "start_time": "2021-06-15T13:49:10.029Z"
   },
   {
    "duration": 2454,
    "start_time": "2021-06-15T13:49:10.038Z"
   },
   {
    "duration": 101,
    "start_time": "2021-06-15T13:49:12.494Z"
   },
   {
    "duration": 75,
    "start_time": "2021-06-15T13:49:12.597Z"
   },
   {
    "duration": 19,
    "start_time": "2021-06-15T13:49:12.674Z"
   },
   {
    "duration": 6,
    "start_time": "2021-06-15T13:49:12.695Z"
   },
   {
    "duration": 13,
    "start_time": "2021-06-15T13:49:12.703Z"
   },
   {
    "duration": 349,
    "start_time": "2021-06-15T13:51:08.657Z"
   },
   {
    "duration": 267,
    "start_time": "2021-06-15T13:54:10.368Z"
   },
   {
    "duration": 255,
    "start_time": "2021-06-15T13:54:28.165Z"
   },
   {
    "duration": 402,
    "start_time": "2021-06-15T13:55:42.237Z"
   },
   {
    "duration": 57,
    "start_time": "2021-06-15T13:56:34.360Z"
   },
   {
    "duration": 361,
    "start_time": "2021-06-15T13:56:46.531Z"
   },
   {
    "duration": 561,
    "start_time": "2021-06-15T13:58:22.902Z"
   },
   {
    "duration": 504,
    "start_time": "2021-06-15T14:17:47.071Z"
   },
   {
    "duration": 315,
    "start_time": "2021-06-15T14:18:39.920Z"
   },
   {
    "duration": 267,
    "start_time": "2021-06-15T14:19:15.843Z"
   },
   {
    "duration": 510,
    "start_time": "2021-06-15T14:21:45.335Z"
   },
   {
    "duration": 428,
    "start_time": "2021-06-15T14:23:03.840Z"
   },
   {
    "duration": 422,
    "start_time": "2021-06-15T14:23:35.580Z"
   },
   {
    "duration": 277,
    "start_time": "2021-06-15T14:25:17.372Z"
   },
   {
    "duration": 4,
    "start_time": "2021-06-15T14:40:06.057Z"
   },
   {
    "duration": 325,
    "start_time": "2021-06-15T14:46:45.539Z"
   },
   {
    "duration": 1122,
    "start_time": "2021-06-15T14:46:53.824Z"
   },
   {
    "duration": 4,
    "start_time": "2021-06-15T14:46:54.947Z"
   },
   {
    "duration": 10,
    "start_time": "2021-06-15T14:46:54.953Z"
   },
   {
    "duration": 54,
    "start_time": "2021-06-15T14:46:54.964Z"
   },
   {
    "duration": 19,
    "start_time": "2021-06-15T14:46:55.019Z"
   },
   {
    "duration": 426,
    "start_time": "2021-06-15T14:46:55.039Z"
   },
   {
    "duration": 421,
    "start_time": "2021-06-15T14:46:55.466Z"
   },
   {
    "duration": 500,
    "start_time": "2021-06-15T14:46:55.890Z"
   },
   {
    "duration": 315,
    "start_time": "2021-06-15T14:46:56.392Z"
   },
   {
    "duration": 270,
    "start_time": "2021-06-15T14:46:56.708Z"
   },
   {
    "duration": 438,
    "start_time": "2021-06-15T14:46:56.979Z"
   },
   {
    "duration": 3,
    "start_time": "2021-06-15T14:46:57.419Z"
   },
   {
    "duration": 12,
    "start_time": "2021-06-15T14:46:57.424Z"
   },
   {
    "duration": 18,
    "start_time": "2021-06-15T14:46:57.437Z"
   },
   {
    "duration": 7,
    "start_time": "2021-06-15T14:46:57.457Z"
   },
   {
    "duration": 223,
    "start_time": "2021-06-15T14:46:57.465Z"
   },
   {
    "duration": 15,
    "start_time": "2021-06-15T14:46:57.690Z"
   },
   {
    "duration": 12,
    "start_time": "2021-06-15T14:46:57.787Z"
   },
   {
    "duration": 13,
    "start_time": "2021-06-15T14:46:57.800Z"
   },
   {
    "duration": 6,
    "start_time": "2021-06-15T14:46:57.814Z"
   },
   {
    "duration": 13,
    "start_time": "2021-06-15T14:46:57.822Z"
   },
   {
    "duration": 1094,
    "start_time": "2021-06-15T14:48:46.241Z"
   },
   {
    "duration": 4,
    "start_time": "2021-06-15T14:48:47.337Z"
   },
   {
    "duration": 9,
    "start_time": "2021-06-15T14:48:47.343Z"
   },
   {
    "duration": 52,
    "start_time": "2021-06-15T14:48:47.354Z"
   },
   {
    "duration": 20,
    "start_time": "2021-06-15T14:48:47.408Z"
   },
   {
    "duration": 468,
    "start_time": "2021-06-15T14:48:47.430Z"
   },
   {
    "duration": 437,
    "start_time": "2021-06-15T14:48:47.900Z"
   },
   {
    "duration": 506,
    "start_time": "2021-06-15T14:48:48.340Z"
   },
   {
    "duration": 311,
    "start_time": "2021-06-15T14:48:48.848Z"
   },
   {
    "duration": 276,
    "start_time": "2021-06-15T14:48:49.160Z"
   },
   {
    "duration": 461,
    "start_time": "2021-06-15T14:48:49.438Z"
   },
   {
    "duration": 4,
    "start_time": "2021-06-15T14:48:49.901Z"
   },
   {
    "duration": 14,
    "start_time": "2021-06-15T14:48:49.907Z"
   },
   {
    "duration": 19,
    "start_time": "2021-06-15T14:48:49.923Z"
   },
   {
    "duration": 15,
    "start_time": "2021-06-15T14:48:49.944Z"
   },
   {
    "duration": 10339,
    "start_time": "2021-06-15T14:48:49.961Z"
   },
   {
    "duration": 108,
    "start_time": "2021-06-15T14:49:00.302Z"
   },
   {
    "duration": 15,
    "start_time": "2021-06-15T14:49:00.411Z"
   },
   {
    "duration": 22,
    "start_time": "2021-06-15T14:49:00.427Z"
   },
   {
    "duration": 212941,
    "start_time": "2021-06-15T14:49:00.451Z"
   },
   {
    "duration": 10,
    "start_time": "2021-06-15T14:52:33.394Z"
   },
   {
    "duration": 1124,
    "start_time": "2021-06-15T15:02:37.236Z"
   },
   {
    "duration": 3,
    "start_time": "2021-06-15T15:02:38.362Z"
   },
   {
    "duration": 18,
    "start_time": "2021-06-15T15:02:38.367Z"
   },
   {
    "duration": 54,
    "start_time": "2021-06-15T15:02:38.387Z"
   },
   {
    "duration": 19,
    "start_time": "2021-06-15T15:02:38.443Z"
   },
   {
    "duration": 466,
    "start_time": "2021-06-15T15:02:38.464Z"
   },
   {
    "duration": 450,
    "start_time": "2021-06-15T15:02:38.933Z"
   },
   {
    "duration": 521,
    "start_time": "2021-06-15T15:02:39.386Z"
   },
   {
    "duration": 333,
    "start_time": "2021-06-15T15:02:39.909Z"
   },
   {
    "duration": 280,
    "start_time": "2021-06-15T15:02:40.243Z"
   },
   {
    "duration": 476,
    "start_time": "2021-06-15T15:02:40.525Z"
   },
   {
    "duration": 4,
    "start_time": "2021-06-15T15:02:41.004Z"
   },
   {
    "duration": 12,
    "start_time": "2021-06-15T15:02:41.010Z"
   },
   {
    "duration": 19,
    "start_time": "2021-06-15T15:02:41.024Z"
   },
   {
    "duration": 8,
    "start_time": "2021-06-15T15:02:41.045Z"
   },
   {
    "duration": 3847,
    "start_time": "2021-06-15T15:02:41.055Z"
   },
   {
    "duration": 190,
    "start_time": "2021-06-15T15:02:44.906Z"
   },
   {
    "duration": 10,
    "start_time": "2021-06-15T15:02:45.098Z"
   },
   {
    "duration": 10,
    "start_time": "2021-06-15T15:02:45.110Z"
   },
   {
    "duration": 7,
    "start_time": "2021-06-15T15:02:45.122Z"
   },
   {
    "duration": 13,
    "start_time": "2021-06-15T15:02:45.131Z"
   },
   {
    "duration": 7399,
    "start_time": "2021-06-15T15:14:12.908Z"
   },
   {
    "duration": 26,
    "start_time": "2021-06-15T15:14:28.774Z"
   },
   {
    "duration": 16188,
    "start_time": "2021-06-15T15:14:49.416Z"
   },
   {
    "duration": 34,
    "start_time": "2021-06-15T15:15:08.193Z"
   },
   {
    "duration": 7799,
    "start_time": "2021-06-15T15:16:06.797Z"
   },
   {
    "duration": 19,
    "start_time": "2021-06-15T15:16:16.743Z"
   },
   {
    "duration": 4561,
    "start_time": "2021-06-15T15:22:46.340Z"
   },
   {
    "duration": 8,
    "start_time": "2021-06-15T15:22:53.507Z"
   },
   {
    "duration": 16407,
    "start_time": "2021-06-15T15:24:54.589Z"
   },
   {
    "duration": 31,
    "start_time": "2021-06-15T15:25:15.008Z"
   },
   {
    "duration": 30477,
    "start_time": "2021-06-15T15:28:54.027Z"
   },
   {
    "duration": 37,
    "start_time": "2021-06-15T15:29:49.410Z"
   },
   {
    "duration": 9,
    "start_time": "2021-06-15T15:33:13.298Z"
   },
   {
    "duration": 7,
    "start_time": "2021-06-15T15:33:19.015Z"
   },
   {
    "duration": 25,
    "start_time": "2021-06-15T15:33:28.047Z"
   },
   {
    "duration": 11,
    "start_time": "2021-06-15T15:37:21.446Z"
   },
   {
    "duration": 499663,
    "start_time": "2021-06-15T15:37:32.665Z"
   },
   {
    "duration": 14,
    "start_time": "2021-06-15T15:55:04.479Z"
   },
   {
    "duration": 1663,
    "start_time": "2021-06-15T21:23:48.426Z"
   },
   {
    "duration": 6,
    "start_time": "2021-06-15T21:23:50.091Z"
   },
   {
    "duration": 27,
    "start_time": "2021-06-15T21:23:50.100Z"
   },
   {
    "duration": 66,
    "start_time": "2021-06-15T21:23:50.130Z"
   },
   {
    "duration": 38,
    "start_time": "2021-06-15T21:23:50.198Z"
   },
   {
    "duration": 678,
    "start_time": "2021-06-15T21:23:50.238Z"
   },
   {
    "duration": 676,
    "start_time": "2021-06-15T21:23:50.919Z"
   },
   {
    "duration": 854,
    "start_time": "2021-06-15T21:23:51.599Z"
   },
   {
    "duration": 541,
    "start_time": "2021-06-15T21:23:52.456Z"
   },
   {
    "duration": 464,
    "start_time": "2021-06-15T21:23:52.999Z"
   },
   {
    "duration": 634,
    "start_time": "2021-06-15T21:23:53.466Z"
   },
   {
    "duration": 5,
    "start_time": "2021-06-15T21:23:54.102Z"
   },
   {
    "duration": 25,
    "start_time": "2021-06-15T21:23:54.110Z"
   },
   {
    "duration": 31,
    "start_time": "2021-06-15T21:23:54.138Z"
   },
   {
    "duration": 10,
    "start_time": "2021-06-15T21:23:54.171Z"
   },
   {
    "duration": 13,
    "start_time": "2021-06-15T21:23:54.184Z"
   },
   {
    "duration": 10,
    "start_time": "2021-06-15T21:23:54.226Z"
   },
   {
    "duration": 43,
    "start_time": "2021-06-15T21:23:54.239Z"
   },
   {
    "duration": 531,
    "start_time": "2021-06-15T21:23:54.285Z"
   },
   {
    "duration": 137,
    "start_time": "2021-06-15T21:23:54.681Z"
   },
   {
    "duration": 135,
    "start_time": "2021-06-15T21:23:54.685Z"
   },
   {
    "duration": 134,
    "start_time": "2021-06-15T21:23:54.687Z"
   },
   {
    "duration": 1638,
    "start_time": "2021-06-15T21:29:08.711Z"
   },
   {
    "duration": 5,
    "start_time": "2021-06-15T21:29:10.351Z"
   },
   {
    "duration": 15,
    "start_time": "2021-06-15T21:29:10.360Z"
   },
   {
    "duration": 68,
    "start_time": "2021-06-15T21:29:10.378Z"
   },
   {
    "duration": 29,
    "start_time": "2021-06-15T21:29:10.449Z"
   },
   {
    "duration": 701,
    "start_time": "2021-06-15T21:29:10.480Z"
   },
   {
    "duration": 672,
    "start_time": "2021-06-15T21:29:11.183Z"
   },
   {
    "duration": 839,
    "start_time": "2021-06-15T21:29:11.859Z"
   },
   {
    "duration": 530,
    "start_time": "2021-06-15T21:29:12.701Z"
   },
   {
    "duration": 453,
    "start_time": "2021-06-15T21:29:13.233Z"
   },
   {
    "duration": 617,
    "start_time": "2021-06-15T21:29:13.689Z"
   },
   {
    "duration": 16,
    "start_time": "2021-06-15T21:29:14.309Z"
   },
   {
    "duration": 15,
    "start_time": "2021-06-15T21:29:14.327Z"
   },
   {
    "duration": 29,
    "start_time": "2021-06-15T21:29:14.344Z"
   },
   {
    "duration": 8,
    "start_time": "2021-06-15T21:29:14.376Z"
   },
   {
    "duration": 42,
    "start_time": "2021-06-15T21:29:14.387Z"
   },
   {
    "duration": 16,
    "start_time": "2021-06-15T21:29:14.432Z"
   },
   {
    "duration": 45,
    "start_time": "2021-06-15T21:29:14.450Z"
   },
   {
    "duration": 541,
    "start_time": "2021-06-15T21:29:14.498Z"
   },
   {
    "duration": 139,
    "start_time": "2021-06-15T21:29:14.902Z"
   },
   {
    "duration": 138,
    "start_time": "2021-06-15T21:29:14.905Z"
   },
   {
    "duration": 132,
    "start_time": "2021-06-15T21:29:14.912Z"
   },
   {
    "duration": 1642,
    "start_time": "2021-06-15T21:36:15.226Z"
   },
   {
    "duration": 5,
    "start_time": "2021-06-15T21:36:16.871Z"
   },
   {
    "duration": 16,
    "start_time": "2021-06-15T21:36:16.879Z"
   },
   {
    "duration": 66,
    "start_time": "2021-06-15T21:36:16.897Z"
   },
   {
    "duration": 30,
    "start_time": "2021-06-15T21:36:16.965Z"
   },
   {
    "duration": 708,
    "start_time": "2021-06-15T21:36:16.997Z"
   },
   {
    "duration": 667,
    "start_time": "2021-06-15T21:36:17.708Z"
   },
   {
    "duration": 832,
    "start_time": "2021-06-15T21:36:18.378Z"
   },
   {
    "duration": 627,
    "start_time": "2021-06-15T21:36:19.214Z"
   },
   {
    "duration": 464,
    "start_time": "2021-06-15T21:36:19.844Z"
   },
   {
    "duration": 662,
    "start_time": "2021-06-15T21:36:20.311Z"
   },
   {
    "duration": 6,
    "start_time": "2021-06-15T21:36:20.975Z"
   },
   {
    "duration": 17,
    "start_time": "2021-06-15T21:36:20.983Z"
   },
   {
    "duration": 46,
    "start_time": "2021-06-15T21:36:21.003Z"
   },
   {
    "duration": 12,
    "start_time": "2021-06-15T21:36:21.051Z"
   },
   {
    "duration": 13,
    "start_time": "2021-06-15T21:36:21.065Z"
   },
   {
    "duration": 26,
    "start_time": "2021-06-15T21:36:21.080Z"
   },
   {
    "duration": 69,
    "start_time": "2021-06-15T21:36:21.108Z"
   },
   {
    "duration": 14,
    "start_time": "2021-06-15T21:36:21.180Z"
   },
   {
    "duration": 510,
    "start_time": "2021-06-15T21:36:21.196Z"
   },
   {
    "duration": 140,
    "start_time": "2021-06-15T21:36:21.569Z"
   },
   {
    "duration": 138,
    "start_time": "2021-06-15T21:36:21.572Z"
   },
   {
    "duration": 1837,
    "start_time": "2021-06-15T21:37:49.436Z"
   },
   {
    "duration": 5,
    "start_time": "2021-06-15T21:37:51.276Z"
   },
   {
    "duration": 15,
    "start_time": "2021-06-15T21:37:51.285Z"
   },
   {
    "duration": 69,
    "start_time": "2021-06-15T21:37:51.302Z"
   },
   {
    "duration": 59,
    "start_time": "2021-06-15T21:37:51.374Z"
   },
   {
    "duration": 713,
    "start_time": "2021-06-15T21:37:51.436Z"
   },
   {
    "duration": 773,
    "start_time": "2021-06-15T21:37:52.152Z"
   },
   {
    "duration": 816,
    "start_time": "2021-06-15T21:37:52.929Z"
   },
   {
    "duration": 517,
    "start_time": "2021-06-15T21:37:53.748Z"
   },
   {
    "duration": 466,
    "start_time": "2021-06-15T21:37:54.267Z"
   },
   {
    "duration": 659,
    "start_time": "2021-06-15T21:37:54.735Z"
   },
   {
    "duration": 5,
    "start_time": "2021-06-15T21:37:55.397Z"
   },
   {
    "duration": 35,
    "start_time": "2021-06-15T21:37:55.405Z"
   },
   {
    "duration": 31,
    "start_time": "2021-06-15T21:37:55.442Z"
   },
   {
    "duration": 8,
    "start_time": "2021-06-15T21:37:55.476Z"
   },
   {
    "duration": 13,
    "start_time": "2021-06-15T21:37:55.486Z"
   },
   {
    "duration": 31,
    "start_time": "2021-06-15T21:37:55.502Z"
   },
   {
    "duration": 54,
    "start_time": "2021-06-15T21:37:55.536Z"
   },
   {
    "duration": 35,
    "start_time": "2021-06-15T21:37:55.593Z"
   },
   {
    "duration": 82452,
    "start_time": "2021-06-15T21:37:55.630Z"
   },
   {
    "duration": 16,
    "start_time": "2021-06-15T21:39:18.084Z"
   },
   {
    "duration": 1618,
    "start_time": "2021-06-15T21:48:43.209Z"
   },
   {
    "duration": 6,
    "start_time": "2021-06-15T21:48:44.829Z"
   },
   {
    "duration": 15,
    "start_time": "2021-06-15T21:48:44.838Z"
   },
   {
    "duration": 74,
    "start_time": "2021-06-15T21:48:44.856Z"
   },
   {
    "duration": 29,
    "start_time": "2021-06-15T21:48:44.932Z"
   },
   {
    "duration": 695,
    "start_time": "2021-06-15T21:48:44.963Z"
   },
   {
    "duration": 671,
    "start_time": "2021-06-15T21:48:45.660Z"
   },
   {
    "duration": 834,
    "start_time": "2021-06-15T21:48:46.335Z"
   },
   {
    "duration": 530,
    "start_time": "2021-06-15T21:48:47.172Z"
   },
   {
    "duration": 456,
    "start_time": "2021-06-15T21:48:47.704Z"
   },
   {
    "duration": 629,
    "start_time": "2021-06-15T21:48:48.162Z"
   },
   {
    "duration": 5,
    "start_time": "2021-06-15T21:48:48.793Z"
   },
   {
    "duration": 31,
    "start_time": "2021-06-15T21:48:48.801Z"
   },
   {
    "duration": 31,
    "start_time": "2021-06-15T21:48:48.834Z"
   },
   {
    "duration": 13,
    "start_time": "2021-06-15T21:48:48.867Z"
   },
   {
    "duration": 14,
    "start_time": "2021-06-15T21:48:48.882Z"
   },
   {
    "duration": 31,
    "start_time": "2021-06-15T21:48:48.898Z"
   },
   {
    "duration": 55,
    "start_time": "2021-06-15T21:48:48.932Z"
   },
   {
    "duration": 42,
    "start_time": "2021-06-15T21:48:48.990Z"
   },
   {
    "duration": 10,
    "start_time": "2021-06-15T21:48:49.034Z"
   },
   {
    "duration": 18,
    "start_time": "2021-06-15T21:48:49.046Z"
   },
   {
    "duration": 8665,
    "start_time": "2021-06-15T21:56:09.524Z"
   },
   {
    "duration": 8563,
    "start_time": "2021-06-15T21:56:56.727Z"
   },
   {
    "duration": 143,
    "start_time": "2021-06-15T21:57:05.150Z"
   },
   {
    "duration": 14,
    "start_time": "2021-06-15T21:57:16.979Z"
   },
   {
    "duration": 14,
    "start_time": "2021-06-15T21:57:22.954Z"
   },
   {
    "duration": 8641,
    "start_time": "2021-06-15T21:57:30.565Z"
   },
   {
    "duration": 6,
    "start_time": "2021-06-15T21:57:50.112Z"
   },
   {
    "duration": 426,
    "start_time": "2021-06-15T21:58:05.386Z"
   },
   {
    "duration": 1631,
    "start_time": "2021-06-15T22:01:24.066Z"
   },
   {
    "duration": 5,
    "start_time": "2021-06-15T22:01:25.699Z"
   },
   {
    "duration": 28,
    "start_time": "2021-06-15T22:01:25.708Z"
   },
   {
    "duration": 62,
    "start_time": "2021-06-15T22:01:25.739Z"
   },
   {
    "duration": 39,
    "start_time": "2021-06-15T22:01:25.803Z"
   },
   {
    "duration": 699,
    "start_time": "2021-06-15T22:01:25.845Z"
   },
   {
    "duration": 668,
    "start_time": "2021-06-15T22:01:26.546Z"
   },
   {
    "duration": 946,
    "start_time": "2021-06-15T22:01:27.219Z"
   },
   {
    "duration": 530,
    "start_time": "2021-06-15T22:01:28.169Z"
   },
   {
    "duration": 460,
    "start_time": "2021-06-15T22:01:28.702Z"
   },
   {
    "duration": 771,
    "start_time": "2021-06-15T22:01:29.165Z"
   },
   {
    "duration": 7,
    "start_time": "2021-06-15T22:01:29.939Z"
   },
   {
    "duration": 20,
    "start_time": "2021-06-15T22:01:29.949Z"
   },
   {
    "duration": 64,
    "start_time": "2021-06-15T22:01:29.972Z"
   },
   {
    "duration": 12,
    "start_time": "2021-06-15T22:01:30.038Z"
   },
   {
    "duration": 16,
    "start_time": "2021-06-15T22:01:30.053Z"
   },
   {
    "duration": 19,
    "start_time": "2021-06-15T22:01:30.071Z"
   },
   {
    "duration": 90,
    "start_time": "2021-06-15T22:01:30.092Z"
   },
   {
    "duration": 41,
    "start_time": "2021-06-15T22:01:30.185Z"
   },
   {
    "duration": 10,
    "start_time": "2021-06-15T22:01:30.228Z"
   },
   {
    "duration": 21,
    "start_time": "2021-06-15T22:01:30.241Z"
   },
   {
    "duration": 1629,
    "start_time": "2021-06-15T22:02:52.858Z"
   },
   {
    "duration": 6,
    "start_time": "2021-06-15T22:02:54.489Z"
   },
   {
    "duration": 17,
    "start_time": "2021-06-15T22:02:54.525Z"
   },
   {
    "duration": 60,
    "start_time": "2021-06-15T22:02:54.545Z"
   },
   {
    "duration": 42,
    "start_time": "2021-06-15T22:02:54.607Z"
   },
   {
    "duration": 721,
    "start_time": "2021-06-15T22:02:54.652Z"
   },
   {
    "duration": 677,
    "start_time": "2021-06-15T22:02:55.376Z"
   },
   {
    "duration": 858,
    "start_time": "2021-06-15T22:02:56.057Z"
   },
   {
    "duration": 533,
    "start_time": "2021-06-15T22:02:56.917Z"
   },
   {
    "duration": 456,
    "start_time": "2021-06-15T22:02:57.453Z"
   },
   {
    "duration": 672,
    "start_time": "2021-06-15T22:02:57.912Z"
   },
   {
    "duration": 5,
    "start_time": "2021-06-15T22:02:58.586Z"
   },
   {
    "duration": 42,
    "start_time": "2021-06-15T22:02:58.594Z"
   },
   {
    "duration": 53,
    "start_time": "2021-06-15T22:02:58.640Z"
   },
   {
    "duration": 29,
    "start_time": "2021-06-15T22:02:58.696Z"
   },
   {
    "duration": 21,
    "start_time": "2021-06-15T22:02:58.729Z"
   },
   {
    "duration": 26,
    "start_time": "2021-06-15T22:02:58.754Z"
   },
   {
    "duration": 121,
    "start_time": "2021-06-15T22:02:58.784Z"
   },
   {
    "duration": 30,
    "start_time": "2021-06-15T22:02:58.908Z"
   },
   {
    "duration": 16,
    "start_time": "2021-06-15T22:02:58.941Z"
   },
   {
    "duration": 26,
    "start_time": "2021-06-15T22:02:58.961Z"
   },
   {
    "duration": 1774,
    "start_time": "2021-06-15T22:02:58.990Z"
   },
   {
    "duration": 11,
    "start_time": "2021-06-15T22:03:49.051Z"
   },
   {
    "duration": 14,
    "start_time": "2021-06-15T22:03:50.861Z"
   },
   {
    "duration": 312,
    "start_time": "2021-06-15T22:03:52.017Z"
   },
   {
    "duration": 201,
    "start_time": "2021-06-15T22:11:54.131Z"
   },
   {
    "duration": 351,
    "start_time": "2021-06-15T22:12:37.551Z"
   },
   {
    "duration": 349,
    "start_time": "2021-06-15T22:13:12.623Z"
   },
   {
    "duration": 540,
    "start_time": "2021-06-15T22:14:34.669Z"
   },
   {
    "duration": 268,
    "start_time": "2021-06-15T22:14:49.157Z"
   },
   {
    "duration": 9,
    "start_time": "2021-06-15T22:15:43.470Z"
   },
   {
    "duration": 6,
    "start_time": "2021-06-15T22:15:51.693Z"
   },
   {
    "duration": 83,
    "start_time": "2021-06-15T22:17:15.342Z"
   },
   {
    "duration": 3193,
    "start_time": "2021-06-15T22:17:57.713Z"
   },
   {
    "duration": 3183,
    "start_time": "2021-06-15T22:18:03.453Z"
   },
   {
    "duration": 767,
    "start_time": "2021-06-15T22:18:37.301Z"
   },
   {
    "duration": 2390,
    "start_time": "2021-06-15T22:19:01.624Z"
   },
   {
    "duration": 9,
    "start_time": "2021-06-15T22:19:04.017Z"
   },
   {
    "duration": 18,
    "start_time": "2021-06-15T22:19:04.029Z"
   },
   {
    "duration": 82,
    "start_time": "2021-06-15T22:19:04.051Z"
   },
   {
    "duration": 32,
    "start_time": "2021-06-15T22:19:04.136Z"
   },
   {
    "duration": 704,
    "start_time": "2021-06-15T22:19:04.171Z"
   },
   {
    "duration": 668,
    "start_time": "2021-06-15T22:19:04.879Z"
   },
   {
    "duration": 823,
    "start_time": "2021-06-15T22:19:05.552Z"
   },
   {
    "duration": 517,
    "start_time": "2021-06-15T22:19:06.378Z"
   },
   {
    "duration": 460,
    "start_time": "2021-06-15T22:19:06.897Z"
   },
   {
    "duration": 626,
    "start_time": "2021-06-15T22:19:07.359Z"
   },
   {
    "duration": 5,
    "start_time": "2021-06-15T22:19:07.988Z"
   },
   {
    "duration": 31,
    "start_time": "2021-06-15T22:19:07.996Z"
   },
   {
    "duration": 46,
    "start_time": "2021-06-15T22:19:08.031Z"
   },
   {
    "duration": 8,
    "start_time": "2021-06-15T22:19:08.080Z"
   },
   {
    "duration": 51,
    "start_time": "2021-06-15T22:19:08.091Z"
   },
   {
    "duration": 26,
    "start_time": "2021-06-15T22:19:08.145Z"
   },
   {
    "duration": 91,
    "start_time": "2021-06-15T22:19:08.174Z"
   },
   {
    "duration": 20,
    "start_time": "2021-06-15T22:19:08.268Z"
   },
   {
    "duration": 13,
    "start_time": "2021-06-15T22:19:08.291Z"
   },
   {
    "duration": 18,
    "start_time": "2021-06-15T22:19:08.328Z"
   },
   {
    "duration": 289,
    "start_time": "2021-06-15T22:19:08.349Z"
   },
   {
    "duration": 979,
    "start_time": "2021-06-15T22:19:08.730Z"
   },
   {
    "duration": -746,
    "start_time": "2021-06-15T22:19:10.457Z"
   },
   {
    "duration": 8,
    "start_time": "2021-06-15T22:19:32.073Z"
   },
   {
    "duration": 55,
    "start_time": "2021-06-15T22:20:38.610Z"
   },
   {
    "duration": 812,
    "start_time": "2021-06-15T22:24:00.599Z"
   },
   {
    "duration": 758,
    "start_time": "2021-06-15T22:24:23.551Z"
   },
   {
    "duration": 9,
    "start_time": "2021-06-15T22:24:26.653Z"
   },
   {
    "duration": 2033,
    "start_time": "2021-06-15T22:24:48.616Z"
   },
   {
    "duration": 8,
    "start_time": "2021-06-15T22:24:50.653Z"
   },
   {
    "duration": 23,
    "start_time": "2021-06-15T22:24:50.666Z"
   },
   {
    "duration": 94,
    "start_time": "2021-06-15T22:24:50.694Z"
   },
   {
    "duration": 45,
    "start_time": "2021-06-15T22:24:50.792Z"
   },
   {
    "duration": 700,
    "start_time": "2021-06-15T22:24:50.839Z"
   },
   {
    "duration": 687,
    "start_time": "2021-06-15T22:24:51.542Z"
   },
   {
    "duration": 849,
    "start_time": "2021-06-15T22:24:52.233Z"
   },
   {
    "duration": 539,
    "start_time": "2021-06-15T22:24:53.086Z"
   },
   {
    "duration": 461,
    "start_time": "2021-06-15T22:24:53.627Z"
   },
   {
    "duration": 669,
    "start_time": "2021-06-15T22:24:54.090Z"
   },
   {
    "duration": 5,
    "start_time": "2021-06-15T22:24:54.762Z"
   },
   {
    "duration": 20,
    "start_time": "2021-06-15T22:24:54.769Z"
   },
   {
    "duration": 60,
    "start_time": "2021-06-15T22:24:54.791Z"
   },
   {
    "duration": 9,
    "start_time": "2021-06-15T22:24:54.853Z"
   },
   {
    "duration": 13,
    "start_time": "2021-06-15T22:24:54.865Z"
   },
   {
    "duration": 46,
    "start_time": "2021-06-15T22:24:54.882Z"
   },
   {
    "duration": 98,
    "start_time": "2021-06-15T22:24:54.931Z"
   },
   {
    "duration": 21,
    "start_time": "2021-06-15T22:24:55.032Z"
   },
   {
    "duration": 14,
    "start_time": "2021-06-15T22:24:55.057Z"
   },
   {
    "duration": 51,
    "start_time": "2021-06-15T22:24:55.074Z"
   },
   {
    "duration": 201,
    "start_time": "2021-06-15T22:24:55.129Z"
   },
   {
    "duration": 94,
    "start_time": "2021-06-15T22:24:55.336Z"
   },
   {
    "duration": 491,
    "start_time": "2021-06-15T22:24:55.433Z"
   },
   {
    "duration": 138,
    "start_time": "2021-06-15T22:24:55.789Z"
   },
   {
    "duration": 7,
    "start_time": "2021-06-15T22:26:51.078Z"
   },
   {
    "duration": 7,
    "start_time": "2021-06-15T22:27:32.881Z"
   },
   {
    "duration": 8,
    "start_time": "2021-06-15T22:27:52.757Z"
   },
   {
    "duration": 11461,
    "start_time": "2021-06-15T22:28:14.238Z"
   },
   {
    "duration": 11533,
    "start_time": "2021-06-15T22:28:42.001Z"
   },
   {
    "duration": 174,
    "start_time": "2021-06-15T22:30:07.954Z"
   },
   {
    "duration": 257,
    "start_time": "2021-06-15T22:31:02.370Z"
   },
   {
    "duration": 134,
    "start_time": "2021-06-15T22:31:23.998Z"
   },
   {
    "duration": 128,
    "start_time": "2021-06-15T22:31:42.803Z"
   },
   {
    "duration": 8,
    "start_time": "2021-06-15T22:32:54.099Z"
   },
   {
    "duration": 9,
    "start_time": "2021-06-15T22:33:18.172Z"
   },
   {
    "duration": 7,
    "start_time": "2021-06-15T22:33:36.451Z"
   },
   {
    "duration": 9,
    "start_time": "2021-06-15T22:34:19.623Z"
   },
   {
    "duration": 7,
    "start_time": "2021-06-15T22:35:25.450Z"
   },
   {
    "duration": 7,
    "start_time": "2021-06-15T22:35:43.861Z"
   },
   {
    "duration": 6,
    "start_time": "2021-06-15T22:35:54.348Z"
   },
   {
    "duration": 9,
    "start_time": "2021-06-15T22:35:59.402Z"
   },
   {
    "duration": 10,
    "start_time": "2021-06-15T22:36:11.547Z"
   },
   {
    "duration": 9,
    "start_time": "2021-06-15T22:38:22.032Z"
   },
   {
    "duration": 349,
    "start_time": "2021-06-15T22:38:42.079Z"
   },
   {
    "duration": 384,
    "start_time": "2021-06-15T22:39:45.029Z"
   },
   {
    "duration": 396,
    "start_time": "2021-06-15T22:40:36.283Z"
   },
   {
    "duration": 348,
    "start_time": "2021-06-15T22:41:37.435Z"
   },
   {
    "duration": 350,
    "start_time": "2021-06-15T22:42:02.975Z"
   },
   {
    "duration": 2360,
    "start_time": "2021-06-15T22:42:17.967Z"
   },
   {
    "duration": 8,
    "start_time": "2021-06-15T22:42:20.331Z"
   },
   {
    "duration": 27,
    "start_time": "2021-06-15T22:42:20.349Z"
   },
   {
    "duration": 105,
    "start_time": "2021-06-15T22:42:20.379Z"
   },
   {
    "duration": 63,
    "start_time": "2021-06-15T22:42:20.487Z"
   },
   {
    "duration": 696,
    "start_time": "2021-06-15T22:42:20.554Z"
   },
   {
    "duration": 683,
    "start_time": "2021-06-15T22:42:21.253Z"
   },
   {
    "duration": 862,
    "start_time": "2021-06-15T22:42:21.940Z"
   },
   {
    "duration": 540,
    "start_time": "2021-06-15T22:42:22.805Z"
   },
   {
    "duration": 462,
    "start_time": "2021-06-15T22:42:23.347Z"
   },
   {
    "duration": 716,
    "start_time": "2021-06-15T22:42:23.811Z"
   },
   {
    "duration": 5,
    "start_time": "2021-06-15T22:42:24.530Z"
   },
   {
    "duration": 15,
    "start_time": "2021-06-15T22:42:24.538Z"
   },
   {
    "duration": 75,
    "start_time": "2021-06-15T22:42:24.557Z"
   },
   {
    "duration": 12,
    "start_time": "2021-06-15T22:42:24.634Z"
   },
   {
    "duration": 17,
    "start_time": "2021-06-15T22:42:24.649Z"
   },
   {
    "duration": 26,
    "start_time": "2021-06-15T22:42:24.669Z"
   },
   {
    "duration": 81,
    "start_time": "2021-06-15T22:42:24.698Z"
   },
   {
    "duration": 15,
    "start_time": "2021-06-15T22:42:24.782Z"
   },
   {
    "duration": 29,
    "start_time": "2021-06-15T22:42:24.799Z"
   },
   {
    "duration": 21,
    "start_time": "2021-06-15T22:42:24.831Z"
   },
   {
    "duration": 369,
    "start_time": "2021-06-15T22:42:24.857Z"
   },
   {
    "duration": 548,
    "start_time": "2021-06-15T22:42:25.228Z"
   },
   {
    "duration": 135,
    "start_time": "2021-06-15T22:42:25.643Z"
   },
   {
    "duration": 393,
    "start_time": "2021-06-15T22:43:45.573Z"
   },
   {
    "duration": 382,
    "start_time": "2021-06-15T22:48:23.240Z"
   },
   {
    "duration": 18,
    "start_time": "2021-06-15T22:48:46.932Z"
   },
   {
    "duration": 373,
    "start_time": "2021-06-15T22:49:24.720Z"
   },
   {
    "duration": 12,
    "start_time": "2021-06-15T22:49:32.213Z"
   },
   {
    "duration": 14,
    "start_time": "2021-06-15T22:49:45.997Z"
   },
   {
    "duration": 29,
    "start_time": "2021-06-15T22:55:43.514Z"
   },
   {
    "duration": 1693,
    "start_time": "2021-06-15T22:56:17.012Z"
   },
   {
    "duration": 7,
    "start_time": "2021-06-15T22:56:18.708Z"
   },
   {
    "duration": 21,
    "start_time": "2021-06-15T22:56:18.718Z"
   },
   {
    "duration": 61,
    "start_time": "2021-06-15T22:56:18.743Z"
   },
   {
    "duration": 31,
    "start_time": "2021-06-15T22:56:18.827Z"
   },
   {
    "duration": 1152,
    "start_time": "2021-06-15T22:56:18.861Z"
   },
   {
    "duration": 1091,
    "start_time": "2021-06-15T22:56:20.017Z"
   },
   {
    "duration": 1398,
    "start_time": "2021-06-15T22:56:21.113Z"
   },
   {
    "duration": 838,
    "start_time": "2021-06-15T22:56:22.515Z"
   },
   {
    "duration": 722,
    "start_time": "2021-06-15T22:56:23.356Z"
   },
   {
    "duration": 960,
    "start_time": "2021-06-15T22:56:24.081Z"
   },
   {
    "duration": 8,
    "start_time": "2021-06-15T22:56:25.045Z"
   },
   {
    "duration": 22,
    "start_time": "2021-06-15T22:56:25.056Z"
   },
   {
    "duration": 59,
    "start_time": "2021-06-15T22:56:25.081Z"
   },
   {
    "duration": 15,
    "start_time": "2021-06-15T22:56:25.143Z"
   },
   {
    "duration": 20,
    "start_time": "2021-06-15T22:56:25.161Z"
   },
   {
    "duration": 22,
    "start_time": "2021-06-15T22:56:25.184Z"
   },
   {
    "duration": 67,
    "start_time": "2021-06-15T22:56:25.209Z"
   },
   {
    "duration": 16,
    "start_time": "2021-06-15T22:56:25.278Z"
   },
   {
    "duration": 30,
    "start_time": "2021-06-15T22:56:25.296Z"
   },
   {
    "duration": 17,
    "start_time": "2021-06-15T22:56:25.328Z"
   },
   {
    "duration": 92,
    "start_time": "2021-06-15T22:56:25.347Z"
   },
   {
    "duration": 116,
    "start_time": "2021-06-15T22:56:25.531Z"
   },
   {
    "duration": 474,
    "start_time": "2021-06-15T22:56:25.650Z"
   },
   {
    "duration": 23,
    "start_time": "2021-06-15T22:57:04.618Z"
   },
   {
    "duration": 12,
    "start_time": "2021-06-15T22:57:41.938Z"
   },
   {
    "duration": 304,
    "start_time": "2021-06-15T22:58:10.172Z"
   },
   {
    "duration": 748,
    "start_time": "2021-06-15T23:01:13.016Z"
   },
   {
    "duration": 427,
    "start_time": "2021-06-15T23:01:39.504Z"
   },
   {
    "duration": 429,
    "start_time": "2021-06-15T23:03:35.712Z"
   },
   {
    "duration": 442,
    "start_time": "2021-06-15T23:04:25.891Z"
   },
   {
    "duration": 530,
    "start_time": "2021-06-15T23:04:39.501Z"
   },
   {
    "duration": 452,
    "start_time": "2021-06-15T23:05:55.884Z"
   },
   {
    "duration": 5,
    "start_time": "2021-06-15T23:17:36.761Z"
   },
   {
    "duration": 8550,
    "start_time": "2021-06-15T23:19:34.960Z"
   },
   {
    "duration": 9222,
    "start_time": "2021-06-15T23:19:56.455Z"
   },
   {
    "duration": 701,
    "start_time": "2021-06-15T23:20:54.878Z"
   },
   {
    "duration": 6,
    "start_time": "2021-06-15T23:21:53.448Z"
   },
   {
    "duration": 687,
    "start_time": "2021-06-15T23:21:55.949Z"
   },
   {
    "duration": 1174,
    "start_time": "2021-06-15T23:23:10.651Z"
   },
   {
    "duration": 5,
    "start_time": "2021-06-15T23:24:27.841Z"
   },
   {
    "duration": 331,
    "start_time": "2021-06-15T23:25:02.902Z"
   },
   {
    "duration": 327,
    "start_time": "2021-06-15T23:25:11.303Z"
   },
   {
    "duration": 5,
    "start_time": "2021-06-15T23:27:24.279Z"
   },
   {
    "duration": 8710,
    "start_time": "2021-06-15T23:27:56.480Z"
   },
   {
    "duration": 13,
    "start_time": "2021-06-15T23:28:56.890Z"
   },
   {
    "duration": 12590,
    "start_time": "2021-06-15T23:29:04.310Z"
   },
   {
    "duration": 10,
    "start_time": "2021-06-15T23:33:29.110Z"
   },
   {
    "duration": 111,
    "start_time": "2021-06-15T23:33:33.858Z"
   },
   {
    "duration": 6,
    "start_time": "2021-06-15T23:34:20.114Z"
   },
   {
    "duration": 204378,
    "start_time": "2021-06-15T23:34:20.980Z"
   },
   {
    "duration": 1766,
    "start_time": "2021-06-15T23:37:49.097Z"
   },
   {
    "duration": 6,
    "start_time": "2021-06-15T23:37:50.865Z"
   },
   {
    "duration": 16,
    "start_time": "2021-06-15T23:37:50.874Z"
   },
   {
    "duration": 72,
    "start_time": "2021-06-15T23:37:50.892Z"
   },
   {
    "duration": 30,
    "start_time": "2021-06-15T23:37:50.967Z"
   },
   {
    "duration": 698,
    "start_time": "2021-06-15T23:37:50.999Z"
   },
   {
    "duration": 877,
    "start_time": "2021-06-15T23:37:51.701Z"
   },
   {
    "duration": 847,
    "start_time": "2021-06-15T23:37:52.581Z"
   },
   {
    "duration": 540,
    "start_time": "2021-06-15T23:37:53.433Z"
   },
   {
    "duration": 463,
    "start_time": "2021-06-15T23:37:53.977Z"
   },
   {
    "duration": 674,
    "start_time": "2021-06-15T23:37:54.442Z"
   },
   {
    "duration": 9,
    "start_time": "2021-06-15T23:37:55.119Z"
   },
   {
    "duration": 19,
    "start_time": "2021-06-15T23:37:55.131Z"
   },
   {
    "duration": 30,
    "start_time": "2021-06-15T23:37:55.153Z"
   },
   {
    "duration": 13,
    "start_time": "2021-06-15T23:37:55.186Z"
   },
   {
    "duration": 29,
    "start_time": "2021-06-15T23:37:55.202Z"
   },
   {
    "duration": 24,
    "start_time": "2021-06-15T23:37:55.234Z"
   },
   {
    "duration": 66,
    "start_time": "2021-06-15T23:37:55.260Z"
   },
   {
    "duration": 16,
    "start_time": "2021-06-15T23:37:55.328Z"
   },
   {
    "duration": 10,
    "start_time": "2021-06-15T23:37:55.346Z"
   },
   {
    "duration": 24,
    "start_time": "2021-06-15T23:37:55.359Z"
   },
   {
    "duration": 7,
    "start_time": "2021-06-15T23:37:55.386Z"
   },
   {
    "duration": 413566,
    "start_time": "2021-06-15T23:37:55.426Z"
   },
   {
    "duration": 1718,
    "start_time": "2021-06-15T23:45:16.683Z"
   },
   {
    "duration": 5,
    "start_time": "2021-06-15T23:45:18.404Z"
   },
   {
    "duration": 24,
    "start_time": "2021-06-15T23:45:18.413Z"
   },
   {
    "duration": 64,
    "start_time": "2021-06-15T23:45:18.440Z"
   },
   {
    "duration": 39,
    "start_time": "2021-06-15T23:45:18.506Z"
   },
   {
    "duration": 698,
    "start_time": "2021-06-15T23:45:18.547Z"
   },
   {
    "duration": 666,
    "start_time": "2021-06-15T23:45:19.248Z"
   },
   {
    "duration": 1023,
    "start_time": "2021-06-15T23:45:19.919Z"
   },
   {
    "duration": 536,
    "start_time": "2021-06-15T23:45:20.945Z"
   },
   {
    "duration": 462,
    "start_time": "2021-06-15T23:45:21.484Z"
   },
   {
    "duration": 655,
    "start_time": "2021-06-15T23:45:21.949Z"
   },
   {
    "duration": 6,
    "start_time": "2021-06-15T23:45:22.607Z"
   },
   {
    "duration": 22,
    "start_time": "2021-06-15T23:45:22.615Z"
   },
   {
    "duration": 30,
    "start_time": "2021-06-15T23:45:22.640Z"
   },
   {
    "duration": 9,
    "start_time": "2021-06-15T23:45:22.672Z"
   },
   {
    "duration": 46,
    "start_time": "2021-06-15T23:45:22.683Z"
   },
   {
    "duration": 15,
    "start_time": "2021-06-15T23:45:22.731Z"
   },
   {
    "duration": 56,
    "start_time": "2021-06-15T23:45:22.749Z"
   },
   {
    "duration": 32,
    "start_time": "2021-06-15T23:45:22.807Z"
   },
   {
    "duration": 10,
    "start_time": "2021-06-15T23:45:22.841Z"
   },
   {
    "duration": 23,
    "start_time": "2021-06-15T23:45:22.853Z"
   },
   {
    "duration": 7,
    "start_time": "2021-06-15T23:45:22.879Z"
   },
   {
    "duration": 522982,
    "start_time": "2021-06-15T23:45:22.891Z"
   },
   {
    "duration": 385,
    "start_time": "2021-06-16T12:24:45.291Z"
   },
   {
    "duration": 1695,
    "start_time": "2021-06-16T12:24:51.394Z"
   },
   {
    "duration": 5,
    "start_time": "2021-06-16T12:24:53.092Z"
   },
   {
    "duration": 16,
    "start_time": "2021-06-16T12:24:53.100Z"
   },
   {
    "duration": 81,
    "start_time": "2021-06-16T12:24:53.119Z"
   },
   {
    "duration": 35,
    "start_time": "2021-06-16T12:24:53.203Z"
   },
   {
    "duration": 717,
    "start_time": "2021-06-16T12:24:53.240Z"
   },
   {
    "duration": 741,
    "start_time": "2021-06-16T12:24:53.963Z"
   },
   {
    "duration": 1198,
    "start_time": "2021-06-16T12:24:54.708Z"
   },
   {
    "duration": 535,
    "start_time": "2021-06-16T12:24:55.909Z"
   },
   {
    "duration": 435,
    "start_time": "2021-06-16T12:24:56.447Z"
   },
   {
    "duration": 651,
    "start_time": "2021-06-16T12:24:56.885Z"
   },
   {
    "duration": 566,
    "start_time": "2021-06-16T12:24:57.538Z"
   },
   {
    "duration": 7,
    "start_time": "2021-06-16T12:24:58.108Z"
   },
   {
    "duration": 29,
    "start_time": "2021-06-16T12:24:58.117Z"
   },
   {
    "duration": 56,
    "start_time": "2021-06-16T12:24:58.147Z"
   },
   {
    "duration": 20,
    "start_time": "2021-06-16T12:24:58.205Z"
   },
   {
    "duration": 14,
    "start_time": "2021-06-16T12:24:58.227Z"
   },
   {
    "duration": 39,
    "start_time": "2021-06-16T12:24:58.245Z"
   },
   {
    "duration": 65,
    "start_time": "2021-06-16T12:24:58.287Z"
   },
   {
    "duration": 25,
    "start_time": "2021-06-16T12:24:58.354Z"
   },
   {
    "duration": 11,
    "start_time": "2021-06-16T12:24:58.382Z"
   },
   {
    "duration": 25,
    "start_time": "2021-06-16T12:24:58.397Z"
   },
   {
    "duration": 33,
    "start_time": "2021-06-16T12:24:58.429Z"
   },
   {
    "duration": 106472,
    "start_time": "2021-06-16T12:24:58.465Z"
   },
   {
    "duration": 544,
    "start_time": "2021-06-16T12:26:44.395Z"
   },
   {
    "duration": 1621,
    "start_time": "2021-06-16T12:26:51.716Z"
   },
   {
    "duration": 7,
    "start_time": "2021-06-16T12:26:53.340Z"
   },
   {
    "duration": 19,
    "start_time": "2021-06-16T12:26:53.362Z"
   },
   {
    "duration": 85,
    "start_time": "2021-06-16T12:26:53.386Z"
   },
   {
    "duration": 52,
    "start_time": "2021-06-16T12:26:53.474Z"
   },
   {
    "duration": 789,
    "start_time": "2021-06-16T12:26:53.529Z"
   },
   {
    "duration": 842,
    "start_time": "2021-06-16T12:26:54.320Z"
   },
   {
    "duration": 912,
    "start_time": "2021-06-16T12:26:55.167Z"
   },
   {
    "duration": 670,
    "start_time": "2021-06-16T12:26:56.086Z"
   },
   {
    "duration": 445,
    "start_time": "2021-06-16T12:26:56.761Z"
   },
   {
    "duration": 714,
    "start_time": "2021-06-16T12:26:57.209Z"
   },
   {
    "duration": 642,
    "start_time": "2021-06-16T12:26:57.925Z"
   },
   {
    "duration": 12,
    "start_time": "2021-06-16T12:26:58.572Z"
   },
   {
    "duration": 39,
    "start_time": "2021-06-16T12:26:58.587Z"
   },
   {
    "duration": 55,
    "start_time": "2021-06-16T12:26:58.629Z"
   },
   {
    "duration": 9,
    "start_time": "2021-06-16T12:26:58.687Z"
   },
   {
    "duration": 15,
    "start_time": "2021-06-16T12:26:58.698Z"
   },
   {
    "duration": 20,
    "start_time": "2021-06-16T12:26:58.715Z"
   },
   {
    "duration": 84,
    "start_time": "2021-06-16T12:26:58.737Z"
   },
   {
    "duration": 14,
    "start_time": "2021-06-16T12:26:58.823Z"
   },
   {
    "duration": 12,
    "start_time": "2021-06-16T12:26:58.861Z"
   },
   {
    "duration": 25,
    "start_time": "2021-06-16T12:26:58.876Z"
   },
   {
    "duration": 6,
    "start_time": "2021-06-16T12:26:58.918Z"
   },
   {
    "duration": 113907,
    "start_time": "2021-06-16T12:26:58.927Z"
   },
   {
    "duration": 644,
    "start_time": "2021-06-16T12:28:52.837Z"
   }
  ],
  "kernelspec": {
   "display_name": "Python 3",
   "language": "python",
   "name": "python3"
  },
  "language_info": {
   "codemirror_mode": {
    "name": "ipython",
    "version": 3
   },
   "file_extension": ".py",
   "mimetype": "text/x-python",
   "name": "python",
   "nbconvert_exporter": "python",
   "pygments_lexer": "ipython3",
   "version": "3.7.10"
  },
  "toc": {
   "base_numbering": 1,
   "nav_menu": {},
   "number_sections": true,
   "sideBar": true,
   "skip_h1_title": true,
   "title_cell": "Содержание",
   "title_sidebar": "Contents",
   "toc_cell": true,
   "toc_position": {},
   "toc_section_display": true,
   "toc_window_display": true
  }
 },
 "nbformat": 4,
 "nbformat_minor": 2
}
