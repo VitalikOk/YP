{
 "cells": [
  {
   "cell_type": "markdown",
   "metadata": {},
   "source": [
    "# Промышленность"
   ]
  },
  {
   "cell_type": "markdown",
   "metadata": {},
   "source": [
    "### Реализация"
   ]
  },
  {
   "cell_type": "markdown",
   "metadata": {},
   "source": [
    "#### Импорт библиотек"
   ]
  },
  {
   "cell_type": "code",
   "execution_count": 1,
   "metadata": {},
   "outputs": [],
   "source": [
    "import pandas as pd\n",
    "import numpy as np\n",
    "import matplotlib.pyplot as plt\n",
    "import seaborn  as sns\n",
    "from IPython.display import HTML, display\n",
    "from sklearn.model_selection import train_test_split\n",
    "from sklearn.metrics import mean_absolute_error\n",
    "from sklearn.metrics.scorer import make_scorer\n",
    "import re\n",
    "from tqdm.auto import tqdm\n",
    "from sklearn.pipeline import Pipeline\n",
    "from sklearn.linear_model import LinearRegression\n",
    "from sklearn.tree import DecisionTreeRegressor\n",
    "from sklearn.ensemble import RandomForestRegressor\n",
    "from lightgbm import LGBMRegressor \n",
    "from sklearn.preprocessing import StandardScaler\n",
    "import time\n",
    "from sklearn.model_selection import cross_val_score\n",
    "from tensorflow import keras\n",
    "from tensorflow.keras.optimizers import Adam\n",
    "from tensorflow.keras.callbacks import EarlyStopping   "
   ]
  },
  {
   "cell_type": "markdown",
   "metadata": {},
   "source": [
    "#### Пути к файлам"
   ]
  },
  {
   "cell_type": "code",
   "execution_count": 2,
   "metadata": {},
   "outputs": [],
   "source": [
    "DATA_SET_LOCAL_PATH = './datasets/'\n",
    "DATA_SET_YP_PATH = '/datasets/final_steel/'\n",
    "DATA_PROJECT_DIR='./project_data/'"
   ]
  },
  {
   "cell_type": "markdown",
   "metadata": {},
   "source": [
    "#### Описание функций для анализа тех процесса"
   ]
  },
  {
   "cell_type": "code",
   "execution_count": 3,
   "metadata": {
    "scrolled": false
   },
   "outputs": [],
   "source": [
    "def save_file_csv(data,file_name):\n",
    "    try:\n",
    "        data.to_csv(DATA_PROJECT_DIR+file_name, index=False)     \n",
    "    except:\n",
    "        print('Файл не сохранен. Директория не существует: ',DATA_PROJECT_DIR)\n",
    "def disp_font_size(text,font_size=3):\n",
    "    #display(HTML(f\"<font size='{font_size}'>{text}</font>\"))\n",
    "    display(text)\n",
    "def get_data(file_name,title='',path=''):\n",
    "    \"\"\"\n",
    "    Функция для загрузки данных из файла и ввода информации об этих данных\n",
    "    Функция возвращает pdndas.DataFrame с данными загруженными из файла\n",
    "    \"\"\"\n",
    "    \n",
    "    try:\n",
    "        data = pd.read_csv(DATA_SET_LOCAL_PATH+file_name)\n",
    "    except:\n",
    "        data = pd.read_csv(DATA_SET_YP_PATH+file_name)\n",
    "    print('===================')\n",
    "    display(f\"{file_name} - {title}\")    \n",
    "    print('===================')\n",
    "    display(data.info())\n",
    "    display(data.head(5))\n",
    "    print('===================')\n",
    "    return data\n",
    "\n",
    "def get_stat(data, draw=False, bins=20):\n",
    "    \"\"\"\n",
    "    Функция для вывода статистических данных о столбце (Series):\n",
    "    Средние, минимальные и максимальные значения, медиану и величины 25%- и 75%-квартилей.\n",
    "    При draw = True на экран выводятся boxplot,  distplot с отображением Q1, Q3 и Q1-3*irq,Q3+3*irq\n",
    "    Функция возвращает границы выбросов (Q1-3*irq, Q3+3*irq)\n",
    "    \"\"\"\n",
    "    q_1 = data.quantile(0.25, interpolation='nearest')\n",
    "    q_3 = data.quantile(0.75, interpolation='nearest')\n",
    "    irq = q_3 - q_1\n",
    "    out_l = q_1 - 3*irq\n",
    "    out_r = q_3 + 3*irq    \n",
    "    print(f\"Среднее: {data.mean()} || Медиана: {data.median()} \\n\")\n",
    "    print(f\"Минимум: {data.min()} || Максимум: {data.max()} \\n\")   \n",
    "    print(f\"25%-квартилей: {q_1}  || 75%-квартилей: {q_3} \\n\")  \n",
    "    print(f\"Выьросы q_1 - 3*irq: {out_l} || q_3 + 3*irq : {out_r} \\n\")      \n",
    "    \n",
    "    if draw:\n",
    "        fig, ax = plt.subplots(1,2,figsize=(17, 3))\n",
    "        sns.boxplot(x=data, ax=ax[0])\n",
    "        sns.histplot(x=data, ax=ax[1],bins=bins) \n",
    "        plt.axvline(q_1,color='g',linestyle='--') \n",
    "        plt.axvline(q_3,color='g',linestyle='--')\n",
    "        plt.axvline(out_l,color='r',linestyle='--') \n",
    "        plt.axvline(out_r,color='r',linestyle='--')\n",
    "        plt.show()   \n",
    "    return out_l, out_r"
   ]
  },
  {
   "cell_type": "markdown",
   "metadata": {},
   "source": [
    "#### Перевод имен колонок"
   ]
  },
  {
   "cell_type": "code",
   "execution_count": 4,
   "metadata": {},
   "outputs": [],
   "source": [
    "# Список соответствия названий колонок к их переводу\n",
    "# И функции для работы с этим списком\n",
    "\n",
    "columns_name = {\n",
    "     'temp_first':'Первый замер температуры'\n",
    "    ,'temp_last':'Последний замер температуры'\n",
    "    ,'delta_time':'Время между замерами'\n",
    "    ,'time_measur':'Время замера'\n",
    "    ,'temperature':'Температура'\n",
    "    ,'begin_heat':'Начало нагрева дугой'\n",
    "    ,'end_heat':'Конец нагрева дугой'\n",
    "    ,'active_power':'Активная мощность'\n",
    "    ,'reactive_power':'Реактивная мощность'\n",
    "    ,'time_heat':'Время нагрева'\n",
    "    ,'gas':'Газ 1'\n",
    "    ,'time_heat_sum':'Суммарное время нагрева'\n",
    "    ,'active_power_mean':'Средняя активная мощность'\n",
    "    ,'reactive_power_mean':'Средняя реактивная мощность'\n",
    "    , 'count_heat':'Количество нагревов'\n",
    "}\n",
    "def get_keybyval(val,dc=columns_name):\n",
    "    \"\"\"\n",
    "    key by value in dict\n",
    "    \"\"\"\n",
    "    for idn, v in dc.items():\n",
    "        if v == val:\n",
    "            return(idn)\n",
    "    return val   \n",
    "\n",
    "def rename_colbyvals(data,vals,dc=columns_name):\n",
    "    \"\"\"\n",
    "    rename columns by list of vals\n",
    "    using columns name dict\n",
    "    \"\"\"\n",
    "    for val in vals:\n",
    "        data = data.rename(columns={val:get_keybyval(val)})\n",
    "    return data\n",
    "def print_coldisc(vals,dc=columns_name):\n",
    "    \"\"\"\n",
    "    print col name from \n",
    "    \"\"\"\n",
    "    col_n = []\n",
    "#     end = ', '\n",
    "    for col in vals:\n",
    "#         if col == vals[-1]: \n",
    "#             end = '\\n'\n",
    "        try:\n",
    "            col_n.append(dc[col]) #+= f\"{}{end}\"\n",
    "        except:\n",
    "            col_n.append(col) #col_n += f\"{col}{end}\"  \n",
    "    return(col_n)   "
   ]
  },
  {
   "cell_type": "markdown",
   "metadata": {},
   "source": [
    "#### Результаты измерения температуры"
   ]
  },
  {
   "cell_type": "code",
   "execution_count": 5,
   "metadata": {},
   "outputs": [],
   "source": [
    "#Список Дата Фреймоф с признаками\n",
    "data_features = [] "
   ]
  },
  {
   "cell_type": "code",
   "execution_count": 6,
   "metadata": {},
   "outputs": [
    {
     "name": "stdout",
     "output_type": "stream",
     "text": [
      "===================\n"
     ]
    },
    {
     "data": {
      "text/plain": [
       "'data_temp.csv - Результаты измерения температуры'"
      ]
     },
     "metadata": {},
     "output_type": "display_data"
    },
    {
     "name": "stdout",
     "output_type": "stream",
     "text": [
      "===================\n",
      "<class 'pandas.core.frame.DataFrame'>\n",
      "RangeIndex: 15907 entries, 0 to 15906\n",
      "Data columns (total 3 columns):\n",
      "key             15907 non-null int64\n",
      "Время замера    15907 non-null object\n",
      "Температура     13006 non-null float64\n",
      "dtypes: float64(1), int64(1), object(1)\n",
      "memory usage: 372.9+ KB\n"
     ]
    },
    {
     "data": {
      "text/plain": [
       "None"
      ]
     },
     "metadata": {},
     "output_type": "display_data"
    },
    {
     "data": {
      "text/html": [
       "<div>\n",
       "<style scoped>\n",
       "    .dataframe tbody tr th:only-of-type {\n",
       "        vertical-align: middle;\n",
       "    }\n",
       "\n",
       "    .dataframe tbody tr th {\n",
       "        vertical-align: top;\n",
       "    }\n",
       "\n",
       "    .dataframe thead th {\n",
       "        text-align: right;\n",
       "    }\n",
       "</style>\n",
       "<table border=\"1\" class=\"dataframe\">\n",
       "  <thead>\n",
       "    <tr style=\"text-align: right;\">\n",
       "      <th></th>\n",
       "      <th>key</th>\n",
       "      <th>Время замера</th>\n",
       "      <th>Температура</th>\n",
       "    </tr>\n",
       "  </thead>\n",
       "  <tbody>\n",
       "    <tr>\n",
       "      <td>0</td>\n",
       "      <td>1</td>\n",
       "      <td>2019-05-03 11:16:18</td>\n",
       "      <td>1571.0</td>\n",
       "    </tr>\n",
       "    <tr>\n",
       "      <td>1</td>\n",
       "      <td>1</td>\n",
       "      <td>2019-05-03 11:25:53</td>\n",
       "      <td>1604.0</td>\n",
       "    </tr>\n",
       "    <tr>\n",
       "      <td>2</td>\n",
       "      <td>1</td>\n",
       "      <td>2019-05-03 11:29:11</td>\n",
       "      <td>1618.0</td>\n",
       "    </tr>\n",
       "    <tr>\n",
       "      <td>3</td>\n",
       "      <td>1</td>\n",
       "      <td>2019-05-03 11:30:01</td>\n",
       "      <td>1601.0</td>\n",
       "    </tr>\n",
       "    <tr>\n",
       "      <td>4</td>\n",
       "      <td>1</td>\n",
       "      <td>2019-05-03 11:30:39</td>\n",
       "      <td>1613.0</td>\n",
       "    </tr>\n",
       "  </tbody>\n",
       "</table>\n",
       "</div>"
      ],
      "text/plain": [
       "   key         Время замера  Температура\n",
       "0    1  2019-05-03 11:16:18       1571.0\n",
       "1    1  2019-05-03 11:25:53       1604.0\n",
       "2    1  2019-05-03 11:29:11       1618.0\n",
       "3    1  2019-05-03 11:30:01       1601.0\n",
       "4    1  2019-05-03 11:30:39       1613.0"
      ]
     },
     "metadata": {},
     "output_type": "display_data"
    },
    {
     "name": "stdout",
     "output_type": "stream",
     "text": [
      "===================\n"
     ]
    }
   ],
   "source": [
    "data_temp = get_data('data_temp.csv', 'Результаты измерения температуры') "
   ]
  },
  {
   "cell_type": "code",
   "execution_count": 7,
   "metadata": {},
   "outputs": [
    {
     "name": "stdout",
     "output_type": "stream",
     "text": [
      "<class 'pandas.core.frame.DataFrame'>\n",
      "RangeIndex: 15907 entries, 0 to 15906\n",
      "Data columns (total 3 columns):\n",
      "key            15907 non-null int64\n",
      "time_measur    15907 non-null datetime64[ns]\n",
      "temperature    13006 non-null float64\n",
      "dtypes: datetime64[ns](1), float64(1), int64(1)\n",
      "memory usage: 372.9 KB\n",
      "None\n"
     ]
    }
   ],
   "source": [
    "#Переименование столбцы для удобства работы\n",
    "data_temp = rename_colbyvals(data_temp,['Время замера','Температура'])\n",
    "#Изменение типов данных в столбцах с датой и временем\n",
    "data_temp['time_measur'] = pd.to_datetime(data_temp['time_measur'], format='%Y.%m.%d %H:%M:%S')\n",
    "print(data_temp.info())"
   ]
  },
  {
   "cell_type": "code",
   "execution_count": 8,
   "metadata": {},
   "outputs": [],
   "source": [
    "#Заполнение пропусков нолями\n",
    "data_temp = data_temp.fillna(0)"
   ]
  },
  {
   "cell_type": "code",
   "execution_count": 9,
   "metadata": {},
   "outputs": [
    {
     "data": {
      "text/html": [
       "<div>\n",
       "<style scoped>\n",
       "    .dataframe tbody tr th:only-of-type {\n",
       "        vertical-align: middle;\n",
       "    }\n",
       "\n",
       "    .dataframe tbody tr th {\n",
       "        vertical-align: top;\n",
       "    }\n",
       "\n",
       "    .dataframe thead th {\n",
       "        text-align: right;\n",
       "    }\n",
       "</style>\n",
       "<table border=\"1\" class=\"dataframe\">\n",
       "  <thead>\n",
       "    <tr style=\"text-align: right;\">\n",
       "      <th></th>\n",
       "      <th>temp_first</th>\n",
       "      <th>temp_last</th>\n",
       "      <th>delta_time</th>\n",
       "    </tr>\n",
       "    <tr>\n",
       "      <th>key</th>\n",
       "      <th></th>\n",
       "      <th></th>\n",
       "      <th></th>\n",
       "    </tr>\n",
       "  </thead>\n",
       "  <tbody>\n",
       "    <tr>\n",
       "      <td>1</td>\n",
       "      <td>1571.0</td>\n",
       "      <td>1613.0</td>\n",
       "      <td>861</td>\n",
       "    </tr>\n",
       "    <tr>\n",
       "      <td>2</td>\n",
       "      <td>1581.0</td>\n",
       "      <td>1602.0</td>\n",
       "      <td>1305</td>\n",
       "    </tr>\n",
       "    <tr>\n",
       "      <td>3</td>\n",
       "      <td>1596.0</td>\n",
       "      <td>1599.0</td>\n",
       "      <td>1300</td>\n",
       "    </tr>\n",
       "    <tr>\n",
       "      <td>4</td>\n",
       "      <td>1601.0</td>\n",
       "      <td>1625.0</td>\n",
       "      <td>388</td>\n",
       "    </tr>\n",
       "    <tr>\n",
       "      <td>5</td>\n",
       "      <td>1576.0</td>\n",
       "      <td>1602.0</td>\n",
       "      <td>762</td>\n",
       "    </tr>\n",
       "    <tr>\n",
       "      <td>...</td>\n",
       "      <td>...</td>\n",
       "      <td>...</td>\n",
       "      <td>...</td>\n",
       "    </tr>\n",
       "    <tr>\n",
       "      <td>3237</td>\n",
       "      <td>1569.0</td>\n",
       "      <td>0.0</td>\n",
       "      <td>1299</td>\n",
       "    </tr>\n",
       "    <tr>\n",
       "      <td>3238</td>\n",
       "      <td>1584.0</td>\n",
       "      <td>0.0</td>\n",
       "      <td>749</td>\n",
       "    </tr>\n",
       "    <tr>\n",
       "      <td>3239</td>\n",
       "      <td>1598.0</td>\n",
       "      <td>0.0</td>\n",
       "      <td>3148</td>\n",
       "    </tr>\n",
       "    <tr>\n",
       "      <td>3240</td>\n",
       "      <td>1617.0</td>\n",
       "      <td>0.0</td>\n",
       "      <td>3375</td>\n",
       "    </tr>\n",
       "    <tr>\n",
       "      <td>3241</td>\n",
       "      <td>1586.0</td>\n",
       "      <td>0.0</td>\n",
       "      <td>2078</td>\n",
       "    </tr>\n",
       "  </tbody>\n",
       "</table>\n",
       "<p>3216 rows × 3 columns</p>\n",
       "</div>"
      ],
      "text/plain": [
       "      temp_first  temp_last  delta_time\n",
       "key                                    \n",
       "1         1571.0     1613.0         861\n",
       "2         1581.0     1602.0        1305\n",
       "3         1596.0     1599.0        1300\n",
       "4         1601.0     1625.0         388\n",
       "5         1576.0     1602.0         762\n",
       "...          ...        ...         ...\n",
       "3237      1569.0        0.0        1299\n",
       "3238      1584.0        0.0         749\n",
       "3239      1598.0        0.0        3148\n",
       "3240      1617.0        0.0        3375\n",
       "3241      1586.0        0.0        2078\n",
       "\n",
       "[3216 rows x 3 columns]"
      ]
     },
     "metadata": {},
     "output_type": "display_data"
    }
   ],
   "source": [
    "#Подсчёт времени между замерами (в секундах)\n",
    "#Вывод начальной и конечной температуры\n",
    "data_temp = (\n",
    "\n",
    "                data_temp.sort_values(by = ['key','time_measur'])\n",
    "                .groupby('key')\n",
    "                .agg(\n",
    "                     time_measur_first = ('time_measur','first'),\n",
    "                     time_measur_last = ('time_measur','last'),\n",
    "                     temp_first = ('temperature','first'),\n",
    "                     temp_last = ('temperature','last')\n",
    "                    )\n",
    "                .assign(\n",
    "                        delta_time = (lambda x: (x['time_measur_last'] - x['time_measur_first'])\n",
    "                                      .dt.total_seconds().astype('int')                                                               \n",
    "                                     )\n",
    "                       )\n",
    "            )\n",
    "data_temp = data_temp.drop(columns=['time_measur_first','time_measur_last'])\n",
    "display(data_temp)"
   ]
  },
  {
   "cell_type": "code",
   "execution_count": 10,
   "metadata": {},
   "outputs": [
    {
     "name": "stdout",
     "output_type": "stream",
     "text": [
      "Нулевое значение температуры в 739 записях - 22.98%\n"
     ]
    }
   ],
   "source": [
    "temp_data_begin_size = data_temp.shape[0]\n",
    "#Удаляем все записи, где последнее измерение температуры равно 0\n",
    "zero = data_temp.loc[data_temp['temp_last'] == 0].index\n",
    "report_tl_zero = len(zero)\n",
    "data_temp = data_temp.drop(zero)\n",
    "del zero\n",
    "report_tl_zero_pr = round(report_tl_zero/temp_data_begin_size*100,2)\n",
    "print(f\"Нулевое значение температуры в {report_tl_zero} записях - {report_tl_zero_pr}%\")"
   ]
  },
  {
   "cell_type": "code",
   "execution_count": 11,
   "metadata": {},
   "outputs": [
    {
     "name": "stdout",
     "output_type": "stream",
     "text": [
      "Среднее: 1588.4057327412193 || Медиана: 1588.0 \n",
      "\n",
      "Минимум: 1191.0 || Максимум: 1679.0 \n",
      "\n",
      "25%-квартилей: 1572.0  || 75%-квартилей: 1605.0 \n",
      "\n",
      "Выьросы q_1 - 3*irq: 1473.0 || q_3 + 3*irq : 1704.0 \n",
      "\n"
     ]
    },
    {
     "data": {
      "image/png": "[encoded data removed]",
      "text/plain": [
       "<Figure size 1224x216 with 2 Axes>"
      ]
     },
     "metadata": {
      "needs_background": "light"
     },
     "output_type": "display_data"
    }
   ],
   "source": [
    "out_l, out_r = get_stat(data_temp['temp_first'],draw=True)"
   ]
  },
  {
   "cell_type": "code",
   "execution_count": 12,
   "metadata": {},
   "outputs": [
    {
     "name": "stdout",
     "output_type": "stream",
     "text": [
      "Выбросы обнаружены в  4 записях - 0.12%\n"
     ]
    }
   ],
   "source": [
    "#Удаляем все записи, где начальная температура попала в выбросы\n",
    "\n",
    "out = (\n",
    "          data_temp.loc[(data_temp['temp_first'] < out_l)\n",
    "                  | (data_temp['temp_first'] > out_r)].index\n",
    "       )\n",
    "report_tl_out = len(out)\n",
    "data_temp = data_temp.drop(out)                        \n",
    "del out\n",
    "report_tl_out_pr = round(report_tl_out/temp_data_begin_size*100,2)\n",
    "print(f\"Выбросы обнаружены в  {report_tl_out} записях - {report_tl_out_pr}%\")"
   ]
  },
  {
   "cell_type": "code",
   "execution_count": 13,
   "metadata": {},
   "outputs": [
    {
     "name": "stdout",
     "output_type": "stream",
     "text": [
      "Среднее: 1595.3380509502629 || Медиана: 1593.0 \n",
      "\n",
      "Минимум: 1541.0 || Максимум: 1700.0 \n",
      "\n",
      "25%-квартилей: 1587.0  || 75%-квартилей: 1599.0 \n",
      "\n",
      "Выьросы q_1 - 3*irq: 1551.0 || q_3 + 3*irq : 1635.0 \n",
      "\n"
     ]
    },
    {
     "data": {
      "image/png": "[encoded data removed]",
      "text/plain": [
       "<Figure size 1224x216 with 2 Axes>"
      ]
     },
     "metadata": {
      "needs_background": "light"
     },
     "output_type": "display_data"
    }
   ],
   "source": [
    "_, _ = get_stat(data_temp['temp_last'],draw=True)"
   ]
  },
  {
   "cell_type": "code",
   "execution_count": 14,
   "metadata": {},
   "outputs": [
    {
     "data": {
      "text/plain": [
       "temp_first    2473\n",
       "temp_last     2473\n",
       "delta_time    2473\n",
       "dtype: int64"
      ]
     },
     "execution_count": 14,
     "metadata": {},
     "output_type": "execute_result"
    }
   ],
   "source": [
    "data_temp.count()"
   ]
  },
  {
   "cell_type": "code",
   "execution_count": 15,
   "metadata": {},
   "outputs": [],
   "source": [
    "data_features.append(data_temp)\n",
    "del data_temp"
   ]
  },
  {
   "cell_type": "markdown",
   "metadata": {},
   "source": [
    "#### Данные об электродах"
   ]
  },
  {
   "cell_type": "code",
   "execution_count": 16,
   "metadata": {},
   "outputs": [
    {
     "name": "stdout",
     "output_type": "stream",
     "text": [
      "===================\n"
     ]
    },
    {
     "data": {
      "text/plain": [
       "'data_arc.csv - Данные об электродах'"
      ]
     },
     "metadata": {},
     "output_type": "display_data"
    },
    {
     "name": "stdout",
     "output_type": "stream",
     "text": [
      "===================\n",
      "<class 'pandas.core.frame.DataFrame'>\n",
      "RangeIndex: 14876 entries, 0 to 14875\n",
      "Data columns (total 5 columns):\n",
      "key                     14876 non-null int64\n",
      "Начало нагрева дугой    14876 non-null object\n",
      "Конец нагрева дугой     14876 non-null object\n",
      "Активная мощность       14876 non-null float64\n",
      "Реактивная мощность     14876 non-null float64\n",
      "dtypes: float64(2), int64(1), object(2)\n",
      "memory usage: 581.2+ KB\n"
     ]
    },
    {
     "data": {
      "text/plain": [
       "None"
      ]
     },
     "metadata": {},
     "output_type": "display_data"
    },
    {
     "data": {
      "text/html": [
       "<div>\n",
       "<style scoped>\n",
       "    .dataframe tbody tr th:only-of-type {\n",
       "        vertical-align: middle;\n",
       "    }\n",
       "\n",
       "    .dataframe tbody tr th {\n",
       "        vertical-align: top;\n",
       "    }\n",
       "\n",
       "    .dataframe thead th {\n",
       "        text-align: right;\n",
       "    }\n",
       "</style>\n",
       "<table border=\"1\" class=\"dataframe\">\n",
       "  <thead>\n",
       "    <tr style=\"text-align: right;\">\n",
       "      <th></th>\n",
       "      <th>key</th>\n",
       "      <th>Начало нагрева дугой</th>\n",
       "      <th>Конец нагрева дугой</th>\n",
       "      <th>Активная мощность</th>\n",
       "      <th>Реактивная мощность</th>\n",
       "    </tr>\n",
       "  </thead>\n",
       "  <tbody>\n",
       "    <tr>\n",
       "      <td>0</td>\n",
       "      <td>1</td>\n",
       "      <td>2019-05-03 11:02:14</td>\n",
       "      <td>2019-05-03 11:06:02</td>\n",
       "      <td>0.976059</td>\n",
       "      <td>0.687084</td>\n",
       "    </tr>\n",
       "    <tr>\n",
       "      <td>1</td>\n",
       "      <td>1</td>\n",
       "      <td>2019-05-03 11:07:28</td>\n",
       "      <td>2019-05-03 11:10:33</td>\n",
       "      <td>0.805607</td>\n",
       "      <td>0.520285</td>\n",
       "    </tr>\n",
       "    <tr>\n",
       "      <td>2</td>\n",
       "      <td>1</td>\n",
       "      <td>2019-05-03 11:11:44</td>\n",
       "      <td>2019-05-03 11:14:36</td>\n",
       "      <td>0.744363</td>\n",
       "      <td>0.498805</td>\n",
       "    </tr>\n",
       "    <tr>\n",
       "      <td>3</td>\n",
       "      <td>1</td>\n",
       "      <td>2019-05-03 11:18:14</td>\n",
       "      <td>2019-05-03 11:24:19</td>\n",
       "      <td>1.659363</td>\n",
       "      <td>1.062669</td>\n",
       "    </tr>\n",
       "    <tr>\n",
       "      <td>4</td>\n",
       "      <td>1</td>\n",
       "      <td>2019-05-03 11:26:09</td>\n",
       "      <td>2019-05-03 11:28:37</td>\n",
       "      <td>0.692755</td>\n",
       "      <td>0.414397</td>\n",
       "    </tr>\n",
       "  </tbody>\n",
       "</table>\n",
       "</div>"
      ],
      "text/plain": [
       "   key Начало нагрева дугой  Конец нагрева дугой  Активная мощность  \\\n",
       "0    1  2019-05-03 11:02:14  2019-05-03 11:06:02           0.976059   \n",
       "1    1  2019-05-03 11:07:28  2019-05-03 11:10:33           0.805607   \n",
       "2    1  2019-05-03 11:11:44  2019-05-03 11:14:36           0.744363   \n",
       "3    1  2019-05-03 11:18:14  2019-05-03 11:24:19           1.659363   \n",
       "4    1  2019-05-03 11:26:09  2019-05-03 11:28:37           0.692755   \n",
       "\n",
       "   Реактивная мощность  \n",
       "0             0.687084  \n",
       "1             0.520285  \n",
       "2             0.498805  \n",
       "3             1.062669  \n",
       "4             0.414397  "
      ]
     },
     "metadata": {},
     "output_type": "display_data"
    },
    {
     "name": "stdout",
     "output_type": "stream",
     "text": [
      "===================\n"
     ]
    }
   ],
   "source": [
    "data_arc = get_data('data_arc.csv', 'Данные об электродах')"
   ]
  },
  {
   "cell_type": "code",
   "execution_count": 17,
   "metadata": {},
   "outputs": [
    {
     "name": "stdout",
     "output_type": "stream",
     "text": [
      "<class 'pandas.core.frame.DataFrame'>\n",
      "RangeIndex: 14876 entries, 0 to 14875\n",
      "Data columns (total 5 columns):\n",
      "key               14876 non-null int64\n",
      "begin_heat        14876 non-null datetime64[ns]\n",
      "end_heat          14876 non-null datetime64[ns]\n",
      "active_power      14876 non-null float64\n",
      "reactive_power    14876 non-null float64\n",
      "dtypes: datetime64[ns](2), float64(2), int64(1)\n",
      "memory usage: 581.2 KB\n",
      "None\n"
     ]
    }
   ],
   "source": [
    "#Переименование столбцы для удобства работы\n",
    "\n",
    "data_arc = rename_colbyvals(data_arc,['Начало нагрева дугой','Конец нагрева дугой'\n",
    "                                 ,'Активная мощность','Реактивная мощность'])\n",
    "#Изменение типов данных в столбцах с датой и временем\n",
    "data_arc['begin_heat'] = pd.to_datetime(data_arc['begin_heat'], format='%Y.%m.%d %H:%M:%S')\n",
    "data_arc['end_heat'] = pd.to_datetime(data_arc['end_heat'], format='%Y.%m.%d %H:%M:%S')\n",
    "print(data_arc.info())"
   ]
  },
  {
   "cell_type": "code",
   "execution_count": 18,
   "metadata": {},
   "outputs": [
    {
     "data": {
      "text/html": [
       "<div>\n",
       "<style scoped>\n",
       "    .dataframe tbody tr th:only-of-type {\n",
       "        vertical-align: middle;\n",
       "    }\n",
       "\n",
       "    .dataframe tbody tr th {\n",
       "        vertical-align: top;\n",
       "    }\n",
       "\n",
       "    .dataframe thead th {\n",
       "        text-align: right;\n",
       "    }\n",
       "</style>\n",
       "<table border=\"1\" class=\"dataframe\">\n",
       "  <thead>\n",
       "    <tr style=\"text-align: right;\">\n",
       "      <th></th>\n",
       "      <th>key</th>\n",
       "      <th>begin_heat</th>\n",
       "      <th>end_heat</th>\n",
       "      <th>active_power</th>\n",
       "      <th>reactive_power</th>\n",
       "      <th>time_heat</th>\n",
       "    </tr>\n",
       "  </thead>\n",
       "  <tbody>\n",
       "    <tr>\n",
       "      <td>0</td>\n",
       "      <td>1</td>\n",
       "      <td>2019-05-03 11:02:14</td>\n",
       "      <td>2019-05-03 11:06:02</td>\n",
       "      <td>0.976059</td>\n",
       "      <td>0.687084</td>\n",
       "      <td>228</td>\n",
       "    </tr>\n",
       "    <tr>\n",
       "      <td>1</td>\n",
       "      <td>1</td>\n",
       "      <td>2019-05-03 11:07:28</td>\n",
       "      <td>2019-05-03 11:10:33</td>\n",
       "      <td>0.805607</td>\n",
       "      <td>0.520285</td>\n",
       "      <td>185</td>\n",
       "    </tr>\n",
       "    <tr>\n",
       "      <td>2</td>\n",
       "      <td>1</td>\n",
       "      <td>2019-05-03 11:11:44</td>\n",
       "      <td>2019-05-03 11:14:36</td>\n",
       "      <td>0.744363</td>\n",
       "      <td>0.498805</td>\n",
       "      <td>172</td>\n",
       "    </tr>\n",
       "    <tr>\n",
       "      <td>3</td>\n",
       "      <td>1</td>\n",
       "      <td>2019-05-03 11:18:14</td>\n",
       "      <td>2019-05-03 11:24:19</td>\n",
       "      <td>1.659363</td>\n",
       "      <td>1.062669</td>\n",
       "      <td>365</td>\n",
       "    </tr>\n",
       "    <tr>\n",
       "      <td>4</td>\n",
       "      <td>1</td>\n",
       "      <td>2019-05-03 11:26:09</td>\n",
       "      <td>2019-05-03 11:28:37</td>\n",
       "      <td>0.692755</td>\n",
       "      <td>0.414397</td>\n",
       "      <td>148</td>\n",
       "    </tr>\n",
       "  </tbody>\n",
       "</table>\n",
       "</div>"
      ],
      "text/plain": [
       "   key          begin_heat            end_heat  active_power  reactive_power  \\\n",
       "0    1 2019-05-03 11:02:14 2019-05-03 11:06:02      0.976059        0.687084   \n",
       "1    1 2019-05-03 11:07:28 2019-05-03 11:10:33      0.805607        0.520285   \n",
       "2    1 2019-05-03 11:11:44 2019-05-03 11:14:36      0.744363        0.498805   \n",
       "3    1 2019-05-03 11:18:14 2019-05-03 11:24:19      1.659363        1.062669   \n",
       "4    1 2019-05-03 11:26:09 2019-05-03 11:28:37      0.692755        0.414397   \n",
       "\n",
       "   time_heat  \n",
       "0        228  \n",
       "1        185  \n",
       "2        172  \n",
       "3        365  \n",
       "4        148  "
      ]
     },
     "metadata": {},
     "output_type": "display_data"
    }
   ],
   "source": [
    "#Подсчёт затраченного на нагрев времени (в секундах)\n",
    "#Выыод активной и реактивной мощности\n",
    "data_arc['time_heat'] = ((data_arc['end_heat'] - data_arc['begin_heat'])\n",
    "                                    .dt.total_seconds().astype('int') \n",
    "                                 )\n",
    "display(data_arc.head(5))"
   ]
  },
  {
   "cell_type": "code",
   "execution_count": 19,
   "metadata": {},
   "outputs": [],
   "source": [
    "#Подсчёт количества нагреваний\n",
    "data_arc = data_arc.groupby('key').agg(\n",
    "                                        time_heat_sum = ('time_heat', 'sum'),\n",
    "                                        active_power_mean = ('active_power','mean'),  \n",
    "                                        reactive_power_mean = ('reactive_power','mean'),\n",
    "                                        count_heat = ('active_power','count')\n",
    "                                      )"
   ]
  },
  {
   "cell_type": "code",
   "execution_count": 20,
   "metadata": {},
   "outputs": [
    {
     "data": {
      "text/html": [
       "<div>\n",
       "<style scoped>\n",
       "    .dataframe tbody tr th:only-of-type {\n",
       "        vertical-align: middle;\n",
       "    }\n",
       "\n",
       "    .dataframe tbody tr th {\n",
       "        vertical-align: top;\n",
       "    }\n",
       "\n",
       "    .dataframe thead th {\n",
       "        text-align: right;\n",
       "    }\n",
       "</style>\n",
       "<table border=\"1\" class=\"dataframe\">\n",
       "  <thead>\n",
       "    <tr style=\"text-align: right;\">\n",
       "      <th></th>\n",
       "      <th>time_heat_sum</th>\n",
       "      <th>active_power_mean</th>\n",
       "      <th>reactive_power_mean</th>\n",
       "      <th>count_heat</th>\n",
       "    </tr>\n",
       "    <tr>\n",
       "      <th>key</th>\n",
       "      <th></th>\n",
       "      <th></th>\n",
       "      <th></th>\n",
       "      <th></th>\n",
       "    </tr>\n",
       "  </thead>\n",
       "  <tbody>\n",
       "    <tr>\n",
       "      <td>943</td>\n",
       "      <td>61</td>\n",
       "      <td>0.199899</td>\n",
       "      <td>0.198835</td>\n",
       "      <td>1</td>\n",
       "    </tr>\n",
       "    <tr>\n",
       "      <td>2582</td>\n",
       "      <td>109</td>\n",
       "      <td>0.342977</td>\n",
       "      <td>0.340039</td>\n",
       "      <td>1</td>\n",
       "    </tr>\n",
       "    <tr>\n",
       "      <td>246</td>\n",
       "      <td>129</td>\n",
       "      <td>0.432823</td>\n",
       "      <td>0.315280</td>\n",
       "      <td>1</td>\n",
       "    </tr>\n",
       "    <tr>\n",
       "      <td>343</td>\n",
       "      <td>168</td>\n",
       "      <td>0.583838</td>\n",
       "      <td>0.448890</td>\n",
       "      <td>1</td>\n",
       "    </tr>\n",
       "    <tr>\n",
       "      <td>1914</td>\n",
       "      <td>111</td>\n",
       "      <td>0.384023</td>\n",
       "      <td>0.295312</td>\n",
       "      <td>1</td>\n",
       "    </tr>\n",
       "    <tr>\n",
       "      <td>...</td>\n",
       "      <td>...</td>\n",
       "      <td>...</td>\n",
       "      <td>...</td>\n",
       "      <td>...</td>\n",
       "    </tr>\n",
       "    <tr>\n",
       "      <td>322</td>\n",
       "      <td>2658</td>\n",
       "      <td>0.732406</td>\n",
       "      <td>0.616965</td>\n",
       "      <td>13</td>\n",
       "    </tr>\n",
       "    <tr>\n",
       "      <td>2567</td>\n",
       "      <td>1249</td>\n",
       "      <td>0.301025</td>\n",
       "      <td>0.306679</td>\n",
       "      <td>14</td>\n",
       "    </tr>\n",
       "    <tr>\n",
       "      <td>1689</td>\n",
       "      <td>4189</td>\n",
       "      <td>1.166433</td>\n",
       "      <td>0.839199</td>\n",
       "      <td>15</td>\n",
       "    </tr>\n",
       "    <tr>\n",
       "      <td>1513</td>\n",
       "      <td>2526</td>\n",
       "      <td>0.660690</td>\n",
       "      <td>0.542386</td>\n",
       "      <td>15</td>\n",
       "    </tr>\n",
       "    <tr>\n",
       "      <td>2108</td>\n",
       "      <td>2739</td>\n",
       "      <td>0.651684</td>\n",
       "      <td>0.629551</td>\n",
       "      <td>16</td>\n",
       "    </tr>\n",
       "  </tbody>\n",
       "</table>\n",
       "<p>3214 rows × 4 columns</p>\n",
       "</div>"
      ],
      "text/plain": [
       "      time_heat_sum  active_power_mean  reactive_power_mean  count_heat\n",
       "key                                                                    \n",
       "943              61           0.199899             0.198835           1\n",
       "2582            109           0.342977             0.340039           1\n",
       "246             129           0.432823             0.315280           1\n",
       "343             168           0.583838             0.448890           1\n",
       "1914            111           0.384023             0.295312           1\n",
       "...             ...                ...                  ...         ...\n",
       "322            2658           0.732406             0.616965          13\n",
       "2567           1249           0.301025             0.306679          14\n",
       "1689           4189           1.166433             0.839199          15\n",
       "1513           2526           0.660690             0.542386          15\n",
       "2108           2739           0.651684             0.629551          16\n",
       "\n",
       "[3214 rows x 4 columns]"
      ]
     },
     "metadata": {},
     "output_type": "display_data"
    }
   ],
   "source": [
    "display(data_arc.sort_values(by='count_heat'))"
   ]
  },
  {
   "cell_type": "code",
   "execution_count": 21,
   "metadata": {},
   "outputs": [],
   "source": [
    "data_features.append(data_arc)\n",
    "del data_arc"
   ]
  },
  {
   "cell_type": "markdown",
   "metadata": {},
   "source": [
    "#### Данные о подаче сыпучих материалов"
   ]
  },
  {
   "cell_type": "code",
   "execution_count": 22,
   "metadata": {
    "scrolled": false
   },
   "outputs": [
    {
     "name": "stdout",
     "output_type": "stream",
     "text": [
      "===================\n"
     ]
    },
    {
     "data": {
      "text/plain": [
       "'data_bulk.csv - Данные о подаче сыпучих материалов (объём)'"
      ]
     },
     "metadata": {},
     "output_type": "display_data"
    },
    {
     "name": "stdout",
     "output_type": "stream",
     "text": [
      "===================\n",
      "<class 'pandas.core.frame.DataFrame'>\n",
      "RangeIndex: 3129 entries, 0 to 3128\n",
      "Data columns (total 16 columns):\n",
      "key        3129 non-null int64\n",
      "Bulk 1     252 non-null float64\n",
      "Bulk 2     22 non-null float64\n",
      "Bulk 3     1298 non-null float64\n",
      "Bulk 4     1014 non-null float64\n",
      "Bulk 5     77 non-null float64\n",
      "Bulk 6     576 non-null float64\n",
      "Bulk 7     25 non-null float64\n",
      "Bulk 8     1 non-null float64\n",
      "Bulk 9     19 non-null float64\n",
      "Bulk 10    176 non-null float64\n",
      "Bulk 11    177 non-null float64\n",
      "Bulk 12    2450 non-null float64\n",
      "Bulk 13    18 non-null float64\n",
      "Bulk 14    2806 non-null float64\n",
      "Bulk 15    2248 non-null float64\n",
      "dtypes: float64(15), int64(1)\n",
      "memory usage: 391.2 KB\n"
     ]
    },
    {
     "data": {
      "text/plain": [
       "None"
      ]
     },
     "metadata": {},
     "output_type": "display_data"
    },
    {
     "data": {
      "text/html": [
       "<div>\n",
       "<style scoped>\n",
       "    .dataframe tbody tr th:only-of-type {\n",
       "        vertical-align: middle;\n",
       "    }\n",
       "\n",
       "    .dataframe tbody tr th {\n",
       "        vertical-align: top;\n",
       "    }\n",
       "\n",
       "    .dataframe thead th {\n",
       "        text-align: right;\n",
       "    }\n",
       "</style>\n",
       "<table border=\"1\" class=\"dataframe\">\n",
       "  <thead>\n",
       "    <tr style=\"text-align: right;\">\n",
       "      <th></th>\n",
       "      <th>key</th>\n",
       "      <th>Bulk 1</th>\n",
       "      <th>Bulk 2</th>\n",
       "      <th>Bulk 3</th>\n",
       "      <th>Bulk 4</th>\n",
       "      <th>Bulk 5</th>\n",
       "      <th>Bulk 6</th>\n",
       "      <th>Bulk 7</th>\n",
       "      <th>Bulk 8</th>\n",
       "      <th>Bulk 9</th>\n",
       "      <th>Bulk 10</th>\n",
       "      <th>Bulk 11</th>\n",
       "      <th>Bulk 12</th>\n",
       "      <th>Bulk 13</th>\n",
       "      <th>Bulk 14</th>\n",
       "      <th>Bulk 15</th>\n",
       "    </tr>\n",
       "  </thead>\n",
       "  <tbody>\n",
       "    <tr>\n",
       "      <td>0</td>\n",
       "      <td>1</td>\n",
       "      <td>NaN</td>\n",
       "      <td>NaN</td>\n",
       "      <td>NaN</td>\n",
       "      <td>43.0</td>\n",
       "      <td>NaN</td>\n",
       "      <td>NaN</td>\n",
       "      <td>NaN</td>\n",
       "      <td>NaN</td>\n",
       "      <td>NaN</td>\n",
       "      <td>NaN</td>\n",
       "      <td>NaN</td>\n",
       "      <td>206.0</td>\n",
       "      <td>NaN</td>\n",
       "      <td>150.0</td>\n",
       "      <td>154.0</td>\n",
       "    </tr>\n",
       "    <tr>\n",
       "      <td>1</td>\n",
       "      <td>2</td>\n",
       "      <td>NaN</td>\n",
       "      <td>NaN</td>\n",
       "      <td>NaN</td>\n",
       "      <td>73.0</td>\n",
       "      <td>NaN</td>\n",
       "      <td>NaN</td>\n",
       "      <td>NaN</td>\n",
       "      <td>NaN</td>\n",
       "      <td>NaN</td>\n",
       "      <td>NaN</td>\n",
       "      <td>NaN</td>\n",
       "      <td>206.0</td>\n",
       "      <td>NaN</td>\n",
       "      <td>149.0</td>\n",
       "      <td>154.0</td>\n",
       "    </tr>\n",
       "    <tr>\n",
       "      <td>2</td>\n",
       "      <td>3</td>\n",
       "      <td>NaN</td>\n",
       "      <td>NaN</td>\n",
       "      <td>NaN</td>\n",
       "      <td>34.0</td>\n",
       "      <td>NaN</td>\n",
       "      <td>NaN</td>\n",
       "      <td>NaN</td>\n",
       "      <td>NaN</td>\n",
       "      <td>NaN</td>\n",
       "      <td>NaN</td>\n",
       "      <td>NaN</td>\n",
       "      <td>205.0</td>\n",
       "      <td>NaN</td>\n",
       "      <td>152.0</td>\n",
       "      <td>153.0</td>\n",
       "    </tr>\n",
       "    <tr>\n",
       "      <td>3</td>\n",
       "      <td>4</td>\n",
       "      <td>NaN</td>\n",
       "      <td>NaN</td>\n",
       "      <td>NaN</td>\n",
       "      <td>81.0</td>\n",
       "      <td>NaN</td>\n",
       "      <td>NaN</td>\n",
       "      <td>NaN</td>\n",
       "      <td>NaN</td>\n",
       "      <td>NaN</td>\n",
       "      <td>NaN</td>\n",
       "      <td>NaN</td>\n",
       "      <td>207.0</td>\n",
       "      <td>NaN</td>\n",
       "      <td>153.0</td>\n",
       "      <td>154.0</td>\n",
       "    </tr>\n",
       "    <tr>\n",
       "      <td>4</td>\n",
       "      <td>5</td>\n",
       "      <td>NaN</td>\n",
       "      <td>NaN</td>\n",
       "      <td>NaN</td>\n",
       "      <td>78.0</td>\n",
       "      <td>NaN</td>\n",
       "      <td>NaN</td>\n",
       "      <td>NaN</td>\n",
       "      <td>NaN</td>\n",
       "      <td>NaN</td>\n",
       "      <td>NaN</td>\n",
       "      <td>NaN</td>\n",
       "      <td>203.0</td>\n",
       "      <td>NaN</td>\n",
       "      <td>151.0</td>\n",
       "      <td>152.0</td>\n",
       "    </tr>\n",
       "  </tbody>\n",
       "</table>\n",
       "</div>"
      ],
      "text/plain": [
       "   key  Bulk 1  Bulk 2  Bulk 3  Bulk 4  Bulk 5  Bulk 6  Bulk 7  Bulk 8  \\\n",
       "0    1     NaN     NaN     NaN    43.0     NaN     NaN     NaN     NaN   \n",
       "1    2     NaN     NaN     NaN    73.0     NaN     NaN     NaN     NaN   \n",
       "2    3     NaN     NaN     NaN    34.0     NaN     NaN     NaN     NaN   \n",
       "3    4     NaN     NaN     NaN    81.0     NaN     NaN     NaN     NaN   \n",
       "4    5     NaN     NaN     NaN    78.0     NaN     NaN     NaN     NaN   \n",
       "\n",
       "   Bulk 9  Bulk 10  Bulk 11  Bulk 12  Bulk 13  Bulk 14  Bulk 15  \n",
       "0     NaN      NaN      NaN    206.0      NaN    150.0    154.0  \n",
       "1     NaN      NaN      NaN    206.0      NaN    149.0    154.0  \n",
       "2     NaN      NaN      NaN    205.0      NaN    152.0    153.0  \n",
       "3     NaN      NaN      NaN    207.0      NaN    153.0    154.0  \n",
       "4     NaN      NaN      NaN    203.0      NaN    151.0    152.0  "
      ]
     },
     "metadata": {},
     "output_type": "display_data"
    },
    {
     "name": "stdout",
     "output_type": "stream",
     "text": [
      "===================\n"
     ]
    }
   ],
   "source": [
    "data_bulk = get_data('data_bulk.csv', 'Данные о подаче сыпучих материалов (объём)')"
   ]
  },
  {
   "cell_type": "code",
   "execution_count": 23,
   "metadata": {},
   "outputs": [
    {
     "data": {
      "text/html": [
       "<div>\n",
       "<style scoped>\n",
       "    .dataframe tbody tr th:only-of-type {\n",
       "        vertical-align: middle;\n",
       "    }\n",
       "\n",
       "    .dataframe tbody tr th {\n",
       "        vertical-align: top;\n",
       "    }\n",
       "\n",
       "    .dataframe thead th {\n",
       "        text-align: right;\n",
       "    }\n",
       "</style>\n",
       "<table border=\"1\" class=\"dataframe\">\n",
       "  <thead>\n",
       "    <tr style=\"text-align: right;\">\n",
       "      <th></th>\n",
       "      <th>Bulk 1</th>\n",
       "      <th>Bulk 2</th>\n",
       "      <th>Bulk 3</th>\n",
       "      <th>Bulk 4</th>\n",
       "      <th>Bulk 5</th>\n",
       "      <th>Bulk 6</th>\n",
       "      <th>Bulk 7</th>\n",
       "      <th>Bulk 8</th>\n",
       "      <th>Bulk 9</th>\n",
       "      <th>Bulk 10</th>\n",
       "      <th>Bulk 11</th>\n",
       "      <th>Bulk 12</th>\n",
       "      <th>Bulk 13</th>\n",
       "      <th>Bulk 14</th>\n",
       "      <th>Bulk 15</th>\n",
       "    </tr>\n",
       "    <tr>\n",
       "      <th>key</th>\n",
       "      <th></th>\n",
       "      <th></th>\n",
       "      <th></th>\n",
       "      <th></th>\n",
       "      <th></th>\n",
       "      <th></th>\n",
       "      <th></th>\n",
       "      <th></th>\n",
       "      <th></th>\n",
       "      <th></th>\n",
       "      <th></th>\n",
       "      <th></th>\n",
       "      <th></th>\n",
       "      <th></th>\n",
       "      <th></th>\n",
       "    </tr>\n",
       "  </thead>\n",
       "  <tbody>\n",
       "    <tr>\n",
       "      <td>1</td>\n",
       "      <td>0.0</td>\n",
       "      <td>0.0</td>\n",
       "      <td>0.0</td>\n",
       "      <td>43.0</td>\n",
       "      <td>0.0</td>\n",
       "      <td>0.0</td>\n",
       "      <td>0.0</td>\n",
       "      <td>0.0</td>\n",
       "      <td>0.0</td>\n",
       "      <td>0.0</td>\n",
       "      <td>0.0</td>\n",
       "      <td>206.0</td>\n",
       "      <td>0.0</td>\n",
       "      <td>150.0</td>\n",
       "      <td>154.0</td>\n",
       "    </tr>\n",
       "    <tr>\n",
       "      <td>2</td>\n",
       "      <td>0.0</td>\n",
       "      <td>0.0</td>\n",
       "      <td>0.0</td>\n",
       "      <td>73.0</td>\n",
       "      <td>0.0</td>\n",
       "      <td>0.0</td>\n",
       "      <td>0.0</td>\n",
       "      <td>0.0</td>\n",
       "      <td>0.0</td>\n",
       "      <td>0.0</td>\n",
       "      <td>0.0</td>\n",
       "      <td>206.0</td>\n",
       "      <td>0.0</td>\n",
       "      <td>149.0</td>\n",
       "      <td>154.0</td>\n",
       "    </tr>\n",
       "    <tr>\n",
       "      <td>3</td>\n",
       "      <td>0.0</td>\n",
       "      <td>0.0</td>\n",
       "      <td>0.0</td>\n",
       "      <td>34.0</td>\n",
       "      <td>0.0</td>\n",
       "      <td>0.0</td>\n",
       "      <td>0.0</td>\n",
       "      <td>0.0</td>\n",
       "      <td>0.0</td>\n",
       "      <td>0.0</td>\n",
       "      <td>0.0</td>\n",
       "      <td>205.0</td>\n",
       "      <td>0.0</td>\n",
       "      <td>152.0</td>\n",
       "      <td>153.0</td>\n",
       "    </tr>\n",
       "    <tr>\n",
       "      <td>4</td>\n",
       "      <td>0.0</td>\n",
       "      <td>0.0</td>\n",
       "      <td>0.0</td>\n",
       "      <td>81.0</td>\n",
       "      <td>0.0</td>\n",
       "      <td>0.0</td>\n",
       "      <td>0.0</td>\n",
       "      <td>0.0</td>\n",
       "      <td>0.0</td>\n",
       "      <td>0.0</td>\n",
       "      <td>0.0</td>\n",
       "      <td>207.0</td>\n",
       "      <td>0.0</td>\n",
       "      <td>153.0</td>\n",
       "      <td>154.0</td>\n",
       "    </tr>\n",
       "    <tr>\n",
       "      <td>5</td>\n",
       "      <td>0.0</td>\n",
       "      <td>0.0</td>\n",
       "      <td>0.0</td>\n",
       "      <td>78.0</td>\n",
       "      <td>0.0</td>\n",
       "      <td>0.0</td>\n",
       "      <td>0.0</td>\n",
       "      <td>0.0</td>\n",
       "      <td>0.0</td>\n",
       "      <td>0.0</td>\n",
       "      <td>0.0</td>\n",
       "      <td>203.0</td>\n",
       "      <td>0.0</td>\n",
       "      <td>151.0</td>\n",
       "      <td>152.0</td>\n",
       "    </tr>\n",
       "  </tbody>\n",
       "</table>\n",
       "</div>"
      ],
      "text/plain": [
       "     Bulk 1  Bulk 2  Bulk 3  Bulk 4  Bulk 5  Bulk 6  Bulk 7  Bulk 8  Bulk 9  \\\n",
       "key                                                                           \n",
       "1       0.0     0.0     0.0    43.0     0.0     0.0     0.0     0.0     0.0   \n",
       "2       0.0     0.0     0.0    73.0     0.0     0.0     0.0     0.0     0.0   \n",
       "3       0.0     0.0     0.0    34.0     0.0     0.0     0.0     0.0     0.0   \n",
       "4       0.0     0.0     0.0    81.0     0.0     0.0     0.0     0.0     0.0   \n",
       "5       0.0     0.0     0.0    78.0     0.0     0.0     0.0     0.0     0.0   \n",
       "\n",
       "     Bulk 10  Bulk 11  Bulk 12  Bulk 13  Bulk 14  Bulk 15  \n",
       "key                                                        \n",
       "1        0.0      0.0    206.0      0.0    150.0    154.0  \n",
       "2        0.0      0.0    206.0      0.0    149.0    154.0  \n",
       "3        0.0      0.0    205.0      0.0    152.0    153.0  \n",
       "4        0.0      0.0    207.0      0.0    153.0    154.0  \n",
       "5        0.0      0.0    203.0      0.0    151.0    152.0  "
      ]
     },
     "metadata": {},
     "output_type": "display_data"
    }
   ],
   "source": [
    "#Заполнение пропусков нолями\n",
    "data_bulk = data_bulk.fillna(0).set_index('key')\n",
    "display(data_bulk.head(5))"
   ]
  },
  {
   "cell_type": "code",
   "execution_count": 24,
   "metadata": {},
   "outputs": [],
   "source": [
    "#переименование столбцов\n",
    "for col in data_bulk.columns:\n",
    "    data_bulk = data_bulk.rename(columns={col:col.lower().replace(' ', '_')})"
   ]
  },
  {
   "cell_type": "code",
   "execution_count": 25,
   "metadata": {},
   "outputs": [
    {
     "data": {
      "text/plain": [
       "bulk_1       9889.0\n",
       "bulk_2       5567.0\n",
       "bulk_3     147815.0\n",
       "bulk_4     105856.0\n",
       "bulk_5       8241.0\n",
       "bulk_6      68501.0\n",
       "bulk_7       7640.0\n",
       "bulk_8         49.0\n",
       "bulk_9       1450.0\n",
       "bulk_10     14658.0\n",
       "bulk_11     13597.0\n",
       "bulk_12    638154.0\n",
       "bulk_13      3260.0\n",
       "bulk_14    477819.0\n",
       "bulk_15    360834.0\n",
       "dtype: float64"
      ]
     },
     "metadata": {},
     "output_type": "display_data"
    }
   ],
   "source": [
    "#поиск столбцов с небольшим количеством значений\n",
    "display(data_bulk.sum())"
   ]
  },
  {
   "cell_type": "code",
   "execution_count": 26,
   "metadata": {},
   "outputs": [],
   "source": [
    "#удаление строк со значением в столбце bulk_8\n",
    "data_bulk = data_bulk.drop(data_bulk.loc[data_bulk['bulk_8']>0].index)\n",
    "#удаление столбца bulk_8\n",
    "data_bulk = data_bulk.drop(columns=['bulk_8'])"
   ]
  },
  {
   "cell_type": "code",
   "execution_count": 27,
   "metadata": {},
   "outputs": [
    {
     "data": {
      "text/html": [
       "<div>\n",
       "<style scoped>\n",
       "    .dataframe tbody tr th:only-of-type {\n",
       "        vertical-align: middle;\n",
       "    }\n",
       "\n",
       "    .dataframe tbody tr th {\n",
       "        vertical-align: top;\n",
       "    }\n",
       "\n",
       "    .dataframe thead th {\n",
       "        text-align: right;\n",
       "    }\n",
       "</style>\n",
       "<table border=\"1\" class=\"dataframe\">\n",
       "  <thead>\n",
       "    <tr style=\"text-align: right;\">\n",
       "      <th></th>\n",
       "      <th>bulk_1</th>\n",
       "      <th>bulk_2</th>\n",
       "      <th>bulk_3</th>\n",
       "      <th>bulk_4</th>\n",
       "      <th>bulk_5</th>\n",
       "      <th>bulk_6</th>\n",
       "      <th>bulk_7</th>\n",
       "      <th>bulk_9</th>\n",
       "      <th>bulk_10</th>\n",
       "      <th>bulk_11</th>\n",
       "      <th>bulk_12</th>\n",
       "      <th>bulk_13</th>\n",
       "      <th>bulk_14</th>\n",
       "      <th>bulk_15</th>\n",
       "    </tr>\n",
       "    <tr>\n",
       "      <th>key</th>\n",
       "      <th></th>\n",
       "      <th></th>\n",
       "      <th></th>\n",
       "      <th></th>\n",
       "      <th></th>\n",
       "      <th></th>\n",
       "      <th></th>\n",
       "      <th></th>\n",
       "      <th></th>\n",
       "      <th></th>\n",
       "      <th></th>\n",
       "      <th></th>\n",
       "      <th></th>\n",
       "      <th></th>\n",
       "    </tr>\n",
       "  </thead>\n",
       "  <tbody>\n",
       "    <tr>\n",
       "      <td>1</td>\n",
       "      <td>0.0</td>\n",
       "      <td>0.0</td>\n",
       "      <td>0.0</td>\n",
       "      <td>43.0</td>\n",
       "      <td>0.0</td>\n",
       "      <td>0.0</td>\n",
       "      <td>0.0</td>\n",
       "      <td>0.0</td>\n",
       "      <td>0.0</td>\n",
       "      <td>0.0</td>\n",
       "      <td>206.0</td>\n",
       "      <td>0.0</td>\n",
       "      <td>150.0</td>\n",
       "      <td>154.0</td>\n",
       "    </tr>\n",
       "    <tr>\n",
       "      <td>2</td>\n",
       "      <td>0.0</td>\n",
       "      <td>0.0</td>\n",
       "      <td>0.0</td>\n",
       "      <td>73.0</td>\n",
       "      <td>0.0</td>\n",
       "      <td>0.0</td>\n",
       "      <td>0.0</td>\n",
       "      <td>0.0</td>\n",
       "      <td>0.0</td>\n",
       "      <td>0.0</td>\n",
       "      <td>206.0</td>\n",
       "      <td>0.0</td>\n",
       "      <td>149.0</td>\n",
       "      <td>154.0</td>\n",
       "    </tr>\n",
       "    <tr>\n",
       "      <td>3</td>\n",
       "      <td>0.0</td>\n",
       "      <td>0.0</td>\n",
       "      <td>0.0</td>\n",
       "      <td>34.0</td>\n",
       "      <td>0.0</td>\n",
       "      <td>0.0</td>\n",
       "      <td>0.0</td>\n",
       "      <td>0.0</td>\n",
       "      <td>0.0</td>\n",
       "      <td>0.0</td>\n",
       "      <td>205.0</td>\n",
       "      <td>0.0</td>\n",
       "      <td>152.0</td>\n",
       "      <td>153.0</td>\n",
       "    </tr>\n",
       "    <tr>\n",
       "      <td>4</td>\n",
       "      <td>0.0</td>\n",
       "      <td>0.0</td>\n",
       "      <td>0.0</td>\n",
       "      <td>81.0</td>\n",
       "      <td>0.0</td>\n",
       "      <td>0.0</td>\n",
       "      <td>0.0</td>\n",
       "      <td>0.0</td>\n",
       "      <td>0.0</td>\n",
       "      <td>0.0</td>\n",
       "      <td>207.0</td>\n",
       "      <td>0.0</td>\n",
       "      <td>153.0</td>\n",
       "      <td>154.0</td>\n",
       "    </tr>\n",
       "    <tr>\n",
       "      <td>5</td>\n",
       "      <td>0.0</td>\n",
       "      <td>0.0</td>\n",
       "      <td>0.0</td>\n",
       "      <td>78.0</td>\n",
       "      <td>0.0</td>\n",
       "      <td>0.0</td>\n",
       "      <td>0.0</td>\n",
       "      <td>0.0</td>\n",
       "      <td>0.0</td>\n",
       "      <td>0.0</td>\n",
       "      <td>203.0</td>\n",
       "      <td>0.0</td>\n",
       "      <td>151.0</td>\n",
       "      <td>152.0</td>\n",
       "    </tr>\n",
       "  </tbody>\n",
       "</table>\n",
       "</div>"
      ],
      "text/plain": [
       "     bulk_1  bulk_2  bulk_3  bulk_4  bulk_5  bulk_6  bulk_7  bulk_9  bulk_10  \\\n",
       "key                                                                            \n",
       "1       0.0     0.0     0.0    43.0     0.0     0.0     0.0     0.0      0.0   \n",
       "2       0.0     0.0     0.0    73.0     0.0     0.0     0.0     0.0      0.0   \n",
       "3       0.0     0.0     0.0    34.0     0.0     0.0     0.0     0.0      0.0   \n",
       "4       0.0     0.0     0.0    81.0     0.0     0.0     0.0     0.0      0.0   \n",
       "5       0.0     0.0     0.0    78.0     0.0     0.0     0.0     0.0      0.0   \n",
       "\n",
       "     bulk_11  bulk_12  bulk_13  bulk_14  bulk_15  \n",
       "key                                               \n",
       "1        0.0    206.0      0.0    150.0    154.0  \n",
       "2        0.0    206.0      0.0    149.0    154.0  \n",
       "3        0.0    205.0      0.0    152.0    153.0  \n",
       "4        0.0    207.0      0.0    153.0    154.0  \n",
       "5        0.0    203.0      0.0    151.0    152.0  "
      ]
     },
     "metadata": {},
     "output_type": "display_data"
    }
   ],
   "source": [
    "display(data_bulk.head(5))"
   ]
  },
  {
   "cell_type": "code",
   "execution_count": 28,
   "metadata": {},
   "outputs": [],
   "source": [
    "data_features.append(data_bulk)\n",
    "del data_bulk"
   ]
  },
  {
   "cell_type": "markdown",
   "metadata": {},
   "source": [
    "#### Данные о проволочных материалах"
   ]
  },
  {
   "cell_type": "code",
   "execution_count": 29,
   "metadata": {
    "scrolled": false
   },
   "outputs": [
    {
     "name": "stdout",
     "output_type": "stream",
     "text": [
      "===================\n"
     ]
    },
    {
     "data": {
      "text/plain": [
       "'data_wire.csv - Данные о проволочных материалах (объём)'"
      ]
     },
     "metadata": {},
     "output_type": "display_data"
    },
    {
     "name": "stdout",
     "output_type": "stream",
     "text": [
      "===================\n",
      "<class 'pandas.core.frame.DataFrame'>\n",
      "RangeIndex: 3081 entries, 0 to 3080\n",
      "Data columns (total 10 columns):\n",
      "key       3081 non-null int64\n",
      "Wire 1    3055 non-null float64\n",
      "Wire 2    1079 non-null float64\n",
      "Wire 3    63 non-null float64\n",
      "Wire 4    14 non-null float64\n",
      "Wire 5    1 non-null float64\n",
      "Wire 6    73 non-null float64\n",
      "Wire 7    11 non-null float64\n",
      "Wire 8    19 non-null float64\n",
      "Wire 9    29 non-null float64\n",
      "dtypes: float64(9), int64(1)\n",
      "memory usage: 240.8 KB\n"
     ]
    },
    {
     "data": {
      "text/plain": [
       "None"
      ]
     },
     "metadata": {},
     "output_type": "display_data"
    },
    {
     "data": {
      "text/html": [
       "<div>\n",
       "<style scoped>\n",
       "    .dataframe tbody tr th:only-of-type {\n",
       "        vertical-align: middle;\n",
       "    }\n",
       "\n",
       "    .dataframe tbody tr th {\n",
       "        vertical-align: top;\n",
       "    }\n",
       "\n",
       "    .dataframe thead th {\n",
       "        text-align: right;\n",
       "    }\n",
       "</style>\n",
       "<table border=\"1\" class=\"dataframe\">\n",
       "  <thead>\n",
       "    <tr style=\"text-align: right;\">\n",
       "      <th></th>\n",
       "      <th>key</th>\n",
       "      <th>Wire 1</th>\n",
       "      <th>Wire 2</th>\n",
       "      <th>Wire 3</th>\n",
       "      <th>Wire 4</th>\n",
       "      <th>Wire 5</th>\n",
       "      <th>Wire 6</th>\n",
       "      <th>Wire 7</th>\n",
       "      <th>Wire 8</th>\n",
       "      <th>Wire 9</th>\n",
       "    </tr>\n",
       "  </thead>\n",
       "  <tbody>\n",
       "    <tr>\n",
       "      <td>0</td>\n",
       "      <td>1</td>\n",
       "      <td>60.059998</td>\n",
       "      <td>NaN</td>\n",
       "      <td>NaN</td>\n",
       "      <td>NaN</td>\n",
       "      <td>NaN</td>\n",
       "      <td>NaN</td>\n",
       "      <td>NaN</td>\n",
       "      <td>NaN</td>\n",
       "      <td>NaN</td>\n",
       "    </tr>\n",
       "    <tr>\n",
       "      <td>1</td>\n",
       "      <td>2</td>\n",
       "      <td>96.052315</td>\n",
       "      <td>NaN</td>\n",
       "      <td>NaN</td>\n",
       "      <td>NaN</td>\n",
       "      <td>NaN</td>\n",
       "      <td>NaN</td>\n",
       "      <td>NaN</td>\n",
       "      <td>NaN</td>\n",
       "      <td>NaN</td>\n",
       "    </tr>\n",
       "    <tr>\n",
       "      <td>2</td>\n",
       "      <td>3</td>\n",
       "      <td>91.160157</td>\n",
       "      <td>NaN</td>\n",
       "      <td>NaN</td>\n",
       "      <td>NaN</td>\n",
       "      <td>NaN</td>\n",
       "      <td>NaN</td>\n",
       "      <td>NaN</td>\n",
       "      <td>NaN</td>\n",
       "      <td>NaN</td>\n",
       "    </tr>\n",
       "    <tr>\n",
       "      <td>3</td>\n",
       "      <td>4</td>\n",
       "      <td>89.063515</td>\n",
       "      <td>NaN</td>\n",
       "      <td>NaN</td>\n",
       "      <td>NaN</td>\n",
       "      <td>NaN</td>\n",
       "      <td>NaN</td>\n",
       "      <td>NaN</td>\n",
       "      <td>NaN</td>\n",
       "      <td>NaN</td>\n",
       "    </tr>\n",
       "    <tr>\n",
       "      <td>4</td>\n",
       "      <td>5</td>\n",
       "      <td>89.238236</td>\n",
       "      <td>9.11456</td>\n",
       "      <td>NaN</td>\n",
       "      <td>NaN</td>\n",
       "      <td>NaN</td>\n",
       "      <td>NaN</td>\n",
       "      <td>NaN</td>\n",
       "      <td>NaN</td>\n",
       "      <td>NaN</td>\n",
       "    </tr>\n",
       "  </tbody>\n",
       "</table>\n",
       "</div>"
      ],
      "text/plain": [
       "   key     Wire 1   Wire 2  Wire 3  Wire 4  Wire 5  Wire 6  Wire 7  Wire 8  \\\n",
       "0    1  60.059998      NaN     NaN     NaN     NaN     NaN     NaN     NaN   \n",
       "1    2  96.052315      NaN     NaN     NaN     NaN     NaN     NaN     NaN   \n",
       "2    3  91.160157      NaN     NaN     NaN     NaN     NaN     NaN     NaN   \n",
       "3    4  89.063515      NaN     NaN     NaN     NaN     NaN     NaN     NaN   \n",
       "4    5  89.238236  9.11456     NaN     NaN     NaN     NaN     NaN     NaN   \n",
       "\n",
       "   Wire 9  \n",
       "0     NaN  \n",
       "1     NaN  \n",
       "2     NaN  \n",
       "3     NaN  \n",
       "4     NaN  "
      ]
     },
     "metadata": {},
     "output_type": "display_data"
    },
    {
     "name": "stdout",
     "output_type": "stream",
     "text": [
      "===================\n"
     ]
    }
   ],
   "source": [
    "data_wire = get_data('data_wire.csv', 'Данные о проволочных материалах (объём)') "
   ]
  },
  {
   "cell_type": "code",
   "execution_count": 30,
   "metadata": {
    "scrolled": true
   },
   "outputs": [
    {
     "data": {
      "text/html": [
       "<div>\n",
       "<style scoped>\n",
       "    .dataframe tbody tr th:only-of-type {\n",
       "        vertical-align: middle;\n",
       "    }\n",
       "\n",
       "    .dataframe tbody tr th {\n",
       "        vertical-align: top;\n",
       "    }\n",
       "\n",
       "    .dataframe thead th {\n",
       "        text-align: right;\n",
       "    }\n",
       "</style>\n",
       "<table border=\"1\" class=\"dataframe\">\n",
       "  <thead>\n",
       "    <tr style=\"text-align: right;\">\n",
       "      <th></th>\n",
       "      <th>Wire 1</th>\n",
       "      <th>Wire 2</th>\n",
       "      <th>Wire 3</th>\n",
       "      <th>Wire 4</th>\n",
       "      <th>Wire 5</th>\n",
       "      <th>Wire 6</th>\n",
       "      <th>Wire 7</th>\n",
       "      <th>Wire 8</th>\n",
       "      <th>Wire 9</th>\n",
       "    </tr>\n",
       "    <tr>\n",
       "      <th>key</th>\n",
       "      <th></th>\n",
       "      <th></th>\n",
       "      <th></th>\n",
       "      <th></th>\n",
       "      <th></th>\n",
       "      <th></th>\n",
       "      <th></th>\n",
       "      <th></th>\n",
       "      <th></th>\n",
       "    </tr>\n",
       "  </thead>\n",
       "  <tbody>\n",
       "    <tr>\n",
       "      <td>1</td>\n",
       "      <td>60.059998</td>\n",
       "      <td>0.00000</td>\n",
       "      <td>0.0</td>\n",
       "      <td>0.0</td>\n",
       "      <td>0.0</td>\n",
       "      <td>0.0</td>\n",
       "      <td>0.0</td>\n",
       "      <td>0.0</td>\n",
       "      <td>0.0</td>\n",
       "    </tr>\n",
       "    <tr>\n",
       "      <td>2</td>\n",
       "      <td>96.052315</td>\n",
       "      <td>0.00000</td>\n",
       "      <td>0.0</td>\n",
       "      <td>0.0</td>\n",
       "      <td>0.0</td>\n",
       "      <td>0.0</td>\n",
       "      <td>0.0</td>\n",
       "      <td>0.0</td>\n",
       "      <td>0.0</td>\n",
       "    </tr>\n",
       "    <tr>\n",
       "      <td>3</td>\n",
       "      <td>91.160157</td>\n",
       "      <td>0.00000</td>\n",
       "      <td>0.0</td>\n",
       "      <td>0.0</td>\n",
       "      <td>0.0</td>\n",
       "      <td>0.0</td>\n",
       "      <td>0.0</td>\n",
       "      <td>0.0</td>\n",
       "      <td>0.0</td>\n",
       "    </tr>\n",
       "    <tr>\n",
       "      <td>4</td>\n",
       "      <td>89.063515</td>\n",
       "      <td>0.00000</td>\n",
       "      <td>0.0</td>\n",
       "      <td>0.0</td>\n",
       "      <td>0.0</td>\n",
       "      <td>0.0</td>\n",
       "      <td>0.0</td>\n",
       "      <td>0.0</td>\n",
       "      <td>0.0</td>\n",
       "    </tr>\n",
       "    <tr>\n",
       "      <td>5</td>\n",
       "      <td>89.238236</td>\n",
       "      <td>9.11456</td>\n",
       "      <td>0.0</td>\n",
       "      <td>0.0</td>\n",
       "      <td>0.0</td>\n",
       "      <td>0.0</td>\n",
       "      <td>0.0</td>\n",
       "      <td>0.0</td>\n",
       "      <td>0.0</td>\n",
       "    </tr>\n",
       "  </tbody>\n",
       "</table>\n",
       "</div>"
      ],
      "text/plain": [
       "        Wire 1   Wire 2  Wire 3  Wire 4  Wire 5  Wire 6  Wire 7  Wire 8  \\\n",
       "key                                                                       \n",
       "1    60.059998  0.00000     0.0     0.0     0.0     0.0     0.0     0.0   \n",
       "2    96.052315  0.00000     0.0     0.0     0.0     0.0     0.0     0.0   \n",
       "3    91.160157  0.00000     0.0     0.0     0.0     0.0     0.0     0.0   \n",
       "4    89.063515  0.00000     0.0     0.0     0.0     0.0     0.0     0.0   \n",
       "5    89.238236  9.11456     0.0     0.0     0.0     0.0     0.0     0.0   \n",
       "\n",
       "     Wire 9  \n",
       "key          \n",
       "1       0.0  \n",
       "2       0.0  \n",
       "3       0.0  \n",
       "4       0.0  \n",
       "5       0.0  "
      ]
     },
     "metadata": {},
     "output_type": "display_data"
    }
   ],
   "source": [
    "#Заполнение пропусков нолями\n",
    "data_wire = data_wire.fillna(0).set_index('key')\n",
    "display(data_wire.head(5))"
   ]
  },
  {
   "cell_type": "code",
   "execution_count": 31,
   "metadata": {},
   "outputs": [],
   "source": [
    "#переименование столбцов\n",
    "for col in data_wire.columns:\n",
    "    data_wire = data_wire.rename(columns={col:col.lower().replace(' ', '_')})"
   ]
  },
  {
   "cell_type": "code",
   "execution_count": 32,
   "metadata": {},
   "outputs": [
    {
     "data": {
      "text/plain": [
       "wire_1    308236.830606\n",
       "wire_2     54572.931650\n",
       "wire_3     11937.408916\n",
       "wire_4       804.199781\n",
       "wire_5        15.132000\n",
       "wire_6      3505.239099\n",
       "wire_7       110.429080\n",
       "wire_8      1018.878666\n",
       "wire_9       990.516814\n",
       "dtype: float64"
      ]
     },
     "metadata": {},
     "output_type": "display_data"
    }
   ],
   "source": [
    "#поиск столбцов с небольшим количеством значений\n",
    "display(data_wire.sum())"
   ]
  },
  {
   "cell_type": "code",
   "execution_count": 33,
   "metadata": {},
   "outputs": [],
   "source": [
    "#удаление строк со значением в столбце bulk_8\n",
    "data_wire = data_wire.drop(data_wire.loc[data_wire['wire_5']>0].index)\n",
    "#удаление столбца bulk_8\n",
    "data_wire = data_wire.drop(columns=['wire_5'])"
   ]
  },
  {
   "cell_type": "code",
   "execution_count": 34,
   "metadata": {},
   "outputs": [
    {
     "data": {
      "text/html": [
       "<div>\n",
       "<style scoped>\n",
       "    .dataframe tbody tr th:only-of-type {\n",
       "        vertical-align: middle;\n",
       "    }\n",
       "\n",
       "    .dataframe tbody tr th {\n",
       "        vertical-align: top;\n",
       "    }\n",
       "\n",
       "    .dataframe thead th {\n",
       "        text-align: right;\n",
       "    }\n",
       "</style>\n",
       "<table border=\"1\" class=\"dataframe\">\n",
       "  <thead>\n",
       "    <tr style=\"text-align: right;\">\n",
       "      <th></th>\n",
       "      <th>wire_1</th>\n",
       "      <th>wire_2</th>\n",
       "      <th>wire_3</th>\n",
       "      <th>wire_4</th>\n",
       "      <th>wire_6</th>\n",
       "      <th>wire_7</th>\n",
       "      <th>wire_8</th>\n",
       "      <th>wire_9</th>\n",
       "    </tr>\n",
       "    <tr>\n",
       "      <th>key</th>\n",
       "      <th></th>\n",
       "      <th></th>\n",
       "      <th></th>\n",
       "      <th></th>\n",
       "      <th></th>\n",
       "      <th></th>\n",
       "      <th></th>\n",
       "      <th></th>\n",
       "    </tr>\n",
       "  </thead>\n",
       "  <tbody>\n",
       "    <tr>\n",
       "      <td>1</td>\n",
       "      <td>60.059998</td>\n",
       "      <td>0.00000</td>\n",
       "      <td>0.0</td>\n",
       "      <td>0.0</td>\n",
       "      <td>0.0</td>\n",
       "      <td>0.0</td>\n",
       "      <td>0.0</td>\n",
       "      <td>0.0</td>\n",
       "    </tr>\n",
       "    <tr>\n",
       "      <td>2</td>\n",
       "      <td>96.052315</td>\n",
       "      <td>0.00000</td>\n",
       "      <td>0.0</td>\n",
       "      <td>0.0</td>\n",
       "      <td>0.0</td>\n",
       "      <td>0.0</td>\n",
       "      <td>0.0</td>\n",
       "      <td>0.0</td>\n",
       "    </tr>\n",
       "    <tr>\n",
       "      <td>3</td>\n",
       "      <td>91.160157</td>\n",
       "      <td>0.00000</td>\n",
       "      <td>0.0</td>\n",
       "      <td>0.0</td>\n",
       "      <td>0.0</td>\n",
       "      <td>0.0</td>\n",
       "      <td>0.0</td>\n",
       "      <td>0.0</td>\n",
       "    </tr>\n",
       "    <tr>\n",
       "      <td>4</td>\n",
       "      <td>89.063515</td>\n",
       "      <td>0.00000</td>\n",
       "      <td>0.0</td>\n",
       "      <td>0.0</td>\n",
       "      <td>0.0</td>\n",
       "      <td>0.0</td>\n",
       "      <td>0.0</td>\n",
       "      <td>0.0</td>\n",
       "    </tr>\n",
       "    <tr>\n",
       "      <td>5</td>\n",
       "      <td>89.238236</td>\n",
       "      <td>9.11456</td>\n",
       "      <td>0.0</td>\n",
       "      <td>0.0</td>\n",
       "      <td>0.0</td>\n",
       "      <td>0.0</td>\n",
       "      <td>0.0</td>\n",
       "      <td>0.0</td>\n",
       "    </tr>\n",
       "  </tbody>\n",
       "</table>\n",
       "</div>"
      ],
      "text/plain": [
       "        wire_1   wire_2  wire_3  wire_4  wire_6  wire_7  wire_8  wire_9\n",
       "key                                                                    \n",
       "1    60.059998  0.00000     0.0     0.0     0.0     0.0     0.0     0.0\n",
       "2    96.052315  0.00000     0.0     0.0     0.0     0.0     0.0     0.0\n",
       "3    91.160157  0.00000     0.0     0.0     0.0     0.0     0.0     0.0\n",
       "4    89.063515  0.00000     0.0     0.0     0.0     0.0     0.0     0.0\n",
       "5    89.238236  9.11456     0.0     0.0     0.0     0.0     0.0     0.0"
      ]
     },
     "metadata": {},
     "output_type": "display_data"
    }
   ],
   "source": [
    "display(data_wire.head(5))"
   ]
  },
  {
   "cell_type": "code",
   "execution_count": 35,
   "metadata": {},
   "outputs": [],
   "source": [
    "data_features.append(data_wire)\n",
    "del data_wire"
   ]
  },
  {
   "cell_type": "markdown",
   "metadata": {},
   "source": [
    "#### Данные о продувке сплава газом"
   ]
  },
  {
   "cell_type": "code",
   "execution_count": 36,
   "metadata": {
    "scrolled": false
   },
   "outputs": [
    {
     "name": "stdout",
     "output_type": "stream",
     "text": [
      "===================\n"
     ]
    },
    {
     "data": {
      "text/plain": [
       "'data_gas.csv - Данные о продувке сплава газом'"
      ]
     },
     "metadata": {},
     "output_type": "display_data"
    },
    {
     "name": "stdout",
     "output_type": "stream",
     "text": [
      "===================\n",
      "<class 'pandas.core.frame.DataFrame'>\n",
      "RangeIndex: 3239 entries, 0 to 3238\n",
      "Data columns (total 2 columns):\n",
      "key      3239 non-null int64\n",
      "Газ 1    3239 non-null float64\n",
      "dtypes: float64(1), int64(1)\n",
      "memory usage: 50.7 KB\n"
     ]
    },
    {
     "data": {
      "text/plain": [
       "None"
      ]
     },
     "metadata": {},
     "output_type": "display_data"
    },
    {
     "data": {
      "text/html": [
       "<div>\n",
       "<style scoped>\n",
       "    .dataframe tbody tr th:only-of-type {\n",
       "        vertical-align: middle;\n",
       "    }\n",
       "\n",
       "    .dataframe tbody tr th {\n",
       "        vertical-align: top;\n",
       "    }\n",
       "\n",
       "    .dataframe thead th {\n",
       "        text-align: right;\n",
       "    }\n",
       "</style>\n",
       "<table border=\"1\" class=\"dataframe\">\n",
       "  <thead>\n",
       "    <tr style=\"text-align: right;\">\n",
       "      <th></th>\n",
       "      <th>key</th>\n",
       "      <th>Газ 1</th>\n",
       "    </tr>\n",
       "  </thead>\n",
       "  <tbody>\n",
       "    <tr>\n",
       "      <td>0</td>\n",
       "      <td>1</td>\n",
       "      <td>29.749986</td>\n",
       "    </tr>\n",
       "    <tr>\n",
       "      <td>1</td>\n",
       "      <td>2</td>\n",
       "      <td>12.555561</td>\n",
       "    </tr>\n",
       "    <tr>\n",
       "      <td>2</td>\n",
       "      <td>3</td>\n",
       "      <td>28.554793</td>\n",
       "    </tr>\n",
       "    <tr>\n",
       "      <td>3</td>\n",
       "      <td>4</td>\n",
       "      <td>18.841219</td>\n",
       "    </tr>\n",
       "    <tr>\n",
       "      <td>4</td>\n",
       "      <td>5</td>\n",
       "      <td>5.413692</td>\n",
       "    </tr>\n",
       "  </tbody>\n",
       "</table>\n",
       "</div>"
      ],
      "text/plain": [
       "   key      Газ 1\n",
       "0    1  29.749986\n",
       "1    2  12.555561\n",
       "2    3  28.554793\n",
       "3    4  18.841219\n",
       "4    5   5.413692"
      ]
     },
     "metadata": {},
     "output_type": "display_data"
    },
    {
     "name": "stdout",
     "output_type": "stream",
     "text": [
      "===================\n"
     ]
    }
   ],
   "source": [
    "data_gas = get_data('data_gas.csv','Данные о продувке сплава газом') "
   ]
  },
  {
   "cell_type": "code",
   "execution_count": 37,
   "metadata": {},
   "outputs": [],
   "source": [
    "#переименование столбца\n",
    "data_gas = rename_colbyvals(data_gas,['Газ 1']).set_index('key')"
   ]
  },
  {
   "cell_type": "code",
   "execution_count": 38,
   "metadata": {},
   "outputs": [
    {
     "data": {
      "text/html": [
       "<div>\n",
       "<style scoped>\n",
       "    .dataframe tbody tr th:only-of-type {\n",
       "        vertical-align: middle;\n",
       "    }\n",
       "\n",
       "    .dataframe tbody tr th {\n",
       "        vertical-align: top;\n",
       "    }\n",
       "\n",
       "    .dataframe thead th {\n",
       "        text-align: right;\n",
       "    }\n",
       "</style>\n",
       "<table border=\"1\" class=\"dataframe\">\n",
       "  <thead>\n",
       "    <tr style=\"text-align: right;\">\n",
       "      <th></th>\n",
       "      <th>gas</th>\n",
       "    </tr>\n",
       "    <tr>\n",
       "      <th>key</th>\n",
       "      <th></th>\n",
       "    </tr>\n",
       "  </thead>\n",
       "  <tbody>\n",
       "    <tr>\n",
       "      <td>866</td>\n",
       "      <td>0.008399</td>\n",
       "    </tr>\n",
       "    <tr>\n",
       "      <td>1047</td>\n",
       "      <td>0.016696</td>\n",
       "    </tr>\n",
       "    <tr>\n",
       "      <td>2103</td>\n",
       "      <td>0.263029</td>\n",
       "    </tr>\n",
       "    <tr>\n",
       "      <td>2356</td>\n",
       "      <td>0.275081</td>\n",
       "    </tr>\n",
       "    <tr>\n",
       "      <td>355</td>\n",
       "      <td>0.325733</td>\n",
       "    </tr>\n",
       "    <tr>\n",
       "      <td>...</td>\n",
       "      <td>...</td>\n",
       "    </tr>\n",
       "    <tr>\n",
       "      <td>117</td>\n",
       "      <td>50.581035</td>\n",
       "    </tr>\n",
       "    <tr>\n",
       "      <td>2570</td>\n",
       "      <td>51.380229</td>\n",
       "    </tr>\n",
       "    <tr>\n",
       "      <td>2110</td>\n",
       "      <td>52.142373</td>\n",
       "    </tr>\n",
       "    <tr>\n",
       "      <td>280</td>\n",
       "      <td>60.935689</td>\n",
       "    </tr>\n",
       "    <tr>\n",
       "      <td>322</td>\n",
       "      <td>77.995040</td>\n",
       "    </tr>\n",
       "  </tbody>\n",
       "</table>\n",
       "<p>3239 rows × 1 columns</p>\n",
       "</div>"
      ],
      "text/plain": [
       "            gas\n",
       "key            \n",
       "866    0.008399\n",
       "1047   0.016696\n",
       "2103   0.263029\n",
       "2356   0.275081\n",
       "355    0.325733\n",
       "...         ...\n",
       "117   50.581035\n",
       "2570  51.380229\n",
       "2110  52.142373\n",
       "280   60.935689\n",
       "322   77.995040\n",
       "\n",
       "[3239 rows x 1 columns]"
      ]
     },
     "metadata": {},
     "output_type": "display_data"
    }
   ],
   "source": [
    "display(data_gas.sort_values(by='gas'))"
   ]
  },
  {
   "cell_type": "code",
   "execution_count": 39,
   "metadata": {},
   "outputs": [],
   "source": [
    "data_features.append(data_gas)\n",
    "del data_gas"
   ]
  },
  {
   "cell_type": "markdown",
   "metadata": {},
   "source": [
    "#### Общая таблица признаков"
   ]
  },
  {
   "cell_type": "code",
   "execution_count": 40,
   "metadata": {
    "scrolled": false
   },
   "outputs": [
    {
     "name": "stdout",
     "output_type": "stream",
     "text": [
      "<class 'pandas.core.frame.DataFrame'>\n",
      "Int64Index: 2324 entries, 1 to 2499\n",
      "Data columns (total 30 columns):\n",
      "temp_first             2324 non-null float64\n",
      "temp_last              2324 non-null float64\n",
      "delta_time             2324 non-null int32\n",
      "time_heat_sum          2324 non-null int32\n",
      "active_power_mean      2324 non-null float64\n",
      "reactive_power_mean    2324 non-null float64\n",
      "count_heat             2324 non-null int64\n",
      "bulk_1                 2324 non-null float64\n",
      "bulk_2                 2324 non-null float64\n",
      "bulk_3                 2324 non-null float64\n",
      "bulk_4                 2324 non-null float64\n",
      "bulk_5                 2324 non-null float64\n",
      "bulk_6                 2324 non-null float64\n",
      "bulk_7                 2324 non-null float64\n",
      "bulk_9                 2324 non-null float64\n",
      "bulk_10                2324 non-null float64\n",
      "bulk_11                2324 non-null float64\n",
      "bulk_12                2324 non-null float64\n",
      "bulk_13                2324 non-null float64\n",
      "bulk_14                2324 non-null float64\n",
      "bulk_15                2324 non-null float64\n",
      "wire_1                 2324 non-null float64\n",
      "wire_2                 2324 non-null float64\n",
      "wire_3                 2324 non-null float64\n",
      "wire_4                 2324 non-null float64\n",
      "wire_6                 2324 non-null float64\n",
      "wire_7                 2324 non-null float64\n",
      "wire_8                 2324 non-null float64\n",
      "wire_9                 2324 non-null float64\n",
      "gas                    2324 non-null float64\n",
      "dtypes: float64(27), int32(2), int64(1)\n",
      "memory usage: 544.7 KB\n"
     ]
    },
    {
     "data": {
      "text/plain": [
       "None"
      ]
     },
     "metadata": {},
     "output_type": "display_data"
    },
    {
     "data": {
      "text/html": [
       "<div>\n",
       "<style scoped>\n",
       "    .dataframe tbody tr th:only-of-type {\n",
       "        vertical-align: middle;\n",
       "    }\n",
       "\n",
       "    .dataframe tbody tr th {\n",
       "        vertical-align: top;\n",
       "    }\n",
       "\n",
       "    .dataframe thead th {\n",
       "        text-align: right;\n",
       "    }\n",
       "</style>\n",
       "<table border=\"1\" class=\"dataframe\">\n",
       "  <thead>\n",
       "    <tr style=\"text-align: right;\">\n",
       "      <th></th>\n",
       "      <th>temp_first</th>\n",
       "      <th>temp_last</th>\n",
       "      <th>delta_time</th>\n",
       "      <th>time_heat_sum</th>\n",
       "      <th>active_power_mean</th>\n",
       "      <th>reactive_power_mean</th>\n",
       "      <th>count_heat</th>\n",
       "      <th>bulk_1</th>\n",
       "      <th>bulk_2</th>\n",
       "      <th>bulk_3</th>\n",
       "      <th>...</th>\n",
       "      <th>bulk_15</th>\n",
       "      <th>wire_1</th>\n",
       "      <th>wire_2</th>\n",
       "      <th>wire_3</th>\n",
       "      <th>wire_4</th>\n",
       "      <th>wire_6</th>\n",
       "      <th>wire_7</th>\n",
       "      <th>wire_8</th>\n",
       "      <th>wire_9</th>\n",
       "      <th>gas</th>\n",
       "    </tr>\n",
       "    <tr>\n",
       "      <th>key</th>\n",
       "      <th></th>\n",
       "      <th></th>\n",
       "      <th></th>\n",
       "      <th></th>\n",
       "      <th></th>\n",
       "      <th></th>\n",
       "      <th></th>\n",
       "      <th></th>\n",
       "      <th></th>\n",
       "      <th></th>\n",
       "      <th></th>\n",
       "      <th></th>\n",
       "      <th></th>\n",
       "      <th></th>\n",
       "      <th></th>\n",
       "      <th></th>\n",
       "      <th></th>\n",
       "      <th></th>\n",
       "      <th></th>\n",
       "      <th></th>\n",
       "      <th></th>\n",
       "    </tr>\n",
       "  </thead>\n",
       "  <tbody>\n",
       "    <tr>\n",
       "      <td>1</td>\n",
       "      <td>1571.0</td>\n",
       "      <td>1613.0</td>\n",
       "      <td>861</td>\n",
       "      <td>1098</td>\n",
       "      <td>0.975629</td>\n",
       "      <td>0.636648</td>\n",
       "      <td>5</td>\n",
       "      <td>0.0</td>\n",
       "      <td>0.0</td>\n",
       "      <td>0.0</td>\n",
       "      <td>...</td>\n",
       "      <td>154.0</td>\n",
       "      <td>60.059998</td>\n",
       "      <td>0.00000</td>\n",
       "      <td>0.0</td>\n",
       "      <td>0.0</td>\n",
       "      <td>0.0</td>\n",
       "      <td>0.0</td>\n",
       "      <td>0.0</td>\n",
       "      <td>0.0</td>\n",
       "      <td>29.749986</td>\n",
       "    </tr>\n",
       "    <tr>\n",
       "      <td>2</td>\n",
       "      <td>1581.0</td>\n",
       "      <td>1602.0</td>\n",
       "      <td>1305</td>\n",
       "      <td>811</td>\n",
       "      <td>0.763150</td>\n",
       "      <td>0.499528</td>\n",
       "      <td>4</td>\n",
       "      <td>0.0</td>\n",
       "      <td>0.0</td>\n",
       "      <td>0.0</td>\n",
       "      <td>...</td>\n",
       "      <td>154.0</td>\n",
       "      <td>96.052315</td>\n",
       "      <td>0.00000</td>\n",
       "      <td>0.0</td>\n",
       "      <td>0.0</td>\n",
       "      <td>0.0</td>\n",
       "      <td>0.0</td>\n",
       "      <td>0.0</td>\n",
       "      <td>0.0</td>\n",
       "      <td>12.555561</td>\n",
       "    </tr>\n",
       "    <tr>\n",
       "      <td>3</td>\n",
       "      <td>1596.0</td>\n",
       "      <td>1599.0</td>\n",
       "      <td>1300</td>\n",
       "      <td>655</td>\n",
       "      <td>0.505176</td>\n",
       "      <td>0.319815</td>\n",
       "      <td>5</td>\n",
       "      <td>0.0</td>\n",
       "      <td>0.0</td>\n",
       "      <td>0.0</td>\n",
       "      <td>...</td>\n",
       "      <td>153.0</td>\n",
       "      <td>91.160157</td>\n",
       "      <td>0.00000</td>\n",
       "      <td>0.0</td>\n",
       "      <td>0.0</td>\n",
       "      <td>0.0</td>\n",
       "      <td>0.0</td>\n",
       "      <td>0.0</td>\n",
       "      <td>0.0</td>\n",
       "      <td>28.554793</td>\n",
       "    </tr>\n",
       "    <tr>\n",
       "      <td>4</td>\n",
       "      <td>1601.0</td>\n",
       "      <td>1625.0</td>\n",
       "      <td>388</td>\n",
       "      <td>741</td>\n",
       "      <td>0.802313</td>\n",
       "      <td>0.515074</td>\n",
       "      <td>4</td>\n",
       "      <td>0.0</td>\n",
       "      <td>0.0</td>\n",
       "      <td>0.0</td>\n",
       "      <td>...</td>\n",
       "      <td>154.0</td>\n",
       "      <td>89.063515</td>\n",
       "      <td>0.00000</td>\n",
       "      <td>0.0</td>\n",
       "      <td>0.0</td>\n",
       "      <td>0.0</td>\n",
       "      <td>0.0</td>\n",
       "      <td>0.0</td>\n",
       "      <td>0.0</td>\n",
       "      <td>18.841219</td>\n",
       "    </tr>\n",
       "    <tr>\n",
       "      <td>5</td>\n",
       "      <td>1576.0</td>\n",
       "      <td>1602.0</td>\n",
       "      <td>762</td>\n",
       "      <td>869</td>\n",
       "      <td>0.836793</td>\n",
       "      <td>0.563161</td>\n",
       "      <td>4</td>\n",
       "      <td>0.0</td>\n",
       "      <td>0.0</td>\n",
       "      <td>0.0</td>\n",
       "      <td>...</td>\n",
       "      <td>152.0</td>\n",
       "      <td>89.238236</td>\n",
       "      <td>9.11456</td>\n",
       "      <td>0.0</td>\n",
       "      <td>0.0</td>\n",
       "      <td>0.0</td>\n",
       "      <td>0.0</td>\n",
       "      <td>0.0</td>\n",
       "      <td>0.0</td>\n",
       "      <td>5.413692</td>\n",
       "    </tr>\n",
       "    <tr>\n",
       "      <td>...</td>\n",
       "      <td>...</td>\n",
       "      <td>...</td>\n",
       "      <td>...</td>\n",
       "      <td>...</td>\n",
       "      <td>...</td>\n",
       "      <td>...</td>\n",
       "      <td>...</td>\n",
       "      <td>...</td>\n",
       "      <td>...</td>\n",
       "      <td>...</td>\n",
       "      <td>...</td>\n",
       "      <td>...</td>\n",
       "      <td>...</td>\n",
       "      <td>...</td>\n",
       "      <td>...</td>\n",
       "      <td>...</td>\n",
       "      <td>...</td>\n",
       "      <td>...</td>\n",
       "      <td>...</td>\n",
       "      <td>...</td>\n",
       "      <td>...</td>\n",
       "    </tr>\n",
       "    <tr>\n",
       "      <td>2495</td>\n",
       "      <td>1570.0</td>\n",
       "      <td>1591.0</td>\n",
       "      <td>1137</td>\n",
       "      <td>723</td>\n",
       "      <td>0.802673</td>\n",
       "      <td>0.590194</td>\n",
       "      <td>4</td>\n",
       "      <td>0.0</td>\n",
       "      <td>0.0</td>\n",
       "      <td>21.0</td>\n",
       "      <td>...</td>\n",
       "      <td>223.0</td>\n",
       "      <td>89.150879</td>\n",
       "      <td>0.00000</td>\n",
       "      <td>0.0</td>\n",
       "      <td>0.0</td>\n",
       "      <td>0.0</td>\n",
       "      <td>0.0</td>\n",
       "      <td>0.0</td>\n",
       "      <td>0.0</td>\n",
       "      <td>7.125735</td>\n",
       "    </tr>\n",
       "    <tr>\n",
       "      <td>2496</td>\n",
       "      <td>1554.0</td>\n",
       "      <td>1591.0</td>\n",
       "      <td>1618</td>\n",
       "      <td>940</td>\n",
       "      <td>0.700511</td>\n",
       "      <td>0.468364</td>\n",
       "      <td>6</td>\n",
       "      <td>0.0</td>\n",
       "      <td>0.0</td>\n",
       "      <td>0.0</td>\n",
       "      <td>...</td>\n",
       "      <td>226.0</td>\n",
       "      <td>114.179527</td>\n",
       "      <td>0.00000</td>\n",
       "      <td>0.0</td>\n",
       "      <td>0.0</td>\n",
       "      <td>0.0</td>\n",
       "      <td>0.0</td>\n",
       "      <td>0.0</td>\n",
       "      <td>0.0</td>\n",
       "      <td>9.412616</td>\n",
       "    </tr>\n",
       "    <tr>\n",
       "      <td>2497</td>\n",
       "      <td>1571.0</td>\n",
       "      <td>1589.0</td>\n",
       "      <td>717</td>\n",
       "      <td>569</td>\n",
       "      <td>0.737460</td>\n",
       "      <td>0.617090</td>\n",
       "      <td>3</td>\n",
       "      <td>0.0</td>\n",
       "      <td>0.0</td>\n",
       "      <td>0.0</td>\n",
       "      <td>...</td>\n",
       "      <td>226.0</td>\n",
       "      <td>94.086723</td>\n",
       "      <td>9.04800</td>\n",
       "      <td>0.0</td>\n",
       "      <td>0.0</td>\n",
       "      <td>0.0</td>\n",
       "      <td>0.0</td>\n",
       "      <td>0.0</td>\n",
       "      <td>0.0</td>\n",
       "      <td>6.271699</td>\n",
       "    </tr>\n",
       "    <tr>\n",
       "      <td>2498</td>\n",
       "      <td>1591.0</td>\n",
       "      <td>1594.0</td>\n",
       "      <td>1302</td>\n",
       "      <td>750</td>\n",
       "      <td>0.681745</td>\n",
       "      <td>0.471086</td>\n",
       "      <td>5</td>\n",
       "      <td>0.0</td>\n",
       "      <td>0.0</td>\n",
       "      <td>90.0</td>\n",
       "      <td>...</td>\n",
       "      <td>207.0</td>\n",
       "      <td>118.110717</td>\n",
       "      <td>0.00000</td>\n",
       "      <td>0.0</td>\n",
       "      <td>0.0</td>\n",
       "      <td>0.0</td>\n",
       "      <td>0.0</td>\n",
       "      <td>0.0</td>\n",
       "      <td>0.0</td>\n",
       "      <td>14.953657</td>\n",
       "    </tr>\n",
       "    <tr>\n",
       "      <td>2499</td>\n",
       "      <td>1569.0</td>\n",
       "      <td>1603.0</td>\n",
       "      <td>1203</td>\n",
       "      <td>883</td>\n",
       "      <td>1.024608</td>\n",
       "      <td>0.694466</td>\n",
       "      <td>4</td>\n",
       "      <td>0.0</td>\n",
       "      <td>0.0</td>\n",
       "      <td>47.0</td>\n",
       "      <td>...</td>\n",
       "      <td>227.0</td>\n",
       "      <td>110.160958</td>\n",
       "      <td>50.00528</td>\n",
       "      <td>0.0</td>\n",
       "      <td>0.0</td>\n",
       "      <td>0.0</td>\n",
       "      <td>0.0</td>\n",
       "      <td>0.0</td>\n",
       "      <td>0.0</td>\n",
       "      <td>11.336151</td>\n",
       "    </tr>\n",
       "  </tbody>\n",
       "</table>\n",
       "<p>2324 rows × 30 columns</p>\n",
       "</div>"
      ],
      "text/plain": [
       "      temp_first  temp_last  delta_time  time_heat_sum  active_power_mean  \\\n",
       "key                                                                         \n",
       "1         1571.0     1613.0         861           1098           0.975629   \n",
       "2         1581.0     1602.0        1305            811           0.763150   \n",
       "3         1596.0     1599.0        1300            655           0.505176   \n",
       "4         1601.0     1625.0         388            741           0.802313   \n",
       "5         1576.0     1602.0         762            869           0.836793   \n",
       "...          ...        ...         ...            ...                ...   \n",
       "2495      1570.0     1591.0        1137            723           0.802673   \n",
       "2496      1554.0     1591.0        1618            940           0.700511   \n",
       "2497      1571.0     1589.0         717            569           0.737460   \n",
       "2498      1591.0     1594.0        1302            750           0.681745   \n",
       "2499      1569.0     1603.0        1203            883           1.024608   \n",
       "\n",
       "      reactive_power_mean  count_heat  bulk_1  bulk_2  bulk_3  ...  bulk_15  \\\n",
       "key                                                            ...            \n",
       "1                0.636648           5     0.0     0.0     0.0  ...    154.0   \n",
       "2                0.499528           4     0.0     0.0     0.0  ...    154.0   \n",
       "3                0.319815           5     0.0     0.0     0.0  ...    153.0   \n",
       "4                0.515074           4     0.0     0.0     0.0  ...    154.0   \n",
       "5                0.563161           4     0.0     0.0     0.0  ...    152.0   \n",
       "...                   ...         ...     ...     ...     ...  ...      ...   \n",
       "2495             0.590194           4     0.0     0.0    21.0  ...    223.0   \n",
       "2496             0.468364           6     0.0     0.0     0.0  ...    226.0   \n",
       "2497             0.617090           3     0.0     0.0     0.0  ...    226.0   \n",
       "2498             0.471086           5     0.0     0.0    90.0  ...    207.0   \n",
       "2499             0.694466           4     0.0     0.0    47.0  ...    227.0   \n",
       "\n",
       "          wire_1    wire_2  wire_3  wire_4  wire_6  wire_7  wire_8  wire_9  \\\n",
       "key                                                                          \n",
       "1      60.059998   0.00000     0.0     0.0     0.0     0.0     0.0     0.0   \n",
       "2      96.052315   0.00000     0.0     0.0     0.0     0.0     0.0     0.0   \n",
       "3      91.160157   0.00000     0.0     0.0     0.0     0.0     0.0     0.0   \n",
       "4      89.063515   0.00000     0.0     0.0     0.0     0.0     0.0     0.0   \n",
       "5      89.238236   9.11456     0.0     0.0     0.0     0.0     0.0     0.0   \n",
       "...          ...       ...     ...     ...     ...     ...     ...     ...   \n",
       "2495   89.150879   0.00000     0.0     0.0     0.0     0.0     0.0     0.0   \n",
       "2496  114.179527   0.00000     0.0     0.0     0.0     0.0     0.0     0.0   \n",
       "2497   94.086723   9.04800     0.0     0.0     0.0     0.0     0.0     0.0   \n",
       "2498  118.110717   0.00000     0.0     0.0     0.0     0.0     0.0     0.0   \n",
       "2499  110.160958  50.00528     0.0     0.0     0.0     0.0     0.0     0.0   \n",
       "\n",
       "            gas  \n",
       "key              \n",
       "1     29.749986  \n",
       "2     12.555561  \n",
       "3     28.554793  \n",
       "4     18.841219  \n",
       "5      5.413692  \n",
       "...         ...  \n",
       "2495   7.125735  \n",
       "2496   9.412616  \n",
       "2497   6.271699  \n",
       "2498  14.953657  \n",
       "2499  11.336151  \n",
       "\n",
       "[2324 rows x 30 columns]"
      ]
     },
     "metadata": {},
     "output_type": "display_data"
    },
    {
     "data": {
      "text/plain": [
       "'В таблицу не попали 149 партий'"
      ]
     },
     "metadata": {},
     "output_type": "display_data"
    }
   ],
   "source": [
    "#Объединение таблиц со всесеми признаками по пригципу inner\n",
    "data_features_merge = data_features[0]\n",
    "for data_num in range(1,len(data_features)):\n",
    "    data_features_merge = (\n",
    "                        data_features_merge.\n",
    "                        merge(data_features[data_num], on = 'key', how = 'inner')\n",
    "                    )\n",
    "\n",
    "display(data_features_merge.info())\n",
    "display(data_features_merge.sort_values(by='key'))\n",
    "\n",
    "report_bad_keycount = ( (temp_data_begin_size-report_tl_zero-report_tl_out)\n",
    "                       - data_features_merge.shape[0]\n",
    "                      )\n",
    "display(f\"В таблицу не попали {report_bad_keycount} партий\")\n",
    "del data_features"
   ]
  },
  {
   "cell_type": "code",
   "execution_count": 41,
   "metadata": {},
   "outputs": [
    {
     "data": {
      "text/html": [
       "<div>\n",
       "<style scoped>\n",
       "    .dataframe tbody tr th:only-of-type {\n",
       "        vertical-align: middle;\n",
       "    }\n",
       "\n",
       "    .dataframe tbody tr th {\n",
       "        vertical-align: top;\n",
       "    }\n",
       "\n",
       "    .dataframe thead th {\n",
       "        text-align: right;\n",
       "    }\n",
       "</style>\n",
       "<table border=\"1\" class=\"dataframe\">\n",
       "  <thead>\n",
       "    <tr style=\"text-align: right;\">\n",
       "      <th></th>\n",
       "      <th>temp_first</th>\n",
       "      <th>temp_last</th>\n",
       "      <th>delta_time</th>\n",
       "      <th>time_heat_sum</th>\n",
       "      <th>active_power_mean</th>\n",
       "      <th>reactive_power_mean</th>\n",
       "      <th>count_heat</th>\n",
       "      <th>bulk_1</th>\n",
       "      <th>bulk_2</th>\n",
       "      <th>bulk_3</th>\n",
       "      <th>...</th>\n",
       "      <th>bulk_15</th>\n",
       "      <th>wire_1</th>\n",
       "      <th>wire_2</th>\n",
       "      <th>wire_3</th>\n",
       "      <th>wire_4</th>\n",
       "      <th>wire_6</th>\n",
       "      <th>wire_7</th>\n",
       "      <th>wire_8</th>\n",
       "      <th>wire_9</th>\n",
       "      <th>gas</th>\n",
       "    </tr>\n",
       "  </thead>\n",
       "  <tbody>\n",
       "    <tr>\n",
       "      <td>count</td>\n",
       "      <td>2324.000000</td>\n",
       "      <td>2324.000000</td>\n",
       "      <td>2324.000000</td>\n",
       "      <td>2324.000000</td>\n",
       "      <td>2324.000000</td>\n",
       "      <td>2324.000000</td>\n",
       "      <td>2324.000000</td>\n",
       "      <td>2324.000000</td>\n",
       "      <td>2324.000000</td>\n",
       "      <td>2324.00000</td>\n",
       "      <td>...</td>\n",
       "      <td>2324.000000</td>\n",
       "      <td>2324.000000</td>\n",
       "      <td>2324.000000</td>\n",
       "      <td>2324.000000</td>\n",
       "      <td>2324.000000</td>\n",
       "      <td>2324.000000</td>\n",
       "      <td>2324.000000</td>\n",
       "      <td>2324.000000</td>\n",
       "      <td>2324.000000</td>\n",
       "      <td>2324.000000</td>\n",
       "    </tr>\n",
       "    <tr>\n",
       "      <td>mean</td>\n",
       "      <td>1587.370912</td>\n",
       "      <td>1593.372203</td>\n",
       "      <td>1899.040878</td>\n",
       "      <td>808.115318</td>\n",
       "      <td>0.669343</td>\n",
       "      <td>0.422481</td>\n",
       "      <td>4.696644</td>\n",
       "      <td>3.435026</td>\n",
       "      <td>1.425559</td>\n",
       "      <td>47.26420</td>\n",
       "      <td>...</td>\n",
       "      <td>120.078313</td>\n",
       "      <td>102.380870</td>\n",
       "      <td>17.592435</td>\n",
       "      <td>3.241876</td>\n",
       "      <td>0.307209</td>\n",
       "      <td>0.980926</td>\n",
       "      <td>0.006374</td>\n",
       "      <td>0.282508</td>\n",
       "      <td>0.317795</td>\n",
       "      <td>11.378396</td>\n",
       "    </tr>\n",
       "    <tr>\n",
       "      <td>std</td>\n",
       "      <td>23.626600</td>\n",
       "      <td>11.208029</td>\n",
       "      <td>1323.311276</td>\n",
       "      <td>340.880820</td>\n",
       "      <td>0.197022</td>\n",
       "      <td>3.719067</td>\n",
       "      <td>1.606210</td>\n",
       "      <td>12.424463</td>\n",
       "      <td>19.102530</td>\n",
       "      <td>75.22805</td>\n",
       "      <td>...</td>\n",
       "      <td>84.655967</td>\n",
       "      <td>43.518411</td>\n",
       "      <td>33.644136</td>\n",
       "      <td>27.972523</td>\n",
       "      <td>4.762842</td>\n",
       "      <td>8.702531</td>\n",
       "      <td>0.205926</td>\n",
       "      <td>4.174122</td>\n",
       "      <td>3.460248</td>\n",
       "      <td>6.396955</td>\n",
       "    </tr>\n",
       "    <tr>\n",
       "      <td>min</td>\n",
       "      <td>1519.000000</td>\n",
       "      <td>1541.000000</td>\n",
       "      <td>234.000000</td>\n",
       "      <td>57.000000</td>\n",
       "      <td>0.186226</td>\n",
       "      <td>-178.647909</td>\n",
       "      <td>1.000000</td>\n",
       "      <td>0.000000</td>\n",
       "      <td>0.000000</td>\n",
       "      <td>0.00000</td>\n",
       "      <td>...</td>\n",
       "      <td>0.000000</td>\n",
       "      <td>0.000000</td>\n",
       "      <td>0.000000</td>\n",
       "      <td>0.000000</td>\n",
       "      <td>0.000000</td>\n",
       "      <td>0.000000</td>\n",
       "      <td>0.000000</td>\n",
       "      <td>0.000000</td>\n",
       "      <td>0.000000</td>\n",
       "      <td>0.008399</td>\n",
       "    </tr>\n",
       "    <tr>\n",
       "      <td>25%</td>\n",
       "      <td>1571.000000</td>\n",
       "      <td>1587.000000</td>\n",
       "      <td>1215.000000</td>\n",
       "      <td>581.000000</td>\n",
       "      <td>0.526451</td>\n",
       "      <td>0.392551</td>\n",
       "      <td>4.000000</td>\n",
       "      <td>0.000000</td>\n",
       "      <td>0.000000</td>\n",
       "      <td>0.00000</td>\n",
       "      <td>...</td>\n",
       "      <td>0.000000</td>\n",
       "      <td>73.204559</td>\n",
       "      <td>0.000000</td>\n",
       "      <td>0.000000</td>\n",
       "      <td>0.000000</td>\n",
       "      <td>0.000000</td>\n",
       "      <td>0.000000</td>\n",
       "      <td>0.000000</td>\n",
       "      <td>0.000000</td>\n",
       "      <td>7.282534</td>\n",
       "    </tr>\n",
       "    <tr>\n",
       "      <td>50%</td>\n",
       "      <td>1587.000000</td>\n",
       "      <td>1593.000000</td>\n",
       "      <td>1634.500000</td>\n",
       "      <td>778.000000</td>\n",
       "      <td>0.645157</td>\n",
       "      <td>0.488079</td>\n",
       "      <td>5.000000</td>\n",
       "      <td>0.000000</td>\n",
       "      <td>0.000000</td>\n",
       "      <td>0.00000</td>\n",
       "      <td>...</td>\n",
       "      <td>107.000000</td>\n",
       "      <td>101.087998</td>\n",
       "      <td>0.000000</td>\n",
       "      <td>0.000000</td>\n",
       "      <td>0.000000</td>\n",
       "      <td>0.000000</td>\n",
       "      <td>0.000000</td>\n",
       "      <td>0.000000</td>\n",
       "      <td>0.000000</td>\n",
       "      <td>10.100687</td>\n",
       "    </tr>\n",
       "    <tr>\n",
       "      <td>75%</td>\n",
       "      <td>1603.000000</td>\n",
       "      <td>1598.000000</td>\n",
       "      <td>2293.250000</td>\n",
       "      <td>993.000000</td>\n",
       "      <td>0.792148</td>\n",
       "      <td>0.592599</td>\n",
       "      <td>6.000000</td>\n",
       "      <td>0.000000</td>\n",
       "      <td>0.000000</td>\n",
       "      <td>80.00000</td>\n",
       "      <td>...</td>\n",
       "      <td>204.000000</td>\n",
       "      <td>127.840439</td>\n",
       "      <td>23.102560</td>\n",
       "      <td>0.000000</td>\n",
       "      <td>0.000000</td>\n",
       "      <td>0.000000</td>\n",
       "      <td>0.000000</td>\n",
       "      <td>0.000000</td>\n",
       "      <td>0.000000</td>\n",
       "      <td>14.218487</td>\n",
       "    </tr>\n",
       "    <tr>\n",
       "      <td>max</td>\n",
       "      <td>1660.000000</td>\n",
       "      <td>1653.000000</td>\n",
       "      <td>23537.000000</td>\n",
       "      <td>4189.000000</td>\n",
       "      <td>1.421416</td>\n",
       "      <td>1.134983</td>\n",
       "      <td>16.000000</td>\n",
       "      <td>185.000000</td>\n",
       "      <td>325.000000</td>\n",
       "      <td>454.00000</td>\n",
       "      <td>...</td>\n",
       "      <td>405.000000</td>\n",
       "      <td>330.314424</td>\n",
       "      <td>282.780152</td>\n",
       "      <td>385.008668</td>\n",
       "      <td>113.231044</td>\n",
       "      <td>180.454575</td>\n",
       "      <td>8.490040</td>\n",
       "      <td>102.762401</td>\n",
       "      <td>62.025600</td>\n",
       "      <td>77.995040</td>\n",
       "    </tr>\n",
       "  </tbody>\n",
       "</table>\n",
       "<p>8 rows × 30 columns</p>\n",
       "</div>"
      ],
      "text/plain": [
       "        temp_first    temp_last    delta_time  time_heat_sum  \\\n",
       "count  2324.000000  2324.000000   2324.000000    2324.000000   \n",
       "mean   1587.370912  1593.372203   1899.040878     808.115318   \n",
       "std      23.626600    11.208029   1323.311276     340.880820   \n",
       "min    1519.000000  1541.000000    234.000000      57.000000   \n",
       "25%    1571.000000  1587.000000   1215.000000     581.000000   \n",
       "50%    1587.000000  1593.000000   1634.500000     778.000000   \n",
       "75%    1603.000000  1598.000000   2293.250000     993.000000   \n",
       "max    1660.000000  1653.000000  23537.000000    4189.000000   \n",
       "\n",
       "       active_power_mean  reactive_power_mean   count_heat       bulk_1  \\\n",
       "count        2324.000000          2324.000000  2324.000000  2324.000000   \n",
       "mean            0.669343             0.422481     4.696644     3.435026   \n",
       "std             0.197022             3.719067     1.606210    12.424463   \n",
       "min             0.186226          -178.647909     1.000000     0.000000   \n",
       "25%             0.526451             0.392551     4.000000     0.000000   \n",
       "50%             0.645157             0.488079     5.000000     0.000000   \n",
       "75%             0.792148             0.592599     6.000000     0.000000   \n",
       "max             1.421416             1.134983    16.000000   185.000000   \n",
       "\n",
       "            bulk_2      bulk_3  ...      bulk_15       wire_1       wire_2  \\\n",
       "count  2324.000000  2324.00000  ...  2324.000000  2324.000000  2324.000000   \n",
       "mean      1.425559    47.26420  ...   120.078313   102.380870    17.592435   \n",
       "std      19.102530    75.22805  ...    84.655967    43.518411    33.644136   \n",
       "min       0.000000     0.00000  ...     0.000000     0.000000     0.000000   \n",
       "25%       0.000000     0.00000  ...     0.000000    73.204559     0.000000   \n",
       "50%       0.000000     0.00000  ...   107.000000   101.087998     0.000000   \n",
       "75%       0.000000    80.00000  ...   204.000000   127.840439    23.102560   \n",
       "max     325.000000   454.00000  ...   405.000000   330.314424   282.780152   \n",
       "\n",
       "            wire_3       wire_4       wire_6       wire_7       wire_8  \\\n",
       "count  2324.000000  2324.000000  2324.000000  2324.000000  2324.000000   \n",
       "mean      3.241876     0.307209     0.980926     0.006374     0.282508   \n",
       "std      27.972523     4.762842     8.702531     0.205926     4.174122   \n",
       "min       0.000000     0.000000     0.000000     0.000000     0.000000   \n",
       "25%       0.000000     0.000000     0.000000     0.000000     0.000000   \n",
       "50%       0.000000     0.000000     0.000000     0.000000     0.000000   \n",
       "75%       0.000000     0.000000     0.000000     0.000000     0.000000   \n",
       "max     385.008668   113.231044   180.454575     8.490040   102.762401   \n",
       "\n",
       "            wire_9          gas  \n",
       "count  2324.000000  2324.000000  \n",
       "mean      0.317795    11.378396  \n",
       "std       3.460248     6.396955  \n",
       "min       0.000000     0.008399  \n",
       "25%       0.000000     7.282534  \n",
       "50%       0.000000    10.100687  \n",
       "75%       0.000000    14.218487  \n",
       "max      62.025600    77.995040  \n",
       "\n",
       "[8 rows x 30 columns]"
      ]
     },
     "execution_count": 41,
     "metadata": {},
     "output_type": "execute_result"
    }
   ],
   "source": [
    "data_features_merge.describe()"
   ]
  },
  {
   "cell_type": "code",
   "execution_count": 42,
   "metadata": {
    "scrolled": false
   },
   "outputs": [
    {
     "name": "stdout",
     "output_type": "stream",
     "text": [
      "Среднее: 1593.3722030981066 || Медиана: 1593.0 \n",
      "\n",
      "Минимум: 1541.0 || Максимум: 1653.0 \n",
      "\n",
      "25%-квартилей: 1587.0  || 75%-квартилей: 1598.0 \n",
      "\n",
      "Выьросы q_1 - 3*irq: 1554.0 || q_3 + 3*irq : 1631.0 \n",
      "\n"
     ]
    },
    {
     "data": {
      "image/png": "[encoded data removed]",
      "text/plain": [
       "<Figure size 1224x216 with 2 Axes>"
      ]
     },
     "metadata": {
      "needs_background": "light"
     },
     "output_type": "display_data"
    }
   ],
   "source": [
    "t_last_out_l, t_last_out_r = get_stat(data_features_merge['temp_last'],draw=True)"
   ]
  },
  {
   "cell_type": "code",
   "execution_count": 43,
   "metadata": {},
   "outputs": [
    {
     "data": {
      "text/html": [
       "<div>\n",
       "<style scoped>\n",
       "    .dataframe tbody tr th:only-of-type {\n",
       "        vertical-align: middle;\n",
       "    }\n",
       "\n",
       "    .dataframe tbody tr th {\n",
       "        vertical-align: top;\n",
       "    }\n",
       "\n",
       "    .dataframe thead th {\n",
       "        text-align: right;\n",
       "    }\n",
       "</style>\n",
       "<table border=\"1\" class=\"dataframe\">\n",
       "  <thead>\n",
       "    <tr style=\"text-align: right;\">\n",
       "      <th></th>\n",
       "      <th>temp_first</th>\n",
       "      <th>temp_last</th>\n",
       "      <th>delta_time</th>\n",
       "      <th>time_heat_sum</th>\n",
       "      <th>active_power_mean</th>\n",
       "      <th>reactive_power_mean</th>\n",
       "      <th>count_heat</th>\n",
       "      <th>bulk_1</th>\n",
       "      <th>bulk_2</th>\n",
       "      <th>bulk_3</th>\n",
       "      <th>...</th>\n",
       "      <th>bulk_15</th>\n",
       "      <th>wire_1</th>\n",
       "      <th>wire_2</th>\n",
       "      <th>wire_3</th>\n",
       "      <th>wire_4</th>\n",
       "      <th>wire_6</th>\n",
       "      <th>wire_7</th>\n",
       "      <th>wire_8</th>\n",
       "      <th>wire_9</th>\n",
       "      <th>gas</th>\n",
       "    </tr>\n",
       "    <tr>\n",
       "      <th>key</th>\n",
       "      <th></th>\n",
       "      <th></th>\n",
       "      <th></th>\n",
       "      <th></th>\n",
       "      <th></th>\n",
       "      <th></th>\n",
       "      <th></th>\n",
       "      <th></th>\n",
       "      <th></th>\n",
       "      <th></th>\n",
       "      <th></th>\n",
       "      <th></th>\n",
       "      <th></th>\n",
       "      <th></th>\n",
       "      <th></th>\n",
       "      <th></th>\n",
       "      <th></th>\n",
       "      <th></th>\n",
       "      <th></th>\n",
       "      <th></th>\n",
       "      <th></th>\n",
       "    </tr>\n",
       "  </thead>\n",
       "  <tbody>\n",
       "    <tr>\n",
       "      <td>1804</td>\n",
       "      <td>1658.0</td>\n",
       "      <td>1633.0</td>\n",
       "      <td>2211</td>\n",
       "      <td>1052</td>\n",
       "      <td>0.484453</td>\n",
       "      <td>0.367308</td>\n",
       "      <td>8</td>\n",
       "      <td>0.0</td>\n",
       "      <td>0.0</td>\n",
       "      <td>0.0</td>\n",
       "      <td>...</td>\n",
       "      <td>104.0</td>\n",
       "      <td>147.139206</td>\n",
       "      <td>0.0</td>\n",
       "      <td>0.000000</td>\n",
       "      <td>0.000000</td>\n",
       "      <td>0.000000</td>\n",
       "      <td>0.0</td>\n",
       "      <td>0.0</td>\n",
       "      <td>0.0</td>\n",
       "      <td>1.870435</td>\n",
       "    </tr>\n",
       "    <tr>\n",
       "      <td>684</td>\n",
       "      <td>1575.0</td>\n",
       "      <td>1642.0</td>\n",
       "      <td>1593</td>\n",
       "      <td>1304</td>\n",
       "      <td>0.972558</td>\n",
       "      <td>0.667831</td>\n",
       "      <td>6</td>\n",
       "      <td>0.0</td>\n",
       "      <td>0.0</td>\n",
       "      <td>106.0</td>\n",
       "      <td>...</td>\n",
       "      <td>206.0</td>\n",
       "      <td>107.265594</td>\n",
       "      <td>0.0</td>\n",
       "      <td>0.000000</td>\n",
       "      <td>0.000000</td>\n",
       "      <td>0.000000</td>\n",
       "      <td>0.0</td>\n",
       "      <td>0.0</td>\n",
       "      <td>0.0</td>\n",
       "      <td>8.210977</td>\n",
       "    </tr>\n",
       "    <tr>\n",
       "      <td>113</td>\n",
       "      <td>1645.0</td>\n",
       "      <td>1647.0</td>\n",
       "      <td>2969</td>\n",
       "      <td>819</td>\n",
       "      <td>0.936464</td>\n",
       "      <td>0.606081</td>\n",
       "      <td>4</td>\n",
       "      <td>0.0</td>\n",
       "      <td>228.0</td>\n",
       "      <td>0.0</td>\n",
       "      <td>...</td>\n",
       "      <td>0.0</td>\n",
       "      <td>7.556640</td>\n",
       "      <td>0.0</td>\n",
       "      <td>96.047951</td>\n",
       "      <td>24.148801</td>\n",
       "      <td>60.094322</td>\n",
       "      <td>0.0</td>\n",
       "      <td>0.0</td>\n",
       "      <td>0.0</td>\n",
       "      <td>25.377930</td>\n",
       "    </tr>\n",
       "    <tr>\n",
       "      <td>1563</td>\n",
       "      <td>1628.0</td>\n",
       "      <td>1653.0</td>\n",
       "      <td>2360</td>\n",
       "      <td>932</td>\n",
       "      <td>1.421416</td>\n",
       "      <td>0.988197</td>\n",
       "      <td>3</td>\n",
       "      <td>0.0</td>\n",
       "      <td>0.0</td>\n",
       "      <td>0.0</td>\n",
       "      <td>...</td>\n",
       "      <td>0.0</td>\n",
       "      <td>249.958786</td>\n",
       "      <td>0.0</td>\n",
       "      <td>0.000000</td>\n",
       "      <td>0.000000</td>\n",
       "      <td>0.000000</td>\n",
       "      <td>0.0</td>\n",
       "      <td>0.0</td>\n",
       "      <td>0.0</td>\n",
       "      <td>10.906249</td>\n",
       "    </tr>\n",
       "  </tbody>\n",
       "</table>\n",
       "<p>4 rows × 30 columns</p>\n",
       "</div>"
      ],
      "text/plain": [
       "      temp_first  temp_last  delta_time  time_heat_sum  active_power_mean  \\\n",
       "key                                                                         \n",
       "1804      1658.0     1633.0        2211           1052           0.484453   \n",
       "684       1575.0     1642.0        1593           1304           0.972558   \n",
       "113       1645.0     1647.0        2969            819           0.936464   \n",
       "1563      1628.0     1653.0        2360            932           1.421416   \n",
       "\n",
       "      reactive_power_mean  count_heat  bulk_1  bulk_2  bulk_3  ...  bulk_15  \\\n",
       "key                                                            ...            \n",
       "1804             0.367308           8     0.0     0.0     0.0  ...    104.0   \n",
       "684              0.667831           6     0.0     0.0   106.0  ...    206.0   \n",
       "113              0.606081           4     0.0   228.0     0.0  ...      0.0   \n",
       "1563             0.988197           3     0.0     0.0     0.0  ...      0.0   \n",
       "\n",
       "          wire_1  wire_2     wire_3     wire_4     wire_6  wire_7  wire_8  \\\n",
       "key                                                                         \n",
       "1804  147.139206     0.0   0.000000   0.000000   0.000000     0.0     0.0   \n",
       "684   107.265594     0.0   0.000000   0.000000   0.000000     0.0     0.0   \n",
       "113     7.556640     0.0  96.047951  24.148801  60.094322     0.0     0.0   \n",
       "1563  249.958786     0.0   0.000000   0.000000   0.000000     0.0     0.0   \n",
       "\n",
       "      wire_9        gas  \n",
       "key                      \n",
       "1804     0.0   1.870435  \n",
       "684      0.0   8.210977  \n",
       "113      0.0  25.377930  \n",
       "1563     0.0  10.906249  \n",
       "\n",
       "[4 rows x 30 columns]"
      ]
     },
     "metadata": {},
     "output_type": "display_data"
    }
   ],
   "source": [
    "display((data_features_merge.loc[data_features_merge['temp_last'] > t_last_out_r])\n",
    "       .sort_values(by='temp_last'))"
   ]
  },
  {
   "cell_type": "markdown",
   "metadata": {},
   "source": [
    "<b>Как видно многии выбросы по максимальной температуре отсеялись по другим параметрам.</b>"
   ]
  },
  {
   "cell_type": "code",
   "execution_count": 44,
   "metadata": {},
   "outputs": [],
   "source": [
    "## Подбор наиболее эффективной модели"
   ]
  },
  {
   "cell_type": "markdown",
   "metadata": {},
   "source": [
    "### Параметры"
   ]
  },
  {
   "cell_type": "code",
   "execution_count": 45,
   "metadata": {},
   "outputs": [],
   "source": [
    "#параметры\n",
    "pd.options.display.max_columns = 100\n",
    "pd.options.display.max_rows = 200\n",
    "pd.options.display.max_colwidth = 300\n",
    "\n",
    "#Параметры для отладки\n",
    "DEBUGING = False               #вывод на экран текущих параметров\n",
    "\n",
    "\n",
    "R_STATE = 737\n",
    "N_JOBS = -1  \n",
    "filled_VehicleType=False\n",
    "\n",
    "TARGET_NAME = 'temp_last'\n",
    "TEST_SIZE=0.3\n",
    "\n",
    "models_params_find = False  #Заменить на True для принудительного запуска поиска параметров\n",
    "                            #При згачении False программа попвтается взять данные из файла \n",
    "switch_to_find_ifno_file = False #Переключаться на перебор параметров \n",
    "                                 #если не обнаружен файл c параметрами моделей"
   ]
  },
  {
   "cell_type": "markdown",
   "metadata": {},
   "source": [
    "### Проверке на мультиколлинеарность"
   ]
  },
  {
   "cell_type": "code",
   "execution_count": 46,
   "metadata": {},
   "outputs": [
    {
     "data": {
      "text/html": [
       "<div>\n",
       "<style scoped>\n",
       "    .dataframe tbody tr th:only-of-type {\n",
       "        vertical-align: middle;\n",
       "    }\n",
       "\n",
       "    .dataframe tbody tr th {\n",
       "        vertical-align: top;\n",
       "    }\n",
       "\n",
       "    .dataframe thead th {\n",
       "        text-align: right;\n",
       "    }\n",
       "</style>\n",
       "<table border=\"1\" class=\"dataframe\">\n",
       "  <thead>\n",
       "    <tr style=\"text-align: right;\">\n",
       "      <th></th>\n",
       "      <th>col_1</th>\n",
       "      <th>col_2</th>\n",
       "      <th>corr</th>\n",
       "      <th>sign</th>\n",
       "    </tr>\n",
       "  </thead>\n",
       "  <tbody>\n",
       "    <tr>\n",
       "      <td>327</td>\n",
       "      <td>bulk_9</td>\n",
       "      <td>wire_8</td>\n",
       "      <td>0.990008</td>\n",
       "      <td>+</td>\n",
       "    </tr>\n",
       "  </tbody>\n",
       "</table>\n",
       "</div>"
      ],
      "text/plain": [
       "      col_1   col_2      corr sign\n",
       "327  bulk_9  wire_8  0.990008    +"
      ]
     },
     "metadata": {},
     "output_type": "display_data"
    }
   ],
   "source": [
    "col_count = len(data_features_merge.columns)\n",
    "data_correlation = pd.DataFrame()\n",
    "for col_n in range(col_count):\n",
    "    for col_n2 in range(col_n+1, col_count):\n",
    "        c_name_1 = data_features_merge.columns[col_n]\n",
    "        c_name_2 = data_features_merge.columns[col_n2]\n",
    "        corr = data_features_merge[c_name_1].corr(data_features_merge[c_name_2])\n",
    "        sign = '+'\n",
    "        if corr < 0: sign = '-'\n",
    "        corr = np.abs(corr)    \n",
    "        data_correlation = data_correlation.append({'col_1':c_name_1,\n",
    "                                                    'col_2':c_name_2,\n",
    "                                                    'corr':corr,\n",
    "                                                    'sign':sign}, \n",
    "                                                    ignore_index=True\n",
    "                                                    )\n",
    "strong_correlation = (\n",
    "                        data_correlation.loc[data_correlation['corr'] > 0.9]\n",
    "                        .sort_values(by='corr', ascending=False)  \n",
    "                     )\n",
    "display(strong_correlation)"
   ]
  },
  {
   "cell_type": "markdown",
   "metadata": {},
   "source": [
    "<b>Удалим столбцы с высокой корреляцией</b>"
   ]
  },
  {
   "cell_type": "code",
   "execution_count": 47,
   "metadata": {},
   "outputs": [
    {
     "name": "stdout",
     "output_type": "stream",
     "text": [
      "Размер таблицы до удаления  (2324, 30)\n",
      "Удаляем колонки  ['wire_8']\n",
      "Размер таблицы после удаления  (2324, 29)\n"
     ]
    }
   ],
   "source": [
    "try:\n",
    "    print('Размер таблицы до удаления ', data_features_merge.shape)\n",
    "    del_col = strong_correlation['col_2'].values\n",
    "    print('Удаляем колонки ', del_col)\n",
    "    data_features_merge = data_features_merge.drop(columns=del_col)\n",
    "    print('Размер таблицы после удаления ', data_features_merge.shape)\n",
    "except: None\n",
    "    "
   ]
  },
  {
   "cell_type": "markdown",
   "metadata": {},
   "source": [
    "### Разбивка на обучающую и тестовую выборки"
   ]
  },
  {
   "cell_type": "code",
   "execution_count": 48,
   "metadata": {},
   "outputs": [],
   "source": [
    "def div_features_target(data,targetname):\n",
    "    \"\"\"\n",
    "    Функция для разделения таблицы на признаки и целевой признак\n",
    "    \"\"\"\n",
    "    return data.drop([targetname], axis=1), data[targetname]"
   ]
  },
  {
   "cell_type": "code",
   "execution_count": 49,
   "metadata": {},
   "outputs": [],
   "source": [
    "train_data, test_data = train_test_split(data_features_merge, \n",
    "                                            test_size=TEST_SIZE, random_state=R_STATE)\n",
    "\n",
    "train_features, train_target = div_features_target(train_data,TARGET_NAME) \n",
    "test_features, test_target = div_features_target(test_data,TARGET_NAME)\n",
    "\n",
    "del train_data, test_data"
   ]
  },
  {
   "cell_type": "code",
   "execution_count": 50,
   "metadata": {},
   "outputs": [
    {
     "data": {
      "text/plain": [
       "'Тренеровочная выборка (1626, 28) - (1626,)'"
      ]
     },
     "metadata": {},
     "output_type": "display_data"
    },
    {
     "data": {
      "text/plain": [
       "'Тестовая выборка (698, 28) - (698,)'"
      ]
     },
     "metadata": {},
     "output_type": "display_data"
    }
   ],
   "source": [
    "disp_font_size(f\"Тренеровочная выборка {train_features.shape} - {train_target.shape}\",4)\n",
    "disp_font_size(f\"Тестовая выборка {test_features.shape} - {test_target.shape}\",4)"
   ]
  },
  {
   "cell_type": "markdown",
   "metadata": {},
   "source": [
    "### Выбор моделей по целевому показателю (регрессия)"
   ]
  },
  {
   "cell_type": "markdown",
   "metadata": {},
   "source": [
    "#### Функций для telegrem bota"
   ]
  },
  {
   "cell_type": "code",
   "execution_count": 51,
   "metadata": {
    "scrolled": true
   },
   "outputs": [],
   "source": [
    "#telegrem bot для оповещений о работк моделей\n",
    "#++++++++++СОЗДАНИЕ БОТА+++++++\n",
    "def save_bot_config(tkn):\n",
    "    \"\"\"\n",
    "    Функция для сохранения конфигурации бота\n",
    "    \"\"\"\n",
    "    try:\n",
    "        import requests\n",
    "        import json\n",
    "        config = {'token':tkn,'chat_id':''}\n",
    "        query = f\"https://api.telegram.org/bot{tkn}/getUpdates\"\n",
    "        j = json.loads(requests.get(query).text)\n",
    "        \n",
    "        config = {'token':tkn,\n",
    "                  'chat_id':j['result'][0]['my_chat_member']['from']['id']}\n",
    "        np.save(DATA_PROJECT_DIR+'config.npy', config)\n",
    "    except: return 'err'\n",
    "    return 'ok'\n",
    "\n",
    "def load_bot_conf():\n",
    "    \"\"\"\n",
    "    Функция для загрузки конфигурации бота\n",
    "    \"\"\"\n",
    "    try:\n",
    "        config_rq = np.load(DATA_PROJECT_DIR+'config.npy',allow_pickle='TRUE').item()\n",
    "        return config_rq['token'], config_rq['chat_id']\n",
    "    except: return False\n",
    "\n",
    "def make_natrix(token,chat_id):\n",
    "    \"\"\"\n",
    "    Функция для отправки текстового сообщения\n",
    "    \"\"\"\n",
    "    def send_mes(text):\n",
    "        telegram = get_notifier('telegram')\n",
    "        telegram.notify(message=text,token=token,chat_id=chat_id)\n",
    "    return send_mes\n",
    "\n",
    "def natrix_send_model_list(model_list, natrix_send_f, title=''):\n",
    "    \"\"\"\n",
    "    Функция для отправки списка моделей (DataFrame)\n",
    "    \"\"\"    \n",
    "    mess = ''\n",
    "    for ind, row in model_list.iterrows():        \n",
    "        tr_s = row['score']\n",
    "        if tr_s != '-':\n",
    "            tr_s = round(tr_s,2)                \n",
    "        test_s = row['test_score']\n",
    "        if test_s != '-':\n",
    "            test_s = round(test_s,2)\n",
    "        mess += (f\"test:{test_s}||tr:{tr_s}||\"\n",
    "               + f\"{row['model']}{row['g_param']}\\n\"\n",
    "             )    \n",
    "    mess = re.sub(r\" |\\'\", '', mess)\n",
    "    mess = f\"{title}\\n\\n\" + mess\n",
    "    try:\n",
    "        natrix_send_f(mess)\n",
    "    except:\n",
    "        print(natrix_send_f)"
   ]
  },
  {
   "cell_type": "code",
   "execution_count": 52,
   "metadata": {},
   "outputs": [
    {
     "data": {
      "text/plain": [
       "'err'"
      ]
     },
     "execution_count": 52,
     "metadata": {},
     "output_type": "execute_result"
    }
   ],
   "source": [
    "save_bot_config('')"
   ]
  },
  {
   "cell_type": "code",
   "execution_count": 53,
   "metadata": {
    "scrolled": true
   },
   "outputs": [
    {
     "name": "stdout",
     "output_type": "stream",
     "text": [
      "Бот активен!\n"
     ]
    }
   ],
   "source": [
    "try:\n",
    "    token, chat_id = load_bot_conf()\n",
    "    from notifiers import get_notifier    \n",
    "    natrix_message = make_natrix(token, chat_id)\n",
    "    bot_ok = True\n",
    "    print('Бот активен!')\n",
    "except:\n",
    "    natrix_message = 'Бот не активен!'\n",
    "    bot_ok = False\n",
    "    print('Бот не активен!')"
   ]
  },
  {
   "cell_type": "markdown",
   "metadata": {},
   "source": [
    "### Модели из библиотеки sklearn: \n",
    "- Дерево принятия решений для регрессии\n",
    "- Случайный лес для регрессии\n",
    "- Ансамбль LightGBM для регрессии\n",
    "- Линейная регрессия"
   ]
  },
  {
   "cell_type": "markdown",
   "metadata": {},
   "source": [
    "#### Описание функций для моделирования"
   ]
  },
  {
   "cell_type": "code",
   "execution_count": 54,
   "metadata": {},
   "outputs": [],
   "source": [
    "#функции для создания и работы с моделями: \n",
    "#  Дерево принятия решений для регрессии\n",
    "#  Случайный лес для регрессии\n",
    "#  Ансамбль LightGBM для регрессии\n",
    "#  Линейная регрессия\n",
    "\n",
    "def display_metric(score, scorer, title=''): \n",
    "    \"\"\"\n",
    "    Функция для вывода метрик\n",
    "    \"\"\"           \n",
    "    if isinstance(scorer, str):\n",
    "        scorer_name = scorer.split(' ')[1]\n",
    "    else:\n",
    "        scorer_name = re.sub(r\".*\\(|\\,.*|\\)\", '', str(scorer))\n",
    "\n",
    "    disp_font_size(f\" {title} {scorer_name.upper()}: = {score}\",5)  \n",
    "def score_cv(model, features, target, scorer, cv=5, mean=True):\n",
    "    train_time = time.time()\n",
    "    result = cross_val_score(model, features, target, scoring=scorer, cv=cv, n_jobs=N_JOBS) \n",
    "    train_time = round(time.time() - train_time,2)\n",
    "    if mean: result = round(result.mean(),4)\n",
    "    return result, train_time \n",
    "\n",
    "def  make_pipe(model, **kwargs):\n",
    "    return Pipeline([\n",
    "    ('scale', StandardScaler()),\n",
    "    ('clf', model)\n",
    "])\n",
    "\n",
    "def make_clf(model_type, **kwargs):\n",
    "    if model_type == 'RndForestReg':\n",
    "        model = make_pipe(RandomForestRegressor(random_state=R_STATE, **kwargs))\n",
    "    elif model_type == 'DecTreeReg':        \n",
    "        model = make_pipe(DecisionTreeRegressor(random_state=R_STATE, **kwargs))\n",
    "    elif model_type == 'LinearReg':\n",
    "        model = make_pipe(LinearRegression(**kwargs))    \n",
    "    elif model_type == 'LGBMReg':\n",
    "        model = make_pipe(LGBMRegressor(boosting_type='gbdt',random_state=R_STATE, **kwargs))       \n",
    "    else: return 0, 'Тип модели не найден'\n",
    "    return model\n",
    "\n",
    "#Таблица для хранения лучших результатов моделей\n",
    "columns_model = ['model','g_param','Score']\n",
    "models_valid = pd.DataFrame(columns=columns_model)    \n",
    "\n",
    "def get_model(params, train_features, train_target):    \n",
    "    model = make_clf(params['model'], **params['g_param'])\n",
    "    pbar = tqdm(total = 1)\n",
    "    model.fit(train_features, train_target)   \n",
    "    pbar.update(1)    \n",
    "    pbar.close()        \n",
    "    return model\n",
    "\n",
    "\n",
    "def get_param_list(kwargs):\n",
    "    params_list = pd.DataFrame()    \n",
    "    if len(kwargs) > 0:        \n",
    "        new_str = pd.Series()\n",
    "        for key, param in kwargs.items():\n",
    "            old_param_list = params_list.copy()\n",
    "            params_list = pd.DataFrame()\n",
    "            num_params = len(old_param_list)\n",
    "            if num_params < 1 : num_params=1\n",
    "            for str_ind in range(num_params):\n",
    "                if isinstance(param, range) | isinstance(param, np.ndarray): \n",
    "                    for p in param:\n",
    "                        try:\n",
    "                            new_str = old_param_list.iloc[str_ind]\n",
    "                        except: None\n",
    "                        if isinstance(p, float): p = round(p,4)\n",
    "                        new_str[key] = p\n",
    "                        params_list = params_list.append(new_str, ignore_index=True)                    \n",
    "                else:\n",
    "                    try:\n",
    "                        new_str = old_param_list.iloc[str_ind]\n",
    "                    except: None\n",
    "                    new_str[key] = param\n",
    "                    params_list = params_list.append(new_str, ignore_index=True)\n",
    "    if len(params_list) < 1: params_list.loc[0,'no_param']='no_param'\n",
    "    return params_list\n",
    "\n",
    "    \n",
    "def get_model_params(model_type, features, target, scorer, title=''\n",
    "                 , n_str=7, disp_metr=True \n",
    "                 , returnModel=False, debug=False, **kwargs):\n",
    "\n",
    "    \"\"\"\n",
    "    Функция для создания модели  \n",
    "    \n",
    "    \"\"\"\n",
    "    \n",
    "    columns_model = ['model','g_param','train_time','score']\n",
    "    models_param = pd.DataFrame(columns=columns_model)    \n",
    "\n",
    "       \n",
    "    print('==========================')    \n",
    "    disp_font_size(f\"Модель: {MODEL_TEXT_NAME[model_type]} {title} <br>\",5)    \n",
    "    params_list = get_param_list(kwargs)\n",
    "    pbar = tqdm(total = len(params_list))\n",
    "    params = {}\n",
    "    for ind, row in params_list.iterrows():\n",
    "        for col_n, val in row.items():\n",
    "            if col_n != 'no_param':\n",
    "                if isinstance(val, str): params[col_n] = val\n",
    "                elif float(val)%1>0: params[col_n] = float(val)\n",
    "                else: params[col_n] = int(val)              \n",
    "        model = make_clf(model_type, **params)  \n",
    "        try:\n",
    "            score, train_time = score_cv(model, features, target, scorer)            \n",
    "            if debug: print(f'{kwargs}|{score}')              \n",
    "            models_param = models_param.append({'model': model_type\n",
    "                                               ,'g_param':{**params}                                                \n",
    "                                               ,'train_time':train_time\n",
    "                                               ,'score':score}\n",
    "                                               , ignore_index=True)   \n",
    "        except:\n",
    "            models_param = models_param.append({'model': model_type\n",
    "                                               ,'g_param':{**params}                                                \n",
    "                                               ,'train_time':'Err'\n",
    "                                               ,'score':'Err'}\n",
    "                                               , ignore_index=True)   \n",
    "\n",
    "        pbar.update(1)      \n",
    "    pbar.close()        \n",
    "    #Вывод результатов    \n",
    "    models_param = models_param.loc[~models_param['score'].isin(['Err','-'] )]\n",
    "    models_param = models_param.sort_values(by='score', ascending=False).reset_index(drop=True)\n",
    " \n",
    "    \n",
    "    if disp_metr: \n",
    "        if n_str > 0: display(models_param.head(n_str))\n",
    "        try:\n",
    "            disp_font_size(re.sub(r'[\\{\\}]', '', str(models_param.loc[0,'g_param'])),5)\n",
    "        except:    \n",
    "            disp_font_size('Нет параметров')\n",
    "        disp_font_size(f\"Время: {models_param.loc[0,'train_time']}\",5)\n",
    "        display_metric(models_param.loc[0,'score'], scorer)             \n",
    "        \n",
    "  \n",
    "    return models_param\n",
    "\n",
    "def disp_model_result(model, test_features, test_target, scorer):   \n",
    "    \"\"\"\n",
    "    Функция для подсчёта метрики и вывода результатов\n",
    "    \"\"\"\n",
    "    try:\n",
    "        pred_time = time.time()    \n",
    "        predict = model.predict(test_features)\n",
    "        pred_time = round(time.time() - pred_time,2)\n",
    "    except:\n",
    "        score = 'disp_model_result - Err'\n",
    "    min_best = not scorer[1]\n",
    "    score = round(scorer[0](test_target,predict),2) \n",
    "    if min_best: score = score * -1    \n",
    "    #disp_font_size(MODEL_TEXT_NAME[row['model']],5)  \n",
    "    #disp_font_size(re.sub(r'[\\{\\}]', '', str(row['g_param'])),4)  \n",
    "    display_metric(score, str(scorer[0]))        \n",
    "    return score, pred_time\n",
    "\n",
    "\n",
    "def models_test(params, features, target, test_features, test_target, scorer):\n",
    "    models_p = pd.DataFrame(columns=['model','g_param','pred_time','test_score'])    \n",
    "    tested_model = pd.DataFrame()\n",
    "    for i, row in params.iterrows():\n",
    "        try:\n",
    "            model = get_model(row, features, target)        \n",
    "            score, pred_time = disp_model_result(model, test_features, test_target, scorer)\n",
    "        except: \n",
    "            print('models_test - Модель не создана') \n",
    "        tested_model = row[['model','g_param']]\n",
    "        tested_model['test_score'] = score\n",
    "        tested_model['pred_time'] = pred_time\n",
    "        models_p = models_p.append(tested_model, ignore_index=True) \n",
    "    return models_p.sort_values(by='test_score', ascending=True).reset_index(drop=True)\n",
    "        \n",
    "def models_serch(params, features, target, test_features=None\n",
    "                 , test_target=None\n",
    "                 , scorer=[mean_absolute_error,False]\n",
    "                 , n_str=7, test=False, test_num=5):\n",
    "    models_p = pd.DataFrame()   \n",
    "    if test: n_str = 0\n",
    "    my_scorer = make_scorer(scorer[0], greater_is_better=scorer[1])      \n",
    "    for model, params in params.items():\n",
    "        model_name = re.sub(r\".*\\_\", '', str(model))    \n",
    "        log = get_model_params(model_name, features, target, my_scorer\n",
    "                               , n_str=n_str, disp_metr=True\n",
    "                               , **params, debug=DEBUGING)    \n",
    "        log = log.head(test_num)\n",
    "        sort_column = 'score'\n",
    "        test_num_str = test_num -1\n",
    "        log['pred_time'] = '-'\n",
    "        log['test_score'] = '-'\n",
    "        \n",
    "        if test:\n",
    "            print('======================')\n",
    "            disp_font_size(\"Результаты на тестовой выборке\",5)  \n",
    "            if test_num < len(log): test_num_str = test_num -1\n",
    "            else: test_num_str = len(log)\n",
    "            models_test_p = models_test(log.head(test_num_str+1)\n",
    "                                        , features, target\n",
    "                                        , test_features, test_target\n",
    "                                            , scorer=scorer)\n",
    "            display(models_test_p)                \n",
    "          \n",
    "            log.loc[0:test_num_str,'pred_time'] = models_test_p.loc[0:test_num_str,'pred_time']\n",
    "            log.loc[0:test_num_str,'test_score'] = models_test_p.loc[0:test_num_str,'test_score']\n",
    "            sort_column = 'test_score'      \n",
    "            \n",
    "        models_p = models_p.append(log, ignore_index=True,sort=False)   \n",
    "    result = models_p.loc[~models_p[sort_column].isin(['Err','-'] )]\n",
    "    return  (result.sort_values(by=sort_column, ascending=False)\n",
    "                 .reset_index(drop=True)\n",
    "            )"
   ]
  },
  {
   "cell_type": "code",
   "execution_count": 55,
   "metadata": {},
   "outputs": [],
   "source": [
    "#перечень моделей\n",
    "MODEL_TEXT_NAME = {'LinearReg':'Линейная регрессия'\n",
    "                    ,'DecTreeReg':'Дерево принятия решений для регрессии' \n",
    "                    ,'RndForestReg':'Случайный лес для регрессии'\n",
    "                    ,'LGBMReg':'Ансамбль LightGBM для регрессии'\n",
    "                    , 'Keras':'Модели Keras Sequential c 1-3 layers Dense'}"
   ]
  },
  {
   "cell_type": "markdown",
   "metadata": {},
   "source": [
    "#### Подбор параметров моделей для выбора максимально эффективной"
   ]
  },
  {
   "cell_type": "code",
   "execution_count": 56,
   "metadata": {
    "scrolled": false
   },
   "outputs": [
    {
     "data": {
      "text/html": [
       "<div>\n",
       "<style scoped>\n",
       "    .dataframe tbody tr th:only-of-type {\n",
       "        vertical-align: middle;\n",
       "    }\n",
       "\n",
       "    .dataframe tbody tr th {\n",
       "        vertical-align: top;\n",
       "    }\n",
       "\n",
       "    .dataframe thead th {\n",
       "        text-align: right;\n",
       "    }\n",
       "</style>\n",
       "<table border=\"1\" class=\"dataframe\">\n",
       "  <thead>\n",
       "    <tr style=\"text-align: right;\">\n",
       "      <th></th>\n",
       "      <th>model</th>\n",
       "      <th>g_param</th>\n",
       "      <th>train_time</th>\n",
       "      <th>score</th>\n",
       "      <th>pred_time</th>\n",
       "      <th>test_score</th>\n",
       "    </tr>\n",
       "  </thead>\n",
       "  <tbody>\n",
       "    <tr>\n",
       "      <td>0</td>\n",
       "      <td>LinearReg</td>\n",
       "      <td>{}</td>\n",
       "      <td>1.91</td>\n",
       "      <td>-5.7613</td>\n",
       "      <td>-</td>\n",
       "      <td>-</td>\n",
       "    </tr>\n",
       "    <tr>\n",
       "      <td>1</td>\n",
       "      <td>LGBMReg</td>\n",
       "      <td>{'learning_rate': 0.7, 'max_depth': 1, 'n_estimators': 81}</td>\n",
       "      <td>0.06</td>\n",
       "      <td>-5.8091</td>\n",
       "      <td>-</td>\n",
       "      <td>-</td>\n",
       "    </tr>\n",
       "    <tr>\n",
       "      <td>2</td>\n",
       "      <td>LGBMReg</td>\n",
       "      <td>{'learning_rate': 0.7, 'max_depth': 1, 'n_estimators': 91}</td>\n",
       "      <td>0.07</td>\n",
       "      <td>-5.8158</td>\n",
       "      <td>-</td>\n",
       "      <td>-</td>\n",
       "    </tr>\n",
       "    <tr>\n",
       "      <td>3</td>\n",
       "      <td>LGBMReg</td>\n",
       "      <td>{'learning_rate': 0.1, 'max_depth': 51, 'n_estimators': 81}</td>\n",
       "      <td>0.18</td>\n",
       "      <td>-5.8180</td>\n",
       "      <td>-</td>\n",
       "      <td>-</td>\n",
       "    </tr>\n",
       "    <tr>\n",
       "      <td>4</td>\n",
       "      <td>LGBMReg</td>\n",
       "      <td>{'learning_rate': 0.1, 'max_depth': 71, 'n_estimators': 81}</td>\n",
       "      <td>0.18</td>\n",
       "      <td>-5.8180</td>\n",
       "      <td>-</td>\n",
       "      <td>-</td>\n",
       "    </tr>\n",
       "    <tr>\n",
       "      <td>5</td>\n",
       "      <td>LGBMReg</td>\n",
       "      <td>{'learning_rate': 0.1, 'max_depth': 91, 'n_estimators': 81}</td>\n",
       "      <td>0.19</td>\n",
       "      <td>-5.8180</td>\n",
       "      <td>-</td>\n",
       "      <td>-</td>\n",
       "    </tr>\n",
       "    <tr>\n",
       "      <td>6</td>\n",
       "      <td>RndForestReg</td>\n",
       "      <td>{'max_depth': 31, 'n_estimators': 71}</td>\n",
       "      <td>0.96</td>\n",
       "      <td>-5.9430</td>\n",
       "      <td>-</td>\n",
       "      <td>-</td>\n",
       "    </tr>\n",
       "    <tr>\n",
       "      <td>7</td>\n",
       "      <td>RndForestReg</td>\n",
       "      <td>{'max_depth': 91, 'n_estimators': 71}</td>\n",
       "      <td>1.03</td>\n",
       "      <td>-5.9440</td>\n",
       "      <td>-</td>\n",
       "      <td>-</td>\n",
       "    </tr>\n",
       "    <tr>\n",
       "      <td>8</td>\n",
       "      <td>RndForestReg</td>\n",
       "      <td>{'max_depth': 81, 'n_estimators': 71}</td>\n",
       "      <td>0.88</td>\n",
       "      <td>-5.9440</td>\n",
       "      <td>-</td>\n",
       "      <td>-</td>\n",
       "    </tr>\n",
       "    <tr>\n",
       "      <td>9</td>\n",
       "      <td>RndForestReg</td>\n",
       "      <td>{'max_depth': 71, 'n_estimators': 71}</td>\n",
       "      <td>0.93</td>\n",
       "      <td>-5.9440</td>\n",
       "      <td>-</td>\n",
       "      <td>-</td>\n",
       "    </tr>\n",
       "    <tr>\n",
       "      <td>10</td>\n",
       "      <td>RndForestReg</td>\n",
       "      <td>{'max_depth': 61, 'n_estimators': 71}</td>\n",
       "      <td>0.93</td>\n",
       "      <td>-5.9440</td>\n",
       "      <td>-</td>\n",
       "      <td>-</td>\n",
       "    </tr>\n",
       "    <tr>\n",
       "      <td>11</td>\n",
       "      <td>DecTreeReg</td>\n",
       "      <td>{'max_depth': 11}</td>\n",
       "      <td>0.08</td>\n",
       "      <td>-7.6526</td>\n",
       "      <td>-</td>\n",
       "      <td>-</td>\n",
       "    </tr>\n",
       "    <tr>\n",
       "      <td>12</td>\n",
       "      <td>DecTreeReg</td>\n",
       "      <td>{'max_depth': 1}</td>\n",
       "      <td>1.12</td>\n",
       "      <td>-7.9092</td>\n",
       "      <td>-</td>\n",
       "      <td>-</td>\n",
       "    </tr>\n",
       "    <tr>\n",
       "      <td>13</td>\n",
       "      <td>DecTreeReg</td>\n",
       "      <td>{'max_depth': 21}</td>\n",
       "      <td>0.06</td>\n",
       "      <td>-8.1224</td>\n",
       "      <td>-</td>\n",
       "      <td>-</td>\n",
       "    </tr>\n",
       "    <tr>\n",
       "      <td>14</td>\n",
       "      <td>DecTreeReg</td>\n",
       "      <td>{'max_depth': 31}</td>\n",
       "      <td>0.05</td>\n",
       "      <td>-8.2136</td>\n",
       "      <td>-</td>\n",
       "      <td>-</td>\n",
       "    </tr>\n",
       "    <tr>\n",
       "      <td>15</td>\n",
       "      <td>DecTreeReg</td>\n",
       "      <td>{'max_depth': 41}</td>\n",
       "      <td>0.05</td>\n",
       "      <td>-8.2136</td>\n",
       "      <td>-</td>\n",
       "      <td>-</td>\n",
       "    </tr>\n",
       "  </tbody>\n",
       "</table>\n",
       "</div>"
      ],
      "text/plain": [
       "           model                                                      g_param  \\\n",
       "0      LinearReg                                                           {}   \n",
       "1        LGBMReg   {'learning_rate': 0.7, 'max_depth': 1, 'n_estimators': 81}   \n",
       "2        LGBMReg   {'learning_rate': 0.7, 'max_depth': 1, 'n_estimators': 91}   \n",
       "3        LGBMReg  {'learning_rate': 0.1, 'max_depth': 51, 'n_estimators': 81}   \n",
       "4        LGBMReg  {'learning_rate': 0.1, 'max_depth': 71, 'n_estimators': 81}   \n",
       "5        LGBMReg  {'learning_rate': 0.1, 'max_depth': 91, 'n_estimators': 81}   \n",
       "6   RndForestReg                        {'max_depth': 31, 'n_estimators': 71}   \n",
       "7   RndForestReg                        {'max_depth': 91, 'n_estimators': 71}   \n",
       "8   RndForestReg                        {'max_depth': 81, 'n_estimators': 71}   \n",
       "9   RndForestReg                        {'max_depth': 71, 'n_estimators': 71}   \n",
       "10  RndForestReg                        {'max_depth': 61, 'n_estimators': 71}   \n",
       "11    DecTreeReg                                            {'max_depth': 11}   \n",
       "12    DecTreeReg                                             {'max_depth': 1}   \n",
       "13    DecTreeReg                                            {'max_depth': 21}   \n",
       "14    DecTreeReg                                            {'max_depth': 31}   \n",
       "15    DecTreeReg                                            {'max_depth': 41}   \n",
       "\n",
       "    train_time   score pred_time test_score  \n",
       "0         1.91 -5.7613         -          -  \n",
       "1         0.06 -5.8091         -          -  \n",
       "2         0.07 -5.8158         -          -  \n",
       "3         0.18 -5.8180         -          -  \n",
       "4         0.18 -5.8180         -          -  \n",
       "5         0.19 -5.8180         -          -  \n",
       "6         0.96 -5.9430         -          -  \n",
       "7         1.03 -5.9440         -          -  \n",
       "8         0.88 -5.9440         -          -  \n",
       "9         0.93 -5.9440         -          -  \n",
       "10        0.93 -5.9440         -          -  \n",
       "11        0.08 -7.6526         -          -  \n",
       "12        1.12 -7.9092         -          -  \n",
       "13        0.06 -8.1224         -          -  \n",
       "14        0.05 -8.2136         -          -  \n",
       "15        0.05 -8.2136         -          -  "
      ]
     },
     "metadata": {},
     "output_type": "display_data"
    }
   ],
   "source": [
    "#models_params_find = False  #Заменить на True для принудительного запуска поиска параметров\n",
    "                            #При згачении False программа попвтается взять данные из файла                \n",
    "models_bigrng_params_find = models_params_find    \n",
    "if ~models_bigrng_params_find:\n",
    "    try:\n",
    "        model_list = pd.read_csv(DATA_PROJECT_DIR+'model_list.csv')\n",
    "    except:\n",
    "        model_list = 'Файл не найден. models_params_find = True для поиска параметров.'\n",
    "        if switch_to_find_ifno_file:\n",
    "            models_bigrng_params_find = True\n",
    "\n",
    "if models_bigrng_params_find:\n",
    "    models_param = {\n",
    "             'LinearReg':{},\n",
    "             'DecTreeReg':{'max_depth': range(1,101,10)},\n",
    "             'RndForestReg':{'max_depth': range(1,101,10), 'n_estimators': range(1,101,10)},\n",
    "             'LGBMReg':{'max_depth': range(1,101,10),'n_estimators': range(1,101,10), \n",
    "                           'learning_rate': np.arange(0.1,1.1,0.3)}\n",
    "            }            \n",
    "    \n",
    "    model_list = models_serch(models_param, train_features, train_target\n",
    "                                          , test_features,  test_target\n",
    "                                          , scorer=[mean_absolute_error,False]\n",
    "                                          , test=False, test_num=5)\n",
    "    save_file_csv(model_list,'model_list.csv')    \n",
    "    natrix_send_model_list(model_list\n",
    "                       ,natrix_message,'Модели с большими шагом')    \n",
    "\n",
    "if isinstance(model_list, pd.DataFrame):\n",
    "    display(model_list)\n",
    "else:\n",
    "    display(model_list)        "
   ]
  },
  {
   "cell_type": "code",
   "execution_count": 57,
   "metadata": {},
   "outputs": [],
   "source": [
    "#Из лусших комбинаций параметров (top_models по каждой моделе)\n",
    "#Составляем диапазон перебора параметров от мин до макс значения каждого параметра\n",
    "def str_to_dict(str_p):\n",
    "    \"\"\"\n",
    "    Функция переводит строку формата {'x':n,'y':k} в словарь\n",
    "    \"\"\"\n",
    "    str_p = re.sub(r\"\\{|\\}|\\s|\\'\", '', str(str_p)).split(',')\n",
    "    dic_p = {}\n",
    "    for p in str_p:\n",
    "        spl_p = p.split(':')\n",
    "        if (spl_p[0] != ''):\n",
    "            if spl_p[1].replace('.', '').isdigit():\n",
    "                try:\n",
    "                    dic_p[spl_p[0]] = int(spl_p[1])\n",
    "                except:\n",
    "                    dic_p[spl_p[0]] = float(spl_p[1])\n",
    "            else:\n",
    "                dic_p[spl_p[0]] = spl_p[1]\n",
    "    return dict(dic_p)\n",
    "\n",
    "def get_max_min_range(model_list, top_models):\n",
    "    \"\"\"\n",
    "    Функция приниает список моделий, а возвращает DataFrame \n",
    "    с моделями и диапазонами значений для каждого параметра\n",
    "    \"\"\"\n",
    "    unique_models = model_list['model'].unique()    \n",
    "    params_range_list = {}\n",
    "    for model in unique_models:\n",
    "        rng_p = pd.DataFrame()\n",
    "        bm_lst = pd.DataFrame()\n",
    "        top_models_params =  (\n",
    "                             (model_list.loc[model_list['model'] == model][['model','g_param']])\n",
    "                             .head(top_models)\n",
    "                             )\n",
    "        for ind, row in top_models_params.iterrows():  \n",
    "            p = row['g_param']\n",
    "            if isinstance(p, str):\n",
    "                p = str_to_dict(p)                            \n",
    "            bm_lst = bm_lst.append(p, ignore_index=True)\n",
    "        rng_p['max'] = bm_lst.max()\n",
    "        rng_p['min'] = bm_lst.min()   \n",
    "        md_par = {}\n",
    "        for ind, row in rng_p.iterrows():\n",
    "            r_start = row['min']\n",
    "            r_end = row['max']\n",
    "            if (r_start % 1 > 0) or (r_end % 1 > 0):\n",
    "                rng = np.arange(r_start.astype('float'),r_end.astype('float')+0.1,0.1)\n",
    "            else:\n",
    "                rng = range(r_start.astype('int'),r_end.astype('int')+1)\n",
    "            md_par[ind] = rng\n",
    "                \n",
    "        params_range_list[model] = md_par                          \n",
    "    return params_range_list"
   ]
  },
  {
   "cell_type": "code",
   "execution_count": 58,
   "metadata": {
    "scrolled": false
   },
   "outputs": [
    {
     "data": {
      "text/plain": [
       "{'LinearReg': {},\n",
       " 'LGBMReg': {'learning_rate': array([0.1, 0.2, 0.3, 0.4, 0.5, 0.6, 0.7]),\n",
       "  'max_depth': range(1, 52),\n",
       "  'n_estimators': range(81, 92)},\n",
       " 'RndForestReg': {'max_depth': range(31, 92), 'n_estimators': range(71, 72)},\n",
       " 'DecTreeReg': {'max_depth': range(1, 22)}}"
      ]
     },
     "metadata": {},
     "output_type": "display_data"
    }
   ],
   "source": [
    "#Подбор параметров моделей с маленьким шагом\n",
    "#Но с сокрощенным диапазоном\n",
    "# models_detail_params_find = True\n",
    "try:\n",
    "    best_models_params = get_max_min_range(model_list,3) \n",
    "except: \n",
    "    best_models_params = \"Нет списка моделий для поиска get_max_min_range\"\n",
    "\n",
    "display(best_models_params)\n",
    "models_detail_params_find = models_params_find \n",
    "if ~models_detail_params_find:\n",
    "    try:\n",
    "        model_list_detail = pd.read_csv(DATA_PROJECT_DIR+'model_list_detail.csv')\n",
    "        \n",
    "    except:\n",
    "        model_list_detail = 'Файл не найден. models_detail_params_find = True для поиска параметров.'\n",
    "        if switch_to_find_ifno_file:\n",
    "            models_detail_params_find = True\n",
    "\n",
    "if models_detail_params_find:  \n",
    "    model_list_detail = models_serch(best_models_params, train_features, train_target\n",
    "                                          , test_features,  test_target\n",
    "                                          , scorer=[mean_absolute_error,False]\n",
    "                                          , test=True, test_num=1)\n",
    "    model_list_detail[['score', 'test_score']] *= -1\n",
    "    save_file_csv(model_list_detail,'model_list_detail.csv')    \n",
    "    natrix_send_model_list(model_list_detail,natrix_message,'Модели с маленьким шагом')        "
   ]
  },
  {
   "cell_type": "code",
   "execution_count": 59,
   "metadata": {
    "scrolled": true
   },
   "outputs": [
    {
     "data": {
      "text/html": [
       "<div>\n",
       "<style scoped>\n",
       "    .dataframe tbody tr th:only-of-type {\n",
       "        vertical-align: middle;\n",
       "    }\n",
       "\n",
       "    .dataframe tbody tr th {\n",
       "        vertical-align: top;\n",
       "    }\n",
       "\n",
       "    .dataframe thead th {\n",
       "        text-align: right;\n",
       "    }\n",
       "</style>\n",
       "<table border=\"1\" class=\"dataframe\">\n",
       "  <thead>\n",
       "    <tr style=\"text-align: right;\">\n",
       "      <th></th>\n",
       "      <th>model</th>\n",
       "      <th>g_param</th>\n",
       "      <th>train_time</th>\n",
       "      <th>score</th>\n",
       "      <th>pred_time</th>\n",
       "      <th>test_score</th>\n",
       "    </tr>\n",
       "  </thead>\n",
       "  <tbody>\n",
       "    <tr>\n",
       "      <td>0</td>\n",
       "      <td>LGBMReg</td>\n",
       "      <td>{'learning_rate': 0.2, 'max_depth': 3, 'n_estimators': 82}</td>\n",
       "      <td>0.06</td>\n",
       "      <td>5.7692</td>\n",
       "      <td>0.00</td>\n",
       "      <td>5.78</td>\n",
       "    </tr>\n",
       "    <tr>\n",
       "      <td>1</td>\n",
       "      <td>RndForestReg</td>\n",
       "      <td>{'max_depth': 31, 'n_estimators': 71}</td>\n",
       "      <td>0.97</td>\n",
       "      <td>5.9430</td>\n",
       "      <td>0.02</td>\n",
       "      <td>6.14</td>\n",
       "    </tr>\n",
       "    <tr>\n",
       "      <td>2</td>\n",
       "      <td>DecTreeReg</td>\n",
       "      <td>{'max_depth': 6}</td>\n",
       "      <td>0.04</td>\n",
       "      <td>6.9059</td>\n",
       "      <td>0.00</td>\n",
       "      <td>7.42</td>\n",
       "    </tr>\n",
       "    <tr>\n",
       "      <td>3</td>\n",
       "      <td>LinearReg</td>\n",
       "      <td>{}</td>\n",
       "      <td>0.05</td>\n",
       "      <td>5.7613</td>\n",
       "      <td>0.00</td>\n",
       "      <td>12.46</td>\n",
       "    </tr>\n",
       "  </tbody>\n",
       "</table>\n",
       "</div>"
      ],
      "text/plain": [
       "          model                                                     g_param  \\\n",
       "0       LGBMReg  {'learning_rate': 0.2, 'max_depth': 3, 'n_estimators': 82}   \n",
       "1  RndForestReg                       {'max_depth': 31, 'n_estimators': 71}   \n",
       "2    DecTreeReg                                            {'max_depth': 6}   \n",
       "3     LinearReg                                                          {}   \n",
       "\n",
       "   train_time   score  pred_time  test_score  \n",
       "0        0.06  5.7692       0.00        5.78  \n",
       "1        0.97  5.9430       0.02        6.14  \n",
       "2        0.04  6.9059       0.00        7.42  \n",
       "3        0.05  5.7613       0.00       12.46  "
      ]
     },
     "metadata": {},
     "output_type": "display_data"
    }
   ],
   "source": [
    "display(model_list_detail)"
   ]
  },
  {
   "cell_type": "markdown",
   "metadata": {},
   "source": [
    "### Нейронные сети библиотека Keras: "
   ]
  },
  {
   "cell_type": "code",
   "execution_count": 60,
   "metadata": {},
   "outputs": [],
   "source": [
    "def create_keras_model(features, target, lr=0.01, layer_d=1,\n",
    "                       loss='mean_squared_error', metrics=['mae'], epochs=1000, verbose=0):\n",
    "    callback = EarlyStopping(monitor='val_mae', restore_best_weights=True,\n",
    "                              patience=10, min_delta=0.05,\n",
    "                              verbose=verbose)     \n",
    "    model = keras.models.Sequential()\n",
    "    f_n = features.shape[1]\n",
    "    u_n = f_n\n",
    "    for l in range(1,layer_d+1):\n",
    "        if l >= layer_d: u_n=1           \n",
    "        model.add(keras.layers.Dense(units=u_n, input_dim=f_n))\n",
    "    \n",
    "    optimizer = Adam(learning_rate=lr)\n",
    "    model.compile(loss=loss, optimizer=optimizer, metrics=metrics)\n",
    "    train_time = time.time()\n",
    "    history = model.fit(features, target, validation_split=0.3, epochs=epochs,\n",
    "                        callbacks=[callback], verbose=verbose)  \n",
    "    train_time = round(time.time() - train_time,2)\n",
    "    return model, train_time, len(history.history['loss'])\n",
    "\n",
    "def keras_model_result(model, features, target\n",
    "                                 , metrik_name = 'mae', print_result=True):\n",
    "    pred_time = time.time()\n",
    "    results = model.evaluate(features, target, verbose=0)\n",
    "    pred_time = round(time.time() - pred_time,2)\n",
    "    if print_result:\n",
    "        disp_font_size(f\"Тестовая выборка loss: {round(results[0],4)}\"\n",
    "                       +f\" || {metrik_name}:{round(results[1],4)}\")\n",
    "    return results, pred_time \n",
    "\n",
    "def keras_models_serch(features, target, \n",
    "                       test_features, test_target, \n",
    "                       lr_range, layer_d=1, eph=1000, \n",
    "                       model_type='KerasLinearReg', print_result=False):\n",
    "    \n",
    "    test_columns_model = ['model','g_param','train_time','score','pred_time','test_score']\n",
    "    keras_models_param = pd.DataFrame(columns=test_columns_model)\n",
    "    \n",
    "    for i in tqdm(lr_range):    \n",
    "        model, train_time, epochs_n = create_keras_model(features, target, \n",
    "                                                         lr=i, layer_d=layer_d, epochs=eph)\n",
    "    \n",
    "        if print_result:\n",
    "            print(f\"lr: {i} || last_epoch: {epochs_n}\")\n",
    "        score, _              = keras_model_result(model, features, target\n",
    "                                              , metrik_name = 'mae', print_result=print_result)\n",
    "    \n",
    "        test_score, pred_time = keras_model_result(model, test_features, test_target\n",
    "                                              , metrik_name = 'mae', print_result=print_result)    \n",
    "   \n",
    "        keras_models_param = keras_models_param.append({'model': model_type, \n",
    "                                    'g_param':{'layer_d':layer_d,'lr':round(i,5),'eph':epochs_n},\n",
    "                                    'train_time':train_time,'score':score[1],\n",
    "                                    'pred_time':pred_time,'test_score':test_score[1],\n",
    "                                   },ignore_index=True)  \n",
    "    return keras_models_param.sort_values(by='test_score').head(3)"
   ]
  },
  {
   "cell_type": "code",
   "execution_count": 61,
   "metadata": {
    "scrolled": false
   },
   "outputs": [],
   "source": [
    "test_columns_model = ['model','g_param','train_time','score','pred_time','test_score']\n",
    "keras_models_all = pd.DataFrame(columns=test_columns_model)\n",
    "\n",
    "sc = StandardScaler()\n",
    "train_features_sc = sc.fit_transform(train_features)\n",
    "test_features_sc = sc.transform(test_features)\n",
    "keras_models_params_find = models_params_find\n",
    "if ~keras_models_params_find:\n",
    "    try:\n",
    "        model_list_detail = pd.read_csv(DATA_PROJECT_DIR+'model_list_detail.csv')\n",
    "        \n",
    "    except:\n",
    "        model_list_detail = 'Файл не найден. models_params_find = True для поиска параметров.'\n",
    "        if switch_to_find_ifno_file:\n",
    "            keras_models_params_find = True       \n",
    "        \n",
    "if keras_models_params_find:\n",
    "    keras_models = keras_models_serch(train_features_sc, train_target,\n",
    "                                       test_features_sc, test_target, \n",
    "                                       [0.05], #np.arange(0.04,0.051,0.01), \n",
    "                                       eph=2000, model_type='Keras_1L_SC', print_result=False)\n",
    "    display(keras_models)\n",
    "    keras_models_all = pd.concat([keras_models_all, keras_models])\n",
    "    \n",
    "    \n",
    "    keras_models = keras_models_serch(train_features, train_target,\n",
    "                                       test_features, test_target, \n",
    "                                       [0.0841], #[round(0.0001 * x,4)  for x in range(1,1000,10)], \n",
    "                                       model_type='Keras_1L', print_result=False)\n",
    "    display(keras_models)\n",
    "    keras_models_all = pd.concat([keras_models_all, keras_models])\n",
    "    \n",
    "    keras_models = keras_models_serch(train_features, train_target,\n",
    "                                       test_features, test_target, \n",
    "                                       [0.0161], #[round(0.0001 * x,4)  for x in range(1,1000,10)], \n",
    "                                       layer_d=2, model_type='Keras_2L', \n",
    "                                       print_result=False)\n",
    "    display(keras_models)\n",
    "    keras_models_all = pd.concat([keras_models_all, keras_models])\n",
    "    \n",
    "    keras_models = keras_models_serch(train_features, train_target,\n",
    "                                       test_features, test_target, \n",
    "                                       [0.0191], #[round(0.0001 * x,4)  for x in range(1,1000,10)], \n",
    "                                       layer_d=3, model_type='Keras_3L', \n",
    "                                       print_result=False)\n",
    "    display(keras_models)\n",
    "    keras_models_all = pd.concat([keras_models_all, keras_models])\n",
    "    \n",
    "    keras_models_all = keras_models_all.sort_values(by='test_score')\n",
    "    save_file_csv(keras_models_all,'keras_models_all.csv')     \n",
    "    natrix_send_model_list(keras_models_all,natrix_message,'Модели Keras')     "
   ]
  },
  {
   "cell_type": "code",
   "execution_count": 62,
   "metadata": {},
   "outputs": [
    {
     "data": {
      "text/html": [
       "<div>\n",
       "<style scoped>\n",
       "    .dataframe tbody tr th:only-of-type {\n",
       "        vertical-align: middle;\n",
       "    }\n",
       "\n",
       "    .dataframe tbody tr th {\n",
       "        vertical-align: top;\n",
       "    }\n",
       "\n",
       "    .dataframe thead th {\n",
       "        text-align: right;\n",
       "    }\n",
       "</style>\n",
       "<table border=\"1\" class=\"dataframe\">\n",
       "  <thead>\n",
       "    <tr style=\"text-align: right;\">\n",
       "      <th></th>\n",
       "      <th>model</th>\n",
       "      <th>g_param</th>\n",
       "      <th>train_time</th>\n",
       "      <th>score</th>\n",
       "      <th>pred_time</th>\n",
       "      <th>test_score</th>\n",
       "    </tr>\n",
       "  </thead>\n",
       "  <tbody>\n",
       "  </tbody>\n",
       "</table>\n",
       "</div>"
      ],
      "text/plain": [
       "Empty DataFrame\n",
       "Columns: [model, g_param, train_time, score, pred_time, test_score]\n",
       "Index: []"
      ]
     },
     "metadata": {},
     "output_type": "display_data"
    }
   ],
   "source": [
    "display(keras_models_all)"
   ]
  },
  {
   "cell_type": "code",
   "execution_count": 63,
   "metadata": {},
   "outputs": [],
   "source": [
    "try:\n",
    "    all_model_list = (pd.concat([model_list_detail,keras_models_all]\n",
    "                                 ,ignore_index=True)\n",
    "                      .sort_values(by='test_score')\n",
    "                     )\n",
    "except:    \n",
    "    #Параметры лучшей модели которые найдутся автоматически\n",
    "    #Если в разделе \"Параметры\" установить \n",
    "    #switch_to_find_ifno_file = True\n",
    "    all_model_list = pd.DataFrame(data={'model':['LGBMReg'],\n",
    "                                   'g_param':[{'learning_rate':0.2,\n",
    "                                              'max_depth': 3,\n",
    "                                              'n_estimators': 82}]\n",
    "                     })"
   ]
  },
  {
   "cell_type": "code",
   "execution_count": 64,
   "metadata": {},
   "outputs": [
    {
     "data": {
      "text/html": [
       "<div>\n",
       "<style scoped>\n",
       "    .dataframe tbody tr th:only-of-type {\n",
       "        vertical-align: middle;\n",
       "    }\n",
       "\n",
       "    .dataframe tbody tr th {\n",
       "        vertical-align: top;\n",
       "    }\n",
       "\n",
       "    .dataframe thead th {\n",
       "        text-align: right;\n",
       "    }\n",
       "</style>\n",
       "<table border=\"1\" class=\"dataframe\">\n",
       "  <thead>\n",
       "    <tr style=\"text-align: right;\">\n",
       "      <th></th>\n",
       "      <th>model</th>\n",
       "      <th>g_param</th>\n",
       "      <th>train_time</th>\n",
       "      <th>score</th>\n",
       "      <th>pred_time</th>\n",
       "      <th>test_score</th>\n",
       "    </tr>\n",
       "  </thead>\n",
       "  <tbody>\n",
       "    <tr>\n",
       "      <td>0</td>\n",
       "      <td>LGBMReg</td>\n",
       "      <td>{'learning_rate': 0.2, 'max_depth': 3, 'n_estimators': 82}</td>\n",
       "      <td>0.06</td>\n",
       "      <td>5.7692</td>\n",
       "      <td>0.00</td>\n",
       "      <td>5.78</td>\n",
       "    </tr>\n",
       "    <tr>\n",
       "      <td>1</td>\n",
       "      <td>RndForestReg</td>\n",
       "      <td>{'max_depth': 31, 'n_estimators': 71}</td>\n",
       "      <td>0.97</td>\n",
       "      <td>5.9430</td>\n",
       "      <td>0.02</td>\n",
       "      <td>6.14</td>\n",
       "    </tr>\n",
       "    <tr>\n",
       "      <td>2</td>\n",
       "      <td>DecTreeReg</td>\n",
       "      <td>{'max_depth': 6}</td>\n",
       "      <td>0.04</td>\n",
       "      <td>6.9059</td>\n",
       "      <td>0.00</td>\n",
       "      <td>7.42</td>\n",
       "    </tr>\n",
       "    <tr>\n",
       "      <td>3</td>\n",
       "      <td>LinearReg</td>\n",
       "      <td>{}</td>\n",
       "      <td>0.05</td>\n",
       "      <td>5.7613</td>\n",
       "      <td>0.00</td>\n",
       "      <td>12.46</td>\n",
       "    </tr>\n",
       "  </tbody>\n",
       "</table>\n",
       "</div>"
      ],
      "text/plain": [
       "          model                                                     g_param  \\\n",
       "0       LGBMReg  {'learning_rate': 0.2, 'max_depth': 3, 'n_estimators': 82}   \n",
       "1  RndForestReg                       {'max_depth': 31, 'n_estimators': 71}   \n",
       "2    DecTreeReg                                            {'max_depth': 6}   \n",
       "3     LinearReg                                                          {}   \n",
       "\n",
       "   train_time   score  pred_time  test_score  \n",
       "0        0.06  5.7692       0.00        5.78  \n",
       "1        0.97  5.9430       0.02        6.14  \n",
       "2        0.04  6.9059       0.00        7.42  \n",
       "3        0.05  5.7613       0.00       12.46  "
      ]
     },
     "metadata": {},
     "output_type": "display_data"
    }
   ],
   "source": [
    "display(all_model_list)"
   ]
  },
  {
   "cell_type": "markdown",
   "metadata": {},
   "source": [
    "### Лучшая модель из рассмотренных"
   ]
  },
  {
   "cell_type": "code",
   "execution_count": 65,
   "metadata": {},
   "outputs": [
    {
     "data": {
      "text/plain": [
       "model                                                            LGBMReg\n",
       "g_param       {'learning_rate': 0.2, 'max_depth': 3, 'n_estimators': 82}\n",
       "train_time                                                          0.06\n",
       "score                                                             5.7692\n",
       "pred_time                                                              0\n",
       "test_score                                                          5.78\n",
       "Name: 0, dtype: object"
      ]
     },
     "metadata": {},
     "output_type": "display_data"
    }
   ],
   "source": [
    "report_bm_params = all_model_list.loc[0]\n",
    "display(report_bm_params)\n",
    "params = str_to_dict(all_model_list.loc[0]['g_param'])\n",
    "\n",
    "best_model = Pipeline([\n",
    "    ('scale', StandardScaler()),\n",
    "    ('clf', LGBMRegressor(boosting_type='gbdt',random_state=R_STATE, **params))\n",
    "])"
   ]
  },
  {
   "cell_type": "code",
   "execution_count": 66,
   "metadata": {},
   "outputs": [
    {
     "data": {
      "text/plain": [
       "'  MEAN_ABSOLUTE_ERROR: = 5.78'"
      ]
     },
     "metadata": {},
     "output_type": "display_data"
    }
   ],
   "source": [
    "best_model.fit(train_features, train_target)\n",
    "best_score = disp_model_result(best_model, test_features, test_target, \n",
    "                  scorer=[mean_absolute_error,True])[0]"
   ]
  },
  {
   "cell_type": "markdown",
   "metadata": {},
   "source": [
    "### Анализ важности факторов"
   ]
  },
  {
   "cell_type": "code",
   "execution_count": 67,
   "metadata": {},
   "outputs": [
    {
     "data": {
      "text/plain": [
       "<AxesSubplot:>"
      ]
     },
     "execution_count": 67,
     "metadata": {},
     "output_type": "execute_result"
    },
    {
     "data": {
      "image/png": "[encoded data removed]",
      "text/plain": [
       "<Figure size 432x288 with 1 Axes>"
      ]
     },
     "metadata": {
      "needs_background": "light"
     },
     "output_type": "display_data"
    }
   ],
   "source": [
    "f_importances_all = pd.DataFrame(data={'f_importance': best_model['clf'].feature_importances_}, \n",
    "             index=train_features.columns).sort_values(by='f_importance', ascending=False)\n",
    "# print(f_importances)\n",
    "f_importances_all.plot.bar()"
   ]
  },
  {
   "cell_type": "code",
   "execution_count": 68,
   "metadata": {},
   "outputs": [],
   "source": [
    "no_importances = list(f_importances_all.loc[f_importances_all['f_importance'] < 1].index)"
   ]
  },
  {
   "cell_type": "code",
   "execution_count": 69,
   "metadata": {},
   "outputs": [
    {
     "data": {
      "text/plain": [
       "'  MEAN_ABSOLUTE_ERROR: = 5.78'"
      ]
     },
     "metadata": {},
     "output_type": "display_data"
    }
   ],
   "source": [
    "train_features_fi = train_features.drop(columns=no_importances)\n",
    "test_features_fi = test_features.drop(columns=no_importances)\n",
    "fi_df = f_importances_all.drop(no_importances)\n",
    "best_model.fit(train_features_fi, train_target)\n",
    "prev_score = disp_model_result(best_model, test_features_fi, test_target, \n",
    "                      scorer=[mean_absolute_error,True])[0]"
   ]
  },
  {
   "cell_type": "code",
   "execution_count": 70,
   "metadata": {},
   "outputs": [
    {
     "name": "stdout",
     "output_type": "stream",
     "text": [
      "['wire_4', 'wire_9', 'wire_7', 'wire_6', 'bulk_2', 'wire_3', 'bulk_9', 'bulk_7', 'bulk_13']\n"
     ]
    }
   ],
   "source": [
    "print(no_importances)"
   ]
  },
  {
   "cell_type": "code",
   "execution_count": 71,
   "metadata": {
    "scrolled": false
   },
   "outputs": [
    {
     "name": "stdout",
     "output_type": "stream",
     "text": [
      "Drop bulk_5 - 5.79\n",
      "Drop bulk_10 - 5.78\n",
      "Drop bulk_11 - 5.73\n",
      "Drop bulk_4 - 5.82\n"
     ]
    }
   ],
   "source": [
    "prev_score = 99\n",
    "for ind, row in fi_df.sort_values(by='f_importance').iterrows():\n",
    "    train_features_fi = train_features_fi.drop(columns=[ind])\n",
    "    test_features_fi = test_features_fi.drop(columns=[ind])\n",
    "    best_model.fit(train_features_fi, train_target)\n",
    "    test_pred = best_model.predict(test_features_fi)\n",
    "    score = mean_absolute_error(test_target, test_pred)\n",
    "    print(f'Drop {ind} - {round(score,2)}')\n",
    "    if (score <= prev_score):\n",
    "        no_importances.append(ind)\n",
    "    if score > best_score * 1.003: break\n",
    "    prev_score = score"
   ]
  },
  {
   "cell_type": "code",
   "execution_count": 72,
   "metadata": {},
   "outputs": [
    {
     "name": "stdout",
     "output_type": "stream",
     "text": [
      "Колонки не влияющии на метрику: ['wire_4', 'wire_9', 'wire_7', 'wire_6', 'bulk_2', 'wire_3', 'bulk_9', 'bulk_7', 'bulk_13', 'bulk_5', 'bulk_10', 'bulk_11']\n"
     ]
    },
    {
     "data": {
      "text/plain": [
       "'Лучшая метрика: 5.73'"
      ]
     },
     "metadata": {},
     "output_type": "display_data"
    }
   ],
   "source": [
    "print(f\"Колонки не влияющии на метрику: {no_importances}\")\n",
    "train_features_fi = train_features.drop(columns=no_importances)\n",
    "test_features_fi = test_features.drop(columns=no_importances)\n",
    "best_model.fit(train_features_fi, train_target)\n",
    "test_pred = best_model.predict(test_features_fi)\n",
    "report_score = round(mean_absolute_error(test_target, test_pred),2)\n",
    "disp_font_size(f'Лучшая метрика: {report_score}',5)"
   ]
  },
  {
   "cell_type": "code",
   "execution_count": 73,
   "metadata": {},
   "outputs": [
    {
     "data": {
      "text/plain": [
       "'Таблица важных для модели параметров'"
      ]
     },
     "metadata": {},
     "output_type": "display_data"
    },
    {
     "data": {
      "text/html": [
       "<div>\n",
       "<style scoped>\n",
       "    .dataframe tbody tr th:only-of-type {\n",
       "        vertical-align: middle;\n",
       "    }\n",
       "\n",
       "    .dataframe tbody tr th {\n",
       "        vertical-align: top;\n",
       "    }\n",
       "\n",
       "    .dataframe thead th {\n",
       "        text-align: right;\n",
       "    }\n",
       "</style>\n",
       "<table border=\"1\" class=\"dataframe\">\n",
       "  <thead>\n",
       "    <tr style=\"text-align: right;\">\n",
       "      <th></th>\n",
       "      <th>temp_first</th>\n",
       "      <th>delta_time</th>\n",
       "      <th>time_heat_sum</th>\n",
       "      <th>active_power_mean</th>\n",
       "      <th>reactive_power_mean</th>\n",
       "      <th>count_heat</th>\n",
       "      <th>bulk_1</th>\n",
       "      <th>bulk_3</th>\n",
       "      <th>bulk_4</th>\n",
       "      <th>bulk_6</th>\n",
       "      <th>bulk_12</th>\n",
       "      <th>bulk_14</th>\n",
       "      <th>bulk_15</th>\n",
       "      <th>wire_1</th>\n",
       "      <th>wire_2</th>\n",
       "      <th>gas</th>\n",
       "    </tr>\n",
       "    <tr>\n",
       "      <th>key</th>\n",
       "      <th></th>\n",
       "      <th></th>\n",
       "      <th></th>\n",
       "      <th></th>\n",
       "      <th></th>\n",
       "      <th></th>\n",
       "      <th></th>\n",
       "      <th></th>\n",
       "      <th></th>\n",
       "      <th></th>\n",
       "      <th></th>\n",
       "      <th></th>\n",
       "      <th></th>\n",
       "      <th></th>\n",
       "      <th></th>\n",
       "      <th></th>\n",
       "    </tr>\n",
       "  </thead>\n",
       "  <tbody>\n",
       "    <tr>\n",
       "      <td>68</td>\n",
       "      <td>1581.0</td>\n",
       "      <td>517</td>\n",
       "      <td>422</td>\n",
       "      <td>0.496703</td>\n",
       "      <td>0.429673</td>\n",
       "      <td>3</td>\n",
       "      <td>0.0</td>\n",
       "      <td>0.0</td>\n",
       "      <td>0.0</td>\n",
       "      <td>0.0</td>\n",
       "      <td>155.0</td>\n",
       "      <td>105.0</td>\n",
       "      <td>204.0</td>\n",
       "      <td>90.155518</td>\n",
       "      <td>0.000000</td>\n",
       "      <td>3.727207</td>\n",
       "    </tr>\n",
       "    <tr>\n",
       "      <td>805</td>\n",
       "      <td>1571.0</td>\n",
       "      <td>1732</td>\n",
       "      <td>762</td>\n",
       "      <td>0.617980</td>\n",
       "      <td>0.416525</td>\n",
       "      <td>5</td>\n",
       "      <td>0.0</td>\n",
       "      <td>191.0</td>\n",
       "      <td>0.0</td>\n",
       "      <td>0.0</td>\n",
       "      <td>0.0</td>\n",
       "      <td>207.0</td>\n",
       "      <td>0.0</td>\n",
       "      <td>75.301201</td>\n",
       "      <td>0.000000</td>\n",
       "      <td>6.502061</td>\n",
       "    </tr>\n",
       "    <tr>\n",
       "      <td>248</td>\n",
       "      <td>1640.0</td>\n",
       "      <td>872</td>\n",
       "      <td>127</td>\n",
       "      <td>0.448348</td>\n",
       "      <td>0.313810</td>\n",
       "      <td>1</td>\n",
       "      <td>0.0</td>\n",
       "      <td>0.0</td>\n",
       "      <td>71.0</td>\n",
       "      <td>0.0</td>\n",
       "      <td>0.0</td>\n",
       "      <td>0.0</td>\n",
       "      <td>0.0</td>\n",
       "      <td>104.963040</td>\n",
       "      <td>0.000000</td>\n",
       "      <td>5.338798</td>\n",
       "    </tr>\n",
       "    <tr>\n",
       "      <td>847</td>\n",
       "      <td>1571.0</td>\n",
       "      <td>1364</td>\n",
       "      <td>1084</td>\n",
       "      <td>0.829227</td>\n",
       "      <td>0.653263</td>\n",
       "      <td>5</td>\n",
       "      <td>0.0</td>\n",
       "      <td>0.0</td>\n",
       "      <td>0.0</td>\n",
       "      <td>140.0</td>\n",
       "      <td>0.0</td>\n",
       "      <td>306.0</td>\n",
       "      <td>0.0</td>\n",
       "      <td>97.344002</td>\n",
       "      <td>0.000000</td>\n",
       "      <td>8.635693</td>\n",
       "    </tr>\n",
       "    <tr>\n",
       "      <td>869</td>\n",
       "      <td>1587.0</td>\n",
       "      <td>2227</td>\n",
       "      <td>749</td>\n",
       "      <td>0.440325</td>\n",
       "      <td>0.395519</td>\n",
       "      <td>6</td>\n",
       "      <td>0.0</td>\n",
       "      <td>0.0</td>\n",
       "      <td>0.0</td>\n",
       "      <td>0.0</td>\n",
       "      <td>256.0</td>\n",
       "      <td>0.0</td>\n",
       "      <td>0.0</td>\n",
       "      <td>163.285202</td>\n",
       "      <td>45.149521</td>\n",
       "      <td>14.453072</td>\n",
       "    </tr>\n",
       "    <tr>\n",
       "      <td>...</td>\n",
       "      <td>...</td>\n",
       "      <td>...</td>\n",
       "      <td>...</td>\n",
       "      <td>...</td>\n",
       "      <td>...</td>\n",
       "      <td>...</td>\n",
       "      <td>...</td>\n",
       "      <td>...</td>\n",
       "      <td>...</td>\n",
       "      <td>...</td>\n",
       "      <td>...</td>\n",
       "      <td>...</td>\n",
       "      <td>...</td>\n",
       "      <td>...</td>\n",
       "      <td>...</td>\n",
       "      <td>...</td>\n",
       "    </tr>\n",
       "    <tr>\n",
       "      <td>1861</td>\n",
       "      <td>1613.0</td>\n",
       "      <td>1884</td>\n",
       "      <td>300</td>\n",
       "      <td>0.524355</td>\n",
       "      <td>0.413304</td>\n",
       "      <td>2</td>\n",
       "      <td>0.0</td>\n",
       "      <td>141.0</td>\n",
       "      <td>0.0</td>\n",
       "      <td>0.0</td>\n",
       "      <td>206.0</td>\n",
       "      <td>121.0</td>\n",
       "      <td>207.0</td>\n",
       "      <td>89.060402</td>\n",
       "      <td>0.000000</td>\n",
       "      <td>12.976823</td>\n",
       "    </tr>\n",
       "    <tr>\n",
       "      <td>2385</td>\n",
       "      <td>1558.0</td>\n",
       "      <td>2416</td>\n",
       "      <td>1163</td>\n",
       "      <td>0.754169</td>\n",
       "      <td>0.559472</td>\n",
       "      <td>6</td>\n",
       "      <td>0.0</td>\n",
       "      <td>251.0</td>\n",
       "      <td>0.0</td>\n",
       "      <td>103.0</td>\n",
       "      <td>247.0</td>\n",
       "      <td>148.0</td>\n",
       "      <td>106.0</td>\n",
       "      <td>90.111839</td>\n",
       "      <td>0.000000</td>\n",
       "      <td>15.839067</td>\n",
       "    </tr>\n",
       "    <tr>\n",
       "      <td>1310</td>\n",
       "      <td>1568.0</td>\n",
       "      <td>714</td>\n",
       "      <td>887</td>\n",
       "      <td>0.920732</td>\n",
       "      <td>0.623260</td>\n",
       "      <td>4</td>\n",
       "      <td>0.0</td>\n",
       "      <td>92.0</td>\n",
       "      <td>0.0</td>\n",
       "      <td>0.0</td>\n",
       "      <td>412.0</td>\n",
       "      <td>228.0</td>\n",
       "      <td>208.0</td>\n",
       "      <td>60.044403</td>\n",
       "      <td>15.170480</td>\n",
       "      <td>9.116800</td>\n",
       "    </tr>\n",
       "    <tr>\n",
       "      <td>2072</td>\n",
       "      <td>1605.0</td>\n",
       "      <td>1837</td>\n",
       "      <td>875</td>\n",
       "      <td>0.591743</td>\n",
       "      <td>0.406984</td>\n",
       "      <td>5</td>\n",
       "      <td>0.0</td>\n",
       "      <td>0.0</td>\n",
       "      <td>0.0</td>\n",
       "      <td>0.0</td>\n",
       "      <td>313.0</td>\n",
       "      <td>252.0</td>\n",
       "      <td>160.0</td>\n",
       "      <td>77.138877</td>\n",
       "      <td>20.146879</td>\n",
       "      <td>9.429896</td>\n",
       "    </tr>\n",
       "    <tr>\n",
       "      <td>2429</td>\n",
       "      <td>1563.0</td>\n",
       "      <td>1306</td>\n",
       "      <td>797</td>\n",
       "      <td>0.602870</td>\n",
       "      <td>0.476986</td>\n",
       "      <td>5</td>\n",
       "      <td>0.0</td>\n",
       "      <td>23.0</td>\n",
       "      <td>0.0</td>\n",
       "      <td>58.0</td>\n",
       "      <td>155.0</td>\n",
       "      <td>137.0</td>\n",
       "      <td>204.0</td>\n",
       "      <td>85.001282</td>\n",
       "      <td>30.160000</td>\n",
       "      <td>8.513860</td>\n",
       "    </tr>\n",
       "  </tbody>\n",
       "</table>\n",
       "<p>1626 rows × 16 columns</p>\n",
       "</div>"
      ],
      "text/plain": [
       "      temp_first  delta_time  time_heat_sum  active_power_mean  \\\n",
       "key                                                              \n",
       "68        1581.0         517            422           0.496703   \n",
       "805       1571.0        1732            762           0.617980   \n",
       "248       1640.0         872            127           0.448348   \n",
       "847       1571.0        1364           1084           0.829227   \n",
       "869       1587.0        2227            749           0.440325   \n",
       "...          ...         ...            ...                ...   \n",
       "1861      1613.0        1884            300           0.524355   \n",
       "2385      1558.0        2416           1163           0.754169   \n",
       "1310      1568.0         714            887           0.920732   \n",
       "2072      1605.0        1837            875           0.591743   \n",
       "2429      1563.0        1306            797           0.602870   \n",
       "\n",
       "      reactive_power_mean  count_heat  bulk_1  bulk_3  bulk_4  bulk_6  \\\n",
       "key                                                                     \n",
       "68               0.429673           3     0.0     0.0     0.0     0.0   \n",
       "805              0.416525           5     0.0   191.0     0.0     0.0   \n",
       "248              0.313810           1     0.0     0.0    71.0     0.0   \n",
       "847              0.653263           5     0.0     0.0     0.0   140.0   \n",
       "869              0.395519           6     0.0     0.0     0.0     0.0   \n",
       "...                   ...         ...     ...     ...     ...     ...   \n",
       "1861             0.413304           2     0.0   141.0     0.0     0.0   \n",
       "2385             0.559472           6     0.0   251.0     0.0   103.0   \n",
       "1310             0.623260           4     0.0    92.0     0.0     0.0   \n",
       "2072             0.406984           5     0.0     0.0     0.0     0.0   \n",
       "2429             0.476986           5     0.0    23.0     0.0    58.0   \n",
       "\n",
       "      bulk_12  bulk_14  bulk_15      wire_1     wire_2        gas  \n",
       "key                                                                \n",
       "68      155.0    105.0    204.0   90.155518   0.000000   3.727207  \n",
       "805       0.0    207.0      0.0   75.301201   0.000000   6.502061  \n",
       "248       0.0      0.0      0.0  104.963040   0.000000   5.338798  \n",
       "847       0.0    306.0      0.0   97.344002   0.000000   8.635693  \n",
       "869     256.0      0.0      0.0  163.285202  45.149521  14.453072  \n",
       "...       ...      ...      ...         ...        ...        ...  \n",
       "1861    206.0    121.0    207.0   89.060402   0.000000  12.976823  \n",
       "2385    247.0    148.0    106.0   90.111839   0.000000  15.839067  \n",
       "1310    412.0    228.0    208.0   60.044403  15.170480   9.116800  \n",
       "2072    313.0    252.0    160.0   77.138877  20.146879   9.429896  \n",
       "2429    155.0    137.0    204.0   85.001282  30.160000   8.513860  \n",
       "\n",
       "[1626 rows x 16 columns]"
      ]
     },
     "metadata": {},
     "output_type": "display_data"
    }
   ],
   "source": [
    "disp_font_size('Таблица важных для модели параметров')\n",
    "display(train_features_fi)"
   ]
  },
  {
   "cell_type": "markdown",
   "metadata": {},
   "source": [
    "## ОТЧЁТ"
   ]
  },
  {
   "cell_type": "markdown",
   "metadata": {},
   "source": [
    "### Пункты плана\n",
    "<b>Были выполнены все пункты плана:</b>"
   ]
  },
  {
   "cell_type": "markdown",
   "metadata": {},
   "source": [
    "#### Анализ тех процесса. Подготовка данных."
   ]
  },
  {
   "cell_type": "code",
   "execution_count": 74,
   "metadata": {},
   "outputs": [
    {
     "data": {
      "text/plain": [
       "'По результатам анализа техпроцесса для построения модели были выбраны следующие факторы:'"
      ]
     },
     "metadata": {},
     "output_type": "display_data"
    },
    {
     "name": "stdout",
     "output_type": "stream",
     "text": [
      "['Первый замер температуры', 'Последний замер температуры', 'Время между замерами', 'Суммарное время нагрева', 'Средняя активная мощность', 'Средняя реактивная мощность', 'Количество нагревов', 'bulk_1', 'bulk_2', 'bulk_3', 'bulk_4', 'bulk_5', 'bulk_6', 'bulk_7', 'bulk_9', 'bulk_10', 'bulk_11', 'bulk_12', 'bulk_13', 'bulk_14', 'bulk_15', 'wire_1', 'wire_2', 'wire_3', 'wire_4', 'wire_6', 'wire_7', 'wire_9', 'Газ 1']\n"
     ]
    },
    {
     "data": {
      "text/plain": [
       "'Удалено: <br>22.98% записей с нулевым значением температуры<br>0.12% выбросов из таблицы измерений температуры<br>По принципу q_1 - 3irq(1473.0) и q_3 + 3irq(1704.0)'"
      ]
     },
     "metadata": {},
     "output_type": "display_data"
    },
    {
     "data": {
      "text/plain": [
       "'При объединении данных в общую таблицу не попали 149 партий<br>Из-за недостатка данных в различных таблицах'"
      ]
     },
     "metadata": {},
     "output_type": "display_data"
    }
   ],
   "source": [
    "disp_font_size(\n",
    "    'По результатам анализа техпроцесса для построения модели были выбраны следующие факторы:')\n",
    "print(print_coldisc(data_features_merge.columns))\n",
    "\n",
    "disp_font_size(\n",
    "    f\"Удалено: \"\n",
    "    +f\"<br>{report_tl_zero_pr}% записей с нулевым значением температуры\"\n",
    "    +f\"<br>{report_tl_out_pr}% выбросов из таблицы измерений температуры\"\n",
    "    +f\"<br>По принципу q_1 - 3irq({out_l}) и q_3 + 3irq({out_r})\")\n",
    "disp_font_size(\n",
    "     f\"При объединении данных в общую таблицу не попали {report_bad_keycount} партий\"\n",
    "    +f\"<br>Из-за недостатка данных в различных таблицах\")"
   ]
  },
  {
   "cell_type": "markdown",
   "metadata": {},
   "source": [
    "#### Подбор наиболее эффективной модели"
   ]
  },
  {
   "cell_type": "code",
   "execution_count": 75,
   "metadata": {},
   "outputs": [
    {
     "data": {
      "text/plain": [
       "'После проверки на мультиколлинеарность исключены:'"
      ]
     },
     "metadata": {},
     "output_type": "display_data"
    },
    {
     "data": {
      "text/plain": [
       "'wire_8'"
      ]
     },
     "metadata": {},
     "output_type": "display_data"
    },
    {
     "data": {
      "text/html": [
       "<div>\n",
       "<style scoped>\n",
       "    .dataframe tbody tr th:only-of-type {\n",
       "        vertical-align: middle;\n",
       "    }\n",
       "\n",
       "    .dataframe tbody tr th {\n",
       "        vertical-align: top;\n",
       "    }\n",
       "\n",
       "    .dataframe thead th {\n",
       "        text-align: right;\n",
       "    }\n",
       "</style>\n",
       "<table border=\"1\" class=\"dataframe\">\n",
       "  <thead>\n",
       "    <tr style=\"text-align: right;\">\n",
       "      <th></th>\n",
       "      <th>col_1</th>\n",
       "      <th>col_2</th>\n",
       "      <th>corr</th>\n",
       "      <th>sign</th>\n",
       "    </tr>\n",
       "  </thead>\n",
       "  <tbody>\n",
       "    <tr>\n",
       "      <td>327</td>\n",
       "      <td>bulk_9</td>\n",
       "      <td>wire_8</td>\n",
       "      <td>0.990008</td>\n",
       "      <td>+</td>\n",
       "    </tr>\n",
       "  </tbody>\n",
       "</table>\n",
       "</div>"
      ],
      "text/plain": [
       "      col_1   col_2      corr sign\n",
       "327  bulk_9  wire_8  0.990008    +"
      ]
     },
     "metadata": {},
     "output_type": "display_data"
    },
    {
     "data": {
      "text/plain": [
       "'Данные подготовлены. Тестовая выборка: 30.0%<br><br>Для тестирования выбраны модели: '"
      ]
     },
     "metadata": {},
     "output_type": "display_data"
    },
    {
     "name": "stdout",
     "output_type": "stream",
     "text": [
      "Линейная регрессия\n",
      "Дерево принятия решений для регрессии\n",
      "Случайный лес для регрессии\n",
      "Ансамбль LightGBM для регрессии\n",
      "Модели Keras Sequential c 1-3 layers Dense\n"
     ]
    },
    {
     "data": {
      "text/plain": [
       "'Список факторов после анализа важности:'"
      ]
     },
     "metadata": {},
     "output_type": "display_data"
    },
    {
     "name": "stdout",
     "output_type": "stream",
     "text": [
      "['Первый замер температуры', 'Время между замерами', 'Суммарное время нагрева', 'Средняя активная мощность', 'Средняя реактивная мощность', 'Количество нагревов', 'bulk_1', 'bulk_3', 'bulk_4', 'bulk_6', 'bulk_12', 'bulk_14', 'bulk_15', 'wire_1', 'wire_2', 'Газ 1']\n"
     ]
    }
   ],
   "source": [
    "disp_font_size(\n",
    "    'После проверки на мультиколлинеарность исключены:')\n",
    "display(strong_correlation['col_2'].values[0])\n",
    "display(strong_correlation)\n",
    "disp_font_size(f\"Данные подготовлены. Тестовая выборка: {TEST_SIZE*100}%<br>\"\n",
    "               +f\"<br>Для тестирования выбраны модели: \")\n",
    "for m_desc in MODEL_TEXT_NAME:\n",
    "    print(MODEL_TEXT_NAME[m_desc])\n",
    "disp_font_size(\n",
    "    'Список факторов после анализа важности:')\n",
    "print(print_coldisc(train_features_fi.columns))"
   ]
  },
  {
   "cell_type": "markdown",
   "metadata": {},
   "source": [
    "### Какие трудности возникли и как вы их преодолели?\n"
   ]
  },
  {
   "cell_type": "markdown",
   "metadata": {},
   "source": [
    "Трудности возникли при попытке интеграции а процес нейросетей из библиотеки Keras.\n",
    "При попытке обучить модель на данных послу StandardScaler метрика получалась слишком высокой.\n",
    "В результате модели библиотеки Keras обучались на данных без применения StandardScaler"
   ]
  },
  {
   "cell_type": "markdown",
   "metadata": {},
   "source": [
    "### Какие ключевые шаги в решении задачи выделили?"
   ]
  },
  {
   "cell_type": "markdown",
   "metadata": {},
   "source": [
    "Ключевыми шагами можно считать формирование сводной таблицы и составление списка факторов влияющих на обучении, соответственно на результат работы модели."
   ]
  },
  {
   "cell_type": "markdown",
   "metadata": {},
   "source": [
    "### Какая ваша итоговая модель и какое у неё качество?"
   ]
  },
  {
   "cell_type": "code",
   "execution_count": 76,
   "metadata": {
    "scrolled": true
   },
   "outputs": [
    {
     "data": {
      "text/plain": [
       "'В конечном итоге средняя абсолютная ошибка  модели: 5.73 градусов<br>Что составляет 0.36% от значения целевого показателя тестовой выборки 1593.0'"
      ]
     },
     "metadata": {},
     "output_type": "display_data"
    },
    {
     "data": {
      "text/plain": [
       "\"Лучшая модель: Ансамбль LightGBM для регрессии<br>С параметрами: {'learning_rate': 0.2, 'max_depth': 3, 'n_estimators': 82}\""
      ]
     },
     "metadata": {},
     "output_type": "display_data"
    }
   ],
   "source": [
    "median_target_temp = test_target.median()\n",
    "mae_pr = round(report_score/median_target_temp*100,2)\n",
    "disp_font_size(\n",
    "    f\"В конечном итоге средняя абсолютная ошибка  модели: {report_score} градусов\"\n",
    "    +f\"<br>Что составляет {mae_pr}% от значения целевого показателя тестовой выборки {median_target_temp}\")\n",
    "disp_font_size(f\"Лучшая модель: {MODEL_TEXT_NAME[report_bm_params['model']]}\"\n",
    "               +f\"<br>С параметрами: {report_bm_params['g_param']}\")"
   ]
  },
  {
   "cell_type": "code",
   "execution_count": null,
   "metadata": {},
   "outputs": [],
   "source": []
  }
 ],
 "metadata": {
  "ExecuteTimeLog": [
   {
    "duration": 84,
    "start_time": "2021-08-16T17:46:08.774Z"
   },
   {
    "duration": 109,
    "start_time": "2021-08-16T17:46:17.114Z"
   },
   {
    "duration": 109,
    "start_time": "2021-08-16T17:47:02.011Z"
   },
   {
    "duration": 321,
    "start_time": "2021-08-18T11:37:27.738Z"
   },
   {
    "duration": 1265,
    "start_time": "2021-08-18T11:41:00.953Z"
   },
   {
    "duration": 9,
    "start_time": "2021-08-18T11:41:02.220Z"
   },
   {
    "duration": -26,
    "start_time": "2021-08-18T11:41:02.269Z"
   },
   {
    "duration": -29,
    "start_time": "2021-08-18T11:41:02.273Z"
   },
   {
    "duration": -30,
    "start_time": "2021-08-18T11:41:02.275Z"
   },
   {
    "duration": -32,
    "start_time": "2021-08-18T11:41:02.278Z"
   },
   {
    "duration": -33,
    "start_time": "2021-08-18T11:41:02.280Z"
   },
   {
    "duration": -36,
    "start_time": "2021-08-18T11:41:02.283Z"
   },
   {
    "duration": -42,
    "start_time": "2021-08-18T11:41:02.290Z"
   },
   {
    "duration": -44,
    "start_time": "2021-08-18T11:41:02.293Z"
   },
   {
    "duration": -45,
    "start_time": "2021-08-18T11:41:02.295Z"
   },
   {
    "duration": -46,
    "start_time": "2021-08-18T11:41:02.297Z"
   },
   {
    "duration": -49,
    "start_time": "2021-08-18T11:41:02.300Z"
   },
   {
    "duration": -51,
    "start_time": "2021-08-18T11:41:02.303Z"
   },
   {
    "duration": -52,
    "start_time": "2021-08-18T11:41:02.305Z"
   },
   {
    "duration": -54,
    "start_time": "2021-08-18T11:41:02.308Z"
   },
   {
    "duration": -56,
    "start_time": "2021-08-18T11:41:02.310Z"
   },
   {
    "duration": -57,
    "start_time": "2021-08-18T11:41:02.312Z"
   },
   {
    "duration": -58,
    "start_time": "2021-08-18T11:41:02.314Z"
   },
   {
    "duration": -61,
    "start_time": "2021-08-18T11:41:02.317Z"
   },
   {
    "duration": -62,
    "start_time": "2021-08-18T11:41:02.319Z"
   },
   {
    "duration": -64,
    "start_time": "2021-08-18T11:41:02.322Z"
   },
   {
    "duration": -65,
    "start_time": "2021-08-18T11:41:02.324Z"
   },
   {
    "duration": -67,
    "start_time": "2021-08-18T11:41:02.327Z"
   },
   {
    "duration": -68,
    "start_time": "2021-08-18T11:41:02.329Z"
   },
   {
    "duration": -70,
    "start_time": "2021-08-18T11:41:02.331Z"
   },
   {
    "duration": -71,
    "start_time": "2021-08-18T11:41:02.333Z"
   },
   {
    "duration": -73,
    "start_time": "2021-08-18T11:41:02.336Z"
   },
   {
    "duration": -74,
    "start_time": "2021-08-18T11:41:02.338Z"
   },
   {
    "duration": -81,
    "start_time": "2021-08-18T11:41:02.345Z"
   },
   {
    "duration": -82,
    "start_time": "2021-08-18T11:41:02.347Z"
   },
   {
    "duration": -94,
    "start_time": "2021-08-18T11:41:02.360Z"
   },
   {
    "duration": -96,
    "start_time": "2021-08-18T11:41:02.362Z"
   },
   {
    "duration": -97,
    "start_time": "2021-08-18T11:41:02.364Z"
   },
   {
    "duration": -98,
    "start_time": "2021-08-18T11:41:02.366Z"
   },
   {
    "duration": -102,
    "start_time": "2021-08-18T11:41:02.371Z"
   },
   {
    "duration": -103,
    "start_time": "2021-08-18T11:41:02.373Z"
   },
   {
    "duration": -105,
    "start_time": "2021-08-18T11:41:02.376Z"
   },
   {
    "duration": 6,
    "start_time": "2021-08-18T11:41:32.615Z"
   },
   {
    "duration": 3,
    "start_time": "2021-08-18T11:41:33.627Z"
   },
   {
    "duration": 55,
    "start_time": "2021-08-18T11:41:34.661Z"
   },
   {
    "duration": 15,
    "start_time": "2021-08-18T11:41:35.156Z"
   },
   {
    "duration": 4,
    "start_time": "2021-08-18T11:41:35.607Z"
   },
   {
    "duration": 31,
    "start_time": "2021-08-18T11:41:35.978Z"
   },
   {
    "duration": 6,
    "start_time": "2021-08-18T11:41:36.388Z"
   },
   {
    "duration": 621,
    "start_time": "2021-08-18T11:41:36.765Z"
   },
   {
    "duration": -28,
    "start_time": "2021-08-18T11:41:37.416Z"
   },
   {
    "duration": 553,
    "start_time": "2021-08-18T11:41:38.509Z"
   },
   {
    "duration": -42,
    "start_time": "2021-08-18T11:41:39.106Z"
   },
   {
    "duration": 2,
    "start_time": "2021-08-18T11:41:39.814Z"
   },
   {
    "duration": 6,
    "start_time": "2021-08-18T11:42:10.899Z"
   },
   {
    "duration": 3,
    "start_time": "2021-08-18T11:42:11.314Z"
   },
   {
    "duration": 48,
    "start_time": "2021-08-18T11:42:12.204Z"
   },
   {
    "duration": 13,
    "start_time": "2021-08-18T11:42:12.889Z"
   },
   {
    "duration": 4,
    "start_time": "2021-08-18T11:42:13.430Z"
   },
   {
    "duration": 31,
    "start_time": "2021-08-18T11:42:13.823Z"
   },
   {
    "duration": 6,
    "start_time": "2021-08-18T11:42:14.441Z"
   },
   {
    "duration": 416,
    "start_time": "2021-08-18T11:42:15.747Z"
   },
   {
    "duration": 7,
    "start_time": "2021-08-18T11:45:56.762Z"
   },
   {
    "duration": 3,
    "start_time": "2021-08-18T11:45:59.632Z"
   },
   {
    "duration": 49,
    "start_time": "2021-08-18T11:46:00.814Z"
   },
   {
    "duration": 14,
    "start_time": "2021-08-18T11:46:01.467Z"
   },
   {
    "duration": 5,
    "start_time": "2021-08-18T11:46:02.100Z"
   },
   {
    "duration": 29,
    "start_time": "2021-08-18T11:46:02.715Z"
   },
   {
    "duration": 5,
    "start_time": "2021-08-18T11:46:03.368Z"
   },
   {
    "duration": 435,
    "start_time": "2021-08-18T11:46:04.538Z"
   },
   {
    "duration": 8,
    "start_time": "2021-08-18T11:49:35.110Z"
   },
   {
    "duration": 3,
    "start_time": "2021-08-18T11:49:36.179Z"
   },
   {
    "duration": 49,
    "start_time": "2021-08-18T11:49:37.350Z"
   },
   {
    "duration": 14,
    "start_time": "2021-08-18T11:49:37.789Z"
   },
   {
    "duration": 4,
    "start_time": "2021-08-18T11:49:38.328Z"
   },
   {
    "duration": 29,
    "start_time": "2021-08-18T11:49:38.903Z"
   },
   {
    "duration": 5,
    "start_time": "2021-08-18T11:49:39.397Z"
   },
   {
    "duration": 417,
    "start_time": "2021-08-18T11:49:40.162Z"
   },
   {
    "duration": 9,
    "start_time": "2021-08-18T11:51:02.440Z"
   },
   {
    "duration": 3,
    "start_time": "2021-08-18T11:51:03.519Z"
   },
   {
    "duration": 50,
    "start_time": "2021-08-18T11:51:04.262Z"
   },
   {
    "duration": 14,
    "start_time": "2021-08-18T11:51:04.633Z"
   },
   {
    "duration": 4,
    "start_time": "2021-08-18T11:51:04.947Z"
   },
   {
    "duration": 30,
    "start_time": "2021-08-18T11:51:05.376Z"
   },
   {
    "duration": 6,
    "start_time": "2021-08-18T11:51:05.735Z"
   },
   {
    "duration": 556,
    "start_time": "2021-08-18T11:51:06.106Z"
   },
   {
    "duration": 8,
    "start_time": "2021-08-18T11:52:41.512Z"
   },
   {
    "duration": 4,
    "start_time": "2021-08-18T11:52:42.186Z"
   },
   {
    "duration": 51,
    "start_time": "2021-08-18T11:52:43.232Z"
   },
   {
    "duration": 14,
    "start_time": "2021-08-18T11:52:43.639Z"
   },
   {
    "duration": 4,
    "start_time": "2021-08-18T11:52:44.133Z"
   },
   {
    "duration": 29,
    "start_time": "2021-08-18T11:52:44.651Z"
   },
   {
    "duration": 6,
    "start_time": "2021-08-18T11:52:45.280Z"
   },
   {
    "duration": 450,
    "start_time": "2021-08-18T11:52:46.192Z"
   },
   {
    "duration": 8,
    "start_time": "2021-08-18T12:03:04.680Z"
   },
   {
    "duration": 3,
    "start_time": "2021-08-18T12:03:05.141Z"
   },
   {
    "duration": 51,
    "start_time": "2021-08-18T12:03:06.087Z"
   },
   {
    "duration": 14,
    "start_time": "2021-08-18T12:03:06.424Z"
   },
   {
    "duration": 4,
    "start_time": "2021-08-18T12:03:06.897Z"
   },
   {
    "duration": 31,
    "start_time": "2021-08-18T12:03:07.394Z"
   },
   {
    "duration": 6,
    "start_time": "2021-08-18T12:03:07.976Z"
   },
   {
    "duration": 602,
    "start_time": "2021-08-18T12:03:08.775Z"
   },
   {
    "duration": 8,
    "start_time": "2021-08-18T12:03:23.695Z"
   },
   {
    "duration": 3,
    "start_time": "2021-08-18T12:03:24.238Z"
   },
   {
    "duration": 48,
    "start_time": "2021-08-18T12:03:24.898Z"
   },
   {
    "duration": 15,
    "start_time": "2021-08-18T12:03:25.134Z"
   },
   {
    "duration": 4,
    "start_time": "2021-08-18T12:03:25.336Z"
   },
   {
    "duration": 28,
    "start_time": "2021-08-18T12:03:25.653Z"
   },
   {
    "duration": 6,
    "start_time": "2021-08-18T12:03:26.157Z"
   },
   {
    "duration": 533,
    "start_time": "2021-08-18T12:03:26.652Z"
   },
   {
    "duration": 8,
    "start_time": "2021-08-18T12:03:46.161Z"
   },
   {
    "duration": 3,
    "start_time": "2021-08-18T12:03:46.802Z"
   },
   {
    "duration": 47,
    "start_time": "2021-08-18T12:03:47.984Z"
   },
   {
    "duration": 15,
    "start_time": "2021-08-18T12:03:48.674Z"
   },
   {
    "duration": 4,
    "start_time": "2021-08-18T12:03:49.345Z"
   },
   {
    "duration": 30,
    "start_time": "2021-08-18T12:03:50.302Z"
   },
   {
    "duration": 5,
    "start_time": "2021-08-18T12:03:53.294Z"
   },
   {
    "duration": 467,
    "start_time": "2021-08-18T12:03:54.475Z"
   },
   {
    "duration": 8,
    "start_time": "2021-08-18T12:11:25.944Z"
   },
   {
    "duration": 8,
    "start_time": "2021-08-18T12:11:56.726Z"
   },
   {
    "duration": 3,
    "start_time": "2021-08-18T12:11:57.209Z"
   },
   {
    "duration": 50,
    "start_time": "2021-08-18T12:11:57.986Z"
   },
   {
    "duration": 13,
    "start_time": "2021-08-18T12:11:58.413Z"
   },
   {
    "duration": 4,
    "start_time": "2021-08-18T12:11:58.919Z"
   },
   {
    "duration": 28,
    "start_time": "2021-08-18T12:11:59.415Z"
   },
   {
    "duration": 6,
    "start_time": "2021-08-18T12:11:59.954Z"
   },
   {
    "duration": 454,
    "start_time": "2021-08-18T12:12:00.663Z"
   },
   {
    "duration": 7,
    "start_time": "2021-08-18T12:13:45.751Z"
   },
   {
    "duration": 3,
    "start_time": "2021-08-18T12:13:46.967Z"
   },
   {
    "duration": 52,
    "start_time": "2021-08-18T12:13:48.700Z"
   },
   {
    "duration": 14,
    "start_time": "2021-08-18T12:13:49.274Z"
   },
   {
    "duration": 4,
    "start_time": "2021-08-18T12:13:49.847Z"
   },
   {
    "duration": 31,
    "start_time": "2021-08-18T12:13:50.421Z"
   },
   {
    "duration": 5,
    "start_time": "2021-08-18T12:13:51.073Z"
   },
   {
    "duration": 444,
    "start_time": "2021-08-18T12:13:51.771Z"
   },
   {
    "duration": 8,
    "start_time": "2021-08-18T12:18:36.734Z"
   },
   {
    "duration": 3,
    "start_time": "2021-08-18T12:18:37.134Z"
   },
   {
    "duration": 48,
    "start_time": "2021-08-18T12:18:37.832Z"
   },
   {
    "duration": 15,
    "start_time": "2021-08-18T12:18:38.102Z"
   },
   {
    "duration": 4,
    "start_time": "2021-08-18T12:18:38.630Z"
   },
   {
    "duration": 29,
    "start_time": "2021-08-18T12:18:39.061Z"
   },
   {
    "duration": 7,
    "start_time": "2021-08-18T12:18:39.620Z"
   },
   {
    "duration": 427,
    "start_time": "2021-08-18T12:18:42.230Z"
   },
   {
    "duration": 275,
    "start_time": "2021-08-18T12:19:55.836Z"
   },
   {
    "duration": 272,
    "start_time": "2021-08-18T12:20:14.344Z"
   },
   {
    "duration": 6,
    "start_time": "2021-08-18T12:20:29.610Z"
   },
   {
    "duration": 707,
    "start_time": "2021-08-18T12:22:39.835Z"
   },
   {
    "duration": 495,
    "start_time": "2021-08-18T12:23:24.891Z"
   },
   {
    "duration": 491,
    "start_time": "2021-08-18T12:24:17.452Z"
   },
   {
    "duration": 6,
    "start_time": "2021-08-18T12:24:23.281Z"
   },
   {
    "duration": 475,
    "start_time": "2021-08-18T12:25:06.632Z"
   },
   {
    "duration": 12,
    "start_time": "2021-08-18T12:26:02.650Z"
   },
   {
    "duration": 12,
    "start_time": "2021-08-18T12:27:40.716Z"
   },
   {
    "duration": 1188,
    "start_time": "2021-08-18T12:28:13.326Z"
   },
   {
    "duration": 7,
    "start_time": "2021-08-18T12:28:14.516Z"
   },
   {
    "duration": 11,
    "start_time": "2021-08-18T12:28:14.526Z"
   },
   {
    "duration": 57,
    "start_time": "2021-08-18T12:28:14.539Z"
   },
   {
    "duration": 14,
    "start_time": "2021-08-18T12:28:14.598Z"
   },
   {
    "duration": 11,
    "start_time": "2021-08-18T12:28:14.613Z"
   },
   {
    "duration": 39,
    "start_time": "2021-08-18T12:28:14.626Z"
   },
   {
    "duration": 5,
    "start_time": "2021-08-18T12:28:14.667Z"
   },
   {
    "duration": 470,
    "start_time": "2021-08-18T12:28:14.674Z"
   },
   {
    "duration": 5,
    "start_time": "2021-08-18T12:28:15.146Z"
   },
   {
    "duration": 456,
    "start_time": "2021-08-18T12:28:15.153Z"
   },
   {
    "duration": 12,
    "start_time": "2021-08-18T12:28:15.611Z"
   },
   {
    "duration": 17,
    "start_time": "2021-08-18T12:28:15.625Z"
   },
   {
    "duration": 5,
    "start_time": "2021-08-18T12:28:15.644Z"
   },
   {
    "duration": 63,
    "start_time": "2021-08-18T12:28:15.651Z"
   },
   {
    "duration": 19,
    "start_time": "2021-08-18T12:28:15.716Z"
   },
   {
    "duration": 13,
    "start_time": "2021-08-18T12:28:15.742Z"
   },
   {
    "duration": 16,
    "start_time": "2021-08-18T12:28:15.757Z"
   },
   {
    "duration": 14,
    "start_time": "2021-08-18T12:28:15.775Z"
   },
   {
    "duration": 4,
    "start_time": "2021-08-18T12:28:15.791Z"
   },
   {
    "duration": 58,
    "start_time": "2021-08-18T12:28:15.797Z"
   },
   {
    "duration": 16,
    "start_time": "2021-08-18T12:28:15.857Z"
   },
   {
    "duration": 12,
    "start_time": "2021-08-18T12:28:15.877Z"
   },
   {
    "duration": 6,
    "start_time": "2021-08-18T12:28:15.891Z"
   },
   {
    "duration": 7,
    "start_time": "2021-08-18T12:28:15.899Z"
   },
   {
    "duration": 15,
    "start_time": "2021-08-18T12:28:15.941Z"
   },
   {
    "duration": 9,
    "start_time": "2021-08-18T12:28:15.957Z"
   },
   {
    "duration": 40,
    "start_time": "2021-08-18T12:28:15.967Z"
   },
   {
    "duration": 13,
    "start_time": "2021-08-18T12:28:16.009Z"
   },
   {
    "duration": 23,
    "start_time": "2021-08-18T12:28:16.024Z"
   },
   {
    "duration": 12,
    "start_time": "2021-08-18T12:28:16.049Z"
   },
   {
    "duration": 15,
    "start_time": "2021-08-18T12:28:16.063Z"
   },
   {
    "duration": 18,
    "start_time": "2021-08-18T12:28:16.080Z"
   },
   {
    "duration": 11,
    "start_time": "2021-08-18T12:28:16.100Z"
   },
   {
    "duration": 52,
    "start_time": "2021-08-18T12:28:16.113Z"
   },
   {
    "duration": 4,
    "start_time": "2021-08-18T12:28:16.167Z"
   },
   {
    "duration": 21,
    "start_time": "2021-08-18T12:28:16.173Z"
   },
   {
    "duration": 12,
    "start_time": "2021-08-18T12:28:16.195Z"
   },
   {
    "duration": 63,
    "start_time": "2021-08-18T12:28:16.209Z"
   },
   {
    "duration": 469,
    "start_time": "2021-08-18T12:29:45.581Z"
   },
   {
    "duration": 25,
    "start_time": "2021-08-18T12:30:50.722Z"
   },
   {
    "duration": 6035,
    "start_time": "2021-08-25T11:05:42.687Z"
   },
   {
    "duration": 11,
    "start_time": "2021-08-25T11:05:57.129Z"
   },
   {
    "duration": 3,
    "start_time": "2021-08-25T11:06:00.376Z"
   },
   {
    "duration": 58,
    "start_time": "2021-08-25T11:06:04.437Z"
   },
   {
    "duration": 18,
    "start_time": "2021-08-25T11:06:05.472Z"
   },
   {
    "duration": 5,
    "start_time": "2021-08-25T11:06:06.329Z"
   },
   {
    "duration": 40,
    "start_time": "2021-08-25T11:06:07.096Z"
   },
   {
    "duration": 7,
    "start_time": "2021-08-25T11:06:07.736Z"
   },
   {
    "duration": 644,
    "start_time": "2021-08-25T11:06:07.983Z"
   },
   {
    "duration": 10,
    "start_time": "2021-08-25T11:06:08.631Z"
   },
   {
    "duration": 614,
    "start_time": "2021-08-25T11:06:19.431Z"
   },
   {
    "duration": 8,
    "start_time": "2021-08-25T11:06:21.287Z"
   },
   {
    "duration": 4,
    "start_time": "2021-08-25T11:06:24.144Z"
   },
   {
    "duration": 65,
    "start_time": "2021-08-25T11:06:26.042Z"
   },
   {
    "duration": 24,
    "start_time": "2021-08-25T11:06:26.632Z"
   },
   {
    "duration": 16,
    "start_time": "2021-08-25T11:06:26.864Z"
   },
   {
    "duration": 24,
    "start_time": "2021-08-25T11:06:27.095Z"
   },
   {
    "duration": 19,
    "start_time": "2021-08-25T11:06:27.393Z"
   },
   {
    "duration": 4,
    "start_time": "2021-08-25T11:06:27.615Z"
   },
   {
    "duration": 55,
    "start_time": "2021-08-25T11:06:30.152Z"
   },
   {
    "duration": 27,
    "start_time": "2021-08-25T11:06:30.785Z"
   },
   {
    "duration": 19,
    "start_time": "2021-08-25T11:06:32.887Z"
   },
   {
    "duration": 6,
    "start_time": "2021-08-25T11:06:33.632Z"
   },
   {
    "duration": 9,
    "start_time": "2021-08-25T11:06:34.087Z"
   },
   {
    "duration": 24,
    "start_time": "2021-08-25T11:06:35.256Z"
   },
   {
    "duration": 3,
    "start_time": "2021-08-25T11:06:35.872Z"
   },
   {
    "duration": 56,
    "start_time": "2021-08-25T11:06:37.239Z"
   },
   {
    "duration": 19,
    "start_time": "2021-08-25T11:06:37.730Z"
   },
   {
    "duration": 14,
    "start_time": "2021-08-25T11:06:38.304Z"
   },
   {
    "duration": 8,
    "start_time": "2021-08-25T11:06:38.582Z"
   },
   {
    "duration": 7,
    "start_time": "2021-08-25T11:06:38.875Z"
   },
   {
    "duration": 15,
    "start_time": "2021-08-25T11:06:39.349Z"
   },
   {
    "duration": 4,
    "start_time": "2021-08-25T11:06:39.647Z"
   },
   {
    "duration": 51,
    "start_time": "2021-08-25T11:06:40.176Z"
   },
   {
    "duration": 6,
    "start_time": "2021-08-25T11:06:40.411Z"
   },
   {
    "duration": 12,
    "start_time": "2021-08-25T11:06:40.700Z"
   },
   {
    "duration": 4,
    "start_time": "2021-08-25T11:06:41.186Z"
   },
   {
    "duration": 79,
    "start_time": "2021-08-25T11:06:41.793Z"
   },
   {
    "duration": 123,
    "start_time": "2021-08-25T11:06:42.040Z"
   },
   {
    "duration": 609,
    "start_time": "2021-08-25T11:06:42.313Z"
   },
   {
    "duration": 57,
    "start_time": "2021-08-25T11:06:42.926Z"
   },
   {
    "duration": 5,
    "start_time": "2021-08-25T11:08:14.258Z"
   },
   {
    "duration": 1913,
    "start_time": "2021-08-25T11:08:15.522Z"
   },
   {
    "duration": 8,
    "start_time": "2021-08-25T11:08:23.760Z"
   },
   {
    "duration": 3,
    "start_time": "2021-08-25T11:08:55.074Z"
   },
   {
    "duration": 9,
    "start_time": "2021-08-25T11:08:55.832Z"
   },
   {
    "duration": 232,
    "start_time": "2021-08-25T11:08:56.658Z"
   },
   {
    "duration": 10,
    "start_time": "2021-08-25T11:09:27.008Z"
   },
   {
    "duration": 162,
    "start_time": "2021-08-25T11:09:36.617Z"
   },
   {
    "duration": 115,
    "start_time": "2021-08-25T11:09:38.212Z"
   },
   {
    "duration": 43,
    "start_time": "2021-08-25T11:10:07.451Z"
   },
   {
    "duration": 3,
    "start_time": "2021-08-25T11:10:08.816Z"
   },
   {
    "duration": 431,
    "start_time": "2021-08-25T11:10:10.869Z"
   },
   {
    "duration": 12,
    "start_time": "2021-08-25T11:10:48.178Z"
   },
   {
    "duration": 1356,
    "start_time": "2021-08-25T11:10:49.857Z"
   },
   {
    "duration": 6473,
    "start_time": "2021-08-25T12:55:56.356Z"
   },
   {
    "duration": 12,
    "start_time": "2021-08-25T12:56:02.832Z"
   },
   {
    "duration": 52,
    "start_time": "2021-08-25T12:56:02.848Z"
   },
   {
    "duration": 84,
    "start_time": "2021-08-25T12:56:02.903Z"
   },
   {
    "duration": 18,
    "start_time": "2021-08-25T12:56:02.990Z"
   },
   {
    "duration": 4,
    "start_time": "2021-08-25T12:56:03.011Z"
   },
   {
    "duration": 75,
    "start_time": "2021-08-25T12:56:03.018Z"
   },
   {
    "duration": 7,
    "start_time": "2021-08-25T12:56:03.097Z"
   },
   {
    "duration": 687,
    "start_time": "2021-08-25T12:56:03.107Z"
   },
   {
    "duration": 9,
    "start_time": "2021-08-25T12:56:03.797Z"
   },
   {
    "duration": 710,
    "start_time": "2021-08-25T12:56:03.808Z"
   },
   {
    "duration": 9,
    "start_time": "2021-08-25T12:56:04.521Z"
   },
   {
    "duration": 17,
    "start_time": "2021-08-25T12:56:04.532Z"
   },
   {
    "duration": 100,
    "start_time": "2021-08-25T12:56:04.551Z"
   },
   {
    "duration": 33,
    "start_time": "2021-08-25T12:56:04.653Z"
   },
   {
    "duration": 17,
    "start_time": "2021-08-25T12:56:04.689Z"
   },
   {
    "duration": 27,
    "start_time": "2021-08-25T12:56:04.708Z"
   },
   {
    "duration": 48,
    "start_time": "2021-08-25T12:56:04.737Z"
   },
   {
    "duration": 4,
    "start_time": "2021-08-25T12:56:04.788Z"
   },
   {
    "duration": 61,
    "start_time": "2021-08-25T12:56:04.795Z"
   },
   {
    "duration": 52,
    "start_time": "2021-08-25T12:56:04.858Z"
   },
   {
    "duration": 20,
    "start_time": "2021-08-25T12:56:04.912Z"
   },
   {
    "duration": 8,
    "start_time": "2021-08-25T12:56:04.938Z"
   },
   {
    "duration": 39,
    "start_time": "2021-08-25T12:56:04.951Z"
   },
   {
    "duration": 33,
    "start_time": "2021-08-25T12:56:04.992Z"
   },
   {
    "duration": 10,
    "start_time": "2021-08-25T12:56:05.027Z"
   },
   {
    "duration": 60,
    "start_time": "2021-08-25T12:56:05.039Z"
   },
   {
    "duration": 20,
    "start_time": "2021-08-25T12:56:05.101Z"
   },
   {
    "duration": 24,
    "start_time": "2021-08-25T12:56:05.123Z"
   },
   {
    "duration": 9,
    "start_time": "2021-08-25T12:56:05.150Z"
   },
   {
    "duration": 34,
    "start_time": "2021-08-25T12:56:05.161Z"
   },
   {
    "duration": 19,
    "start_time": "2021-08-25T12:56:05.198Z"
   },
   {
    "duration": 8,
    "start_time": "2021-08-25T12:56:05.220Z"
   },
   {
    "duration": 74,
    "start_time": "2021-08-25T12:56:05.231Z"
   },
   {
    "duration": 6,
    "start_time": "2021-08-25T12:56:05.308Z"
   },
   {
    "duration": 23,
    "start_time": "2021-08-25T12:56:05.316Z"
   },
   {
    "duration": 15,
    "start_time": "2021-08-25T12:56:05.341Z"
   },
   {
    "duration": 109,
    "start_time": "2021-08-25T12:56:05.359Z"
   },
   {
    "duration": 152,
    "start_time": "2021-08-25T12:56:05.471Z"
   },
   {
    "duration": 659,
    "start_time": "2021-08-25T12:56:05.626Z"
   },
   {
    "duration": 37,
    "start_time": "2021-08-25T12:56:06.288Z"
   },
   {
    "duration": 7,
    "start_time": "2021-08-25T12:56:06.328Z"
   },
   {
    "duration": 13,
    "start_time": "2021-08-25T12:56:06.337Z"
   },
   {
    "duration": 2035,
    "start_time": "2021-08-25T12:56:06.353Z"
   },
   {
    "duration": 8,
    "start_time": "2021-08-25T12:56:08.390Z"
   },
   {
    "duration": 9,
    "start_time": "2021-08-25T12:56:08.401Z"
   },
   {
    "duration": 12,
    "start_time": "2021-08-25T12:56:08.412Z"
   },
   {
    "duration": 833,
    "start_time": "2021-08-25T12:56:08.426Z"
   },
   {
    "duration": 11,
    "start_time": "2021-08-25T12:56:09.262Z"
   },
   {
    "duration": 185,
    "start_time": "2021-08-25T12:56:09.275Z"
   },
   {
    "duration": 125,
    "start_time": "2021-08-25T12:56:09.462Z"
   },
   {
    "duration": 48,
    "start_time": "2021-08-25T12:56:09.590Z"
   },
   {
    "duration": 9,
    "start_time": "2021-08-25T12:56:09.641Z"
   },
   {
    "duration": 317,
    "start_time": "2021-08-25T12:56:09.652Z"
   },
   {
    "duration": 15,
    "start_time": "2021-08-25T12:56:09.972Z"
   },
   {
    "duration": 1375,
    "start_time": "2021-08-25T12:56:09.991Z"
   },
   {
    "duration": -124,
    "start_time": "2021-08-25T12:56:11.492Z"
   },
   {
    "duration": -126,
    "start_time": "2021-08-25T12:56:11.496Z"
   },
   {
    "duration": -130,
    "start_time": "2021-08-25T12:56:11.501Z"
   },
   {
    "duration": -133,
    "start_time": "2021-08-25T12:56:11.506Z"
   },
   {
    "duration": -136,
    "start_time": "2021-08-25T12:56:11.510Z"
   },
   {
    "duration": -138,
    "start_time": "2021-08-25T12:56:11.513Z"
   },
   {
    "duration": -140,
    "start_time": "2021-08-25T12:56:11.517Z"
   },
   {
    "duration": -142,
    "start_time": "2021-08-25T12:56:11.521Z"
   },
   {
    "duration": -144,
    "start_time": "2021-08-25T12:56:11.524Z"
   },
   {
    "duration": -145,
    "start_time": "2021-08-25T12:56:11.527Z"
   },
   {
    "duration": -148,
    "start_time": "2021-08-25T12:56:11.531Z"
   },
   {
    "duration": -150,
    "start_time": "2021-08-25T12:56:11.535Z"
   },
   {
    "duration": -152,
    "start_time": "2021-08-25T12:56:11.539Z"
   },
   {
    "duration": -155,
    "start_time": "2021-08-25T12:56:11.543Z"
   },
   {
    "duration": -157,
    "start_time": "2021-08-25T12:56:11.546Z"
   },
   {
    "duration": 793,
    "start_time": "2021-08-25T12:56:59.517Z"
   },
   {
    "duration": 12,
    "start_time": "2021-08-25T12:57:05.309Z"
   },
   {
    "duration": 278,
    "start_time": "2021-08-25T12:57:17.020Z"
   },
   {
    "duration": 274,
    "start_time": "2021-08-25T12:58:39.289Z"
   },
   {
    "duration": 6,
    "start_time": "2021-08-25T14:18:59.956Z"
   },
   {
    "duration": 11,
    "start_time": "2021-08-25T14:19:03.406Z"
   },
   {
    "duration": 3,
    "start_time": "2021-08-25T14:19:04.118Z"
   },
   {
    "duration": 51,
    "start_time": "2021-08-25T14:19:04.581Z"
   },
   {
    "duration": 17,
    "start_time": "2021-08-25T14:19:04.958Z"
   },
   {
    "duration": 5,
    "start_time": "2021-08-25T14:19:05.255Z"
   },
   {
    "duration": 42,
    "start_time": "2021-08-25T14:19:05.678Z"
   },
   {
    "duration": 7,
    "start_time": "2021-08-25T14:19:05.902Z"
   },
   {
    "duration": 615,
    "start_time": "2021-08-25T14:19:06.120Z"
   },
   {
    "duration": 9,
    "start_time": "2021-08-25T14:19:06.738Z"
   },
   {
    "duration": 616,
    "start_time": "2021-08-25T14:19:06.856Z"
   },
   {
    "duration": 12,
    "start_time": "2021-08-25T14:19:07.474Z"
   },
   {
    "duration": 10,
    "start_time": "2021-08-25T14:19:07.488Z"
   },
   {
    "duration": 66,
    "start_time": "2021-08-25T14:19:07.838Z"
   },
   {
    "duration": 23,
    "start_time": "2021-08-25T14:19:08.040Z"
   },
   {
    "duration": 17,
    "start_time": "2021-08-25T14:19:08.392Z"
   },
   {
    "duration": 24,
    "start_time": "2021-08-25T14:19:08.630Z"
   },
   {
    "duration": 18,
    "start_time": "2021-08-25T14:19:08.904Z"
   },
   {
    "duration": 3,
    "start_time": "2021-08-25T14:19:09.326Z"
   },
   {
    "duration": 55,
    "start_time": "2021-08-25T14:19:10.093Z"
   },
   {
    "duration": 25,
    "start_time": "2021-08-25T14:19:10.317Z"
   },
   {
    "duration": 19,
    "start_time": "2021-08-25T14:19:10.847Z"
   },
   {
    "duration": 8,
    "start_time": "2021-08-25T14:19:11.072Z"
   },
   {
    "duration": 8,
    "start_time": "2021-08-25T14:19:11.398Z"
   },
   {
    "duration": 21,
    "start_time": "2021-08-25T14:19:11.638Z"
   },
   {
    "duration": 3,
    "start_time": "2021-08-25T14:19:11.830Z"
   },
   {
    "duration": 47,
    "start_time": "2021-08-25T14:19:12.428Z"
   },
   {
    "duration": 19,
    "start_time": "2021-08-25T14:19:12.605Z"
   },
   {
    "duration": 15,
    "start_time": "2021-08-25T14:19:13.271Z"
   },
   {
    "duration": 9,
    "start_time": "2021-08-25T14:19:13.510Z"
   },
   {
    "duration": 9,
    "start_time": "2021-08-25T14:19:13.685Z"
   },
   {
    "duration": 15,
    "start_time": "2021-08-25T14:19:13.862Z"
   },
   {
    "duration": 3,
    "start_time": "2021-08-25T14:19:14.214Z"
   },
   {
    "duration": 51,
    "start_time": "2021-08-25T14:19:14.765Z"
   },
   {
    "duration": 6,
    "start_time": "2021-08-25T14:19:14.982Z"
   },
   {
    "duration": 12,
    "start_time": "2021-08-25T14:19:15.213Z"
   },
   {
    "duration": 3,
    "start_time": "2021-08-25T14:19:15.437Z"
   },
   {
    "duration": 93,
    "start_time": "2021-08-25T14:19:15.789Z"
   },
   {
    "duration": 134,
    "start_time": "2021-08-25T14:19:16.141Z"
   },
   {
    "duration": 628,
    "start_time": "2021-08-25T14:19:16.386Z"
   },
   {
    "duration": 39,
    "start_time": "2021-08-25T14:19:17.016Z"
   },
   {
    "duration": 3,
    "start_time": "2021-08-25T14:19:18.005Z"
   },
   {
    "duration": 6,
    "start_time": "2021-08-25T14:19:19.342Z"
   },
   {
    "duration": 1838,
    "start_time": "2021-08-25T14:19:19.724Z"
   },
   {
    "duration": 17,
    "start_time": "2021-08-25T14:19:21.565Z"
   },
   {
    "duration": 9,
    "start_time": "2021-08-25T14:19:21.584Z"
   },
   {
    "duration": 11,
    "start_time": "2021-08-25T14:19:22.005Z"
   },
   {
    "duration": 238,
    "start_time": "2021-08-25T14:19:22.622Z"
   },
   {
    "duration": 10,
    "start_time": "2021-08-25T14:19:24.808Z"
   },
   {
    "duration": 156,
    "start_time": "2021-08-25T14:19:25.649Z"
   },
   {
    "duration": 131,
    "start_time": "2021-08-25T14:19:26.214Z"
   },
   {
    "duration": 54,
    "start_time": "2021-08-25T14:19:27.905Z"
   },
   {
    "duration": 4,
    "start_time": "2021-08-25T14:19:28.725Z"
   }
  ],
  "kernelspec": {
   "display_name": "Python 3",
   "language": "python",
   "name": "python3"
  },
  "language_info": {
   "codemirror_mode": {
    "name": "ipython",
    "version": 3
   },
   "file_extension": ".py",
   "mimetype": "text/x-python",
   "name": "python",
   "nbconvert_exporter": "python",
   "pygments_lexer": "ipython3",
   "version": "3.7.10"
  },
  "toc": {
   "base_numbering": 1,
   "nav_menu": {},
   "number_sections": true,
   "sideBar": true,
   "skip_h1_title": true,
   "title_cell": "Table of Contents",
   "title_sidebar": "Contents",
   "toc_cell": false,
   "toc_position": {
    "height": "calc(100% - 180px)",
    "left": "10px",
    "top": "150px",
    "width": "303.002px"
   },
   "toc_section_display": true,
   "toc_window_display": true
  }
 },
 "nbformat": 4,
 "nbformat_minor": 2
}
